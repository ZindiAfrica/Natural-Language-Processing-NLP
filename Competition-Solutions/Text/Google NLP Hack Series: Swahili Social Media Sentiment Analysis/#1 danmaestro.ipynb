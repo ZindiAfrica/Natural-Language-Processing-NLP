{
 "cells": [
  {
   "cell_type": "markdown",
   "metadata": {
    "id": "H1R9CJmmKo3Y"
   },
   "source": [
    "#### Environment: Kaggle gpu\n",
    "#### Training time: About 10min "
   ]
  },
  {
   "cell_type": "code",
   "execution_count": null,
   "metadata": {
    "execution": {
     "iopub.execute_input": "2022-02-18T17:09:09.611482Z",
     "iopub.status.busy": "2022-02-18T17:09:09.610896Z",
     "iopub.status.idle": "2022-02-18T17:09:10.310921Z",
     "shell.execute_reply": "2022-02-18T17:09:10.310141Z",
     "shell.execute_reply.started": "2022-02-18T17:09:09.611388Z"
    },
    "id": "ojSAlH9W_gfv",
    "outputId": "d2cb5617-7bf9-4c46-8d9f-6512f958a664"
   },
   "outputs": [
    {
     "name": "stdout",
     "output_type": "stream",
     "text": [
      "Fri Feb 18 17:09:10 2022       \n",
      "+-----------------------------------------------------------------------------+\n",
      "| NVIDIA-SMI 450.119.04   Driver Version: 450.119.04   CUDA Version: 11.0     |\n",
      "|-------------------------------+----------------------+----------------------+\n",
      "| GPU  Name        Persistence-M| Bus-Id        Disp.A | Volatile Uncorr. ECC |\n",
      "| Fan  Temp  Perf  Pwr:Usage/Cap|         Memory-Usage | GPU-Util  Compute M. |\n",
      "|                               |                      |               MIG M. |\n",
      "|===============================+======================+======================|\n",
      "|   0  Tesla P100-PCIE...  Off  | 00000000:00:04.0 Off |                    0 |\n",
      "| N/A   36C    P0    28W / 250W |      0MiB / 16280MiB |      0%      Default |\n",
      "|                               |                      |                  N/A |\n",
      "+-------------------------------+----------------------+----------------------+\n",
      "                                                                               \n",
      "+-----------------------------------------------------------------------------+\n",
      "| Processes:                                                                  |\n",
      "|  GPU   GI   CI        PID   Type   Process name                  GPU Memory |\n",
      "|        ID   ID                                                   Usage      |\n",
      "|=============================================================================|\n",
      "|  No running processes found                                                 |\n",
      "+-----------------------------------------------------------------------------+\n"
     ]
    }
   ],
   "source": [
    "!nvidia-smi"
   ]
  },
  {
   "cell_type": "code",
   "execution_count": null,
   "metadata": {
    "execution": {
     "iopub.execute_input": "2022-02-18T17:09:10.313357Z",
     "iopub.status.busy": "2022-02-18T17:09:10.313086Z",
     "iopub.status.idle": "2022-02-18T17:11:40.464584Z",
     "shell.execute_reply": "2022-02-18T17:11:40.463679Z",
     "shell.execute_reply.started": "2022-02-18T17:09:10.313322Z"
    },
    "id": "5016OlJnp2kC"
   },
   "outputs": [],
   "source": [
    "!pip -qq install -U pip\n",
    "!pip -qq install ktrain\n",
    "!pip install -q tensorflow==2.4.1"
   ]
  },
  {
   "cell_type": "code",
   "execution_count": null,
   "metadata": {
    "execution": {
     "iopub.execute_input": "2022-02-18T17:11:40.467188Z",
     "iopub.status.busy": "2022-02-18T17:11:40.466751Z",
     "iopub.status.idle": "2022-02-18T17:11:49.744334Z",
     "shell.execute_reply": "2022-02-18T17:11:49.743564Z",
     "shell.execute_reply.started": "2022-02-18T17:11:40.467150Z"
    },
    "id": "TWw-1GHGqVI1"
   },
   "outputs": [],
   "source": [
    "import numpy as np \n",
    "import pandas as pd\n",
    "import random\n",
    "import os\n",
    "import re\n",
    "import ktrain\n",
    "from ktrain import text\n",
    "import tensorflow as tf\n",
    "from sklearn.model_selection import StratifiedKFold\n",
    "from sklearn.preprocessing import LabelEncoder\n",
    "from transformers import TFAutoModelForSequenceClassification\n",
    "from pathlib import Path\n",
    "\n",
    "import warnings\n",
    "warnings.filterwarnings('ignore')"
   ]
  },
  {
   "cell_type": "code",
   "execution_count": null,
   "metadata": {
    "execution": {
     "iopub.execute_input": "2022-02-18T17:11:49.747128Z",
     "iopub.status.busy": "2022-02-18T17:11:49.746405Z",
     "iopub.status.idle": "2022-02-18T17:11:49.755589Z",
     "shell.execute_reply": "2022-02-18T17:11:49.754343Z",
     "shell.execute_reply.started": "2022-02-18T17:11:49.747088Z"
    },
    "id": "gdIMbg9vnM9b"
   },
   "outputs": [],
   "source": [
    "SEED = 2022\n",
    "\n",
    "def set_seeds(seed=SEED):\n",
    "    os.environ['PYTHONHASHSEED'] = str(seed)\n",
    "    random.seed(seed)\n",
    "    tf.random.set_seed(seed)\n",
    "    np.random.seed(seed)\n",
    "\n",
    "def set_global_determinism(seed=SEED):\n",
    "    set_seeds(seed=seed)\n",
    "\n",
    "    os.environ['TF_DETERMINISTIC_OPS'] = '1'\n",
    "    os.environ['TF_CUDNN_DETERMINISTIC'] = '1'\n",
    "\n",
    "    tf.config.threading.set_inter_op_parallelism_threads(1)\n",
    "    tf.config.threading.set_intra_op_parallelism_threads(1)\n",
    "\n",
    "set_global_determinism(seed=SEED)"
   ]
  },
  {
   "cell_type": "code",
   "execution_count": null,
   "metadata": {
    "execution": {
     "iopub.execute_input": "2022-02-18T17:11:49.757344Z",
     "iopub.status.busy": "2022-02-18T17:11:49.756853Z",
     "iopub.status.idle": "2022-02-18T17:11:49.765313Z",
     "shell.execute_reply": "2022-02-18T17:11:49.764497Z",
     "shell.execute_reply.started": "2022-02-18T17:11:49.757310Z"
    },
    "id": "htNCxdop1nnB"
   },
   "outputs": [],
   "source": [
    "path = Path('/kaggle/input/swahili-sents')\n",
    "wrk_path = Path('/kaggle/working')"
   ]
  },
  {
   "cell_type": "code",
   "execution_count": null,
   "metadata": {
    "execution": {
     "iopub.execute_input": "2022-02-18T17:11:49.768448Z",
     "iopub.status.busy": "2022-02-18T17:11:49.766760Z",
     "iopub.status.idle": "2022-02-18T17:11:49.809742Z",
     "shell.execute_reply": "2022-02-18T17:11:49.809011Z",
     "shell.execute_reply.started": "2022-02-18T17:11:49.768411Z"
    },
    "id": "q0ECuC-bqVGi"
   },
   "outputs": [],
   "source": [
    "train = pd.read_csv(path/'Train.csv')\n",
    "test = pd.read_csv(path/'Test.csv')"
   ]
  },
  {
   "cell_type": "code",
   "execution_count": null,
   "metadata": {
    "execution": {
     "iopub.execute_input": "2022-02-18T17:11:49.845780Z",
     "iopub.status.busy": "2022-02-18T17:11:49.843314Z",
     "iopub.status.idle": "2022-02-18T17:11:49.936209Z",
     "shell.execute_reply": "2022-02-18T17:11:49.935569Z",
     "shell.execute_reply.started": "2022-02-18T17:11:49.845744Z"
    },
    "id": "tC2MLwrfyCO4"
   },
   "outputs": [],
   "source": [
    "train['Tweets'] = train['Tweets'].apply(lambda x: (re.sub('\\d+','', x)).lower())\n",
    "train['Tweets'] = train['Tweets'].apply(lambda x: (re.sub('\\s+',' ', x)).strip())\n",
    "test['Tweets'] = test['Tweets'].apply(lambda x: (re.sub('\\d+','', x)).lower())\n",
    "test['Tweets'] = test['Tweets'].apply(lambda x: (re.sub('\\s+',' ', x)).strip())"
   ]
  },
  {
   "cell_type": "code",
   "execution_count": null,
   "metadata": {
    "execution": {
     "iopub.execute_input": "2022-02-18T17:11:49.942734Z",
     "iopub.status.busy": "2022-02-18T17:11:49.940229Z",
     "iopub.status.idle": "2022-02-18T17:11:49.951200Z",
     "shell.execute_reply": "2022-02-18T17:11:49.950235Z",
     "shell.execute_reply.started": "2022-02-18T17:11:49.942665Z"
    },
    "id": "OwJ6ldwkPkoD"
   },
   "outputs": [],
   "source": [
    "le = LabelEncoder()\n",
    "train['Labels'] = le.fit_transform(train['Labels'])"
   ]
  },
  {
   "cell_type": "code",
   "execution_count": null,
   "metadata": {
    "execution": {
     "iopub.execute_input": "2022-02-18T17:11:49.954752Z",
     "iopub.status.busy": "2022-02-18T17:11:49.954168Z",
     "iopub.status.idle": "2022-02-18T17:11:49.971172Z",
     "shell.execute_reply": "2022-02-18T17:11:49.970095Z",
     "shell.execute_reply.started": "2022-02-18T17:11:49.954715Z"
    },
    "id": "gKN6NJPdtCOi",
    "outputId": "08fde2ed-28f7-4501-eb8d-756347ff28b9"
   },
   "outputs": [],
   "source": [
    "CLASS_NAMES = sorted(train['Labels'].unique().tolist()) "
   ]
  },
  {
   "cell_type": "code",
   "execution_count": null,
   "metadata": {
    "colab": {
     "referenced_widgets": [
      "5aef20fb36ef42ba8c91780596e2fc7d"
     ]
    },
    "execution": {
     "iopub.execute_input": "2022-02-18T17:11:49.974459Z",
     "iopub.status.busy": "2022-02-18T17:11:49.973036Z",
     "iopub.status.idle": "2022-02-18T17:11:51.882283Z",
     "shell.execute_reply": "2022-02-18T17:11:51.881579Z",
     "shell.execute_reply.started": "2022-02-18T17:11:49.974422Z"
    },
    "id": "h5dscE0Vre-J",
    "outputId": "ffb48e86-a14c-413e-eab0-837147007208"
   },
   "outputs": [
    {
     "data": {
      "application/vnd.jupyter.widget-view+json": {
       "model_id": "5aef20fb36ef42ba8c91780596e2fc7d",
       "version_major": 2,
       "version_minor": 0
      },
      "text/plain": [
       "Downloading:   0%|          | 0.00/683 [00:00<?, ?B/s]"
      ]
     },
     "metadata": {},
     "output_type": "display_data"
    }
   ],
   "source": [
    "MODEL_NAME = 'Davlan/xlm-roberta-base-finetuned-swahili'     \n",
    "MAX_LEN = 256\n",
    "BATCH_SIZE = 16\n",
    "FOLDS = 3\n",
    "LR = 3e-5\n",
    "EPOCHS = 2\n",
    "\n",
    "CLASS_NAMES = sorted(train['Labels'].unique().tolist()) \n",
    "\n",
    "t = text.Transformer(model_name=MODEL_NAME, maxlen=MAX_LEN, class_names=CLASS_NAMES, batch_size=BATCH_SIZE)\n",
    "t.preprocess_train_called = True"
   ]
  },
  {
   "cell_type": "code",
   "execution_count": null,
   "metadata": {
    "colab": {
     "referenced_widgets": [
      "7e74411b697d4f57b34d24f2f837b6e5",
      "ef63cd654f1f47d9af43252b0d90a980",
      "852d3caf517f401386c39cbe74d56b73",
      "8373eff398db454685c20c13d86bf734"
     ]
    },
    "execution": {
     "iopub.execute_input": "2022-02-18T17:11:51.884245Z",
     "iopub.status.busy": "2022-02-18T17:11:51.883774Z",
     "iopub.status.idle": "2022-02-18T17:20:58.048341Z",
     "shell.execute_reply": "2022-02-18T17:20:58.047435Z",
     "shell.execute_reply.started": "2022-02-18T17:11:51.884205Z"
    },
    "id": "chBN-wZiy1QL",
    "outputId": "9c408483-fd1c-4499-cf9b-703bcff1592d"
   },
   "outputs": [
    {
     "name": "stdout",
     "output_type": "stream",
     "text": [
      "preprocessing train...\n",
      "language: sw\n",
      "train sequence lengths:\n",
      "\tmean : 16\n",
      "\t95percentile : 33\n",
      "\t99percentile : 39\n"
     ]
    },
    {
     "data": {
      "application/vnd.jupyter.widget-view+json": {
       "model_id": "7e74411b697d4f57b34d24f2f837b6e5",
       "version_major": 2,
       "version_minor": 0
      },
      "text/plain": [
       "Downloading:   0%|          | 0.00/356 [00:00<?, ?B/s]"
      ]
     },
     "metadata": {},
     "output_type": "display_data"
    },
    {
     "data": {
      "application/vnd.jupyter.widget-view+json": {
       "model_id": "ef63cd654f1f47d9af43252b0d90a980",
       "version_major": 2,
       "version_minor": 0
      },
      "text/plain": [
       "Downloading:   0%|          | 0.00/5.07M [00:00<?, ?B/s]"
      ]
     },
     "metadata": {},
     "output_type": "display_data"
    },
    {
     "data": {
      "application/vnd.jupyter.widget-view+json": {
       "model_id": "852d3caf517f401386c39cbe74d56b73",
       "version_major": 2,
       "version_minor": 0
      },
      "text/plain": [
       "Downloading:   0%|          | 0.00/239 [00:00<?, ?B/s]"
      ]
     },
     "metadata": {},
     "output_type": "display_data"
    },
    {
     "data": {
      "text/html": [],
      "text/plain": [
       "<IPython.core.display.HTML object>"
      ]
     },
     "metadata": {},
     "output_type": "display_data"
    },
    {
     "name": "stdout",
     "output_type": "stream",
     "text": [
      "Is Multi-Label? False\n",
      "preprocessing test...\n",
      "language: sw\n",
      "test sequence lengths:\n",
      "\tmean : 16\n",
      "\t95percentile : 34\n",
      "\t99percentile : 40\n"
     ]
    },
    {
     "data": {
      "text/html": [],
      "text/plain": [
       "<IPython.core.display.HTML object>"
      ]
     },
     "metadata": {},
     "output_type": "display_data"
    },
    {
     "name": "stderr",
     "output_type": "stream",
     "text": [
      "404 Client Error: Not Found for url: https://huggingface.co/Davlan/xlm-roberta-base-finetuned-swahili/resolve/main/tf_model.h5\n"
     ]
    },
    {
     "data": {
      "application/vnd.jupyter.widget-view+json": {
       "model_id": "8373eff398db454685c20c13d86bf734",
       "version_major": 2,
       "version_minor": 0
      },
      "text/plain": [
       "Downloading:   0%|          | 0.00/1.11G [00:00<?, ?B/s]"
      ]
     },
     "metadata": {},
     "output_type": "display_data"
    },
    {
     "name": "stdout",
     "output_type": "stream",
     "text": [
      "Epoch 1/2\n",
      "95/95 [==============================] - 77s 596ms/step - loss: 0.9085 - accuracy: 0.5474 - val_loss: 0.7283 - val_accuracy: 0.6715\n",
      "Epoch 2/2\n",
      "95/95 [==============================] - 54s 565ms/step - loss: 0.6863 - accuracy: 0.7070 - val_loss: 0.7791 - val_accuracy: 0.6119\n",
      "              precision    recall  f1-score   support\n",
      "\n",
      "           0       0.60      0.23      0.33        80\n",
      "           1       0.69      0.68      0.68       447\n",
      "           2       0.50      0.61      0.55       228\n",
      "\n",
      "    accuracy                           0.61       755\n",
      "   macro avg       0.59      0.51      0.52       755\n",
      "weighted avg       0.62      0.61      0.60       755\n",
      "\n",
      "preprocessing train...\n",
      "language: sw\n",
      "train sequence lengths:\n",
      "\tmean : 16\n",
      "\t95percentile : 34\n",
      "\t99percentile : 39\n"
     ]
    },
    {
     "data": {
      "text/html": [],
      "text/plain": [
       "<IPython.core.display.HTML object>"
      ]
     },
     "metadata": {},
     "output_type": "display_data"
    },
    {
     "name": "stdout",
     "output_type": "stream",
     "text": [
      "Is Multi-Label? False\n",
      "preprocessing test...\n",
      "language: sw\n",
      "test sequence lengths:\n",
      "\tmean : 16\n",
      "\t95percentile : 32\n",
      "\t99percentile : 39\n"
     ]
    },
    {
     "data": {
      "text/html": [],
      "text/plain": [
       "<IPython.core.display.HTML object>"
      ]
     },
     "metadata": {},
     "output_type": "display_data"
    },
    {
     "name": "stderr",
     "output_type": "stream",
     "text": [
      "404 Client Error: Not Found for url: https://huggingface.co/Davlan/xlm-roberta-base-finetuned-swahili/resolve/main/tf_model.h5\n"
     ]
    },
    {
     "name": "stdout",
     "output_type": "stream",
     "text": [
      "Epoch 1/2\n",
      "95/95 [==============================] - 72s 588ms/step - loss: 0.9081 - accuracy: 0.5804 - val_loss: 0.8196 - val_accuracy: 0.5915\n",
      "Epoch 2/2\n",
      "95/95 [==============================] - 54s 563ms/step - loss: 0.7326 - accuracy: 0.6765 - val_loss: 0.7354 - val_accuracy: 0.6552\n",
      "              precision    recall  f1-score   support\n",
      "\n",
      "           0       0.61      0.29      0.39        79\n",
      "           1       0.67      0.85      0.75       447\n",
      "           2       0.61      0.40      0.48       228\n",
      "\n",
      "    accuracy                           0.66       754\n",
      "   macro avg       0.63      0.51      0.54       754\n",
      "weighted avg       0.64      0.66      0.63       754\n",
      "\n",
      "preprocessing train...\n",
      "language: sw\n",
      "train sequence lengths:\n",
      "\tmean : 16\n",
      "\t95percentile : 33\n",
      "\t99percentile : 40\n"
     ]
    },
    {
     "data": {
      "text/html": [],
      "text/plain": [
       "<IPython.core.display.HTML object>"
      ]
     },
     "metadata": {},
     "output_type": "display_data"
    },
    {
     "name": "stdout",
     "output_type": "stream",
     "text": [
      "Is Multi-Label? False\n",
      "preprocessing test...\n",
      "language: sw\n",
      "test sequence lengths:\n",
      "\tmean : 16\n",
      "\t95percentile : 35\n",
      "\t99percentile : 39\n"
     ]
    },
    {
     "data": {
      "text/html": [],
      "text/plain": [
       "<IPython.core.display.HTML object>"
      ]
     },
     "metadata": {},
     "output_type": "display_data"
    },
    {
     "name": "stderr",
     "output_type": "stream",
     "text": [
      "404 Client Error: Not Found for url: https://huggingface.co/Davlan/xlm-roberta-base-finetuned-swahili/resolve/main/tf_model.h5\n"
     ]
    },
    {
     "name": "stdout",
     "output_type": "stream",
     "text": [
      "Epoch 1/2\n",
      "95/95 [==============================] - 72s 588ms/step - loss: 0.9377 - accuracy: 0.5580 - val_loss: 0.7665 - val_accuracy: 0.6671\n",
      "Epoch 2/2\n",
      "95/95 [==============================] - 54s 563ms/step - loss: 0.7150 - accuracy: 0.6856 - val_loss: 0.6960 - val_accuracy: 0.7003\n",
      "              precision    recall  f1-score   support\n",
      "\n",
      "           0       0.59      0.59      0.59        80\n",
      "           1       0.74      0.80      0.77       446\n",
      "           2       0.65      0.54      0.59       228\n",
      "\n",
      "    accuracy                           0.70       754\n",
      "   macro avg       0.66      0.64      0.65       754\n",
      "weighted avg       0.70      0.70      0.70       754\n",
      "\n",
      "CPU times: user 5min 32s, sys: 49.1 s, total: 6min 21s\n",
      "Wall time: 9min 6s\n"
     ]
    }
   ],
   "source": [
    "test_data = np.asarray(test.Tweets)\n",
    "\n",
    "folds = StratifiedKFold(n_splits=FOLDS, random_state=SEED, shuffle=True)\n",
    "\n",
    "oof_preds = []\n",
    "oof_loss_score = []\n",
    "\n",
    "for train_index, test_index in folds.split(train.Tweets, train.Labels):\n",
    "    X_train, X_test = list(train.loc[train_index, 'Tweets']), list(train.loc[test_index, 'Tweets'])\n",
    "    y_train, y_test = np.asarray(train.loc[train_index, 'Labels']), np.asarray(train.loc[test_index, 'Labels'])\n",
    "\n",
    "    train_set = t.preprocess_train(X_train, y_train)\n",
    "    val_set = t.preprocess_test(X_test, y_test)\n",
    "\n",
    "    model = t.get_classifier()\n",
    "    learner = ktrain.get_learner(model, train_data=train_set, val_data=val_set, batch_size=BATCH_SIZE)\n",
    "\n",
    "    history = learner.fit(LR, n_cycles=EPOCHS, checkpoint_folder=wrk_path/'tmp')\n",
    "    learner.validate(class_names=t.get_classes())\n",
    "\n",
    "    oof_loss_score.append(history.history['accuracy'][-1])\n",
    "\n",
    "    preds = ktrain.get_predictor(learner.model, preproc=t).predict(test_data, return_proba=True)\n",
    "\n",
    "    oof_preds.append(preds)"
   ]
  },
  {
   "cell_type": "code",
   "execution_count": null,
   "metadata": {
    "execution": {
     "iopub.execute_input": "2022-02-18T17:20:58.056047Z",
     "iopub.status.busy": "2022-02-18T17:20:58.055319Z",
     "iopub.status.idle": "2022-02-18T17:20:58.076398Z",
     "shell.execute_reply": "2022-02-18T17:20:58.075276Z",
     "shell.execute_reply.started": "2022-02-18T17:20:58.055970Z"
    },
    "id": "rSzTRo1x-HCj",
    "outputId": "500c00ef-8a9a-4603-bffe-a6ec90bc1f2c"
   },
   "outputs": [
    {
     "name": "stdout",
     "output_type": "stream",
     "text": [
      "Mean Accuracy: 0.6924445033073425\n"
     ]
    }
   ],
   "source": [
    "print(f'Mean Accuracy: {np.mean(oof_loss_score)}')\n",
    "sub = pd.DataFrame(np.mean(oof_preds, axis=0), columns=t.get_classes())"
   ]
  },
  {
   "cell_type": "code",
   "execution_count": null,
   "metadata": {
    "execution": {
     "iopub.execute_input": "2022-02-18T17:20:58.083152Z",
     "iopub.status.busy": "2022-02-18T17:20:58.080814Z",
     "iopub.status.idle": "2022-02-18T17:20:58.104502Z",
     "shell.execute_reply": "2022-02-18T17:20:58.103859Z",
     "shell.execute_reply.started": "2022-02-18T17:20:58.083114Z"
    },
    "id": "PcAa0uwfERbK"
   },
   "outputs": [],
   "source": [
    "sub['Labels'] = sub.idxmax(axis='columns').values\n",
    "sub['ID'] = test.ID"
   ]
  },
  {
   "cell_type": "code",
   "execution_count": null,
   "metadata": {
    "execution": {
     "iopub.execute_input": "2022-02-18T17:20:58.110102Z",
     "iopub.status.busy": "2022-02-18T17:20:58.108182Z",
     "iopub.status.idle": "2022-02-18T17:20:58.122239Z",
     "shell.execute_reply": "2022-02-18T17:20:58.121367Z",
     "shell.execute_reply.started": "2022-02-18T17:20:58.110065Z"
    },
    "id": "-Q8yPP4fQDnH"
   },
   "outputs": [],
   "source": [
    "sub['Labels'] = sub['Labels'].map({0: -1, 1: 0, 2: 1})"
   ]
  },
  {
   "cell_type": "code",
   "execution_count": null,
   "metadata": {
    "execution": {
     "iopub.execute_input": "2022-02-18T17:20:58.127670Z",
     "iopub.status.busy": "2022-02-18T17:20:58.125800Z",
     "iopub.status.idle": "2022-02-18T17:20:58.145145Z",
     "shell.execute_reply": "2022-02-18T17:20:58.144505Z",
     "shell.execute_reply.started": "2022-02-18T17:20:58.127634Z"
    },
    "id": "9t71teFG-G-_",
    "outputId": "3f3ea71c-f940-41ff-c857-eb8807d32a5a"
   },
   "outputs": [
    {
     "data": {
      "text/html": [
       "<div>\n",
       "<style scoped>\n",
       "    .dataframe tbody tr th:only-of-type {\n",
       "        vertical-align: middle;\n",
       "    }\n",
       "\n",
       "    .dataframe tbody tr th {\n",
       "        vertical-align: top;\n",
       "    }\n",
       "\n",
       "    .dataframe thead th {\n",
       "        text-align: right;\n",
       "    }\n",
       "</style>\n",
       "<table border=\"1\" class=\"dataframe\">\n",
       "  <thead>\n",
       "    <tr style=\"text-align: right;\">\n",
       "      <th></th>\n",
       "      <th>ID</th>\n",
       "      <th>Labels</th>\n",
       "    </tr>\n",
       "  </thead>\n",
       "  <tbody>\n",
       "    <tr>\n",
       "      <th>0</th>\n",
       "      <td>4</td>\n",
       "      <td>0</td>\n",
       "    </tr>\n",
       "    <tr>\n",
       "      <th>1</th>\n",
       "      <td>7</td>\n",
       "      <td>1</td>\n",
       "    </tr>\n",
       "  </tbody>\n",
       "</table>\n",
       "</div>"
      ],
      "text/plain": [
       "   ID  Labels\n",
       "0   4       0\n",
       "1   7       1"
      ]
     },
     "execution_count": 16,
     "metadata": {},
     "output_type": "execute_result"
    }
   ],
   "source": [
    "sub = sub[['ID', 'Labels']]\n",
    "sub.head(2)"
   ]
  },
  {
   "cell_type": "code",
   "execution_count": null,
   "metadata": {
    "execution": {
     "iopub.execute_input": "2022-02-18T17:20:58.150530Z",
     "iopub.status.busy": "2022-02-18T17:20:58.148664Z",
     "iopub.status.idle": "2022-02-18T17:20:58.159420Z",
     "shell.execute_reply": "2022-02-18T17:20:58.158577Z",
     "shell.execute_reply.started": "2022-02-18T17:20:58.150493Z"
    },
    "id": "LAFIce1Uz78k",
    "outputId": "2ac6309f-eb3e-4c1f-f5b3-cf0d6d73397e"
   },
   "outputs": [
    {
     "data": {
      "text/plain": [
       "(755, 2)"
      ]
     },
     "execution_count": 17,
     "metadata": {},
     "output_type": "execute_result"
    }
   ],
   "source": [
    "sub.shape"
   ]
  },
  {
   "cell_type": "code",
   "execution_count": null,
   "metadata": {
    "execution": {
     "iopub.execute_input": "2022-02-18T17:20:58.165447Z",
     "iopub.status.busy": "2022-02-18T17:20:58.163552Z",
     "iopub.status.idle": "2022-02-18T17:20:58.180619Z",
     "shell.execute_reply": "2022-02-18T17:20:58.179974Z",
     "shell.execute_reply.started": "2022-02-18T17:20:58.165411Z"
    },
    "id": "k_Mml3aA-G7r"
   },
   "outputs": [],
   "source": [
    "sub.to_csv(wrk_path/'submission_6.csv', index=False) "
   ]
  }
 ],
 "metadata": {
  "colab": {
   "name": "swahili_sentiments_xlm_cv_ktrain-6.ipynb",
   "provenance": []
  },
  "kernelspec": {
   "display_name": "Python 3",
   "language": "python",
   "name": "python3"
  },
  "language_info": {
   "codemirror_mode": {
    "name": "ipython",
    "version": 3
   },
   "file_extension": ".py",
   "mimetype": "text/x-python",
   "name": "python",
   "nbconvert_exporter": "python",
   "pygments_lexer": "ipython3",
   "version": "3.7.7"
  }
 },
 "nbformat": 4,
 "nbformat_minor": 1
}
