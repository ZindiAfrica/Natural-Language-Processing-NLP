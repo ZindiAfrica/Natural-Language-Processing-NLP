{
 "cells": [
  {
   "cell_type": "code",
   "execution_count": 1,
   "id": "5fccefdc",
   "metadata": {
    "execution": {
     "iopub.execute_input": "2022-02-21T14:14:37.091156Z",
     "iopub.status.busy": "2022-02-21T14:14:37.089802Z",
     "iopub.status.idle": "2022-02-21T14:14:37.092362Z",
     "shell.execute_reply": "2022-02-21T14:14:37.092762Z",
     "shell.execute_reply.started": "2022-02-20T19:24:13.005013Z"
    },
    "id": "_m_0h0lV1p3n",
    "outputId": "4ec09ff9-aeb7-461e-bda8-3becc418b912",
    "papermill": {
     "duration": 0.039249,
     "end_time": "2022-02-21T14:14:37.092975",
     "exception": false,
     "start_time": "2022-02-21T14:14:37.053726",
     "status": "completed"
    },
    "tags": []
   },
   "outputs": [],
   "source": [
    "#from google.colab import drive\n",
    "#drive.mount('/content/drive')"
   ]
  },
  {
   "cell_type": "markdown",
   "id": "2abee172",
   "metadata": {
    "id": "zYgdB4Pl2Wi1",
    "papermill": {
     "duration": 0.029504,
     "end_time": "2022-02-21T14:14:37.154378",
     "exception": false,
     "start_time": "2022-02-21T14:14:37.124874",
     "status": "completed"
    },
    "tags": []
   },
   "source": [
    "First we need to specify a path to project directory where we will find datasets i.e `train.csv`,`test.csv`,`sample_submission.csv`\n",
    "\n",
    "In this notebook i store path of said directory on the variable `proj_dir`  refer to the next cell to set appropriately"
   ]
  },
  {
   "cell_type": "code",
   "execution_count": 2,
   "id": "aae40bcb",
   "metadata": {
    "execution": {
     "iopub.execute_input": "2022-02-21T14:14:37.223215Z",
     "iopub.status.busy": "2022-02-21T14:14:37.222430Z",
     "iopub.status.idle": "2022-02-21T14:14:37.224887Z",
     "shell.execute_reply": "2022-02-21T14:14:37.224374Z",
     "shell.execute_reply.started": "2022-02-20T19:24:13.01856Z"
    },
    "id": "uoxFNPJd2SG4",
    "papermill": {
     "duration": 0.039173,
     "end_time": "2022-02-21T14:14:37.225013",
     "exception": false,
     "start_time": "2022-02-21T14:14:37.185840",
     "status": "completed"
    },
    "tags": []
   },
   "outputs": [],
   "source": [
    "proj_dir = \"../input/swahili-social-media-sentiment-analysis-data\""
   ]
  },
  {
   "cell_type": "code",
   "execution_count": 3,
   "id": "c181cea1",
   "metadata": {
    "execution": {
     "iopub.execute_input": "2022-02-21T14:14:37.288561Z",
     "iopub.status.busy": "2022-02-21T14:14:37.287992Z",
     "iopub.status.idle": "2022-02-21T14:14:38.233737Z",
     "shell.execute_reply": "2022-02-21T14:14:38.232675Z",
     "shell.execute_reply.started": "2022-02-20T19:24:13.037187Z"
    },
    "id": "NBqVR-Qu21h2",
    "papermill": {
     "duration": 0.979421,
     "end_time": "2022-02-21T14:14:38.233913",
     "exception": false,
     "start_time": "2022-02-21T14:14:37.254492",
     "status": "completed"
    },
    "tags": []
   },
   "outputs": [],
   "source": [
    "import pandas as pd\n",
    "import numpy as np\n",
    "import matplotlib.pyplot as plt\n",
    "import seaborn as sns\n",
    "import copy\n",
    "from tqdm.notebook import tqdm\n",
    "\n",
    "from sklearn import model_selection,metrics,preprocessing\n",
    "import random"
   ]
  },
  {
   "cell_type": "code",
   "execution_count": 4,
   "id": "9a191d95",
   "metadata": {
    "execution": {
     "iopub.execute_input": "2022-02-21T14:14:38.303051Z",
     "iopub.status.busy": "2022-02-21T14:14:38.302324Z",
     "iopub.status.idle": "2022-02-21T14:14:38.304253Z",
     "shell.execute_reply": "2022-02-21T14:14:38.304765Z",
     "shell.execute_reply.started": "2022-02-20T19:24:13.050552Z"
    },
    "papermill": {
     "duration": 0.037454,
     "end_time": "2022-02-21T14:14:38.304925",
     "exception": false,
     "start_time": "2022-02-21T14:14:38.267471",
     "status": "completed"
    },
    "tags": []
   },
   "outputs": [],
   "source": [
    "plt.rcParams['figure.figsize'] = [16, 10] # this needs to be set in another cell\n",
    "pd.set_option('max_rows', None)\n",
    "pd.set_option('max_columns', None)\n",
    "pd.set_option('display.width', 1000)\n",
    "pd.set_option('display.max_colwidth', 200)"
   ]
  },
  {
   "cell_type": "code",
   "execution_count": 5,
   "id": "fb8ed984",
   "metadata": {
    "execution": {
     "iopub.execute_input": "2022-02-21T14:14:38.369384Z",
     "iopub.status.busy": "2022-02-21T14:14:38.368896Z",
     "iopub.status.idle": "2022-02-21T14:14:38.421865Z",
     "shell.execute_reply": "2022-02-21T14:14:38.422279Z",
     "shell.execute_reply.started": "2022-02-20T19:24:13.07015Z"
    },
    "id": "TfpHLMZy28Pj",
    "papermill": {
     "duration": 0.087594,
     "end_time": "2022-02-21T14:14:38.422406",
     "exception": false,
     "start_time": "2022-02-21T14:14:38.334812",
     "status": "completed"
    },
    "tags": []
   },
   "outputs": [],
   "source": [
    "# simple transformers requires that df should contain a 'text' and a 'labels' column\n",
    "\n",
    "sample = pd.read_csv(f\"{proj_dir}/sample_submission.csv\")\n",
    "\n",
    "train = pd.read_csv(f\"{proj_dir}/Train.csv\")\n",
    "test = pd.read_csv(f\"{proj_dir}/Test.csv\")\n",
    "\n",
    "# i create 'labels' column directly\n",
    "le = preprocessing.LabelEncoder()\n",
    "train['labels'] = le.fit_transform(train.Labels)\n",
    "\n",
    "target = 'labels'\n",
    "seed = 42"
   ]
  },
  {
   "cell_type": "code",
   "execution_count": 6,
   "id": "22667325",
   "metadata": {
    "execution": {
     "iopub.execute_input": "2022-02-21T14:14:38.514204Z",
     "iopub.status.busy": "2022-02-21T14:14:38.513385Z",
     "iopub.status.idle": "2022-02-21T14:14:38.519975Z",
     "shell.execute_reply": "2022-02-21T14:14:38.520532Z",
     "shell.execute_reply.started": "2022-02-20T19:24:13.09458Z"
    },
    "id": "rjReYCgG3QCt",
    "outputId": "d8ca8341-815e-4abb-b742-6e246c31a579",
    "papermill": {
     "duration": 0.068136,
     "end_time": "2022-02-21T14:14:38.520712",
     "exception": false,
     "start_time": "2022-02-21T14:14:38.452576",
     "status": "completed"
    },
    "tags": []
   },
   "outputs": [
    {
     "data": {
      "text/html": [
       "<div>\n",
       "<style scoped>\n",
       "    .dataframe tbody tr th:only-of-type {\n",
       "        vertical-align: middle;\n",
       "    }\n",
       "\n",
       "    .dataframe tbody tr th {\n",
       "        vertical-align: top;\n",
       "    }\n",
       "\n",
       "    .dataframe thead th {\n",
       "        text-align: right;\n",
       "    }\n",
       "</style>\n",
       "<table border=\"1\" class=\"dataframe\">\n",
       "  <thead>\n",
       "    <tr style=\"text-align: right;\">\n",
       "      <th></th>\n",
       "      <th>ID</th>\n",
       "      <th>Labels</th>\n",
       "    </tr>\n",
       "  </thead>\n",
       "  <tbody>\n",
       "    <tr>\n",
       "      <th>0</th>\n",
       "      <td>1654</td>\n",
       "      <td>0.0</td>\n",
       "    </tr>\n",
       "    <tr>\n",
       "      <th>1</th>\n",
       "      <td>1597</td>\n",
       "      <td>1.0</td>\n",
       "    </tr>\n",
       "    <tr>\n",
       "      <th>2</th>\n",
       "      <td>1643</td>\n",
       "      <td>-1.0</td>\n",
       "    </tr>\n",
       "    <tr>\n",
       "      <th>3</th>\n",
       "      <td>2372</td>\n",
       "      <td>0.0</td>\n",
       "    </tr>\n",
       "    <tr>\n",
       "      <th>4</th>\n",
       "      <td>1577</td>\n",
       "      <td>NaN</td>\n",
       "    </tr>\n",
       "  </tbody>\n",
       "</table>\n",
       "</div>"
      ],
      "text/plain": [
       "     ID  Labels\n",
       "0  1654     0.0\n",
       "1  1597     1.0\n",
       "2  1643    -1.0\n",
       "3  2372     0.0\n",
       "4  1577     NaN"
      ]
     },
     "execution_count": 6,
     "metadata": {},
     "output_type": "execute_result"
    }
   ],
   "source": [
    "sample.head()"
   ]
  },
  {
   "cell_type": "code",
   "execution_count": 7,
   "id": "b9e38168",
   "metadata": {
    "execution": {
     "iopub.execute_input": "2022-02-21T14:14:38.604300Z",
     "iopub.status.busy": "2022-02-21T14:14:38.603696Z",
     "iopub.status.idle": "2022-02-21T14:14:38.607108Z",
     "shell.execute_reply": "2022-02-21T14:14:38.607506Z",
     "shell.execute_reply.started": "2022-02-20T19:24:13.10926Z"
    },
    "id": "IFZnn5153TZt",
    "outputId": "eef5e9fc-0d6a-4eb6-b1f7-ced6dba05aaf",
    "papermill": {
     "duration": 0.044098,
     "end_time": "2022-02-21T14:14:38.607653",
     "exception": false,
     "start_time": "2022-02-21T14:14:38.563555",
     "status": "completed"
    },
    "tags": []
   },
   "outputs": [
    {
     "data": {
      "text/html": [
       "<div>\n",
       "<style scoped>\n",
       "    .dataframe tbody tr th:only-of-type {\n",
       "        vertical-align: middle;\n",
       "    }\n",
       "\n",
       "    .dataframe tbody tr th {\n",
       "        vertical-align: top;\n",
       "    }\n",
       "\n",
       "    .dataframe thead th {\n",
       "        text-align: right;\n",
       "    }\n",
       "</style>\n",
       "<table border=\"1\" class=\"dataframe\">\n",
       "  <thead>\n",
       "    <tr style=\"text-align: right;\">\n",
       "      <th></th>\n",
       "      <th>ID</th>\n",
       "      <th>Tweets</th>\n",
       "      <th>Labels</th>\n",
       "      <th>labels</th>\n",
       "      <th>text</th>\n",
       "    </tr>\n",
       "  </thead>\n",
       "  <tbody>\n",
       "    <tr>\n",
       "      <th>0</th>\n",
       "      <td>2</td>\n",
       "      <td>So chuga si tunakutana kesho kwenye Nyamachoma festival nanenanemnajifanyaga mnakula mtungi mje kesho niwakalishe</td>\n",
       "      <td>0</td>\n",
       "      <td>1</td>\n",
       "      <td>So chuga si tunakutana kesho kwenye Nyamachoma festival nanenanemnajifanyaga mnakula mtungi mje kesho niwakalishe</td>\n",
       "    </tr>\n",
       "    <tr>\n",
       "      <th>1</th>\n",
       "      <td>3</td>\n",
       "      <td>Asante sana watu wa Sirari jimbo la Tarime vijijini Huu ni Upendo usio na Mashaka kwa Mbunge wenu John Heche na Chadem</td>\n",
       "      <td>1</td>\n",
       "      <td>2</td>\n",
       "      <td>Asante sana watu wa Sirari jimbo la Tarime vijijini Huu ni Upendo usio na Mashaka kwa Mbunge wenu John Heche na Chadem</td>\n",
       "    </tr>\n",
       "    <tr>\n",
       "      <th>2</th>\n",
       "      <td>5</td>\n",
       "      <td>Leo nimepata kitambulisho changu cha taifa Asante sana</td>\n",
       "      <td>1</td>\n",
       "      <td>2</td>\n",
       "      <td>Leo nimepata kitambulisho changu cha taifa Asante sana</td>\n",
       "    </tr>\n",
       "    <tr>\n",
       "      <th>3</th>\n",
       "      <td>6</td>\n",
       "      <td>Mgema akisifiwa tembo hulitia maji</td>\n",
       "      <td>0</td>\n",
       "      <td>1</td>\n",
       "      <td>Mgema akisifiwa tembo hulitia maji</td>\n",
       "    </tr>\n",
       "    <tr>\n",
       "      <th>4</th>\n",
       "      <td>8</td>\n",
       "      <td>Ee Mwenyezi Mungu Msamehe na Umrehemu na Umuafu na Msamehe na Mtukuze kushuka kwake kaburini na Upanue kuingia kwake na Muoshe na maji na kwa theluji na barafu na Mtakase na makosa kama Unavyoitak...</td>\n",
       "      <td>1</td>\n",
       "      <td>2</td>\n",
       "      <td>Ee Mwenyezi Mungu Msamehe na Umrehemu na Umuafu na Msamehe na Mtukuze kushuka kwake kaburini na Upanue kuingia kwake na Muoshe na maji na kwa theluji na barafu na Mtakase na makosa kama Unavyoitak...</td>\n",
       "    </tr>\n",
       "  </tbody>\n",
       "</table>\n",
       "</div>"
      ],
      "text/plain": [
       "   ID                                                                                                                                                                                                   Tweets  Labels  labels                                                                                                                                                                                                     text\n",
       "0   2                                                                                        So chuga si tunakutana kesho kwenye Nyamachoma festival nanenanemnajifanyaga mnakula mtungi mje kesho niwakalishe       0       1                                                                                        So chuga si tunakutana kesho kwenye Nyamachoma festival nanenanemnajifanyaga mnakula mtungi mje kesho niwakalishe\n",
       "1   3                                                                                   Asante sana watu wa Sirari jimbo la Tarime vijijini Huu ni Upendo usio na Mashaka kwa Mbunge wenu John Heche na Chadem       1       2                                                                                   Asante sana watu wa Sirari jimbo la Tarime vijijini Huu ni Upendo usio na Mashaka kwa Mbunge wenu John Heche na Chadem\n",
       "2   5                                                                                                                                                   Leo nimepata kitambulisho changu cha taifa Asante sana       1       2                                                                                                                                                   Leo nimepata kitambulisho changu cha taifa Asante sana\n",
       "3   6                                                                                                                                                                       Mgema akisifiwa tembo hulitia maji       0       1                                                                                                                                                                       Mgema akisifiwa tembo hulitia maji\n",
       "4   8  Ee Mwenyezi Mungu Msamehe na Umrehemu na Umuafu na Msamehe na Mtukuze kushuka kwake kaburini na Upanue kuingia kwake na Muoshe na maji na kwa theluji na barafu na Mtakase na makosa kama Unavyoitak...       1       2  Ee Mwenyezi Mungu Msamehe na Umrehemu na Umuafu na Msamehe na Mtukuze kushuka kwake kaburini na Upanue kuingia kwake na Muoshe na maji na kwa theluji na barafu na Mtakase na makosa kama Unavyoitak..."
      ]
     },
     "execution_count": 7,
     "metadata": {},
     "output_type": "execute_result"
    }
   ],
   "source": [
    "train['text'] = train.Tweets.values\n",
    "train.head()"
   ]
  },
  {
   "cell_type": "code",
   "execution_count": 8,
   "id": "a5b37bd1",
   "metadata": {
    "execution": {
     "iopub.execute_input": "2022-02-21T14:14:38.678024Z",
     "iopub.status.busy": "2022-02-21T14:14:38.677373Z",
     "iopub.status.idle": "2022-02-21T14:14:38.680541Z",
     "shell.execute_reply": "2022-02-21T14:14:38.680960Z",
     "shell.execute_reply.started": "2022-02-20T19:24:13.124224Z"
    },
    "id": "R28qBIe73Tj1",
    "outputId": "6b64a137-c8bd-4f97-97d3-a915280aad1c",
    "papermill": {
     "duration": 0.042843,
     "end_time": "2022-02-21T14:14:38.681078",
     "exception": false,
     "start_time": "2022-02-21T14:14:38.638235",
     "status": "completed"
    },
    "tags": []
   },
   "outputs": [
    {
     "data": {
      "text/html": [
       "<div>\n",
       "<style scoped>\n",
       "    .dataframe tbody tr th:only-of-type {\n",
       "        vertical-align: middle;\n",
       "    }\n",
       "\n",
       "    .dataframe tbody tr th {\n",
       "        vertical-align: top;\n",
       "    }\n",
       "\n",
       "    .dataframe thead th {\n",
       "        text-align: right;\n",
       "    }\n",
       "</style>\n",
       "<table border=\"1\" class=\"dataframe\">\n",
       "  <thead>\n",
       "    <tr style=\"text-align: right;\">\n",
       "      <th></th>\n",
       "      <th>ID</th>\n",
       "      <th>Tweets</th>\n",
       "      <th>text</th>\n",
       "    </tr>\n",
       "  </thead>\n",
       "  <tbody>\n",
       "    <tr>\n",
       "      <th>0</th>\n",
       "      <td>4</td>\n",
       "      <td>Maandalizi Wadau kutoka Kamati ya Maandalizi wajadili tukio kubwa la sekta hii mwaka huu Wakutana na waha</td>\n",
       "      <td>Maandalizi Wadau kutoka Kamati ya Maandalizi wajadili tukio kubwa la sekta hii mwaka huu Wakutana na waha</td>\n",
       "    </tr>\n",
       "    <tr>\n",
       "      <th>1</th>\n",
       "      <td>7</td>\n",
       "      <td>Tunashukuru sana kwa mrejesho wako kuhusiana na huduma zetu Tutaifikisha katika ngazi husika Karibu sana Exim Bank</td>\n",
       "      <td>Tunashukuru sana kwa mrejesho wako kuhusiana na huduma zetu Tutaifikisha katika ngazi husika Karibu sana Exim Bank</td>\n",
       "    </tr>\n",
       "    <tr>\n",
       "      <th>2</th>\n",
       "      <td>9</td>\n",
       "      <td>Asante kwa kutembelea kurasa yetu  CM</td>\n",
       "      <td>Asante kwa kutembelea kurasa yetu  CM</td>\n",
       "    </tr>\n",
       "    <tr>\n",
       "      <th>3</th>\n",
       "      <td>10</td>\n",
       "      <td>Habari Asante kwa kutuandikia kupitia kurasa zetu tafadhali tuandikie ujumbe na namba ya kadi kwa msaada zaidi Salim</td>\n",
       "      <td>Habari Asante kwa kutuandikia kupitia kurasa zetu tafadhali tuandikie ujumbe na namba ya kadi kwa msaada zaidi Salim</td>\n",
       "    </tr>\n",
       "    <tr>\n",
       "      <th>4</th>\n",
       "      <td>15</td>\n",
       "      <td>Kunawa sio wakati wa kula tutujiwekee taratibu za kunawa kila wakati</td>\n",
       "      <td>Kunawa sio wakati wa kula tutujiwekee taratibu za kunawa kila wakati</td>\n",
       "    </tr>\n",
       "  </tbody>\n",
       "</table>\n",
       "</div>"
      ],
      "text/plain": [
       "   ID                                                                                                                Tweets                                                                                                                  text\n",
       "0   4             Maandalizi Wadau kutoka Kamati ya Maandalizi wajadili tukio kubwa la sekta hii mwaka huu Wakutana na waha             Maandalizi Wadau kutoka Kamati ya Maandalizi wajadili tukio kubwa la sekta hii mwaka huu Wakutana na waha\n",
       "1   7    Tunashukuru sana kwa mrejesho wako kuhusiana na huduma zetu Tutaifikisha katika ngazi husika Karibu sana Exim Bank    Tunashukuru sana kwa mrejesho wako kuhusiana na huduma zetu Tutaifikisha katika ngazi husika Karibu sana Exim Bank\n",
       "2   9                                                                                 Asante kwa kutembelea kurasa yetu  CM                                                                                 Asante kwa kutembelea kurasa yetu  CM\n",
       "3  10  Habari Asante kwa kutuandikia kupitia kurasa zetu tafadhali tuandikie ujumbe na namba ya kadi kwa msaada zaidi Salim  Habari Asante kwa kutuandikia kupitia kurasa zetu tafadhali tuandikie ujumbe na namba ya kadi kwa msaada zaidi Salim\n",
       "4  15                                                  Kunawa sio wakati wa kula tutujiwekee taratibu za kunawa kila wakati                                                  Kunawa sio wakati wa kula tutujiwekee taratibu za kunawa kila wakati"
      ]
     },
     "execution_count": 8,
     "metadata": {},
     "output_type": "execute_result"
    }
   ],
   "source": [
    "test['text'] = test.Tweets.values\n",
    "test.head()"
   ]
  },
  {
   "cell_type": "code",
   "execution_count": 9,
   "id": "76d1b8c5",
   "metadata": {
    "execution": {
     "iopub.execute_input": "2022-02-21T14:14:38.761006Z",
     "iopub.status.busy": "2022-02-21T14:14:38.760364Z",
     "iopub.status.idle": "2022-02-21T14:14:38.768000Z",
     "shell.execute_reply": "2022-02-21T14:14:38.768404Z",
     "shell.execute_reply.started": "2022-02-20T19:24:13.138589Z"
    },
    "papermill": {
     "duration": 0.055998,
     "end_time": "2022-02-21T14:14:38.768564",
     "exception": false,
     "start_time": "2022-02-21T14:14:38.712566",
     "status": "completed"
    },
    "tags": []
   },
   "outputs": [
    {
     "data": {
      "text/plain": [
       "count    3018.000000\n",
       "mean       18.521206\n",
       "std         8.141912\n",
       "min         2.000000\n",
       "25%        13.000000\n",
       "50%        19.000000\n",
       "75%        22.000000\n",
       "max        46.000000\n",
       "Name: strlen, dtype: float64"
      ]
     },
     "execution_count": 9,
     "metadata": {},
     "output_type": "execute_result"
    }
   ],
   "source": [
    "# Lets examine the length of texts\n",
    "combo = pd.concat([train,test])\n",
    "combo['strlen'] = combo.text.apply(lambda x: len(x.split(' ')))\n",
    "combo['strlen'].describe()"
   ]
  },
  {
   "cell_type": "code",
   "execution_count": 10,
   "id": "3723af47",
   "metadata": {
    "execution": {
     "iopub.execute_input": "2022-02-21T14:14:38.837650Z",
     "iopub.status.busy": "2022-02-21T14:14:38.837000Z",
     "iopub.status.idle": "2022-02-21T14:14:39.056488Z",
     "shell.execute_reply": "2022-02-21T14:14:39.057009Z",
     "shell.execute_reply.started": "2022-02-20T19:24:13.160329Z"
    },
    "id": "1QPDnqfr3bIY",
    "outputId": "44b23982-b407-45ec-85b3-fa651557fcc2",
    "papermill": {
     "duration": 0.256562,
     "end_time": "2022-02-21T14:14:39.057152",
     "exception": false,
     "start_time": "2022-02-21T14:14:38.800590",
     "status": "completed"
    },
    "tags": []
   },
   "outputs": [
    {
     "data": {
      "text/plain": [
       "<AxesSubplot:xlabel='labels'>"
      ]
     },
     "execution_count": 10,
     "metadata": {},
     "output_type": "execute_result"
    },
    {
     "data": {
      "image/png": "[encoded data removed]",
      "text/plain": [
       "<Figure size 1152x720 with 1 Axes>"
      ]
     },
     "metadata": {
      "needs_background": "light"
     },
     "output_type": "display_data"
    }
   ],
   "source": [
    "## lets check data imbalance\n",
    "train.groupby(target)[target].count().plot(kind='bar')"
   ]
  },
  {
   "cell_type": "markdown",
   "id": "2d26f3c6",
   "metadata": {
    "id": "Mm5BbYSa3fJ0",
    "papermill": {
     "duration": 0.032514,
     "end_time": "2022-02-21T14:14:39.122454",
     "exception": false,
     "start_time": "2022-02-21T14:14:39.089940",
     "status": "completed"
    },
    "tags": []
   },
   "source": [
    "Clearly we have hit data imbalance again, `stratifiedKfold` could save us!\n",
    "We can also try some `class weights` and see if it helps"
   ]
  },
  {
   "cell_type": "code",
   "execution_count": 11,
   "id": "dc39436f",
   "metadata": {
    "execution": {
     "iopub.execute_input": "2022-02-21T14:14:39.194095Z",
     "iopub.status.busy": "2022-02-21T14:14:39.193323Z",
     "iopub.status.idle": "2022-02-21T14:14:39.198702Z",
     "shell.execute_reply": "2022-02-21T14:14:39.199141Z",
     "shell.execute_reply.started": "2022-02-20T19:24:13.36372Z"
    },
    "papermill": {
     "duration": 0.043604,
     "end_time": "2022-02-21T14:14:39.199267",
     "exception": false,
     "start_time": "2022-02-21T14:14:39.155663",
     "status": "completed"
    },
    "tags": []
   },
   "outputs": [
    {
     "data": {
      "text/plain": [
       "{0: 3.1562064156206415, 1: 0.5629353233830846, 2: 1.1028265107212476}"
      ]
     },
     "execution_count": 11,
     "metadata": {},
     "output_type": "execute_result"
    }
   ],
   "source": [
    "from sklearn.utils.class_weight import compute_class_weight\n",
    "## lets prepare class weights\n",
    "classes = list(range(train[target].nunique()))  # Free sorting\n",
    "weights = list(compute_class_weight(class_weight='balanced',y=train[target],classes = classes))\n",
    "cweights = dict(zip(classes, weights))\n",
    "cweights"
   ]
  },
  {
   "cell_type": "code",
   "execution_count": 12,
   "id": "23e1f6c6",
   "metadata": {
    "execution": {
     "iopub.execute_input": "2022-02-21T14:14:39.270773Z",
     "iopub.status.busy": "2022-02-21T14:14:39.270144Z",
     "iopub.status.idle": "2022-02-21T14:14:39.273101Z",
     "shell.execute_reply": "2022-02-21T14:14:39.273496Z",
     "shell.execute_reply.started": "2022-02-20T19:24:13.376578Z"
    },
    "papermill": {
     "duration": 0.041091,
     "end_time": "2022-02-21T14:14:39.273631",
     "exception": false,
     "start_time": "2022-02-21T14:14:39.232540",
     "status": "completed"
    },
    "tags": []
   },
   "outputs": [
    {
     "data": {
      "text/plain": [
       "([0, 1, 2], [3.1562064156206415, 0.5629353233830846, 1.1028265107212476])"
      ]
     },
     "execution_count": 12,
     "metadata": {},
     "output_type": "execute_result"
    }
   ],
   "source": [
    "classes,weights"
   ]
  },
  {
   "cell_type": "code",
   "execution_count": 13,
   "id": "c9655aff",
   "metadata": {
    "execution": {
     "iopub.execute_input": "2022-02-21T14:14:39.344015Z",
     "iopub.status.busy": "2022-02-21T14:14:39.343397Z",
     "iopub.status.idle": "2022-02-21T14:14:39.346180Z",
     "shell.execute_reply": "2022-02-21T14:14:39.346584Z",
     "shell.execute_reply.started": "2022-02-20T19:24:13.384605Z"
    },
    "papermill": {
     "duration": 0.039899,
     "end_time": "2022-02-21T14:14:39.346700",
     "exception": false,
     "start_time": "2022-02-21T14:14:39.306801",
     "status": "completed"
    },
    "tags": []
   },
   "outputs": [
    {
     "data": {
      "text/plain": [
       "(3018, 6)"
      ]
     },
     "execution_count": 13,
     "metadata": {},
     "output_type": "execute_result"
    }
   ],
   "source": [
    "combo.shape"
   ]
  },
  {
   "cell_type": "markdown",
   "id": "836d5608",
   "metadata": {
    "papermill": {
     "duration": 0.033999,
     "end_time": "2022-02-21T14:14:39.414484",
     "exception": false,
     "start_time": "2022-02-21T14:14:39.380485",
     "status": "completed"
    },
    "tags": []
   },
   "source": [
    "Even by normal standards, this dataset is extremely small, I mean seriously ~3000 tweets! This is big trouble already not even considering swahili is not that resourced!\n",
    "\n",
    "Since we can use pretrained models, we have two options through translations (Note they always return top k tokens as outputs -> Juicy more data)\n",
    " - Convert to standard highly resourced and researched language a.k.a english\n",
    " - Convert each text across different languages and finally back to Swahili\n",
    " \n",
    "In any case above, we'll have multiple predictions meaning much more data!"
   ]
  },
  {
   "cell_type": "markdown",
   "id": "d3331516",
   "metadata": {
    "papermill": {
     "duration": 0.033459,
     "end_time": "2022-02-21T14:14:39.481604",
     "exception": false,
     "start_time": "2022-02-21T14:14:39.448145",
     "status": "completed"
    },
    "tags": []
   },
   "source": [
    "#### Data Augmentation"
   ]
  },
  {
   "cell_type": "code",
   "execution_count": 14,
   "id": "ac64e65b",
   "metadata": {
    "execution": {
     "iopub.execute_input": "2022-02-21T14:14:39.554159Z",
     "iopub.status.busy": "2022-02-21T14:14:39.553396Z",
     "iopub.status.idle": "2022-02-21T14:15:11.758363Z",
     "shell.execute_reply": "2022-02-21T14:15:11.757770Z",
     "shell.execute_reply.started": "2022-02-20T19:24:13.394101Z"
    },
    "papermill": {
     "duration": 32.242793,
     "end_time": "2022-02-21T14:15:11.758493",
     "exception": false,
     "start_time": "2022-02-21T14:14:39.515700",
     "status": "completed"
    },
    "tags": []
   },
   "outputs": [
    {
     "name": "stdout",
     "output_type": "stream",
     "text": [
      "Requirement already satisfied: transformers in /opt/conda/lib/python3.7/site-packages (4.15.0)\r\n",
      "Collecting transformers\r\n",
      "  Downloading transformers-4.16.2-py3-none-any.whl (3.5 MB)\r\n",
      "     |████████████████████████████████| 3.5 MB 595 kB/s            \r\n",
      "\u001b[?25hRequirement already satisfied: importlib-metadata in /opt/conda/lib/python3.7/site-packages (from transformers) (4.10.1)\r\n",
      "Requirement already satisfied: numpy>=1.17 in /opt/conda/lib/python3.7/site-packages (from transformers) (1.20.3)\r\n",
      "Requirement already satisfied: filelock in /opt/conda/lib/python3.7/site-packages (from transformers) (3.4.2)\r\n",
      "Requirement already satisfied: pyyaml>=5.1 in /opt/conda/lib/python3.7/site-packages (from transformers) (6.0)\r\n",
      "Requirement already satisfied: requests in /opt/conda/lib/python3.7/site-packages (from transformers) (2.26.0)\r\n",
      "Requirement already satisfied: tokenizers!=0.11.3,>=0.10.1 in /opt/conda/lib/python3.7/site-packages (from transformers) (0.10.3)\r\n",
      "Requirement already satisfied: sacremoses in /opt/conda/lib/python3.7/site-packages (from transformers) (0.0.47)\r\n",
      "Requirement already satisfied: huggingface-hub<1.0,>=0.1.0 in /opt/conda/lib/python3.7/site-packages (from transformers) (0.2.1)\r\n",
      "Requirement already satisfied: tqdm>=4.27 in /opt/conda/lib/python3.7/site-packages (from transformers) (4.62.3)\r\n",
      "Requirement already satisfied: packaging>=20.0 in /opt/conda/lib/python3.7/site-packages (from transformers) (21.3)\r\n",
      "Requirement already satisfied: regex!=2019.12.17 in /opt/conda/lib/python3.7/site-packages (from transformers) (2021.11.10)\r\n",
      "Requirement already satisfied: typing-extensions>=3.7.4.3 in /opt/conda/lib/python3.7/site-packages (from huggingface-hub<1.0,>=0.1.0->transformers) (4.0.1)\r\n",
      "Requirement already satisfied: pyparsing!=3.0.5,>=2.0.2 in /opt/conda/lib/python3.7/site-packages (from packaging>=20.0->transformers) (3.0.6)\r\n",
      "Requirement already satisfied: zipp>=0.5 in /opt/conda/lib/python3.7/site-packages (from importlib-metadata->transformers) (3.6.0)\r\n",
      "Requirement already satisfied: certifi>=2017.4.17 in /opt/conda/lib/python3.7/site-packages (from requests->transformers) (2021.10.8)\r\n",
      "Requirement already satisfied: idna<4,>=2.5 in /opt/conda/lib/python3.7/site-packages (from requests->transformers) (3.1)\r\n",
      "Requirement already satisfied: charset-normalizer~=2.0.0 in /opt/conda/lib/python3.7/site-packages (from requests->transformers) (2.0.9)\r\n",
      "Requirement already satisfied: urllib3<1.27,>=1.21.1 in /opt/conda/lib/python3.7/site-packages (from requests->transformers) (1.26.7)\r\n",
      "Requirement already satisfied: click in /opt/conda/lib/python3.7/site-packages (from sacremoses->transformers) (8.0.3)\r\n",
      "Requirement already satisfied: joblib in /opt/conda/lib/python3.7/site-packages (from sacremoses->transformers) (1.1.0)\r\n",
      "Requirement already satisfied: six in /opt/conda/lib/python3.7/site-packages (from sacremoses->transformers) (1.16.0)\r\n",
      "Installing collected packages: transformers\r\n",
      "  Attempting uninstall: transformers\r\n",
      "    Found existing installation: transformers 4.15.0\r\n",
      "    Uninstalling transformers-4.15.0:\r\n",
      "      Successfully uninstalled transformers-4.15.0\r\n",
      "\u001b[31mERROR: pip's dependency resolver does not currently take into account all the packages that are installed. This behaviour is the source of the following dependency conflicts.\r\n",
      "allennlp 2.9.0 requires transformers<4.16,>=4.1, but you have transformers 4.16.2 which is incompatible.\u001b[0m\r\n",
      "Successfully installed transformers-4.16.2\r\n",
      "\u001b[33mWARNING: Running pip as the 'root' user can result in broken permissions and conflicting behaviour with the system package manager. It is recommended to use a virtual environment instead: https://pip.pypa.io/warnings/venv\u001b[0m\r\n",
      "Collecting simpletransformers\r\n",
      "  Downloading simpletransformers-0.63.4-py3-none-any.whl (248 kB)\r\n",
      "     |████████████████████████████████| 248 kB 596 kB/s            \r\n",
      "\u001b[?25hRequirement already satisfied: regex in /opt/conda/lib/python3.7/site-packages (from simpletransformers) (2021.11.10)\r\n",
      "Requirement already satisfied: tensorboard in /opt/conda/lib/python3.7/site-packages (from simpletransformers) (2.6.0)\r\n",
      "Requirement already satisfied: wandb>=0.10.32 in /opt/conda/lib/python3.7/site-packages (from simpletransformers) (0.12.10)\r\n",
      "Requirement already satisfied: tqdm>=4.47.0 in /opt/conda/lib/python3.7/site-packages (from simpletransformers) (4.62.3)\r\n",
      "Requirement already satisfied: scipy in /opt/conda/lib/python3.7/site-packages (from simpletransformers) (1.7.3)\r\n",
      "Requirement already satisfied: pandas in /opt/conda/lib/python3.7/site-packages (from simpletransformers) (1.3.5)\r\n",
      "Collecting datasets\r\n",
      "  Downloading datasets-1.18.3-py3-none-any.whl (311 kB)\r\n",
      "     |████████████████████████████████| 311 kB 7.0 MB/s            \r\n",
      "\u001b[?25hCollecting streamlit\r\n",
      "  Downloading streamlit-1.5.1-py2.py3-none-any.whl (9.7 MB)\r\n",
      "     |████████████████████████████████| 9.7 MB 15.0 MB/s            \r\n",
      "\u001b[?25hRequirement already satisfied: requests in /opt/conda/lib/python3.7/site-packages (from simpletransformers) (2.26.0)\r\n",
      "Requirement already satisfied: transformers>=4.6.0 in /opt/conda/lib/python3.7/site-packages (from simpletransformers) (4.16.2)\r\n",
      "Collecting seqeval\r\n",
      "  Downloading seqeval-1.2.2.tar.gz (43 kB)\r\n",
      "     |████████████████████████████████| 43 kB 1.7 MB/s             \r\n",
      "\u001b[?25h  Preparing metadata (setup.py) ... \u001b[?25l-\b \bdone\r\n",
      "\u001b[?25hRequirement already satisfied: sentencepiece in /opt/conda/lib/python3.7/site-packages (from simpletransformers) (0.1.96)\r\n",
      "Requirement already satisfied: numpy in /opt/conda/lib/python3.7/site-packages (from simpletransformers) (1.20.3)\r\n",
      "Requirement already satisfied: tokenizers in /opt/conda/lib/python3.7/site-packages (from simpletransformers) (0.10.3)\r\n",
      "Requirement already satisfied: scikit-learn in /opt/conda/lib/python3.7/site-packages (from simpletransformers) (0.23.2)\r\n",
      "Requirement already satisfied: sacremoses in /opt/conda/lib/python3.7/site-packages (from transformers>=4.6.0->simpletransformers) (0.0.47)\r\n",
      "Requirement already satisfied: huggingface-hub<1.0,>=0.1.0 in /opt/conda/lib/python3.7/site-packages (from transformers>=4.6.0->simpletransformers) (0.2.1)\r\n",
      "Requirement already satisfied: packaging>=20.0 in /opt/conda/lib/python3.7/site-packages (from transformers>=4.6.0->simpletransformers) (21.3)\r\n",
      "Requirement already satisfied: filelock in /opt/conda/lib/python3.7/site-packages (from transformers>=4.6.0->simpletransformers) (3.4.2)\r\n",
      "Requirement already satisfied: pyyaml>=5.1 in /opt/conda/lib/python3.7/site-packages (from transformers>=4.6.0->simpletransformers) (6.0)\r\n",
      "Requirement already satisfied: importlib-metadata in /opt/conda/lib/python3.7/site-packages (from transformers>=4.6.0->simpletransformers) (4.10.1)\r\n",
      "Requirement already satisfied: six>=1.13.0 in /opt/conda/lib/python3.7/site-packages (from wandb>=0.10.32->simpletransformers) (1.16.0)\r\n",
      "Requirement already satisfied: Click!=8.0.0,>=7.0 in /opt/conda/lib/python3.7/site-packages (from wandb>=0.10.32->simpletransformers) (8.0.3)\r\n",
      "Requirement already satisfied: shortuuid>=0.5.0 in /opt/conda/lib/python3.7/site-packages (from wandb>=0.10.32->simpletransformers) (1.0.8)\r\n",
      "Requirement already satisfied: docker-pycreds>=0.4.0 in /opt/conda/lib/python3.7/site-packages (from wandb>=0.10.32->simpletransformers) (0.4.0)\r\n",
      "Requirement already satisfied: pathtools in /opt/conda/lib/python3.7/site-packages (from wandb>=0.10.32->simpletransformers) (0.1.2)\r\n",
      "Requirement already satisfied: yaspin>=1.0.0 in /opt/conda/lib/python3.7/site-packages (from wandb>=0.10.32->simpletransformers) (2.1.0)\r\n",
      "Requirement already satisfied: protobuf>=3.12.0 in /opt/conda/lib/python3.7/site-packages (from wandb>=0.10.32->simpletransformers) (3.19.1)\r\n",
      "Requirement already satisfied: psutil>=5.0.0 in /opt/conda/lib/python3.7/site-packages (from wandb>=0.10.32->simpletransformers) (5.9.0)\r\n",
      "Requirement already satisfied: python-dateutil>=2.6.1 in /opt/conda/lib/python3.7/site-packages (from wandb>=0.10.32->simpletransformers) (2.8.2)\r\n",
      "Requirement already satisfied: sentry-sdk>=1.0.0 in /opt/conda/lib/python3.7/site-packages (from wandb>=0.10.32->simpletransformers) (1.5.4)\r\n",
      "Requirement already satisfied: promise<3,>=2.0 in /opt/conda/lib/python3.7/site-packages (from wandb>=0.10.32->simpletransformers) (2.3)\r\n",
      "Requirement already satisfied: GitPython>=1.0.0 in /opt/conda/lib/python3.7/site-packages (from wandb>=0.10.32->simpletransformers) (3.1.24)\r\n",
      "Requirement already satisfied: urllib3<1.27,>=1.21.1 in /opt/conda/lib/python3.7/site-packages (from requests->simpletransformers) (1.26.7)\r\n",
      "Requirement already satisfied: idna<4,>=2.5 in /opt/conda/lib/python3.7/site-packages (from requests->simpletransformers) (3.1)\r\n",
      "Requirement already satisfied: charset-normalizer~=2.0.0 in /opt/conda/lib/python3.7/site-packages (from requests->simpletransformers) (2.0.9)\r\n",
      "Requirement already satisfied: certifi>=2017.4.17 in /opt/conda/lib/python3.7/site-packages (from requests->simpletransformers) (2021.10.8)\r\n",
      "Requirement already satisfied: fsspec[http]>=2021.05.0 in /opt/conda/lib/python3.7/site-packages (from datasets->simpletransformers) (2022.1.0)\r\n",
      "Requirement already satisfied: multiprocess in /opt/conda/lib/python3.7/site-packages (from datasets->simpletransformers) (0.70.12.2)\r\n",
      "Requirement already satisfied: aiohttp in /opt/conda/lib/python3.7/site-packages (from datasets->simpletransformers) (3.8.1)\r\n",
      "Requirement already satisfied: pyarrow!=4.0.0,>=3.0.0 in /opt/conda/lib/python3.7/site-packages (from datasets->simpletransformers) (6.0.1)\r\n",
      "Collecting xxhash\r\n",
      "  Downloading xxhash-2.0.2-cp37-cp37m-manylinux2010_x86_64.whl (243 kB)\r\n",
      "     |████████████████████████████████| 243 kB 54.2 MB/s            \r\n",
      "\u001b[?25hRequirement already satisfied: dill in /opt/conda/lib/python3.7/site-packages (from datasets->simpletransformers) (0.3.4)\r\n",
      "Requirement already satisfied: pytz>=2017.3 in /opt/conda/lib/python3.7/site-packages (from pandas->simpletransformers) (2021.3)\r\n",
      "Requirement already satisfied: threadpoolctl>=2.0.0 in /opt/conda/lib/python3.7/site-packages (from scikit-learn->simpletransformers) (3.0.0)\r\n",
      "Requirement already satisfied: joblib>=0.11 in /opt/conda/lib/python3.7/site-packages (from scikit-learn->simpletransformers) (1.1.0)\r\n",
      "Requirement already satisfied: tornado>=5.0 in /opt/conda/lib/python3.7/site-packages (from streamlit->simpletransformers) (6.1)\r\n",
      "Requirement already satisfied: tzlocal in /opt/conda/lib/python3.7/site-packages (from streamlit->simpletransformers) (4.1)\r\n",
      "Requirement already satisfied: attrs in /opt/conda/lib/python3.7/site-packages (from streamlit->simpletransformers) (21.2.0)\r\n",
      "Requirement already satisfied: typing-extensions in /opt/conda/lib/python3.7/site-packages (from streamlit->simpletransformers) (4.0.1)\r\n",
      "Collecting validators\r\n",
      "  Downloading validators-0.18.2-py3-none-any.whl (19 kB)\r\n",
      "Requirement already satisfied: altair>=3.2.0 in /opt/conda/lib/python3.7/site-packages (from streamlit->simpletransformers) (4.2.0)\r\n",
      "Collecting astor\r\n",
      "  Downloading astor-0.8.1-py2.py3-none-any.whl (27 kB)\r\n",
      "Requirement already satisfied: blinker in /opt/conda/lib/python3.7/site-packages (from streamlit->simpletransformers) (1.4)\r\n",
      "Collecting pydeck>=0.1.dev5\r\n",
      "  Downloading pydeck-0.7.1-py2.py3-none-any.whl (4.3 MB)\r\n",
      "     |████████████████████████████████| 4.3 MB 59.3 MB/s            \r\n",
      "\u001b[?25hRequirement already satisfied: pympler>=0.9 in /opt/conda/lib/python3.7/site-packages (from streamlit->simpletransformers) (1.0.1)\r\n",
      "Requirement already satisfied: toml in /opt/conda/lib/python3.7/site-packages (from streamlit->simpletransformers) (0.10.2)\r\n",
      "Requirement already satisfied: pillow>=6.2.0 in /opt/conda/lib/python3.7/site-packages (from streamlit->simpletransformers) (8.2.0)\r\n",
      "Collecting watchdog\r\n",
      "  Downloading watchdog-2.1.6-py3-none-manylinux2014_x86_64.whl (76 kB)\r\n",
      "     |████████████████████████████████| 76 kB 2.0 MB/s             \r\n",
      "\u001b[?25hRequirement already satisfied: base58 in /opt/conda/lib/python3.7/site-packages (from streamlit->simpletransformers) (2.1.1)\r\n",
      "Requirement already satisfied: cachetools>=4.0 in /opt/conda/lib/python3.7/site-packages (from streamlit->simpletransformers) (4.2.4)\r\n",
      "Requirement already satisfied: google-auth<2,>=1.6.3 in /opt/conda/lib/python3.7/site-packages (from tensorboard->simpletransformers) (1.35.0)\r\n",
      "Requirement already satisfied: google-auth-oauthlib<0.5,>=0.4.1 in /opt/conda/lib/python3.7/site-packages (from tensorboard->simpletransformers) (0.4.6)\r\n",
      "Requirement already satisfied: tensorboard-data-server<0.7.0,>=0.6.0 in /opt/conda/lib/python3.7/site-packages (from tensorboard->simpletransformers) (0.6.1)\r\n",
      "Requirement already satisfied: wheel>=0.26 in /opt/conda/lib/python3.7/site-packages (from tensorboard->simpletransformers) (0.37.0)\r\n",
      "Requirement already satisfied: markdown>=2.6.8 in /opt/conda/lib/python3.7/site-packages (from tensorboard->simpletransformers) (3.3.6)\r\n",
      "Requirement already satisfied: setuptools>=41.0.0 in /opt/conda/lib/python3.7/site-packages (from tensorboard->simpletransformers) (59.5.0)\r\n",
      "Requirement already satisfied: grpcio>=1.24.3 in /opt/conda/lib/python3.7/site-packages (from tensorboard->simpletransformers) (1.43.0)\r\n",
      "Requirement already satisfied: absl-py>=0.4 in /opt/conda/lib/python3.7/site-packages (from tensorboard->simpletransformers) (0.15.0)\r\n",
      "Requirement already satisfied: werkzeug>=0.11.15 in /opt/conda/lib/python3.7/site-packages (from tensorboard->simpletransformers) (2.0.2)\r\n",
      "Requirement already satisfied: tensorboard-plugin-wit>=1.6.0 in /opt/conda/lib/python3.7/site-packages (from tensorboard->simpletransformers) (1.8.0)\r\n",
      "Requirement already satisfied: jsonschema>=3.0 in /opt/conda/lib/python3.7/site-packages (from altair>=3.2.0->streamlit->simpletransformers) (4.3.1)\r\n",
      "Requirement already satisfied: toolz in /opt/conda/lib/python3.7/site-packages (from altair>=3.2.0->streamlit->simpletransformers) (0.11.2)\r\n",
      "Requirement already satisfied: jinja2 in /opt/conda/lib/python3.7/site-packages (from altair>=3.2.0->streamlit->simpletransformers) (3.0.3)\r\n",
      "Requirement already satisfied: entrypoints in /opt/conda/lib/python3.7/site-packages (from altair>=3.2.0->streamlit->simpletransformers) (0.3)\r\n",
      "Requirement already satisfied: gitdb<5,>=4.0.1 in /opt/conda/lib/python3.7/site-packages (from GitPython>=1.0.0->wandb>=0.10.32->simpletransformers) (4.0.9)\r\n",
      "Requirement already satisfied: pyasn1-modules>=0.2.1 in /opt/conda/lib/python3.7/site-packages (from google-auth<2,>=1.6.3->tensorboard->simpletransformers) (0.2.7)\r\n",
      "Requirement already satisfied: rsa<5,>=3.1.4 in /opt/conda/lib/python3.7/site-packages (from google-auth<2,>=1.6.3->tensorboard->simpletransformers) (4.8)\r\n",
      "Requirement already satisfied: requests-oauthlib>=0.7.0 in /opt/conda/lib/python3.7/site-packages (from google-auth-oauthlib<0.5,>=0.4.1->tensorboard->simpletransformers) (1.3.0)\r\n",
      "Requirement already satisfied: zipp>=0.5 in /opt/conda/lib/python3.7/site-packages (from importlib-metadata->transformers>=4.6.0->simpletransformers) (3.6.0)\r\n",
      "Requirement already satisfied: pyparsing!=3.0.5,>=2.0.2 in /opt/conda/lib/python3.7/site-packages (from packaging>=20.0->transformers>=4.6.0->simpletransformers) (3.0.6)\r\n",
      "Requirement already satisfied: ipywidgets>=7.0.0 in /opt/conda/lib/python3.7/site-packages (from pydeck>=0.1.dev5->streamlit->simpletransformers) (7.6.5)\r\n",
      "Requirement already satisfied: traitlets>=4.3.2 in /opt/conda/lib/python3.7/site-packages (from pydeck>=0.1.dev5->streamlit->simpletransformers) (5.1.1)\r\n",
      "Requirement already satisfied: ipykernel>=5.1.2 in /opt/conda/lib/python3.7/site-packages (from pydeck>=0.1.dev5->streamlit->simpletransformers) (6.6.0)\r\n",
      "Requirement already satisfied: termcolor<2.0.0,>=1.1.0 in /opt/conda/lib/python3.7/site-packages (from yaspin>=1.0.0->wandb>=0.10.32->simpletransformers) (1.1.0)\r\n",
      "Requirement already satisfied: frozenlist>=1.1.1 in /opt/conda/lib/python3.7/site-packages (from aiohttp->datasets->simpletransformers) (1.2.0)\r\n",
      "Requirement already satisfied: yarl<2.0,>=1.0 in /opt/conda/lib/python3.7/site-packages (from aiohttp->datasets->simpletransformers) (1.7.2)\r\n",
      "Requirement already satisfied: async-timeout<5.0,>=4.0.0a3 in /opt/conda/lib/python3.7/site-packages (from aiohttp->datasets->simpletransformers) (4.0.1)\r\n",
      "Requirement already satisfied: aiosignal>=1.1.2 in /opt/conda/lib/python3.7/site-packages (from aiohttp->datasets->simpletransformers) (1.2.0)\r\n",
      "Requirement already satisfied: asynctest==0.13.0 in /opt/conda/lib/python3.7/site-packages (from aiohttp->datasets->simpletransformers) (0.13.0)\r\n",
      "Requirement already satisfied: multidict<7.0,>=4.5 in /opt/conda/lib/python3.7/site-packages (from aiohttp->datasets->simpletransformers) (5.2.0)\r\n",
      "Requirement already satisfied: pytz-deprecation-shim in /opt/conda/lib/python3.7/site-packages (from tzlocal->streamlit->simpletransformers) (0.1.0.post0)\r\n",
      "Requirement already satisfied: backports.zoneinfo in /opt/conda/lib/python3.7/site-packages (from tzlocal->streamlit->simpletransformers) (0.2.1)\r\n",
      "Requirement already satisfied: decorator>=3.4.0 in /opt/conda/lib/python3.7/site-packages (from validators->streamlit->simpletransformers) (5.1.0)\r\n",
      "Requirement already satisfied: smmap<6,>=3.0.1 in /opt/conda/lib/python3.7/site-packages (from gitdb<5,>=4.0.1->GitPython>=1.0.0->wandb>=0.10.32->simpletransformers) (3.0.5)\r\n",
      "Requirement already satisfied: jupyter-client<8.0 in /opt/conda/lib/python3.7/site-packages (from ipykernel>=5.1.2->pydeck>=0.1.dev5->streamlit->simpletransformers) (7.1.0)\r\n",
      "Requirement already satisfied: ipython>=7.23.1 in /opt/conda/lib/python3.7/site-packages (from ipykernel>=5.1.2->pydeck>=0.1.dev5->streamlit->simpletransformers) (7.30.1)\r\n",
      "Requirement already satisfied: matplotlib-inline<0.2.0,>=0.1.0 in /opt/conda/lib/python3.7/site-packages (from ipykernel>=5.1.2->pydeck>=0.1.dev5->streamlit->simpletransformers) (0.1.3)\r\n",
      "Requirement already satisfied: debugpy<2.0,>=1.0.0 in /opt/conda/lib/python3.7/site-packages (from ipykernel>=5.1.2->pydeck>=0.1.dev5->streamlit->simpletransformers) (1.5.1)\r\n",
      "Requirement already satisfied: argcomplete>=1.12.3 in /opt/conda/lib/python3.7/site-packages (from ipykernel>=5.1.2->pydeck>=0.1.dev5->streamlit->simpletransformers) (1.12.3)\r\n",
      "Requirement already satisfied: jupyterlab-widgets>=1.0.0 in /opt/conda/lib/python3.7/site-packages (from ipywidgets>=7.0.0->pydeck>=0.1.dev5->streamlit->simpletransformers) (1.0.2)\r\n",
      "Requirement already satisfied: widgetsnbextension~=3.5.0 in /opt/conda/lib/python3.7/site-packages (from ipywidgets>=7.0.0->pydeck>=0.1.dev5->streamlit->simpletransformers) (3.5.2)\r\n",
      "Requirement already satisfied: nbformat>=4.2.0 in /opt/conda/lib/python3.7/site-packages (from ipywidgets>=7.0.0->pydeck>=0.1.dev5->streamlit->simpletransformers) (5.1.3)\r\n",
      "Requirement already satisfied: ipython-genutils~=0.2.0 in /opt/conda/lib/python3.7/site-packages (from ipywidgets>=7.0.0->pydeck>=0.1.dev5->streamlit->simpletransformers) (0.2.0)\r\n",
      "Requirement already satisfied: MarkupSafe>=2.0 in /opt/conda/lib/python3.7/site-packages (from jinja2->altair>=3.2.0->streamlit->simpletransformers) (2.0.1)\r\n",
      "Requirement already satisfied: pyrsistent!=0.17.0,!=0.17.1,!=0.17.2,>=0.14.0 in /opt/conda/lib/python3.7/site-packages (from jsonschema>=3.0->altair>=3.2.0->streamlit->simpletransformers) (0.18.0)\r\n",
      "Requirement already satisfied: importlib-resources>=1.4.0 in /opt/conda/lib/python3.7/site-packages (from jsonschema>=3.0->altair>=3.2.0->streamlit->simpletransformers) (5.4.0)\r\n",
      "Requirement already satisfied: pyasn1<0.5.0,>=0.4.6 in /opt/conda/lib/python3.7/site-packages (from pyasn1-modules>=0.2.1->google-auth<2,>=1.6.3->tensorboard->simpletransformers) (0.4.8)\r\n",
      "Requirement already satisfied: oauthlib>=3.0.0 in /opt/conda/lib/python3.7/site-packages (from requests-oauthlib>=0.7.0->google-auth-oauthlib<0.5,>=0.4.1->tensorboard->simpletransformers) (3.1.1)\r\n",
      "Requirement already satisfied: tzdata in /opt/conda/lib/python3.7/site-packages (from pytz-deprecation-shim->tzlocal->streamlit->simpletransformers) (2021.5)\r\n",
      "Requirement already satisfied: pickleshare in /opt/conda/lib/python3.7/site-packages (from ipython>=7.23.1->ipykernel>=5.1.2->pydeck>=0.1.dev5->streamlit->simpletransformers) (0.7.5)\r\n",
      "Requirement already satisfied: jedi>=0.16 in /opt/conda/lib/python3.7/site-packages (from ipython>=7.23.1->ipykernel>=5.1.2->pydeck>=0.1.dev5->streamlit->simpletransformers) (0.18.1)\r\n",
      "Requirement already satisfied: pygments in /opt/conda/lib/python3.7/site-packages (from ipython>=7.23.1->ipykernel>=5.1.2->pydeck>=0.1.dev5->streamlit->simpletransformers) (2.10.0)\r\n",
      "Requirement already satisfied: backcall in /opt/conda/lib/python3.7/site-packages (from ipython>=7.23.1->ipykernel>=5.1.2->pydeck>=0.1.dev5->streamlit->simpletransformers) (0.2.0)\r\n",
      "Requirement already satisfied: prompt-toolkit!=3.0.0,!=3.0.1,<3.1.0,>=2.0.0 in /opt/conda/lib/python3.7/site-packages (from ipython>=7.23.1->ipykernel>=5.1.2->pydeck>=0.1.dev5->streamlit->simpletransformers) (3.0.24)\r\n",
      "Requirement already satisfied: pexpect>4.3 in /opt/conda/lib/python3.7/site-packages (from ipython>=7.23.1->ipykernel>=5.1.2->pydeck>=0.1.dev5->streamlit->simpletransformers) (4.8.0)\r\n",
      "Requirement already satisfied: nest-asyncio>=1.5 in /opt/conda/lib/python3.7/site-packages (from jupyter-client<8.0->ipykernel>=5.1.2->pydeck>=0.1.dev5->streamlit->simpletransformers) (1.5.4)\r\n",
      "Requirement already satisfied: pyzmq>=13 in /opt/conda/lib/python3.7/site-packages (from jupyter-client<8.0->ipykernel>=5.1.2->pydeck>=0.1.dev5->streamlit->simpletransformers) (22.3.0)\r\n",
      "Requirement already satisfied: jupyter-core>=4.6.0 in /opt/conda/lib/python3.7/site-packages (from jupyter-client<8.0->ipykernel>=5.1.2->pydeck>=0.1.dev5->streamlit->simpletransformers) (4.9.1)\r\n",
      "Requirement already satisfied: notebook>=4.4.1 in /opt/conda/lib/python3.7/site-packages (from widgetsnbextension~=3.5.0->ipywidgets>=7.0.0->pydeck>=0.1.dev5->streamlit->simpletransformers) (6.4.6)\r\n",
      "Requirement already satisfied: parso<0.9.0,>=0.8.0 in /opt/conda/lib/python3.7/site-packages (from jedi>=0.16->ipython>=7.23.1->ipykernel>=5.1.2->pydeck>=0.1.dev5->streamlit->simpletransformers) (0.8.3)\r\n",
      "Requirement already satisfied: terminado>=0.8.3 in /opt/conda/lib/python3.7/site-packages (from notebook>=4.4.1->widgetsnbextension~=3.5.0->ipywidgets>=7.0.0->pydeck>=0.1.dev5->streamlit->simpletransformers) (0.12.1)\r\n",
      "Requirement already satisfied: argon2-cffi in /opt/conda/lib/python3.7/site-packages (from notebook>=4.4.1->widgetsnbextension~=3.5.0->ipywidgets>=7.0.0->pydeck>=0.1.dev5->streamlit->simpletransformers) (21.1.0)\r\n",
      "Requirement already satisfied: nbconvert in /opt/conda/lib/python3.7/site-packages (from notebook>=4.4.1->widgetsnbextension~=3.5.0->ipywidgets>=7.0.0->pydeck>=0.1.dev5->streamlit->simpletransformers) (6.3.0)\r\n",
      "Requirement already satisfied: Send2Trash>=1.8.0 in /opt/conda/lib/python3.7/site-packages (from notebook>=4.4.1->widgetsnbextension~=3.5.0->ipywidgets>=7.0.0->pydeck>=0.1.dev5->streamlit->simpletransformers) (1.8.0)\r\n",
      "Requirement already satisfied: prometheus-client in /opt/conda/lib/python3.7/site-packages (from notebook>=4.4.1->widgetsnbextension~=3.5.0->ipywidgets>=7.0.0->pydeck>=0.1.dev5->streamlit->simpletransformers) (0.12.0)\r\n",
      "Requirement already satisfied: ptyprocess>=0.5 in /opt/conda/lib/python3.7/site-packages (from pexpect>4.3->ipython>=7.23.1->ipykernel>=5.1.2->pydeck>=0.1.dev5->streamlit->simpletransformers) (0.7.0)\r\n",
      "Requirement already satisfied: wcwidth in /opt/conda/lib/python3.7/site-packages (from prompt-toolkit!=3.0.0,!=3.0.1,<3.1.0,>=2.0.0->ipython>=7.23.1->ipykernel>=5.1.2->pydeck>=0.1.dev5->streamlit->simpletransformers) (0.2.5)\r\n",
      "Requirement already satisfied: cffi>=1.0.0 in /opt/conda/lib/python3.7/site-packages (from argon2-cffi->notebook>=4.4.1->widgetsnbextension~=3.5.0->ipywidgets>=7.0.0->pydeck>=0.1.dev5->streamlit->simpletransformers) (1.15.0)\r\n",
      "Requirement already satisfied: mistune<2,>=0.8.1 in /opt/conda/lib/python3.7/site-packages (from nbconvert->notebook>=4.4.1->widgetsnbextension~=3.5.0->ipywidgets>=7.0.0->pydeck>=0.1.dev5->streamlit->simpletransformers) (0.8.4)\r\n",
      "Requirement already satisfied: defusedxml in /opt/conda/lib/python3.7/site-packages (from nbconvert->notebook>=4.4.1->widgetsnbextension~=3.5.0->ipywidgets>=7.0.0->pydeck>=0.1.dev5->streamlit->simpletransformers) (0.7.1)\r\n",
      "Requirement already satisfied: testpath in /opt/conda/lib/python3.7/site-packages (from nbconvert->notebook>=4.4.1->widgetsnbextension~=3.5.0->ipywidgets>=7.0.0->pydeck>=0.1.dev5->streamlit->simpletransformers) (0.5.0)\r\n",
      "Requirement already satisfied: nbclient<0.6.0,>=0.5.0 in /opt/conda/lib/python3.7/site-packages (from nbconvert->notebook>=4.4.1->widgetsnbextension~=3.5.0->ipywidgets>=7.0.0->pydeck>=0.1.dev5->streamlit->simpletransformers) (0.5.9)\r\n",
      "Requirement already satisfied: bleach in /opt/conda/lib/python3.7/site-packages (from nbconvert->notebook>=4.4.1->widgetsnbextension~=3.5.0->ipywidgets>=7.0.0->pydeck>=0.1.dev5->streamlit->simpletransformers) (4.1.0)\r\n",
      "Requirement already satisfied: pandocfilters>=1.4.1 in /opt/conda/lib/python3.7/site-packages (from nbconvert->notebook>=4.4.1->widgetsnbextension~=3.5.0->ipywidgets>=7.0.0->pydeck>=0.1.dev5->streamlit->simpletransformers) (1.5.0)\r\n",
      "Requirement already satisfied: jupyterlab-pygments in /opt/conda/lib/python3.7/site-packages (from nbconvert->notebook>=4.4.1->widgetsnbextension~=3.5.0->ipywidgets>=7.0.0->pydeck>=0.1.dev5->streamlit->simpletransformers) (0.1.2)\r\n",
      "Requirement already satisfied: pycparser in /opt/conda/lib/python3.7/site-packages (from cffi>=1.0.0->argon2-cffi->notebook>=4.4.1->widgetsnbextension~=3.5.0->ipywidgets>=7.0.0->pydeck>=0.1.dev5->streamlit->simpletransformers) (2.21)\r\n",
      "Requirement already satisfied: webencodings in /opt/conda/lib/python3.7/site-packages (from bleach->nbconvert->notebook>=4.4.1->widgetsnbextension~=3.5.0->ipywidgets>=7.0.0->pydeck>=0.1.dev5->streamlit->simpletransformers) (0.5.1)\r\n",
      "Building wheels for collected packages: seqeval\r\n",
      "  Building wheel for seqeval (setup.py) ... \u001b[?25l-\b \b\\\b \b|\b \bdone\r\n",
      "\u001b[?25h  Created wheel for seqeval: filename=seqeval-1.2.2-py3-none-any.whl size=16181 sha256=0c53a196bdf2ad94727df300f5f4251121dae5322ec9800eac2dcabf436ea906\r\n",
      "  Stored in directory: /root/.cache/pip/wheels/05/96/ee/7cac4e74f3b19e3158dce26a20a1c86b3533c43ec72a549fd7\r\n",
      "Successfully built seqeval\r\n",
      "Installing collected packages: xxhash, watchdog, validators, pydeck, astor, streamlit, seqeval, datasets, simpletransformers\r\n",
      "Successfully installed astor-0.8.1 datasets-1.18.3 pydeck-0.7.1 seqeval-1.2.2 simpletransformers-0.63.4 streamlit-1.5.1 validators-0.18.2 watchdog-2.1.6 xxhash-2.0.2\r\n",
      "\u001b[33mWARNING: Running pip as the 'root' user can result in broken permissions and conflicting behaviour with the system package manager. It is recommended to use a virtual environment instead: https://pip.pypa.io/warnings/venv\u001b[0m\r\n"
     ]
    }
   ],
   "source": [
    "#!pip install --upgrade transformers\n",
    "#!pip install tqdm==4.47.0  # see https://gitmemory.com/issue/ThilinaRajapakse/simpletransformers/919/759846471\n",
    "!pip install transformers --upgrade\n",
    "!pip install simpletransformers\n",
    "#!pip install wandb # optional Install wandb for tracking and visualizing training in a web browser"
   ]
  },
  {
   "cell_type": "code",
   "execution_count": 15,
   "id": "d1a4e9a4",
   "metadata": {
    "execution": {
     "iopub.execute_input": "2022-02-21T14:15:11.905250Z",
     "iopub.status.busy": "2022-02-21T14:15:11.904400Z",
     "iopub.status.idle": "2022-02-21T14:15:13.433256Z",
     "shell.execute_reply": "2022-02-21T14:15:13.433879Z",
     "shell.execute_reply.started": "2022-02-20T19:24:30.252244Z"
    },
    "papermill": {
     "duration": 1.608723,
     "end_time": "2022-02-21T14:15:13.434051",
     "exception": false,
     "start_time": "2022-02-21T14:15:11.825328",
     "status": "completed"
    },
    "tags": []
   },
   "outputs": [],
   "source": [
    "import torch"
   ]
  },
  {
   "cell_type": "code",
   "execution_count": 16,
   "id": "83286a04",
   "metadata": {
    "execution": {
     "iopub.execute_input": "2022-02-21T14:15:13.575589Z",
     "iopub.status.busy": "2022-02-21T14:15:13.574967Z",
     "iopub.status.idle": "2022-02-21T14:15:13.615111Z",
     "shell.execute_reply": "2022-02-21T14:15:13.614475Z",
     "shell.execute_reply.started": "2022-02-20T19:24:30.258279Z"
    },
    "papermill": {
     "duration": 0.114151,
     "end_time": "2022-02-21T14:15:13.615233",
     "exception": false,
     "start_time": "2022-02-21T14:15:13.501082",
     "status": "completed"
    },
    "tags": []
   },
   "outputs": [],
   "source": [
    "def seed_all(seed_value):\n",
    "    random.seed(seed_value) # Python\n",
    "    np.random.seed(seed_value) # cpu vars\n",
    "    torch.manual_seed(seed_value) # cpu  vars\n",
    "    \n",
    "    if torch.cuda.is_available(): \n",
    "        torch.cuda.manual_seed(seed_value)\n",
    "        torch.cuda.manual_seed_all(seed_value) # gpu vars\n",
    "        torch.backends.cudnn.deterministic = True  #needed\n",
    "        torch.backends.cudnn.benchmark = False\n",
    "seed_all(seed)"
   ]
  },
  {
   "cell_type": "markdown",
   "id": "c09c44b5",
   "metadata": {
    "papermill": {
     "duration": 0.065365,
     "end_time": "2022-02-21T14:15:13.745986",
     "exception": false,
     "start_time": "2022-02-21T14:15:13.680621",
     "status": "completed"
    },
    "tags": []
   },
   "source": [
    "##### EasyNMT & m2m_100_1.2B or m2m_100_418M\n",
    "This package provides easy to use, state-of-the-art machine translation for more than 100+ languages\n",
    "\n",
    "<a href='https://github.com/UKPLab/EasyNMT'> Reference </a>"
   ]
  },
  {
   "cell_type": "code",
   "execution_count": 17,
   "id": "19d875c6",
   "metadata": {
    "execution": {
     "iopub.execute_input": "2022-02-21T14:15:13.882079Z",
     "iopub.status.busy": "2022-02-21T14:15:13.881309Z",
     "iopub.status.idle": "2022-02-21T14:15:23.616413Z",
     "shell.execute_reply": "2022-02-21T14:15:23.615822Z",
     "shell.execute_reply.started": "2022-02-20T19:24:30.352216Z"
    },
    "papermill": {
     "duration": 9.805251,
     "end_time": "2022-02-21T14:15:23.616566",
     "exception": false,
     "start_time": "2022-02-21T14:15:13.811315",
     "status": "completed"
    },
    "tags": []
   },
   "outputs": [
    {
     "name": "stdout",
     "output_type": "stream",
     "text": [
      "Collecting easynmt\r\n",
      "  Downloading EasyNMT-2.0.1.tar.gz (14 kB)\r\n",
      "  Preparing metadata (setup.py) ... \u001b[?25l-\b \bdone\r\n",
      "\u001b[?25hRequirement already satisfied: tqdm in /opt/conda/lib/python3.7/site-packages (from easynmt) (4.62.3)\r\n",
      "Requirement already satisfied: transformers<5,>=4.4 in /opt/conda/lib/python3.7/site-packages (from easynmt) (4.16.2)\r\n",
      "Requirement already satisfied: torch>=1.6.0 in /opt/conda/lib/python3.7/site-packages (from easynmt) (1.9.1)\r\n",
      "Requirement already satisfied: numpy in /opt/conda/lib/python3.7/site-packages (from easynmt) (1.20.3)\r\n",
      "Requirement already satisfied: nltk in /opt/conda/lib/python3.7/site-packages (from easynmt) (3.2.4)\r\n",
      "Requirement already satisfied: sentencepiece in /opt/conda/lib/python3.7/site-packages (from easynmt) (0.1.96)\r\n",
      "Requirement already satisfied: fasttext in /opt/conda/lib/python3.7/site-packages (from easynmt) (0.9.2)\r\n",
      "Requirement already satisfied: typing-extensions in /opt/conda/lib/python3.7/site-packages (from torch>=1.6.0->easynmt) (4.0.1)\r\n",
      "Requirement already satisfied: tokenizers!=0.11.3,>=0.10.1 in /opt/conda/lib/python3.7/site-packages (from transformers<5,>=4.4->easynmt) (0.10.3)\r\n",
      "Requirement already satisfied: regex!=2019.12.17 in /opt/conda/lib/python3.7/site-packages (from transformers<5,>=4.4->easynmt) (2021.11.10)\r\n",
      "Requirement already satisfied: sacremoses in /opt/conda/lib/python3.7/site-packages (from transformers<5,>=4.4->easynmt) (0.0.47)\r\n",
      "Requirement already satisfied: filelock in /opt/conda/lib/python3.7/site-packages (from transformers<5,>=4.4->easynmt) (3.4.2)\r\n",
      "Requirement already satisfied: packaging>=20.0 in /opt/conda/lib/python3.7/site-packages (from transformers<5,>=4.4->easynmt) (21.3)\r\n",
      "Requirement already satisfied: requests in /opt/conda/lib/python3.7/site-packages (from transformers<5,>=4.4->easynmt) (2.26.0)\r\n",
      "Requirement already satisfied: huggingface-hub<1.0,>=0.1.0 in /opt/conda/lib/python3.7/site-packages (from transformers<5,>=4.4->easynmt) (0.2.1)\r\n",
      "Requirement already satisfied: pyyaml>=5.1 in /opt/conda/lib/python3.7/site-packages (from transformers<5,>=4.4->easynmt) (6.0)\r\n",
      "Requirement already satisfied: importlib-metadata in /opt/conda/lib/python3.7/site-packages (from transformers<5,>=4.4->easynmt) (4.10.1)\r\n",
      "Requirement already satisfied: pybind11>=2.2 in /opt/conda/lib/python3.7/site-packages (from fasttext->easynmt) (2.9.1)\r\n",
      "Requirement already satisfied: setuptools>=0.7.0 in /opt/conda/lib/python3.7/site-packages (from fasttext->easynmt) (59.5.0)\r\n",
      "Requirement already satisfied: six in /opt/conda/lib/python3.7/site-packages (from nltk->easynmt) (1.16.0)\r\n",
      "Requirement already satisfied: pyparsing!=3.0.5,>=2.0.2 in /opt/conda/lib/python3.7/site-packages (from packaging>=20.0->transformers<5,>=4.4->easynmt) (3.0.6)\r\n",
      "Requirement already satisfied: zipp>=0.5 in /opt/conda/lib/python3.7/site-packages (from importlib-metadata->transformers<5,>=4.4->easynmt) (3.6.0)\r\n",
      "Requirement already satisfied: urllib3<1.27,>=1.21.1 in /opt/conda/lib/python3.7/site-packages (from requests->transformers<5,>=4.4->easynmt) (1.26.7)\r\n",
      "Requirement already satisfied: idna<4,>=2.5 in /opt/conda/lib/python3.7/site-packages (from requests->transformers<5,>=4.4->easynmt) (3.1)\r\n",
      "Requirement already satisfied: charset-normalizer~=2.0.0 in /opt/conda/lib/python3.7/site-packages (from requests->transformers<5,>=4.4->easynmt) (2.0.9)\r\n",
      "Requirement already satisfied: certifi>=2017.4.17 in /opt/conda/lib/python3.7/site-packages (from requests->transformers<5,>=4.4->easynmt) (2021.10.8)\r\n",
      "Requirement already satisfied: click in /opt/conda/lib/python3.7/site-packages (from sacremoses->transformers<5,>=4.4->easynmt) (8.0.3)\r\n",
      "Requirement already satisfied: joblib in /opt/conda/lib/python3.7/site-packages (from sacremoses->transformers<5,>=4.4->easynmt) (1.1.0)\r\n",
      "Building wheels for collected packages: easynmt\r\n",
      "  Building wheel for easynmt (setup.py) ... \u001b[?25l-\b \b\\\b \bdone\r\n",
      "\u001b[?25h  Created wheel for easynmt: filename=EasyNMT-2.0.1-py3-none-any.whl size=15446 sha256=c15a6405a74a6992cb2e8efcc9033a4781cfe30d5bc7a57c6bbcb96f54989dfa\r\n",
      "  Stored in directory: /root/.cache/pip/wheels/fb/42/fb/b7711d3296456d5f74e6e265dbdb0e3142158f1bb50382caef\r\n",
      "Successfully built easynmt\r\n",
      "Installing collected packages: easynmt\r\n",
      "Successfully installed easynmt-2.0.1\r\n",
      "\u001b[33mWARNING: Running pip as the 'root' user can result in broken permissions and conflicting behaviour with the system package manager. It is recommended to use a virtual environment instead: https://pip.pypa.io/warnings/venv\u001b[0m\r\n"
     ]
    }
   ],
   "source": [
    "!pip install -U easynmt"
   ]
  },
  {
   "cell_type": "code",
   "execution_count": 18,
   "id": "cba4c853",
   "metadata": {
    "execution": {
     "iopub.execute_input": "2022-02-21T14:15:23.761332Z",
     "iopub.status.busy": "2022-02-21T14:15:23.760569Z",
     "iopub.status.idle": "2022-02-21T14:18:36.674480Z",
     "shell.execute_reply": "2022-02-21T14:18:36.674965Z",
     "shell.execute_reply.started": "2022-02-20T19:24:40.178349Z"
    },
    "papermill": {
     "duration": 192.988001,
     "end_time": "2022-02-21T14:18:36.675144",
     "exception": false,
     "start_time": "2022-02-21T14:15:23.687143",
     "status": "completed"
    },
    "tags": []
   },
   "outputs": [
    {
     "name": "stderr",
     "output_type": "stream",
     "text": [
      "89.9kB [00:00, 40.3MB/s]                   \n"
     ]
    },
    {
     "data": {
      "application/vnd.jupyter.widget-view+json": {
       "model_id": "082a8ba270c74ac8ace921e7fdcc1dd9",
       "version_major": 2,
       "version_minor": 0
      },
      "text/plain": [
       "Downloading:   0%|          | 0.00/909 [00:00<?, ?B/s]"
      ]
     },
     "metadata": {},
     "output_type": "display_data"
    },
    {
     "data": {
      "application/vnd.jupyter.widget-view+json": {
       "model_id": "37bb0798b0fb4001a5b27cd55b5de05b",
       "version_major": 2,
       "version_minor": 0
      },
      "text/plain": [
       "Downloading:   0%|          | 0.00/4.62G [00:00<?, ?B/s]"
      ]
     },
     "metadata": {},
     "output_type": "display_data"
    },
    {
     "data": {
      "application/vnd.jupyter.widget-view+json": {
       "model_id": "b23fcff6be5e40ad9b7d8b705944c681",
       "version_major": 2,
       "version_minor": 0
      },
      "text/plain": [
       "Downloading:   0%|          | 0.00/271 [00:00<?, ?B/s]"
      ]
     },
     "metadata": {},
     "output_type": "display_data"
    },
    {
     "data": {
      "application/vnd.jupyter.widget-view+json": {
       "model_id": "f61d46dd33ba4c7a95f512ac8230d3ea",
       "version_major": 2,
       "version_minor": 0
      },
      "text/plain": [
       "Downloading:   0%|          | 0.00/3.54M [00:00<?, ?B/s]"
      ]
     },
     "metadata": {},
     "output_type": "display_data"
    },
    {
     "data": {
      "application/vnd.jupyter.widget-view+json": {
       "model_id": "6f4dae3714c54dcd8d923c3a48c364c4",
       "version_major": 2,
       "version_minor": 0
      },
      "text/plain": [
       "Downloading:   0%|          | 0.00/2.31M [00:00<?, ?B/s]"
      ]
     },
     "metadata": {},
     "output_type": "display_data"
    },
    {
     "data": {
      "application/vnd.jupyter.widget-view+json": {
       "model_id": "d3eb4b6f111c46ba88a37a0b1d185749",
       "version_major": 2,
       "version_minor": 0
      },
      "text/plain": [
       "Downloading:   0%|          | 0.00/1.11k [00:00<?, ?B/s]"
      ]
     },
     "metadata": {},
     "output_type": "display_data"
    }
   ],
   "source": [
    "from easynmt import EasyNMT\n",
    "model = EasyNMT('m2m_100_1.2B')   #or: EasyNMT('m2m_100_1.2B or m2m_100_418M') "
   ]
  },
  {
   "cell_type": "code",
   "execution_count": 19,
   "id": "a51adac4",
   "metadata": {
    "execution": {
     "iopub.execute_input": "2022-02-21T14:18:36.853427Z",
     "iopub.status.busy": "2022-02-21T14:18:36.852411Z",
     "iopub.status.idle": "2022-02-21T14:31:09.251541Z",
     "shell.execute_reply": "2022-02-21T14:31:09.252019Z",
     "shell.execute_reply.started": "2022-02-20T19:27:54.986346Z"
    },
    "papermill": {
     "duration": 752.502203,
     "end_time": "2022-02-21T14:31:09.252204",
     "exception": false,
     "start_time": "2022-02-21T14:18:36.750001",
     "status": "completed"
    },
    "tags": []
   },
   "outputs": [
    {
     "data": {
      "application/vnd.jupyter.widget-view+json": {
       "model_id": "a579fdb82de5476682805dbb8f09e972",
       "version_major": 2,
       "version_minor": 0
      },
      "text/plain": [
       "  0%|          | 0/282 [00:00<?, ?it/s]"
      ]
     },
     "metadata": {},
     "output_type": "display_data"
    }
   ],
   "source": [
    "lst = train['Tweets'].values\n",
    "chunk_size = 8\n",
    "n_chunks = len(lst)//chunk_size\n",
    "chunks = np.array_split(lst, n_chunks)\n",
    "\n",
    "outputs = []\n",
    "for chunk in tqdm(chunks):\n",
    "    input_texts = chunk\n",
    "    output = model.translate(documents=input_texts,\n",
    "                             target_lang='en',source_lang='sw',show_progress_bar=False)\n",
    "    outputs += output\n",
    "\n",
    "train['m2mEn'] = outputs    "
   ]
  },
  {
   "cell_type": "code",
   "execution_count": 20,
   "id": "c94f5b0b",
   "metadata": {
    "execution": {
     "iopub.execute_input": "2022-02-21T14:31:09.443903Z",
     "iopub.status.busy": "2022-02-21T14:31:09.420204Z",
     "iopub.status.idle": "2022-02-21T14:35:35.503104Z",
     "shell.execute_reply": "2022-02-21T14:35:35.501890Z",
     "shell.execute_reply.started": "2022-02-20T19:40:22.651094Z"
    },
    "papermill": {
     "duration": 266.167188,
     "end_time": "2022-02-21T14:35:35.503285",
     "exception": false,
     "start_time": "2022-02-21T14:31:09.336097",
     "status": "completed"
    },
    "tags": []
   },
   "outputs": [
    {
     "data": {
      "application/vnd.jupyter.widget-view+json": {
       "model_id": "42232e8e0b08418a9e2bd06180409b6f",
       "version_major": 2,
       "version_minor": 0
      },
      "text/plain": [
       "  0%|          | 0/94 [00:00<?, ?it/s]"
      ]
     },
     "metadata": {},
     "output_type": "display_data"
    }
   ],
   "source": [
    "lst = test['Tweets'].values\n",
    "chunk_size = 8\n",
    "n_chunks = len(lst)//chunk_size\n",
    "chunks = np.array_split(lst, n_chunks)\n",
    "\n",
    "outputs = []\n",
    "for chunk in tqdm(chunks):\n",
    "    input_texts = chunk\n",
    "    output = model.translate(documents=input_texts,\n",
    "                             target_lang='en',source_lang='sw',show_progress_bar=False)\n",
    "    outputs += output\n",
    "    \n",
    "test['m2mEn'] = outputs"
   ]
  },
  {
   "cell_type": "code",
   "execution_count": 21,
   "id": "4b5011cc",
   "metadata": {
    "execution": {
     "iopub.execute_input": "2022-02-21T14:35:35.677095Z",
     "iopub.status.busy": "2022-02-21T14:35:35.676133Z",
     "iopub.status.idle": "2022-02-21T14:35:35.686057Z",
     "shell.execute_reply": "2022-02-21T14:35:35.686476Z",
     "shell.execute_reply.started": "2022-02-20T19:44:50.665768Z"
    },
    "papermill": {
     "duration": 0.097027,
     "end_time": "2022-02-21T14:35:35.686691",
     "exception": false,
     "start_time": "2022-02-21T14:35:35.589664",
     "status": "completed"
    },
    "tags": []
   },
   "outputs": [
    {
     "name": "stdout",
     "output_type": "stream",
     "text": [
      "Original: So chuga si tunakutana kesho kwenye Nyamachoma festival nanenanemnajifanyaga mnakula mtungi mje kesho niwakalishe \n",
      "\n",
      "English: Tomorrow we’ll meet at the festival, we’ll meet at the festival, we’ll meet at the festival. \n",
      "\n",
      "\n",
      "\n",
      "Original:    Asante sana watu wa Sirari jimbo la Tarime vijijini Huu ni Upendo usio na Mashaka kwa Mbunge wenu John Heche na Chadem \n",
      "\n",
      "English:    Thank you very much Sirari state of Tarime This is an unquestionable love for your member John Heche and Chadem \n",
      "\n",
      "\n",
      "\n",
      "Original:    Leo nimepata kitambulisho changu cha taifa Asante sana \n",
      "\n",
      "English:    Today I got my national identity. \n",
      "\n",
      "\n",
      "\n",
      "Original:    Mgema akisifiwa tembo hulitia maji \n",
      "\n",
      "English:    The elephant swallowed water \n",
      "\n",
      "\n",
      "\n",
      "Original: Ee Mwenyezi Mungu Msamehe na Umrehemu na Umuafu na Msamehe na Mtukuze kushuka kwake kaburini na Upanue kuingia kwake na Muoshe na maji na kwa theluji na barafu na Mtakase na makosa kama Unavyoitakasa nguo nyeupe kutokana na uchafu na Mbadilishie nyumba bora kuliko \n",
      "\n",
      "English: O Allah, forgive you, forgive you, forgive you, forgive you, forgive you, forgive you, forgive you, forgive you, forgive you, forgive you, forgive you, forgive you, forgive you, forgive you, forgive you, forgive you, forgive you, forgive you, forgive you, forgive you, forgive you, forgive you, forgive you, forgive you, forgive you, forgive you, forgive you, forgive you, forgive you, forgive you, forgive you, forgive you, forgive you. \n",
      "\n",
      "\n",
      "\n"
     ]
    }
   ],
   "source": [
    "for index, row in train.head().iterrows():\n",
    "    print(f'Original: {row.Tweets} \\n')\n",
    "    print(f'English: {row.m2mEn} \\n')\n",
    "    print('\\n')"
   ]
  },
  {
   "cell_type": "code",
   "execution_count": 22,
   "id": "33a734c9",
   "metadata": {
    "execution": {
     "iopub.execute_input": "2022-02-21T14:35:35.873650Z",
     "iopub.status.busy": "2022-02-21T14:35:35.872664Z",
     "iopub.status.idle": "2022-02-21T14:35:35.878776Z",
     "shell.execute_reply": "2022-02-21T14:35:35.879236Z",
     "shell.execute_reply.started": "2022-02-20T19:44:50.687895Z"
    },
    "papermill": {
     "duration": 0.108696,
     "end_time": "2022-02-21T14:35:35.879395",
     "exception": false,
     "start_time": "2022-02-21T14:35:35.770699",
     "status": "completed"
    },
    "tags": []
   },
   "outputs": [],
   "source": [
    "# We need to chose what we'll use as english tweets\n",
    "train['enTweets'] = train.m2mEn.values\n",
    "test['enTweets'] = test.m2mEn.values"
   ]
  },
  {
   "cell_type": "markdown",
   "id": "75913e52",
   "metadata": {
    "papermill": {
     "duration": 0.080822,
     "end_time": "2022-02-21T14:35:36.049808",
     "exception": false,
     "start_time": "2022-02-21T14:35:35.968986",
     "status": "completed"
    },
    "tags": []
   },
   "source": [
    "#### Catboost Modelling "
   ]
  },
  {
   "cell_type": "markdown",
   "id": "39750246",
   "metadata": {
    "papermill": {
     "duration": 0.07409,
     "end_time": "2022-02-21T14:35:36.198053",
     "exception": false,
     "start_time": "2022-02-21T14:35:36.123963",
     "status": "completed"
    },
    "tags": []
   },
   "source": [
    "I think using the model as above caused use to run into curse of dimensionality! I couldn't get it give significant score, it just ended up overfitting!"
   ]
  },
  {
   "cell_type": "code",
   "execution_count": 23,
   "id": "057cb483",
   "metadata": {
    "execution": {
     "iopub.execute_input": "2022-02-21T14:35:36.357581Z",
     "iopub.status.busy": "2022-02-21T14:35:36.356667Z",
     "iopub.status.idle": "2022-02-21T14:35:36.365135Z",
     "shell.execute_reply": "2022-02-21T14:35:36.364698Z",
     "shell.execute_reply.started": "2022-02-20T19:44:50.697122Z"
    },
    "papermill": {
     "duration": 0.090382,
     "end_time": "2022-02-21T14:35:36.365258",
     "exception": false,
     "start_time": "2022-02-21T14:35:36.274876",
     "status": "completed"
    },
    "tags": []
   },
   "outputs": [
    {
     "data": {
      "text/html": [
       "<div>\n",
       "<style scoped>\n",
       "    .dataframe tbody tr th:only-of-type {\n",
       "        vertical-align: middle;\n",
       "    }\n",
       "\n",
       "    .dataframe tbody tr th {\n",
       "        vertical-align: top;\n",
       "    }\n",
       "\n",
       "    .dataframe thead th {\n",
       "        text-align: right;\n",
       "    }\n",
       "</style>\n",
       "<table border=\"1\" class=\"dataframe\">\n",
       "  <thead>\n",
       "    <tr style=\"text-align: right;\">\n",
       "      <th></th>\n",
       "      <th>ID</th>\n",
       "      <th>Tweets</th>\n",
       "      <th>Labels</th>\n",
       "      <th>labels</th>\n",
       "      <th>text</th>\n",
       "      <th>m2mEn</th>\n",
       "      <th>enTweets</th>\n",
       "    </tr>\n",
       "  </thead>\n",
       "  <tbody>\n",
       "    <tr>\n",
       "      <th>0</th>\n",
       "      <td>2</td>\n",
       "      <td>So chuga si tunakutana kesho kwenye Nyamachoma festival nanenanemnajifanyaga mnakula mtungi mje kesho niwakalishe</td>\n",
       "      <td>0</td>\n",
       "      <td>1</td>\n",
       "      <td>So chuga si tunakutana kesho kwenye Nyamachoma festival nanenanemnajifanyaga mnakula mtungi mje kesho niwakalishe</td>\n",
       "      <td>Tomorrow we’ll meet at the festival, we’ll meet at the festival, we’ll meet at the festival.</td>\n",
       "      <td>Tomorrow we’ll meet at the festival, we’ll meet at the festival, we’ll meet at the festival.</td>\n",
       "    </tr>\n",
       "    <tr>\n",
       "      <th>1</th>\n",
       "      <td>3</td>\n",
       "      <td>Asante sana watu wa Sirari jimbo la Tarime vijijini Huu ni Upendo usio na Mashaka kwa Mbunge wenu John Heche na Chadem</td>\n",
       "      <td>1</td>\n",
       "      <td>2</td>\n",
       "      <td>Asante sana watu wa Sirari jimbo la Tarime vijijini Huu ni Upendo usio na Mashaka kwa Mbunge wenu John Heche na Chadem</td>\n",
       "      <td>Thank you very much Sirari state of Tarime This is an unquestionable love for your member John Heche and Chadem</td>\n",
       "      <td>Thank you very much Sirari state of Tarime This is an unquestionable love for your member John Heche and Chadem</td>\n",
       "    </tr>\n",
       "  </tbody>\n",
       "</table>\n",
       "</div>"
      ],
      "text/plain": [
       "   ID                                                                                                                     Tweets  Labels  labels                                                                                                                       text                                                                                                               m2mEn                                                                                                            enTweets\n",
       "0   2          So chuga si tunakutana kesho kwenye Nyamachoma festival nanenanemnajifanyaga mnakula mtungi mje kesho niwakalishe       0       1          So chuga si tunakutana kesho kwenye Nyamachoma festival nanenanemnajifanyaga mnakula mtungi mje kesho niwakalishe                        Tomorrow we’ll meet at the festival, we’ll meet at the festival, we’ll meet at the festival.                        Tomorrow we’ll meet at the festival, we’ll meet at the festival, we’ll meet at the festival.\n",
       "1   3     Asante sana watu wa Sirari jimbo la Tarime vijijini Huu ni Upendo usio na Mashaka kwa Mbunge wenu John Heche na Chadem       1       2     Asante sana watu wa Sirari jimbo la Tarime vijijini Huu ni Upendo usio na Mashaka kwa Mbunge wenu John Heche na Chadem     Thank you very much Sirari state of Tarime This is an unquestionable love for your member John Heche and Chadem     Thank you very much Sirari state of Tarime This is an unquestionable love for your member John Heche and Chadem"
      ]
     },
     "execution_count": 23,
     "metadata": {},
     "output_type": "execute_result"
    }
   ],
   "source": [
    "train.head(2)"
   ]
  },
  {
   "cell_type": "code",
   "execution_count": 24,
   "id": "7d083c63",
   "metadata": {
    "execution": {
     "iopub.execute_input": "2022-02-21T14:35:36.522492Z",
     "iopub.status.busy": "2022-02-21T14:35:36.520638Z",
     "iopub.status.idle": "2022-02-21T14:35:36.524954Z",
     "shell.execute_reply": "2022-02-21T14:35:36.524537Z",
     "shell.execute_reply.started": "2022-02-20T19:44:50.714121Z"
    },
    "papermill": {
     "duration": 0.083322,
     "end_time": "2022-02-21T14:35:36.525065",
     "exception": false,
     "start_time": "2022-02-21T14:35:36.441743",
     "status": "completed"
    },
    "tags": []
   },
   "outputs": [],
   "source": [
    "# make text column the translated \n",
    "#train.text = train.swc_en.values\n",
    "#test.text = test.swc_en.values\n",
    "\n",
    "#train.head(2)"
   ]
  },
  {
   "cell_type": "code",
   "execution_count": 25,
   "id": "65e6faec",
   "metadata": {
    "execution": {
     "iopub.execute_input": "2022-02-21T14:35:36.706284Z",
     "iopub.status.busy": "2022-02-21T14:35:36.693435Z",
     "iopub.status.idle": "2022-02-21T14:35:36.747858Z",
     "shell.execute_reply": "2022-02-21T14:35:36.747105Z",
     "shell.execute_reply.started": "2022-02-20T19:44:50.722708Z"
    },
    "papermill": {
     "duration": 0.146287,
     "end_time": "2022-02-21T14:35:36.747973",
     "exception": false,
     "start_time": "2022-02-21T14:35:36.601686",
     "status": "completed"
    },
    "tags": []
   },
   "outputs": [],
   "source": [
    "import string, re\n",
    "\n",
    "train['char_count'] = train.Tweets.apply(len)\n",
    "train['word_count'] = train.Tweets.apply(lambda x: len(x.split()))\n",
    "train['word_density'] = train.char_count / (train.word_count +1)\n",
    "train['punctuation_count'] = train.Tweets.apply(lambda x: len(\"\".join(_ for _ in x if _ in string.punctuation))) \n",
    "train['title_word_count'] = train.Tweets.apply(lambda x: len([wrd for wrd in x.split() if wrd.istitle()]))\n",
    "train['upper_case_word_count'] = train.Tweets.apply(lambda x: len([wrd for wrd in x.split() if wrd.isupper()]))\n",
    "\n",
    "\n",
    "test['char_count'] = test.Tweets.apply(len)\n",
    "test['word_count'] = test.Tweets.apply(lambda x: len(x.split()))\n",
    "test['word_density'] = test.char_count / (test.word_count +1)\n",
    "test['punctuation_count'] = test.Tweets.apply(lambda x: len(\"\".join(_ for _ in x if _ in string.punctuation))) \n",
    "test['title_word_count'] = test.Tweets.apply(lambda x: len([wrd for wrd in x.split() if wrd.istitle()]))\n",
    "test['upper_case_word_count'] = test.Tweets.apply(lambda x: len([wrd for wrd in x.split() if wrd.isupper()]))\n",
    "\n",
    "nlp_features = ['char_count','word_count','word_density',\n",
    "                'punctuation_count','title_word_count','upper_case_word_count']"
   ]
  },
  {
   "cell_type": "markdown",
   "id": "79dbc15b",
   "metadata": {
    "papermill": {
     "duration": 0.080238,
     "end_time": "2022-02-21T14:35:36.912290",
     "exception": false,
     "start_time": "2022-02-21T14:35:36.832052",
     "status": "completed"
    },
    "tags": []
   },
   "source": [
    "#### Catboost modelling"
   ]
  },
  {
   "cell_type": "code",
   "execution_count": 26,
   "id": "8a00c830",
   "metadata": {
    "execution": {
     "iopub.execute_input": "2022-02-21T14:35:37.075852Z",
     "iopub.status.busy": "2022-02-21T14:35:37.075085Z",
     "iopub.status.idle": "2022-02-21T14:35:45.431275Z",
     "shell.execute_reply": "2022-02-21T14:35:45.430806Z",
     "shell.execute_reply.started": "2022-02-20T19:44:50.797273Z"
    },
    "papermill": {
     "duration": 8.440087,
     "end_time": "2022-02-21T14:35:45.431417",
     "exception": false,
     "start_time": "2022-02-21T14:35:36.991330",
     "status": "completed"
    },
    "tags": []
   },
   "outputs": [
    {
     "name": "stdout",
     "output_type": "stream",
     "text": [
      "\u001b[33mWARNING: Running pip as the 'root' user can result in broken permissions and conflicting behaviour with the system package manager. It is recommended to use a virtual environment instead: https://pip.pypa.io/warnings/venv\u001b[0m\r\n"
     ]
    }
   ],
   "source": [
    "!pip install -q --upgrade catboost \n",
    "import catboost as cb"
   ]
  },
  {
   "cell_type": "code",
   "execution_count": 27,
   "id": "6e2aa9c3",
   "metadata": {
    "execution": {
     "iopub.execute_input": "2022-02-21T14:35:45.590388Z",
     "iopub.status.busy": "2022-02-21T14:35:45.589872Z",
     "iopub.status.idle": "2022-02-21T14:35:45.592989Z",
     "shell.execute_reply": "2022-02-21T14:35:45.593353Z",
     "shell.execute_reply.started": "2022-02-20T19:45:01.309843Z"
    },
    "papermill": {
     "duration": 0.085923,
     "end_time": "2022-02-21T14:35:45.593484",
     "exception": false,
     "start_time": "2022-02-21T14:35:45.507561",
     "status": "completed"
    },
    "tags": []
   },
   "outputs": [
    {
     "data": {
      "text/plain": [
       "['word_count',\n",
       " 'word_density',\n",
       " 'punctuation_count',\n",
       " 'title_word_count',\n",
       " 'upper_case_word_count',\n",
       " 'enTweets']"
      ]
     },
     "execution_count": 27,
     "metadata": {},
     "output_type": "execute_result"
    }
   ],
   "source": [
    "numericals = ['word_count','word_density','punctuation_count','title_word_count','upper_case_word_count'] \n",
    "texticals = ['enTweets']\n",
    "categoricals = []\n",
    "\n",
    "use_features = numericals + texticals + categoricals\n",
    "use_features"
   ]
  },
  {
   "cell_type": "code",
   "execution_count": 28,
   "id": "3c85ff32",
   "metadata": {
    "execution": {
     "iopub.execute_input": "2022-02-21T14:35:45.756490Z",
     "iopub.status.busy": "2022-02-21T14:35:45.755968Z",
     "iopub.status.idle": "2022-02-21T14:43:07.614094Z",
     "shell.execute_reply": "2022-02-21T14:43:07.614670Z",
     "shell.execute_reply.started": "2022-02-20T19:45:01.322986Z"
    },
    "papermill": {
     "duration": 441.945091,
     "end_time": "2022-02-21T14:43:07.614849",
     "exception": false,
     "start_time": "2022-02-21T14:35:45.669758",
     "status": "completed"
    },
    "tags": []
   },
   "outputs": [
    {
     "name": "stdout",
     "output_type": "stream",
     "text": [
      "0:\tlearn: 0.5933702\ttest: 0.5783664\tbest: 0.5783664 (0)\ttotal: 549ms\tremaining: 13m 42s\n",
      "50:\tlearn: 0.6596685\ttest: 0.6114790\tbest: 0.6181015 (47)\ttotal: 26.4s\tremaining: 12m 29s\n",
      "100:\tlearn: 0.7193370\ttest: 0.6158940\tbest: 0.6225166 (56)\ttotal: 52.3s\tremaining: 12m 3s\n",
      "150:\tlearn: 0.7624309\ttest: 0.6291391\tbest: 0.6357616 (141)\ttotal: 1m 18s\tremaining: 11m 37s\n",
      "200:\tlearn: 0.7861878\ttest: 0.6203091\tbest: 0.6357616 (141)\ttotal: 1m 43s\tremaining: 11m 9s\n",
      "Stopped by overfitting detector  (100 iterations wait)\n",
      "\n",
      "bestTest = 0.6357615894\n",
      "bestIteration = 141\n",
      "\n",
      "Shrink model to first 142 iterations.\n",
      "Fold 0 Accuracy: 0.6357615894039735 \n",
      "\n",
      "0:\tlearn: 0.5955801\ttest: 0.5916115\tbest: 0.5916115 (0)\ttotal: 459ms\tremaining: 11m 27s\n",
      "50:\tlearn: 0.6513812\ttest: 0.6026490\tbest: 0.6070640 (49)\ttotal: 25s\tremaining: 11m 51s\n",
      "100:\tlearn: 0.7160221\ttest: 0.6070640\tbest: 0.6070640 (49)\ttotal: 49.3s\tremaining: 11m 22s\n",
      "150:\tlearn: 0.7480663\ttest: 0.6092715\tbest: 0.6181015 (110)\ttotal: 1m 14s\tremaining: 11m 2s\n",
      "200:\tlearn: 0.7845304\ttest: 0.6026490\tbest: 0.6181015 (110)\ttotal: 1m 39s\tremaining: 10m 41s\n",
      "Stopped by overfitting detector  (100 iterations wait)\n",
      "\n",
      "bestTest = 0.6181015453\n",
      "bestIteration = 110\n",
      "\n",
      "Shrink model to first 111 iterations.\n",
      "Fold 1 Accuracy: 0.6181015452538632 \n",
      "\n",
      "0:\tlearn: 0.5944751\ttest: 0.5783664\tbest: 0.5783664 (0)\ttotal: 463ms\tremaining: 11m 33s\n",
      "50:\tlearn: 0.6607735\ttest: 0.5982340\tbest: 0.6070640 (19)\ttotal: 26s\tremaining: 12m 18s\n",
      "100:\tlearn: 0.7066298\ttest: 0.5960265\tbest: 0.6070640 (19)\ttotal: 51.3s\tremaining: 11m 50s\n",
      "Stopped by overfitting detector  (100 iterations wait)\n",
      "\n",
      "bestTest = 0.6070640177\n",
      "bestIteration = 19\n",
      "\n",
      "Shrink model to first 20 iterations.\n",
      "Fold 2 Accuracy: 0.6070640176600441 \n",
      "\n",
      "0:\tlearn: 0.6018774\ttest: 0.5973451\tbest: 0.5973451 (0)\ttotal: 493ms\tremaining: 12m 19s\n",
      "50:\tlearn: 0.6637217\ttest: 0.6061947\tbest: 0.6128319 (27)\ttotal: 26.2s\tremaining: 12m 25s\n",
      "100:\tlearn: 0.7217007\ttest: 0.6106195\tbest: 0.6150442 (54)\ttotal: 51.8s\tremaining: 11m 57s\n",
      "150:\tlearn: 0.7603534\ttest: 0.5929204\tbest: 0.6150442 (54)\ttotal: 1m 17s\tremaining: 11m 29s\n",
      "Stopped by overfitting detector  (100 iterations wait)\n",
      "\n",
      "bestTest = 0.6150442478\n",
      "bestIteration = 54\n",
      "\n",
      "Shrink model to first 55 iterations.\n",
      "Fold 3 Accuracy: 0.6150442477876106 \n",
      "\n",
      "0:\tlearn: 0.5924903\ttest: 0.5929204\tbest: 0.5929204 (0)\ttotal: 464ms\tremaining: 11m 34s\n",
      "50:\tlearn: 0.6526781\ttest: 0.5929204\tbest: 0.6061947 (41)\ttotal: 26.2s\tremaining: 12m 24s\n",
      "100:\tlearn: 0.7145224\ttest: 0.5951327\tbest: 0.6061947 (41)\ttotal: 51.6s\tremaining: 11m 54s\n",
      "Stopped by overfitting detector  (100 iterations wait)\n",
      "\n",
      "bestTest = 0.6061946903\n",
      "bestIteration = 41\n",
      "\n",
      "Shrink model to first 42 iterations.\n",
      "Fold 4 Accuracy: 0.6061946902654868 \n",
      "\n"
     ]
    }
   ],
   "source": [
    "# so lets kick of this notebook by using caboost directly and exploit text features cap\n",
    "n_folds = 5\n",
    "stkfold = model_selection.StratifiedKFold(n_splits= n_folds, shuffle=True,random_state=seed)\n",
    "\n",
    "splits = list(stkfold.split(train, train.Labels))\n",
    "\n",
    "parameters = {\n",
    "        'iterations': 1500, # 5000 worked a charm\n",
    "        #'leaf_estimation_iterations': 5, \n",
    "        'learning_rate': 0.3,\n",
    "        'eval_metric':'Accuracy',\n",
    "        #'auto_class_weights':'Balanced'\n",
    "        }\n",
    "\n",
    "\n",
    "model = cb.CatBoostClassifier(task_type= 'CPU',loss_function='MultiClass',\n",
    "                              text_features=texticals,random_seed=seed,\n",
    "                              early_stopping_rounds=100,**parameters)\n",
    "\n",
    "for i,(train_index,test_index) in enumerate(splits):\n",
    "    x_train,x_test = train.loc[train_index,use_features],train.loc[test_index,use_features]\n",
    "    y_train,y_test = train.loc[train_index,'Labels'],train.loc[test_index,'Labels']\n",
    "    # fit model\n",
    "    model.fit(x_train, y_train,use_best_model=True,\n",
    "              eval_set=(x_test,y_test),verbose= 50)\n",
    "        \n",
    "    x_test_preds_prob = model.predict_proba(x_test)\n",
    "    x_test_preds = model.predict(x_test)\n",
    "    \n",
    "    # Measure our metric\n",
    "    score = metrics.accuracy_score(y_true=y_test, y_pred=x_test_preds)\n",
    "    print(f\"Fold {i} Accuracy: {score} \\n\")\n",
    "    \n",
    "    mark_classes = [f't1 {x}' for x in model.classes_]\n",
    "    classes = model.classes_\n",
    "    # record OOF predictions\n",
    "    train.loc[test_index,mark_classes] = x_test_preds_prob\n",
    "    \n",
    "    # Collect the fold predictions for later averaging\n",
    "    probcols = [f'{each} {i}' for each in classes]\n",
    "    \n",
    "    predictions = model.predict_proba(test[use_features])\n",
    "    test.loc[:,probcols] = predictions"
   ]
  },
  {
   "cell_type": "code",
   "execution_count": 29,
   "id": "dd308893",
   "metadata": {
    "execution": {
     "iopub.execute_input": "2022-02-21T14:43:07.797837Z",
     "iopub.status.busy": "2022-02-21T14:43:07.790390Z",
     "iopub.status.idle": "2022-02-21T14:43:07.801245Z",
     "shell.execute_reply": "2022-02-21T14:43:07.801682Z",
     "shell.execute_reply.started": "2022-02-20T19:52:25.41582Z"
    },
    "papermill": {
     "duration": 0.102369,
     "end_time": "2022-02-21T14:43:07.801824",
     "exception": false,
     "start_time": "2022-02-21T14:43:07.699455",
     "status": "completed"
    },
    "tags": []
   },
   "outputs": [
    {
     "name": "stdout",
     "output_type": "stream",
     "text": [
      "Accuracy score: 0.6164383561643836\n"
     ]
    }
   ],
   "source": [
    "train['prediction'] = train[mark_classes].idxmax(axis='columns').str.replace('t1 ','').astype(int)\n",
    "final_score = metrics.accuracy_score(y_true=train.Labels,y_pred=train['prediction'])\n",
    "print(f'Accuracy score: {final_score}')"
   ]
  },
  {
   "cell_type": "code",
   "execution_count": 30,
   "id": "41165097",
   "metadata": {
    "execution": {
     "iopub.execute_input": "2022-02-21T14:43:07.985926Z",
     "iopub.status.busy": "2022-02-21T14:43:07.985108Z",
     "iopub.status.idle": "2022-02-21T14:43:08.005977Z",
     "shell.execute_reply": "2022-02-21T14:43:08.006385Z",
     "shell.execute_reply.started": "2022-02-20T19:52:25.435102Z"
    },
    "papermill": {
     "duration": 0.111743,
     "end_time": "2022-02-21T14:43:08.006536",
     "exception": false,
     "start_time": "2022-02-21T14:43:07.894793",
     "status": "completed"
    },
    "tags": []
   },
   "outputs": [
    {
     "data": {
      "text/html": [
       "<div>\n",
       "<style scoped>\n",
       "    .dataframe tbody tr th:only-of-type {\n",
       "        vertical-align: middle;\n",
       "    }\n",
       "\n",
       "    .dataframe tbody tr th {\n",
       "        vertical-align: top;\n",
       "    }\n",
       "\n",
       "    .dataframe thead th {\n",
       "        text-align: right;\n",
       "    }\n",
       "</style>\n",
       "<table border=\"1\" class=\"dataframe\">\n",
       "  <thead>\n",
       "    <tr style=\"text-align: right;\">\n",
       "      <th></th>\n",
       "      <th>ID</th>\n",
       "      <th>Labels</th>\n",
       "    </tr>\n",
       "  </thead>\n",
       "  <tbody>\n",
       "    <tr>\n",
       "      <th>0</th>\n",
       "      <td>4</td>\n",
       "      <td>0</td>\n",
       "    </tr>\n",
       "    <tr>\n",
       "      <th>1</th>\n",
       "      <td>7</td>\n",
       "      <td>1</td>\n",
       "    </tr>\n",
       "    <tr>\n",
       "      <th>2</th>\n",
       "      <td>9</td>\n",
       "      <td>1</td>\n",
       "    </tr>\n",
       "    <tr>\n",
       "      <th>3</th>\n",
       "      <td>10</td>\n",
       "      <td>1</td>\n",
       "    </tr>\n",
       "    <tr>\n",
       "      <th>4</th>\n",
       "      <td>15</td>\n",
       "      <td>0</td>\n",
       "    </tr>\n",
       "  </tbody>\n",
       "</table>\n",
       "</div>"
      ],
      "text/plain": [
       "   ID  Labels\n",
       "0   4       0\n",
       "1   7       1\n",
       "2   9       1\n",
       "3  10       1\n",
       "4  15       0"
      ]
     },
     "execution_count": 30,
     "metadata": {},
     "output_type": "execute_result"
    }
   ],
   "source": [
    "for each in classes:\n",
    "    foldcols = [f'{each} {x}' for x in range(n_folds)]\n",
    "    test[f't1 {each}'] = test[foldcols].mean(axis='columns') # mean probability\n",
    "\n",
    "test['Labels'] = test[mark_classes].idxmax(axis='columns').str.replace('t1 ','').astype(int)\n",
    "\n",
    "submission = pd.DataFrame({'ID':test.ID,'Labels':test.Labels})\n",
    "submission.to_csv('finalSubmission.csv',index=False)\n",
    "submission.head()"
   ]
  },
  {
   "cell_type": "code",
   "execution_count": null,
   "id": "a472296e",
   "metadata": {
    "papermill": {
     "duration": 0.084182,
     "end_time": "2022-02-21T14:43:08.174798",
     "exception": false,
     "start_time": "2022-02-21T14:43:08.090616",
     "status": "completed"
    },
    "tags": []
   },
   "outputs": [],
   "source": []
  }
 ],
 "metadata": {
  "kernelspec": {
   "display_name": "Python 3",
   "language": "python",
   "name": "python3"
  },
  "language_info": {
   "codemirror_mode": {
    "name": "ipython",
    "version": 3
   },
   "file_extension": ".py",
   "mimetype": "text/x-python",
   "name": "python",
   "nbconvert_exporter": "python",
   "pygments_lexer": "ipython3",
   "version": "3.7.12"
  },
  "papermill": {
   "default_parameters": {},
   "duration": 1722.432323,
   "end_time": "2022-02-21T14:43:11.230947",
   "environment_variables": {},
   "exception": null,
   "input_path": "__notebook__.ipynb",
   "output_path": "__notebook__.ipynb",
   "parameters": {},
   "start_time": "2022-02-21T14:14:28.798624",
   "version": "2.3.3"
  },
  "widgets": {
   "application/vnd.jupyter.widget-state+json": {
    "state": {
     "000dd174be5e4c4b9d6f44cb62013bfc": {
      "model_module": "@jupyter-widgets/base",
      "model_module_version": "1.2.0",
      "model_name": "LayoutModel",
      "state": {
       "_model_module": "@jupyter-widgets/base",
       "_model_module_version": "1.2.0",
       "_model_name": "LayoutModel",
       "_view_count": null,
       "_view_module": "@jupyter-widgets/base",
       "_view_module_version": "1.2.0",
       "_view_name": "LayoutView",
       "align_content": null,
       "align_items": null,
       "align_self": null,
       "border": null,
       "bottom": null,
       "display": null,
       "flex": null,
       "flex_flow": null,
       "grid_area": null,
       "grid_auto_columns": null,
       "grid_auto_flow": null,
       "grid_auto_rows": null,
       "grid_column": null,
       "grid_gap": null,
       "grid_row": null,
       "grid_template_areas": null,
       "grid_template_columns": null,
       "grid_template_rows": null,
       "height": null,
       "justify_content": null,
       "justify_items": null,
       "left": null,
       "margin": null,
       "max_height": null,
       "max_width": null,
       "min_height": null,
       "min_width": null,
       "object_fit": null,
       "object_position": null,
       "order": null,
       "overflow": null,
       "overflow_x": null,
       "overflow_y": null,
       "padding": null,
       "right": null,
       "top": null,
       "visibility": null,
       "width": null
      }
     },
     "0026485864904340953b067cc7392955": {
      "model_module": "@jupyter-widgets/controls",
      "model_module_version": "1.5.0",
      "model_name": "ProgressStyleModel",
      "state": {
       "_model_module": "@jupyter-widgets/controls",
       "_model_module_version": "1.5.0",
       "_model_name": "ProgressStyleModel",
       "_view_count": null,
       "_view_module": "@jupyter-widgets/base",
       "_view_module_version": "1.2.0",
       "_view_name": "StyleView",
       "bar_color": null,
       "description_width": ""
      }
     },
     "03e1822c0a7c4805bf4138c0112178f2": {
      "model_module": "@jupyter-widgets/controls",
      "model_module_version": "1.5.0",
      "model_name": "ProgressStyleModel",
      "state": {
       "_model_module": "@jupyter-widgets/controls",
       "_model_module_version": "1.5.0",
       "_model_name": "ProgressStyleModel",
       "_view_count": null,
       "_view_module": "@jupyter-widgets/base",
       "_view_module_version": "1.2.0",
       "_view_name": "StyleView",
       "bar_color": null,
       "description_width": ""
      }
     },
     "082a8ba270c74ac8ace921e7fdcc1dd9": {
      "model_module": "@jupyter-widgets/controls",
      "model_module_version": "1.5.0",
      "model_name": "HBoxModel",
      "state": {
       "_dom_classes": [],
       "_model_module": "@jupyter-widgets/controls",
       "_model_module_version": "1.5.0",
       "_model_name": "HBoxModel",
       "_view_count": null,
       "_view_module": "@jupyter-widgets/controls",
       "_view_module_version": "1.5.0",
       "_view_name": "HBoxView",
       "box_style": "",
       "children": [
        "IPY_MODEL_70ed47f1bf8b472c862124691c0ab53b",
        "IPY_MODEL_22fec474c40c4db1a833bb5785e19235",
        "IPY_MODEL_5cc4b690d3b44de1a13c920294aeaeeb"
       ],
       "layout": "IPY_MODEL_3a39b0d9abd44c84abc3fc79b445b7fa"
      }
     },
     "095aa494dff24b7fab386013125fcfae": {
      "model_module": "@jupyter-widgets/controls",
      "model_module_version": "1.5.0",
      "model_name": "DescriptionStyleModel",
      "state": {
       "_model_module": "@jupyter-widgets/controls",
       "_model_module_version": "1.5.0",
       "_model_name": "DescriptionStyleModel",
       "_view_count": null,
       "_view_module": "@jupyter-widgets/base",
       "_view_module_version": "1.2.0",
       "_view_name": "StyleView",
       "description_width": ""
      }
     },
     "09f426279d49424e80c0e939a578155a": {
      "model_module": "@jupyter-widgets/controls",
      "model_module_version": "1.5.0",
      "model_name": "HTMLModel",
      "state": {
       "_dom_classes": [],
       "_model_module": "@jupyter-widgets/controls",
       "_model_module_version": "1.5.0",
       "_model_name": "HTMLModel",
       "_view_count": null,
       "_view_module": "@jupyter-widgets/controls",
       "_view_module_version": "1.5.0",
       "_view_name": "HTMLView",
       "description": "",
       "description_tooltip": null,
       "layout": "IPY_MODEL_8bd597ea5e1e47eaa0f6918cc6315ded",
       "placeholder": "​",
       "style": "IPY_MODEL_095aa494dff24b7fab386013125fcfae",
       "value": " 271/271 [00:00&lt;00:00, 10.9kB/s]"
      }
     },
     "0b256cf942e14b76ad7f2539eb31186f": {
      "model_module": "@jupyter-widgets/base",
      "model_module_version": "1.2.0",
      "model_name": "LayoutModel",
      "state": {
       "_model_module": "@jupyter-widgets/base",
       "_model_module_version": "1.2.0",
       "_model_name": "LayoutModel",
       "_view_count": null,
       "_view_module": "@jupyter-widgets/base",
       "_view_module_version": "1.2.0",
       "_view_name": "LayoutView",
       "align_content": null,
       "align_items": null,
       "align_self": null,
       "border": null,
       "bottom": null,
       "display": null,
       "flex": null,
       "flex_flow": null,
       "grid_area": null,
       "grid_auto_columns": null,
       "grid_auto_flow": null,
       "grid_auto_rows": null,
       "grid_column": null,
       "grid_gap": null,
       "grid_row": null,
       "grid_template_areas": null,
       "grid_template_columns": null,
       "grid_template_rows": null,
       "height": null,
       "justify_content": null,
       "justify_items": null,
       "left": null,
       "margin": null,
       "max_height": null,
       "max_width": null,
       "min_height": null,
       "min_width": null,
       "object_fit": null,
       "object_position": null,
       "order": null,
       "overflow": null,
       "overflow_x": null,
       "overflow_y": null,
       "padding": null,
       "right": null,
       "top": null,
       "visibility": null,
       "width": null
      }
     },
     "0dda1e0164714808a0724d683d271995": {
      "model_module": "@jupyter-widgets/controls",
      "model_module_version": "1.5.0",
      "model_name": "HTMLModel",
      "state": {
       "_dom_classes": [],
       "_model_module": "@jupyter-widgets/controls",
       "_model_module_version": "1.5.0",
       "_model_name": "HTMLModel",
       "_view_count": null,
       "_view_module": "@jupyter-widgets/controls",
       "_view_module_version": "1.5.0",
       "_view_name": "HTMLView",
       "description": "",
       "description_tooltip": null,
       "layout": "IPY_MODEL_3cbb324f28344c0f9b8e4d46d9389d82",
       "placeholder": "​",
       "style": "IPY_MODEL_dc3064c17c174c7a9f0e152ed1fe4818",
       "value": " 3.54M/3.54M [00:00&lt;00:00, 6.15MB/s]"
      }
     },
     "1062ac47e3634614837d91c97d846b67": {
      "model_module": "@jupyter-widgets/base",
      "model_module_version": "1.2.0",
      "model_name": "LayoutModel",
      "state": {
       "_model_module": "@jupyter-widgets/base",
       "_model_module_version": "1.2.0",
       "_model_name": "LayoutModel",
       "_view_count": null,
       "_view_module": "@jupyter-widgets/base",
       "_view_module_version": "1.2.0",
       "_view_name": "LayoutView",
       "align_content": null,
       "align_items": null,
       "align_self": null,
       "border": null,
       "bottom": null,
       "display": null,
       "flex": null,
       "flex_flow": null,
       "grid_area": null,
       "grid_auto_columns": null,
       "grid_auto_flow": null,
       "grid_auto_rows": null,
       "grid_column": null,
       "grid_gap": null,
       "grid_row": null,
       "grid_template_areas": null,
       "grid_template_columns": null,
       "grid_template_rows": null,
       "height": null,
       "justify_content": null,
       "justify_items": null,
       "left": null,
       "margin": null,
       "max_height": null,
       "max_width": null,
       "min_height": null,
       "min_width": null,
       "object_fit": null,
       "object_position": null,
       "order": null,
       "overflow": null,
       "overflow_x": null,
       "overflow_y": null,
       "padding": null,
       "right": null,
       "top": null,
       "visibility": null,
       "width": null
      }
     },
     "1878d791e35b452ba523a21aa73c5b1c": {
      "model_module": "@jupyter-widgets/controls",
      "model_module_version": "1.5.0",
      "model_name": "DescriptionStyleModel",
      "state": {
       "_model_module": "@jupyter-widgets/controls",
       "_model_module_version": "1.5.0",
       "_model_name": "DescriptionStyleModel",
       "_view_count": null,
       "_view_module": "@jupyter-widgets/base",
       "_view_module_version": "1.2.0",
       "_view_name": "StyleView",
       "description_width": ""
      }
     },
     "1b3237f64d1b4933aff133c5b20ac8e1": {
      "model_module": "@jupyter-widgets/base",
      "model_module_version": "1.2.0",
      "model_name": "LayoutModel",
      "state": {
       "_model_module": "@jupyter-widgets/base",
       "_model_module_version": "1.2.0",
       "_model_name": "LayoutModel",
       "_view_count": null,
       "_view_module": "@jupyter-widgets/base",
       "_view_module_version": "1.2.0",
       "_view_name": "LayoutView",
       "align_content": null,
       "align_items": null,
       "align_self": null,
       "border": null,
       "bottom": null,
       "display": null,
       "flex": null,
       "flex_flow": null,
       "grid_area": null,
       "grid_auto_columns": null,
       "grid_auto_flow": null,
       "grid_auto_rows": null,
       "grid_column": null,
       "grid_gap": null,
       "grid_row": null,
       "grid_template_areas": null,
       "grid_template_columns": null,
       "grid_template_rows": null,
       "height": null,
       "justify_content": null,
       "justify_items": null,
       "left": null,
       "margin": null,
       "max_height": null,
       "max_width": null,
       "min_height": null,
       "min_width": null,
       "object_fit": null,
       "object_position": null,
       "order": null,
       "overflow": null,
       "overflow_x": null,
       "overflow_y": null,
       "padding": null,
       "right": null,
       "top": null,
       "visibility": null,
       "width": null
      }
     },
     "1eb85df9b2254dee9ecc370a6ce93f40": {
      "model_module": "@jupyter-widgets/base",
      "model_module_version": "1.2.0",
      "model_name": "LayoutModel",
      "state": {
       "_model_module": "@jupyter-widgets/base",
       "_model_module_version": "1.2.0",
       "_model_name": "LayoutModel",
       "_view_count": null,
       "_view_module": "@jupyter-widgets/base",
       "_view_module_version": "1.2.0",
       "_view_name": "LayoutView",
       "align_content": null,
       "align_items": null,
       "align_self": null,
       "border": null,
       "bottom": null,
       "display": null,
       "flex": null,
       "flex_flow": null,
       "grid_area": null,
       "grid_auto_columns": null,
       "grid_auto_flow": null,
       "grid_auto_rows": null,
       "grid_column": null,
       "grid_gap": null,
       "grid_row": null,
       "grid_template_areas": null,
       "grid_template_columns": null,
       "grid_template_rows": null,
       "height": null,
       "justify_content": null,
       "justify_items": null,
       "left": null,
       "margin": null,
       "max_height": null,
       "max_width": null,
       "min_height": null,
       "min_width": null,
       "object_fit": null,
       "object_position": null,
       "order": null,
       "overflow": null,
       "overflow_x": null,
       "overflow_y": null,
       "padding": null,
       "right": null,
       "top": null,
       "visibility": null,
       "width": null
      }
     },
     "1f246143740f489d8b1ffcc9d394c8b3": {
      "model_module": "@jupyter-widgets/controls",
      "model_module_version": "1.5.0",
      "model_name": "HTMLModel",
      "state": {
       "_dom_classes": [],
       "_model_module": "@jupyter-widgets/controls",
       "_model_module_version": "1.5.0",
       "_model_name": "HTMLModel",
       "_view_count": null,
       "_view_module": "@jupyter-widgets/controls",
       "_view_module_version": "1.5.0",
       "_view_name": "HTMLView",
       "description": "",
       "description_tooltip": null,
       "layout": "IPY_MODEL_1b3237f64d1b4933aff133c5b20ac8e1",
       "placeholder": "​",
       "style": "IPY_MODEL_5a21813bedb940f3bee281521e50ce3b",
       "value": " 1.11k/1.11k [00:00&lt;00:00, 44.1kB/s]"
      }
     },
     "1fa75d2d55ae4be9827e37adeeb07220": {
      "model_module": "@jupyter-widgets/controls",
      "model_module_version": "1.5.0",
      "model_name": "HTMLModel",
      "state": {
       "_dom_classes": [],
       "_model_module": "@jupyter-widgets/controls",
       "_model_module_version": "1.5.0",
       "_model_name": "HTMLModel",
       "_view_count": null,
       "_view_module": "@jupyter-widgets/controls",
       "_view_module_version": "1.5.0",
       "_view_name": "HTMLView",
       "description": "",
       "description_tooltip": null,
       "layout": "IPY_MODEL_952faf5ec4ea48c6b433c95755a5dab1",
       "placeholder": "​",
       "style": "IPY_MODEL_5e5bda2cc3304482b63deec384eb473d",
       "value": " 94/94 [04:26&lt;00:00,  1.50s/it]"
      }
     },
     "22fec474c40c4db1a833bb5785e19235": {
      "model_module": "@jupyter-widgets/controls",
      "model_module_version": "1.5.0",
      "model_name": "FloatProgressModel",
      "state": {
       "_dom_classes": [],
       "_model_module": "@jupyter-widgets/controls",
       "_model_module_version": "1.5.0",
       "_model_name": "FloatProgressModel",
       "_view_count": null,
       "_view_module": "@jupyter-widgets/controls",
       "_view_module_version": "1.5.0",
       "_view_name": "ProgressView",
       "bar_style": "success",
       "description": "",
       "description_tooltip": null,
       "layout": "IPY_MODEL_7fc9abe01ad849209df618f3809d3fdc",
       "max": 909.0,
       "min": 0.0,
       "orientation": "horizontal",
       "style": "IPY_MODEL_5efc1167b6e742ce82b0bcb1e0fd01b5",
       "value": 909.0
      }
     },
     "24c1fd257252488895b1332d344964ab": {
      "model_module": "@jupyter-widgets/controls",
      "model_module_version": "1.5.0",
      "model_name": "ProgressStyleModel",
      "state": {
       "_model_module": "@jupyter-widgets/controls",
       "_model_module_version": "1.5.0",
       "_model_name": "ProgressStyleModel",
       "_view_count": null,
       "_view_module": "@jupyter-widgets/base",
       "_view_module_version": "1.2.0",
       "_view_name": "StyleView",
       "bar_color": null,
       "description_width": ""
      }
     },
     "2a52495ca46a419eb3c982cd94fb226e": {
      "model_module": "@jupyter-widgets/controls",
      "model_module_version": "1.5.0",
      "model_name": "HTMLModel",
      "state": {
       "_dom_classes": [],
       "_model_module": "@jupyter-widgets/controls",
       "_model_module_version": "1.5.0",
       "_model_name": "HTMLModel",
       "_view_count": null,
       "_view_module": "@jupyter-widgets/controls",
       "_view_module_version": "1.5.0",
       "_view_name": "HTMLView",
       "description": "",
       "description_tooltip": null,
       "layout": "IPY_MODEL_8d4dc8c9d1c64122bfa56c6dbf17c4f6",
       "placeholder": "​",
       "style": "IPY_MODEL_336818e373774787a1135030e6b701b5",
       "value": " 282/282 [12:32&lt;00:00,  1.18s/it]"
      }
     },
     "2d7f6cc247674505a6195b5b156f66d8": {
      "model_module": "@jupyter-widgets/controls",
      "model_module_version": "1.5.0",
      "model_name": "DescriptionStyleModel",
      "state": {
       "_model_module": "@jupyter-widgets/controls",
       "_model_module_version": "1.5.0",
       "_model_name": "DescriptionStyleModel",
       "_view_count": null,
       "_view_module": "@jupyter-widgets/base",
       "_view_module_version": "1.2.0",
       "_view_name": "StyleView",
       "description_width": ""
      }
     },
     "30bde94435724fa7bf8ed09dab5c4a5e": {
      "model_module": "@jupyter-widgets/controls",
      "model_module_version": "1.5.0",
      "model_name": "ProgressStyleModel",
      "state": {
       "_model_module": "@jupyter-widgets/controls",
       "_model_module_version": "1.5.0",
       "_model_name": "ProgressStyleModel",
       "_view_count": null,
       "_view_module": "@jupyter-widgets/base",
       "_view_module_version": "1.2.0",
       "_view_name": "StyleView",
       "bar_color": null,
       "description_width": ""
      }
     },
     "336818e373774787a1135030e6b701b5": {
      "model_module": "@jupyter-widgets/controls",
      "model_module_version": "1.5.0",
      "model_name": "DescriptionStyleModel",
      "state": {
       "_model_module": "@jupyter-widgets/controls",
       "_model_module_version": "1.5.0",
       "_model_name": "DescriptionStyleModel",
       "_view_count": null,
       "_view_module": "@jupyter-widgets/base",
       "_view_module_version": "1.2.0",
       "_view_name": "StyleView",
       "description_width": ""
      }
     },
     "36d147cc77804b49b42f95ae1182a080": {
      "model_module": "@jupyter-widgets/base",
      "model_module_version": "1.2.0",
      "model_name": "LayoutModel",
      "state": {
       "_model_module": "@jupyter-widgets/base",
       "_model_module_version": "1.2.0",
       "_model_name": "LayoutModel",
       "_view_count": null,
       "_view_module": "@jupyter-widgets/base",
       "_view_module_version": "1.2.0",
       "_view_name": "LayoutView",
       "align_content": null,
       "align_items": null,
       "align_self": null,
       "border": null,
       "bottom": null,
       "display": null,
       "flex": null,
       "flex_flow": null,
       "grid_area": null,
       "grid_auto_columns": null,
       "grid_auto_flow": null,
       "grid_auto_rows": null,
       "grid_column": null,
       "grid_gap": null,
       "grid_row": null,
       "grid_template_areas": null,
       "grid_template_columns": null,
       "grid_template_rows": null,
       "height": null,
       "justify_content": null,
       "justify_items": null,
       "left": null,
       "margin": null,
       "max_height": null,
       "max_width": null,
       "min_height": null,
       "min_width": null,
       "object_fit": null,
       "object_position": null,
       "order": null,
       "overflow": null,
       "overflow_x": null,
       "overflow_y": null,
       "padding": null,
       "right": null,
       "top": null,
       "visibility": null,
       "width": null
      }
     },
     "37bb0798b0fb4001a5b27cd55b5de05b": {
      "model_module": "@jupyter-widgets/controls",
      "model_module_version": "1.5.0",
      "model_name": "HBoxModel",
      "state": {
       "_dom_classes": [],
       "_model_module": "@jupyter-widgets/controls",
       "_model_module_version": "1.5.0",
       "_model_name": "HBoxModel",
       "_view_count": null,
       "_view_module": "@jupyter-widgets/controls",
       "_view_module_version": "1.5.0",
       "_view_name": "HBoxView",
       "box_style": "",
       "children": [
        "IPY_MODEL_a2a179e9845b4e148c63f8dc3abf0844",
        "IPY_MODEL_fbdd8694e2a9494999a26e81e2c88e52",
        "IPY_MODEL_f08d61744b8641f5be24e7fcc9365998"
       ],
       "layout": "IPY_MODEL_934cb42d84ce4d029ed2b13656b543b5"
      }
     },
     "3a39b0d9abd44c84abc3fc79b445b7fa": {
      "model_module": "@jupyter-widgets/base",
      "model_module_version": "1.2.0",
      "model_name": "LayoutModel",
      "state": {
       "_model_module": "@jupyter-widgets/base",
       "_model_module_version": "1.2.0",
       "_model_name": "LayoutModel",
       "_view_count": null,
       "_view_module": "@jupyter-widgets/base",
       "_view_module_version": "1.2.0",
       "_view_name": "LayoutView",
       "align_content": null,
       "align_items": null,
       "align_self": null,
       "border": null,
       "bottom": null,
       "display": null,
       "flex": null,
       "flex_flow": null,
       "grid_area": null,
       "grid_auto_columns": null,
       "grid_auto_flow": null,
       "grid_auto_rows": null,
       "grid_column": null,
       "grid_gap": null,
       "grid_row": null,
       "grid_template_areas": null,
       "grid_template_columns": null,
       "grid_template_rows": null,
       "height": null,
       "justify_content": null,
       "justify_items": null,
       "left": null,
       "margin": null,
       "max_height": null,
       "max_width": null,
       "min_height": null,
       "min_width": null,
       "object_fit": null,
       "object_position": null,
       "order": null,
       "overflow": null,
       "overflow_x": null,
       "overflow_y": null,
       "padding": null,
       "right": null,
       "top": null,
       "visibility": null,
       "width": null
      }
     },
     "3cbb324f28344c0f9b8e4d46d9389d82": {
      "model_module": "@jupyter-widgets/base",
      "model_module_version": "1.2.0",
      "model_name": "LayoutModel",
      "state": {
       "_model_module": "@jupyter-widgets/base",
       "_model_module_version": "1.2.0",
       "_model_name": "LayoutModel",
       "_view_count": null,
       "_view_module": "@jupyter-widgets/base",
       "_view_module_version": "1.2.0",
       "_view_name": "LayoutView",
       "align_content": null,
       "align_items": null,
       "align_self": null,
       "border": null,
       "bottom": null,
       "display": null,
       "flex": null,
       "flex_flow": null,
       "grid_area": null,
       "grid_auto_columns": null,
       "grid_auto_flow": null,
       "grid_auto_rows": null,
       "grid_column": null,
       "grid_gap": null,
       "grid_row": null,
       "grid_template_areas": null,
       "grid_template_columns": null,
       "grid_template_rows": null,
       "height": null,
       "justify_content": null,
       "justify_items": null,
       "left": null,
       "margin": null,
       "max_height": null,
       "max_width": null,
       "min_height": null,
       "min_width": null,
       "object_fit": null,
       "object_position": null,
       "order": null,
       "overflow": null,
       "overflow_x": null,
       "overflow_y": null,
       "padding": null,
       "right": null,
       "top": null,
       "visibility": null,
       "width": null
      }
     },
     "42232e8e0b08418a9e2bd06180409b6f": {
      "model_module": "@jupyter-widgets/controls",
      "model_module_version": "1.5.0",
      "model_name": "HBoxModel",
      "state": {
       "_dom_classes": [],
       "_model_module": "@jupyter-widgets/controls",
       "_model_module_version": "1.5.0",
       "_model_name": "HBoxModel",
       "_view_count": null,
       "_view_module": "@jupyter-widgets/controls",
       "_view_module_version": "1.5.0",
       "_view_name": "HBoxView",
       "box_style": "",
       "children": [
        "IPY_MODEL_fda52b61b20c476b94fc3263c51d4e45",
        "IPY_MODEL_e4e7ca5217e84fdea30ba10e47af4ec6",
        "IPY_MODEL_1fa75d2d55ae4be9827e37adeeb07220"
       ],
       "layout": "IPY_MODEL_fd98ac4a5c2a40daae65f85b8764ecad"
      }
     },
     "4339372e902a4585b58fbe4270d31520": {
      "model_module": "@jupyter-widgets/controls",
      "model_module_version": "1.5.0",
      "model_name": "DescriptionStyleModel",
      "state": {
       "_model_module": "@jupyter-widgets/controls",
       "_model_module_version": "1.5.0",
       "_model_name": "DescriptionStyleModel",
       "_view_count": null,
       "_view_module": "@jupyter-widgets/base",
       "_view_module_version": "1.2.0",
       "_view_name": "StyleView",
       "description_width": ""
      }
     },
     "49e8d8da355a40cdb37b7b74f8c3606e": {
      "model_module": "@jupyter-widgets/base",
      "model_module_version": "1.2.0",
      "model_name": "LayoutModel",
      "state": {
       "_model_module": "@jupyter-widgets/base",
       "_model_module_version": "1.2.0",
       "_model_name": "LayoutModel",
       "_view_count": null,
       "_view_module": "@jupyter-widgets/base",
       "_view_module_version": "1.2.0",
       "_view_name": "LayoutView",
       "align_content": null,
       "align_items": null,
       "align_self": null,
       "border": null,
       "bottom": null,
       "display": null,
       "flex": null,
       "flex_flow": null,
       "grid_area": null,
       "grid_auto_columns": null,
       "grid_auto_flow": null,
       "grid_auto_rows": null,
       "grid_column": null,
       "grid_gap": null,
       "grid_row": null,
       "grid_template_areas": null,
       "grid_template_columns": null,
       "grid_template_rows": null,
       "height": null,
       "justify_content": null,
       "justify_items": null,
       "left": null,
       "margin": null,
       "max_height": null,
       "max_width": null,
       "min_height": null,
       "min_width": null,
       "object_fit": null,
       "object_position": null,
       "order": null,
       "overflow": null,
       "overflow_x": null,
       "overflow_y": null,
       "padding": null,
       "right": null,
       "top": null,
       "visibility": null,
       "width": null
      }
     },
     "4d7e76ef985240049a80df88610bb42d": {
      "model_module": "@jupyter-widgets/base",
      "model_module_version": "1.2.0",
      "model_name": "LayoutModel",
      "state": {
       "_model_module": "@jupyter-widgets/base",
       "_model_module_version": "1.2.0",
       "_model_name": "LayoutModel",
       "_view_count": null,
       "_view_module": "@jupyter-widgets/base",
       "_view_module_version": "1.2.0",
       "_view_name": "LayoutView",
       "align_content": null,
       "align_items": null,
       "align_self": null,
       "border": null,
       "bottom": null,
       "display": null,
       "flex": null,
       "flex_flow": null,
       "grid_area": null,
       "grid_auto_columns": null,
       "grid_auto_flow": null,
       "grid_auto_rows": null,
       "grid_column": null,
       "grid_gap": null,
       "grid_row": null,
       "grid_template_areas": null,
       "grid_template_columns": null,
       "grid_template_rows": null,
       "height": null,
       "justify_content": null,
       "justify_items": null,
       "left": null,
       "margin": null,
       "max_height": null,
       "max_width": null,
       "min_height": null,
       "min_width": null,
       "object_fit": null,
       "object_position": null,
       "order": null,
       "overflow": null,
       "overflow_x": null,
       "overflow_y": null,
       "padding": null,
       "right": null,
       "top": null,
       "visibility": null,
       "width": null
      }
     },
     "588668c33e44407abd5a00c71ae628fe": {
      "model_module": "@jupyter-widgets/controls",
      "model_module_version": "1.5.0",
      "model_name": "FloatProgressModel",
      "state": {
       "_dom_classes": [],
       "_model_module": "@jupyter-widgets/controls",
       "_model_module_version": "1.5.0",
       "_model_name": "FloatProgressModel",
       "_view_count": null,
       "_view_module": "@jupyter-widgets/controls",
       "_view_module_version": "1.5.0",
       "_view_name": "ProgressView",
       "bar_style": "success",
       "description": "",
       "description_tooltip": null,
       "layout": "IPY_MODEL_90325c03d9344abe89924415a9a03ce5",
       "max": 3708092.0,
       "min": 0.0,
       "orientation": "horizontal",
       "style": "IPY_MODEL_83dc5feda2a8491faffb0281aac8771c",
       "value": 3708092.0
      }
     },
     "5a21813bedb940f3bee281521e50ce3b": {
      "model_module": "@jupyter-widgets/controls",
      "model_module_version": "1.5.0",
      "model_name": "DescriptionStyleModel",
      "state": {
       "_model_module": "@jupyter-widgets/controls",
       "_model_module_version": "1.5.0",
       "_model_name": "DescriptionStyleModel",
       "_view_count": null,
       "_view_module": "@jupyter-widgets/base",
       "_view_module_version": "1.2.0",
       "_view_name": "StyleView",
       "description_width": ""
      }
     },
     "5cc4b690d3b44de1a13c920294aeaeeb": {
      "model_module": "@jupyter-widgets/controls",
      "model_module_version": "1.5.0",
      "model_name": "HTMLModel",
      "state": {
       "_dom_classes": [],
       "_model_module": "@jupyter-widgets/controls",
       "_model_module_version": "1.5.0",
       "_model_name": "HTMLModel",
       "_view_count": null,
       "_view_module": "@jupyter-widgets/controls",
       "_view_module_version": "1.5.0",
       "_view_name": "HTMLView",
       "description": "",
       "description_tooltip": null,
       "layout": "IPY_MODEL_a1b3e2bff41442bea57926e0f9ca89af",
       "placeholder": "​",
       "style": "IPY_MODEL_816e189a8e494108a583930bce6bdfa8",
       "value": " 909/909 [00:00&lt;00:00, 33.3kB/s]"
      }
     },
     "5e0b9716e8ed49a19cf89c8ce8fcc2d6": {
      "model_module": "@jupyter-widgets/base",
      "model_module_version": "1.2.0",
      "model_name": "LayoutModel",
      "state": {
       "_model_module": "@jupyter-widgets/base",
       "_model_module_version": "1.2.0",
       "_model_name": "LayoutModel",
       "_view_count": null,
       "_view_module": "@jupyter-widgets/base",
       "_view_module_version": "1.2.0",
       "_view_name": "LayoutView",
       "align_content": null,
       "align_items": null,
       "align_self": null,
       "border": null,
       "bottom": null,
       "display": null,
       "flex": null,
       "flex_flow": null,
       "grid_area": null,
       "grid_auto_columns": null,
       "grid_auto_flow": null,
       "grid_auto_rows": null,
       "grid_column": null,
       "grid_gap": null,
       "grid_row": null,
       "grid_template_areas": null,
       "grid_template_columns": null,
       "grid_template_rows": null,
       "height": null,
       "justify_content": null,
       "justify_items": null,
       "left": null,
       "margin": null,
       "max_height": null,
       "max_width": null,
       "min_height": null,
       "min_width": null,
       "object_fit": null,
       "object_position": null,
       "order": null,
       "overflow": null,
       "overflow_x": null,
       "overflow_y": null,
       "padding": null,
       "right": null,
       "top": null,
       "visibility": null,
       "width": null
      }
     },
     "5e5bda2cc3304482b63deec384eb473d": {
      "model_module": "@jupyter-widgets/controls",
      "model_module_version": "1.5.0",
      "model_name": "DescriptionStyleModel",
      "state": {
       "_model_module": "@jupyter-widgets/controls",
       "_model_module_version": "1.5.0",
       "_model_name": "DescriptionStyleModel",
       "_view_count": null,
       "_view_module": "@jupyter-widgets/base",
       "_view_module_version": "1.2.0",
       "_view_name": "StyleView",
       "description_width": ""
      }
     },
     "5efc1167b6e742ce82b0bcb1e0fd01b5": {
      "model_module": "@jupyter-widgets/controls",
      "model_module_version": "1.5.0",
      "model_name": "ProgressStyleModel",
      "state": {
       "_model_module": "@jupyter-widgets/controls",
       "_model_module_version": "1.5.0",
       "_model_name": "ProgressStyleModel",
       "_view_count": null,
       "_view_module": "@jupyter-widgets/base",
       "_view_module_version": "1.2.0",
       "_view_name": "StyleView",
       "bar_color": null,
       "description_width": ""
      }
     },
     "618dfef68d484be4a4c6c847f3ebb724": {
      "model_module": "@jupyter-widgets/controls",
      "model_module_version": "1.5.0",
      "model_name": "HTMLModel",
      "state": {
       "_dom_classes": [],
       "_model_module": "@jupyter-widgets/controls",
       "_model_module_version": "1.5.0",
       "_model_name": "HTMLModel",
       "_view_count": null,
       "_view_module": "@jupyter-widgets/controls",
       "_view_module_version": "1.5.0",
       "_view_name": "HTMLView",
       "description": "",
       "description_tooltip": null,
       "layout": "IPY_MODEL_000dd174be5e4c4b9d6f44cb62013bfc",
       "placeholder": "​",
       "style": "IPY_MODEL_6d1ebfd52473459d8acd640ef5fb88fa",
       "value": "Downloading: 100%"
      }
     },
     "65cf5587bc724b2f924e439dfad9dd0f": {
      "model_module": "@jupyter-widgets/base",
      "model_module_version": "1.2.0",
      "model_name": "LayoutModel",
      "state": {
       "_model_module": "@jupyter-widgets/base",
       "_model_module_version": "1.2.0",
       "_model_name": "LayoutModel",
       "_view_count": null,
       "_view_module": "@jupyter-widgets/base",
       "_view_module_version": "1.2.0",
       "_view_name": "LayoutView",
       "align_content": null,
       "align_items": null,
       "align_self": null,
       "border": null,
       "bottom": null,
       "display": null,
       "flex": null,
       "flex_flow": null,
       "grid_area": null,
       "grid_auto_columns": null,
       "grid_auto_flow": null,
       "grid_auto_rows": null,
       "grid_column": null,
       "grid_gap": null,
       "grid_row": null,
       "grid_template_areas": null,
       "grid_template_columns": null,
       "grid_template_rows": null,
       "height": null,
       "justify_content": null,
       "justify_items": null,
       "left": null,
       "margin": null,
       "max_height": null,
       "max_width": null,
       "min_height": null,
       "min_width": null,
       "object_fit": null,
       "object_position": null,
       "order": null,
       "overflow": null,
       "overflow_x": null,
       "overflow_y": null,
       "padding": null,
       "right": null,
       "top": null,
       "visibility": null,
       "width": null
      }
     },
     "69a1decaeb894faf91d6bf4f2ebdb59b": {
      "model_module": "@jupyter-widgets/base",
      "model_module_version": "1.2.0",
      "model_name": "LayoutModel",
      "state": {
       "_model_module": "@jupyter-widgets/base",
       "_model_module_version": "1.2.0",
       "_model_name": "LayoutModel",
       "_view_count": null,
       "_view_module": "@jupyter-widgets/base",
       "_view_module_version": "1.2.0",
       "_view_name": "LayoutView",
       "align_content": null,
       "align_items": null,
       "align_self": null,
       "border": null,
       "bottom": null,
       "display": null,
       "flex": null,
       "flex_flow": null,
       "grid_area": null,
       "grid_auto_columns": null,
       "grid_auto_flow": null,
       "grid_auto_rows": null,
       "grid_column": null,
       "grid_gap": null,
       "grid_row": null,
       "grid_template_areas": null,
       "grid_template_columns": null,
       "grid_template_rows": null,
       "height": null,
       "justify_content": null,
       "justify_items": null,
       "left": null,
       "margin": null,
       "max_height": null,
       "max_width": null,
       "min_height": null,
       "min_width": null,
       "object_fit": null,
       "object_position": null,
       "order": null,
       "overflow": null,
       "overflow_x": null,
       "overflow_y": null,
       "padding": null,
       "right": null,
       "top": null,
       "visibility": null,
       "width": null
      }
     },
     "6d1ebfd52473459d8acd640ef5fb88fa": {
      "model_module": "@jupyter-widgets/controls",
      "model_module_version": "1.5.0",
      "model_name": "DescriptionStyleModel",
      "state": {
       "_model_module": "@jupyter-widgets/controls",
       "_model_module_version": "1.5.0",
       "_model_name": "DescriptionStyleModel",
       "_view_count": null,
       "_view_module": "@jupyter-widgets/base",
       "_view_module_version": "1.2.0",
       "_view_name": "StyleView",
       "description_width": ""
      }
     },
     "6ea5052d13b24039ab1f825a55ff09be": {
      "model_module": "@jupyter-widgets/controls",
      "model_module_version": "1.5.0",
      "model_name": "FloatProgressModel",
      "state": {
       "_dom_classes": [],
       "_model_module": "@jupyter-widgets/controls",
       "_model_module_version": "1.5.0",
       "_model_name": "FloatProgressModel",
       "_view_count": null,
       "_view_module": "@jupyter-widgets/controls",
       "_view_module_version": "1.5.0",
       "_view_name": "ProgressView",
       "bar_style": "success",
       "description": "",
       "description_tooltip": null,
       "layout": "IPY_MODEL_4d7e76ef985240049a80df88610bb42d",
       "max": 2423393.0,
       "min": 0.0,
       "orientation": "horizontal",
       "style": "IPY_MODEL_75ccf78f1e0d47349277d5ef6c860c6f",
       "value": 2423393.0
      }
     },
     "6f4dae3714c54dcd8d923c3a48c364c4": {
      "model_module": "@jupyter-widgets/controls",
      "model_module_version": "1.5.0",
      "model_name": "HBoxModel",
      "state": {
       "_dom_classes": [],
       "_model_module": "@jupyter-widgets/controls",
       "_model_module_version": "1.5.0",
       "_model_name": "HBoxModel",
       "_view_count": null,
       "_view_module": "@jupyter-widgets/controls",
       "_view_module_version": "1.5.0",
       "_view_name": "HBoxView",
       "box_style": "",
       "children": [
        "IPY_MODEL_618dfef68d484be4a4c6c847f3ebb724",
        "IPY_MODEL_6ea5052d13b24039ab1f825a55ff09be",
        "IPY_MODEL_eb74ef8edc634681b2b019e9065478ed"
       ],
       "layout": "IPY_MODEL_69a1decaeb894faf91d6bf4f2ebdb59b"
      }
     },
     "70ed47f1bf8b472c862124691c0ab53b": {
      "model_module": "@jupyter-widgets/controls",
      "model_module_version": "1.5.0",
      "model_name": "HTMLModel",
      "state": {
       "_dom_classes": [],
       "_model_module": "@jupyter-widgets/controls",
       "_model_module_version": "1.5.0",
       "_model_name": "HTMLModel",
       "_view_count": null,
       "_view_module": "@jupyter-widgets/controls",
       "_view_module_version": "1.5.0",
       "_view_name": "HTMLView",
       "description": "",
       "description_tooltip": null,
       "layout": "IPY_MODEL_e572d5f3a4d849c29a433384dd9a833f",
       "placeholder": "​",
       "style": "IPY_MODEL_4339372e902a4585b58fbe4270d31520",
       "value": "Downloading: 100%"
      }
     },
     "73ee7fce96ed4f4b9a7c400e8d9e7b6c": {
      "model_module": "@jupyter-widgets/controls",
      "model_module_version": "1.5.0",
      "model_name": "HTMLModel",
      "state": {
       "_dom_classes": [],
       "_model_module": "@jupyter-widgets/controls",
       "_model_module_version": "1.5.0",
       "_model_name": "HTMLModel",
       "_view_count": null,
       "_view_module": "@jupyter-widgets/controls",
       "_view_module_version": "1.5.0",
       "_view_name": "HTMLView",
       "description": "",
       "description_tooltip": null,
       "layout": "IPY_MODEL_65cf5587bc724b2f924e439dfad9dd0f",
       "placeholder": "​",
       "style": "IPY_MODEL_f2c2b16962a34e0f9b6124c5be071a6f",
       "value": "Downloading: 100%"
      }
     },
     "75ccf78f1e0d47349277d5ef6c860c6f": {
      "model_module": "@jupyter-widgets/controls",
      "model_module_version": "1.5.0",
      "model_name": "ProgressStyleModel",
      "state": {
       "_model_module": "@jupyter-widgets/controls",
       "_model_module_version": "1.5.0",
       "_model_name": "ProgressStyleModel",
       "_view_count": null,
       "_view_module": "@jupyter-widgets/base",
       "_view_module_version": "1.2.0",
       "_view_name": "StyleView",
       "bar_color": null,
       "description_width": ""
      }
     },
     "7afa0842ddec403b8def1950f537e77a": {
      "model_module": "@jupyter-widgets/controls",
      "model_module_version": "1.5.0",
      "model_name": "HTMLModel",
      "state": {
       "_dom_classes": [],
       "_model_module": "@jupyter-widgets/controls",
       "_model_module_version": "1.5.0",
       "_model_name": "HTMLModel",
       "_view_count": null,
       "_view_module": "@jupyter-widgets/controls",
       "_view_module_version": "1.5.0",
       "_view_name": "HTMLView",
       "description": "",
       "description_tooltip": null,
       "layout": "IPY_MODEL_af532085f4164bbc8a7c2f9299df6d00",
       "placeholder": "​",
       "style": "IPY_MODEL_802241109443465394a6b51906ef6152",
       "value": "Downloading: 100%"
      }
     },
     "7fc9abe01ad849209df618f3809d3fdc": {
      "model_module": "@jupyter-widgets/base",
      "model_module_version": "1.2.0",
      "model_name": "LayoutModel",
      "state": {
       "_model_module": "@jupyter-widgets/base",
       "_model_module_version": "1.2.0",
       "_model_name": "LayoutModel",
       "_view_count": null,
       "_view_module": "@jupyter-widgets/base",
       "_view_module_version": "1.2.0",
       "_view_name": "LayoutView",
       "align_content": null,
       "align_items": null,
       "align_self": null,
       "border": null,
       "bottom": null,
       "display": null,
       "flex": null,
       "flex_flow": null,
       "grid_area": null,
       "grid_auto_columns": null,
       "grid_auto_flow": null,
       "grid_auto_rows": null,
       "grid_column": null,
       "grid_gap": null,
       "grid_row": null,
       "grid_template_areas": null,
       "grid_template_columns": null,
       "grid_template_rows": null,
       "height": null,
       "justify_content": null,
       "justify_items": null,
       "left": null,
       "margin": null,
       "max_height": null,
       "max_width": null,
       "min_height": null,
       "min_width": null,
       "object_fit": null,
       "object_position": null,
       "order": null,
       "overflow": null,
       "overflow_x": null,
       "overflow_y": null,
       "padding": null,
       "right": null,
       "top": null,
       "visibility": null,
       "width": null
      }
     },
     "802241109443465394a6b51906ef6152": {
      "model_module": "@jupyter-widgets/controls",
      "model_module_version": "1.5.0",
      "model_name": "DescriptionStyleModel",
      "state": {
       "_model_module": "@jupyter-widgets/controls",
       "_model_module_version": "1.5.0",
       "_model_name": "DescriptionStyleModel",
       "_view_count": null,
       "_view_module": "@jupyter-widgets/base",
       "_view_module_version": "1.2.0",
       "_view_name": "StyleView",
       "description_width": ""
      }
     },
     "816e189a8e494108a583930bce6bdfa8": {
      "model_module": "@jupyter-widgets/controls",
      "model_module_version": "1.5.0",
      "model_name": "DescriptionStyleModel",
      "state": {
       "_model_module": "@jupyter-widgets/controls",
       "_model_module_version": "1.5.0",
       "_model_name": "DescriptionStyleModel",
       "_view_count": null,
       "_view_module": "@jupyter-widgets/base",
       "_view_module_version": "1.2.0",
       "_view_name": "StyleView",
       "description_width": ""
      }
     },
     "83dc5feda2a8491faffb0281aac8771c": {
      "model_module": "@jupyter-widgets/controls",
      "model_module_version": "1.5.0",
      "model_name": "ProgressStyleModel",
      "state": {
       "_model_module": "@jupyter-widgets/controls",
       "_model_module_version": "1.5.0",
       "_model_name": "ProgressStyleModel",
       "_view_count": null,
       "_view_module": "@jupyter-widgets/base",
       "_view_module_version": "1.2.0",
       "_view_name": "StyleView",
       "bar_color": null,
       "description_width": ""
      }
     },
     "8798e46defe54486ac514d8f4de631bd": {
      "model_module": "@jupyter-widgets/controls",
      "model_module_version": "1.5.0",
      "model_name": "FloatProgressModel",
      "state": {
       "_dom_classes": [],
       "_model_module": "@jupyter-widgets/controls",
       "_model_module_version": "1.5.0",
       "_model_name": "FloatProgressModel",
       "_view_count": null,
       "_view_module": "@jupyter-widgets/controls",
       "_view_module_version": "1.5.0",
       "_view_name": "ProgressView",
       "bar_style": "success",
       "description": "",
       "description_tooltip": null,
       "layout": "IPY_MODEL_49e8d8da355a40cdb37b7b74f8c3606e",
       "max": 1140.0,
       "min": 0.0,
       "orientation": "horizontal",
       "style": "IPY_MODEL_bcf319ebe00b40a49f61d15307af6407",
       "value": 1140.0
      }
     },
     "88b91625f25a4140881c4ada354d5ca8": {
      "model_module": "@jupyter-widgets/base",
      "model_module_version": "1.2.0",
      "model_name": "LayoutModel",
      "state": {
       "_model_module": "@jupyter-widgets/base",
       "_model_module_version": "1.2.0",
       "_model_name": "LayoutModel",
       "_view_count": null,
       "_view_module": "@jupyter-widgets/base",
       "_view_module_version": "1.2.0",
       "_view_name": "LayoutView",
       "align_content": null,
       "align_items": null,
       "align_self": null,
       "border": null,
       "bottom": null,
       "display": null,
       "flex": null,
       "flex_flow": null,
       "grid_area": null,
       "grid_auto_columns": null,
       "grid_auto_flow": null,
       "grid_auto_rows": null,
       "grid_column": null,
       "grid_gap": null,
       "grid_row": null,
       "grid_template_areas": null,
       "grid_template_columns": null,
       "grid_template_rows": null,
       "height": null,
       "justify_content": null,
       "justify_items": null,
       "left": null,
       "margin": null,
       "max_height": null,
       "max_width": null,
       "min_height": null,
       "min_width": null,
       "object_fit": null,
       "object_position": null,
       "order": null,
       "overflow": null,
       "overflow_x": null,
       "overflow_y": null,
       "padding": null,
       "right": null,
       "top": null,
       "visibility": null,
       "width": null
      }
     },
     "8a32ad4e434741e5be3677ef5905123b": {
      "model_module": "@jupyter-widgets/controls",
      "model_module_version": "1.5.0",
      "model_name": "DescriptionStyleModel",
      "state": {
       "_model_module": "@jupyter-widgets/controls",
       "_model_module_version": "1.5.0",
       "_model_name": "DescriptionStyleModel",
       "_view_count": null,
       "_view_module": "@jupyter-widgets/base",
       "_view_module_version": "1.2.0",
       "_view_name": "StyleView",
       "description_width": ""
      }
     },
     "8bd597ea5e1e47eaa0f6918cc6315ded": {
      "model_module": "@jupyter-widgets/base",
      "model_module_version": "1.2.0",
      "model_name": "LayoutModel",
      "state": {
       "_model_module": "@jupyter-widgets/base",
       "_model_module_version": "1.2.0",
       "_model_name": "LayoutModel",
       "_view_count": null,
       "_view_module": "@jupyter-widgets/base",
       "_view_module_version": "1.2.0",
       "_view_name": "LayoutView",
       "align_content": null,
       "align_items": null,
       "align_self": null,
       "border": null,
       "bottom": null,
       "display": null,
       "flex": null,
       "flex_flow": null,
       "grid_area": null,
       "grid_auto_columns": null,
       "grid_auto_flow": null,
       "grid_auto_rows": null,
       "grid_column": null,
       "grid_gap": null,
       "grid_row": null,
       "grid_template_areas": null,
       "grid_template_columns": null,
       "grid_template_rows": null,
       "height": null,
       "justify_content": null,
       "justify_items": null,
       "left": null,
       "margin": null,
       "max_height": null,
       "max_width": null,
       "min_height": null,
       "min_width": null,
       "object_fit": null,
       "object_position": null,
       "order": null,
       "overflow": null,
       "overflow_x": null,
       "overflow_y": null,
       "padding": null,
       "right": null,
       "top": null,
       "visibility": null,
       "width": null
      }
     },
     "8d4dc8c9d1c64122bfa56c6dbf17c4f6": {
      "model_module": "@jupyter-widgets/base",
      "model_module_version": "1.2.0",
      "model_name": "LayoutModel",
      "state": {
       "_model_module": "@jupyter-widgets/base",
       "_model_module_version": "1.2.0",
       "_model_name": "LayoutModel",
       "_view_count": null,
       "_view_module": "@jupyter-widgets/base",
       "_view_module_version": "1.2.0",
       "_view_name": "LayoutView",
       "align_content": null,
       "align_items": null,
       "align_self": null,
       "border": null,
       "bottom": null,
       "display": null,
       "flex": null,
       "flex_flow": null,
       "grid_area": null,
       "grid_auto_columns": null,
       "grid_auto_flow": null,
       "grid_auto_rows": null,
       "grid_column": null,
       "grid_gap": null,
       "grid_row": null,
       "grid_template_areas": null,
       "grid_template_columns": null,
       "grid_template_rows": null,
       "height": null,
       "justify_content": null,
       "justify_items": null,
       "left": null,
       "margin": null,
       "max_height": null,
       "max_width": null,
       "min_height": null,
       "min_width": null,
       "object_fit": null,
       "object_position": null,
       "order": null,
       "overflow": null,
       "overflow_x": null,
       "overflow_y": null,
       "padding": null,
       "right": null,
       "top": null,
       "visibility": null,
       "width": null
      }
     },
     "90325c03d9344abe89924415a9a03ce5": {
      "model_module": "@jupyter-widgets/base",
      "model_module_version": "1.2.0",
      "model_name": "LayoutModel",
      "state": {
       "_model_module": "@jupyter-widgets/base",
       "_model_module_version": "1.2.0",
       "_model_name": "LayoutModel",
       "_view_count": null,
       "_view_module": "@jupyter-widgets/base",
       "_view_module_version": "1.2.0",
       "_view_name": "LayoutView",
       "align_content": null,
       "align_items": null,
       "align_self": null,
       "border": null,
       "bottom": null,
       "display": null,
       "flex": null,
       "flex_flow": null,
       "grid_area": null,
       "grid_auto_columns": null,
       "grid_auto_flow": null,
       "grid_auto_rows": null,
       "grid_column": null,
       "grid_gap": null,
       "grid_row": null,
       "grid_template_areas": null,
       "grid_template_columns": null,
       "grid_template_rows": null,
       "height": null,
       "justify_content": null,
       "justify_items": null,
       "left": null,
       "margin": null,
       "max_height": null,
       "max_width": null,
       "min_height": null,
       "min_width": null,
       "object_fit": null,
       "object_position": null,
       "order": null,
       "overflow": null,
       "overflow_x": null,
       "overflow_y": null,
       "padding": null,
       "right": null,
       "top": null,
       "visibility": null,
       "width": null
      }
     },
     "9205437447b44663a2b5df475b083c5a": {
      "model_module": "@jupyter-widgets/base",
      "model_module_version": "1.2.0",
      "model_name": "LayoutModel",
      "state": {
       "_model_module": "@jupyter-widgets/base",
       "_model_module_version": "1.2.0",
       "_model_name": "LayoutModel",
       "_view_count": null,
       "_view_module": "@jupyter-widgets/base",
       "_view_module_version": "1.2.0",
       "_view_name": "LayoutView",
       "align_content": null,
       "align_items": null,
       "align_self": null,
       "border": null,
       "bottom": null,
       "display": null,
       "flex": null,
       "flex_flow": null,
       "grid_area": null,
       "grid_auto_columns": null,
       "grid_auto_flow": null,
       "grid_auto_rows": null,
       "grid_column": null,
       "grid_gap": null,
       "grid_row": null,
       "grid_template_areas": null,
       "grid_template_columns": null,
       "grid_template_rows": null,
       "height": null,
       "justify_content": null,
       "justify_items": null,
       "left": null,
       "margin": null,
       "max_height": null,
       "max_width": null,
       "min_height": null,
       "min_width": null,
       "object_fit": null,
       "object_position": null,
       "order": null,
       "overflow": null,
       "overflow_x": null,
       "overflow_y": null,
       "padding": null,
       "right": null,
       "top": null,
       "visibility": null,
       "width": null
      }
     },
     "921caba892824a3dbf90bdc9ee759470": {
      "model_module": "@jupyter-widgets/base",
      "model_module_version": "1.2.0",
      "model_name": "LayoutModel",
      "state": {
       "_model_module": "@jupyter-widgets/base",
       "_model_module_version": "1.2.0",
       "_model_name": "LayoutModel",
       "_view_count": null,
       "_view_module": "@jupyter-widgets/base",
       "_view_module_version": "1.2.0",
       "_view_name": "LayoutView",
       "align_content": null,
       "align_items": null,
       "align_self": null,
       "border": null,
       "bottom": null,
       "display": null,
       "flex": null,
       "flex_flow": null,
       "grid_area": null,
       "grid_auto_columns": null,
       "grid_auto_flow": null,
       "grid_auto_rows": null,
       "grid_column": null,
       "grid_gap": null,
       "grid_row": null,
       "grid_template_areas": null,
       "grid_template_columns": null,
       "grid_template_rows": null,
       "height": null,
       "justify_content": null,
       "justify_items": null,
       "left": null,
       "margin": null,
       "max_height": null,
       "max_width": null,
       "min_height": null,
       "min_width": null,
       "object_fit": null,
       "object_position": null,
       "order": null,
       "overflow": null,
       "overflow_x": null,
       "overflow_y": null,
       "padding": null,
       "right": null,
       "top": null,
       "visibility": null,
       "width": null
      }
     },
     "934cb42d84ce4d029ed2b13656b543b5": {
      "model_module": "@jupyter-widgets/base",
      "model_module_version": "1.2.0",
      "model_name": "LayoutModel",
      "state": {
       "_model_module": "@jupyter-widgets/base",
       "_model_module_version": "1.2.0",
       "_model_name": "LayoutModel",
       "_view_count": null,
       "_view_module": "@jupyter-widgets/base",
       "_view_module_version": "1.2.0",
       "_view_name": "LayoutView",
       "align_content": null,
       "align_items": null,
       "align_self": null,
       "border": null,
       "bottom": null,
       "display": null,
       "flex": null,
       "flex_flow": null,
       "grid_area": null,
       "grid_auto_columns": null,
       "grid_auto_flow": null,
       "grid_auto_rows": null,
       "grid_column": null,
       "grid_gap": null,
       "grid_row": null,
       "grid_template_areas": null,
       "grid_template_columns": null,
       "grid_template_rows": null,
       "height": null,
       "justify_content": null,
       "justify_items": null,
       "left": null,
       "margin": null,
       "max_height": null,
       "max_width": null,
       "min_height": null,
       "min_width": null,
       "object_fit": null,
       "object_position": null,
       "order": null,
       "overflow": null,
       "overflow_x": null,
       "overflow_y": null,
       "padding": null,
       "right": null,
       "top": null,
       "visibility": null,
       "width": null
      }
     },
     "952faf5ec4ea48c6b433c95755a5dab1": {
      "model_module": "@jupyter-widgets/base",
      "model_module_version": "1.2.0",
      "model_name": "LayoutModel",
      "state": {
       "_model_module": "@jupyter-widgets/base",
       "_model_module_version": "1.2.0",
       "_model_name": "LayoutModel",
       "_view_count": null,
       "_view_module": "@jupyter-widgets/base",
       "_view_module_version": "1.2.0",
       "_view_name": "LayoutView",
       "align_content": null,
       "align_items": null,
       "align_self": null,
       "border": null,
       "bottom": null,
       "display": null,
       "flex": null,
       "flex_flow": null,
       "grid_area": null,
       "grid_auto_columns": null,
       "grid_auto_flow": null,
       "grid_auto_rows": null,
       "grid_column": null,
       "grid_gap": null,
       "grid_row": null,
       "grid_template_areas": null,
       "grid_template_columns": null,
       "grid_template_rows": null,
       "height": null,
       "justify_content": null,
       "justify_items": null,
       "left": null,
       "margin": null,
       "max_height": null,
       "max_width": null,
       "min_height": null,
       "min_width": null,
       "object_fit": null,
       "object_position": null,
       "order": null,
       "overflow": null,
       "overflow_x": null,
       "overflow_y": null,
       "padding": null,
       "right": null,
       "top": null,
       "visibility": null,
       "width": null
      }
     },
     "973dbdbc04ef40b7a0602569e5c7fabc": {
      "model_module": "@jupyter-widgets/controls",
      "model_module_version": "1.5.0",
      "model_name": "HTMLModel",
      "state": {
       "_dom_classes": [],
       "_model_module": "@jupyter-widgets/controls",
       "_model_module_version": "1.5.0",
       "_model_name": "HTMLModel",
       "_view_count": null,
       "_view_module": "@jupyter-widgets/controls",
       "_view_module_version": "1.5.0",
       "_view_name": "HTMLView",
       "description": "",
       "description_tooltip": null,
       "layout": "IPY_MODEL_eb271964cffe478b8c4cb1c4683d9567",
       "placeholder": "​",
       "style": "IPY_MODEL_9fec1d919f7f4cccb6cb9760218fbc86",
       "value": "Downloading: 100%"
      }
     },
     "9fec1d919f7f4cccb6cb9760218fbc86": {
      "model_module": "@jupyter-widgets/controls",
      "model_module_version": "1.5.0",
      "model_name": "DescriptionStyleModel",
      "state": {
       "_model_module": "@jupyter-widgets/controls",
       "_model_module_version": "1.5.0",
       "_model_name": "DescriptionStyleModel",
       "_view_count": null,
       "_view_module": "@jupyter-widgets/base",
       "_view_module_version": "1.2.0",
       "_view_name": "StyleView",
       "description_width": ""
      }
     },
     "a14aed06e4464e8ab2e79529d2e19ec9": {
      "model_module": "@jupyter-widgets/base",
      "model_module_version": "1.2.0",
      "model_name": "LayoutModel",
      "state": {
       "_model_module": "@jupyter-widgets/base",
       "_model_module_version": "1.2.0",
       "_model_name": "LayoutModel",
       "_view_count": null,
       "_view_module": "@jupyter-widgets/base",
       "_view_module_version": "1.2.0",
       "_view_name": "LayoutView",
       "align_content": null,
       "align_items": null,
       "align_self": null,
       "border": null,
       "bottom": null,
       "display": null,
       "flex": null,
       "flex_flow": null,
       "grid_area": null,
       "grid_auto_columns": null,
       "grid_auto_flow": null,
       "grid_auto_rows": null,
       "grid_column": null,
       "grid_gap": null,
       "grid_row": null,
       "grid_template_areas": null,
       "grid_template_columns": null,
       "grid_template_rows": null,
       "height": null,
       "justify_content": null,
       "justify_items": null,
       "left": null,
       "margin": null,
       "max_height": null,
       "max_width": null,
       "min_height": null,
       "min_width": null,
       "object_fit": null,
       "object_position": null,
       "order": null,
       "overflow": null,
       "overflow_x": null,
       "overflow_y": null,
       "padding": null,
       "right": null,
       "top": null,
       "visibility": null,
       "width": null
      }
     },
     "a1b3e2bff41442bea57926e0f9ca89af": {
      "model_module": "@jupyter-widgets/base",
      "model_module_version": "1.2.0",
      "model_name": "LayoutModel",
      "state": {
       "_model_module": "@jupyter-widgets/base",
       "_model_module_version": "1.2.0",
       "_model_name": "LayoutModel",
       "_view_count": null,
       "_view_module": "@jupyter-widgets/base",
       "_view_module_version": "1.2.0",
       "_view_name": "LayoutView",
       "align_content": null,
       "align_items": null,
       "align_self": null,
       "border": null,
       "bottom": null,
       "display": null,
       "flex": null,
       "flex_flow": null,
       "grid_area": null,
       "grid_auto_columns": null,
       "grid_auto_flow": null,
       "grid_auto_rows": null,
       "grid_column": null,
       "grid_gap": null,
       "grid_row": null,
       "grid_template_areas": null,
       "grid_template_columns": null,
       "grid_template_rows": null,
       "height": null,
       "justify_content": null,
       "justify_items": null,
       "left": null,
       "margin": null,
       "max_height": null,
       "max_width": null,
       "min_height": null,
       "min_width": null,
       "object_fit": null,
       "object_position": null,
       "order": null,
       "overflow": null,
       "overflow_x": null,
       "overflow_y": null,
       "padding": null,
       "right": null,
       "top": null,
       "visibility": null,
       "width": null
      }
     },
     "a2a179e9845b4e148c63f8dc3abf0844": {
      "model_module": "@jupyter-widgets/controls",
      "model_module_version": "1.5.0",
      "model_name": "HTMLModel",
      "state": {
       "_dom_classes": [],
       "_model_module": "@jupyter-widgets/controls",
       "_model_module_version": "1.5.0",
       "_model_name": "HTMLModel",
       "_view_count": null,
       "_view_module": "@jupyter-widgets/controls",
       "_view_module_version": "1.5.0",
       "_view_name": "HTMLView",
       "description": "",
       "description_tooltip": null,
       "layout": "IPY_MODEL_1062ac47e3634614837d91c97d846b67",
       "placeholder": "​",
       "style": "IPY_MODEL_8a32ad4e434741e5be3677ef5905123b",
       "value": "Downloading: 100%"
      }
     },
     "a579fdb82de5476682805dbb8f09e972": {
      "model_module": "@jupyter-widgets/controls",
      "model_module_version": "1.5.0",
      "model_name": "HBoxModel",
      "state": {
       "_dom_classes": [],
       "_model_module": "@jupyter-widgets/controls",
       "_model_module_version": "1.5.0",
       "_model_name": "HBoxModel",
       "_view_count": null,
       "_view_module": "@jupyter-widgets/controls",
       "_view_module_version": "1.5.0",
       "_view_name": "HBoxView",
       "box_style": "",
       "children": [
        "IPY_MODEL_dfce701884c9431ea50cc5338136c566",
        "IPY_MODEL_bd6b0220f097419785137c2a851ed9bc",
        "IPY_MODEL_2a52495ca46a419eb3c982cd94fb226e"
       ],
       "layout": "IPY_MODEL_5e0b9716e8ed49a19cf89c8ce8fcc2d6"
      }
     },
     "af532085f4164bbc8a7c2f9299df6d00": {
      "model_module": "@jupyter-widgets/base",
      "model_module_version": "1.2.0",
      "model_name": "LayoutModel",
      "state": {
       "_model_module": "@jupyter-widgets/base",
       "_model_module_version": "1.2.0",
       "_model_name": "LayoutModel",
       "_view_count": null,
       "_view_module": "@jupyter-widgets/base",
       "_view_module_version": "1.2.0",
       "_view_name": "LayoutView",
       "align_content": null,
       "align_items": null,
       "align_self": null,
       "border": null,
       "bottom": null,
       "display": null,
       "flex": null,
       "flex_flow": null,
       "grid_area": null,
       "grid_auto_columns": null,
       "grid_auto_flow": null,
       "grid_auto_rows": null,
       "grid_column": null,
       "grid_gap": null,
       "grid_row": null,
       "grid_template_areas": null,
       "grid_template_columns": null,
       "grid_template_rows": null,
       "height": null,
       "justify_content": null,
       "justify_items": null,
       "left": null,
       "margin": null,
       "max_height": null,
       "max_width": null,
       "min_height": null,
       "min_width": null,
       "object_fit": null,
       "object_position": null,
       "order": null,
       "overflow": null,
       "overflow_x": null,
       "overflow_y": null,
       "padding": null,
       "right": null,
       "top": null,
       "visibility": null,
       "width": null
      }
     },
     "b23fcff6be5e40ad9b7d8b705944c681": {
      "model_module": "@jupyter-widgets/controls",
      "model_module_version": "1.5.0",
      "model_name": "HBoxModel",
      "state": {
       "_dom_classes": [],
       "_model_module": "@jupyter-widgets/controls",
       "_model_module_version": "1.5.0",
       "_model_name": "HBoxModel",
       "_view_count": null,
       "_view_module": "@jupyter-widgets/controls",
       "_view_module_version": "1.5.0",
       "_view_name": "HBoxView",
       "box_style": "",
       "children": [
        "IPY_MODEL_7afa0842ddec403b8def1950f537e77a",
        "IPY_MODEL_cc1aa3bdf5ff418c861c0fdc5044f033",
        "IPY_MODEL_09f426279d49424e80c0e939a578155a"
       ],
       "layout": "IPY_MODEL_a14aed06e4464e8ab2e79529d2e19ec9"
      }
     },
     "b6d3f1dbb659441199533253ff5f517e": {
      "model_module": "@jupyter-widgets/base",
      "model_module_version": "1.2.0",
      "model_name": "LayoutModel",
      "state": {
       "_model_module": "@jupyter-widgets/base",
       "_model_module_version": "1.2.0",
       "_model_name": "LayoutModel",
       "_view_count": null,
       "_view_module": "@jupyter-widgets/base",
       "_view_module_version": "1.2.0",
       "_view_name": "LayoutView",
       "align_content": null,
       "align_items": null,
       "align_self": null,
       "border": null,
       "bottom": null,
       "display": null,
       "flex": null,
       "flex_flow": null,
       "grid_area": null,
       "grid_auto_columns": null,
       "grid_auto_flow": null,
       "grid_auto_rows": null,
       "grid_column": null,
       "grid_gap": null,
       "grid_row": null,
       "grid_template_areas": null,
       "grid_template_columns": null,
       "grid_template_rows": null,
       "height": null,
       "justify_content": null,
       "justify_items": null,
       "left": null,
       "margin": null,
       "max_height": null,
       "max_width": null,
       "min_height": null,
       "min_width": null,
       "object_fit": null,
       "object_position": null,
       "order": null,
       "overflow": null,
       "overflow_x": null,
       "overflow_y": null,
       "padding": null,
       "right": null,
       "top": null,
       "visibility": null,
       "width": null
      }
     },
     "bcf319ebe00b40a49f61d15307af6407": {
      "model_module": "@jupyter-widgets/controls",
      "model_module_version": "1.5.0",
      "model_name": "ProgressStyleModel",
      "state": {
       "_model_module": "@jupyter-widgets/controls",
       "_model_module_version": "1.5.0",
       "_model_name": "ProgressStyleModel",
       "_view_count": null,
       "_view_module": "@jupyter-widgets/base",
       "_view_module_version": "1.2.0",
       "_view_name": "StyleView",
       "bar_color": null,
       "description_width": ""
      }
     },
     "bd6b0220f097419785137c2a851ed9bc": {
      "model_module": "@jupyter-widgets/controls",
      "model_module_version": "1.5.0",
      "model_name": "FloatProgressModel",
      "state": {
       "_dom_classes": [],
       "_model_module": "@jupyter-widgets/controls",
       "_model_module_version": "1.5.0",
       "_model_name": "FloatProgressModel",
       "_view_count": null,
       "_view_module": "@jupyter-widgets/controls",
       "_view_module_version": "1.5.0",
       "_view_name": "ProgressView",
       "bar_style": "success",
       "description": "",
       "description_tooltip": null,
       "layout": "IPY_MODEL_9205437447b44663a2b5df475b083c5a",
       "max": 282.0,
       "min": 0.0,
       "orientation": "horizontal",
       "style": "IPY_MODEL_0026485864904340953b067cc7392955",
       "value": 282.0
      }
     },
     "c72ca916170045b0ae1ff0a8f174d716": {
      "model_module": "@jupyter-widgets/base",
      "model_module_version": "1.2.0",
      "model_name": "LayoutModel",
      "state": {
       "_model_module": "@jupyter-widgets/base",
       "_model_module_version": "1.2.0",
       "_model_name": "LayoutModel",
       "_view_count": null,
       "_view_module": "@jupyter-widgets/base",
       "_view_module_version": "1.2.0",
       "_view_name": "LayoutView",
       "align_content": null,
       "align_items": null,
       "align_self": null,
       "border": null,
       "bottom": null,
       "display": null,
       "flex": null,
       "flex_flow": null,
       "grid_area": null,
       "grid_auto_columns": null,
       "grid_auto_flow": null,
       "grid_auto_rows": null,
       "grid_column": null,
       "grid_gap": null,
       "grid_row": null,
       "grid_template_areas": null,
       "grid_template_columns": null,
       "grid_template_rows": null,
       "height": null,
       "justify_content": null,
       "justify_items": null,
       "left": null,
       "margin": null,
       "max_height": null,
       "max_width": null,
       "min_height": null,
       "min_width": null,
       "object_fit": null,
       "object_position": null,
       "order": null,
       "overflow": null,
       "overflow_x": null,
       "overflow_y": null,
       "padding": null,
       "right": null,
       "top": null,
       "visibility": null,
       "width": null
      }
     },
     "cc1aa3bdf5ff418c861c0fdc5044f033": {
      "model_module": "@jupyter-widgets/controls",
      "model_module_version": "1.5.0",
      "model_name": "FloatProgressModel",
      "state": {
       "_dom_classes": [],
       "_model_module": "@jupyter-widgets/controls",
       "_model_module_version": "1.5.0",
       "_model_name": "FloatProgressModel",
       "_view_count": null,
       "_view_module": "@jupyter-widgets/controls",
       "_view_module_version": "1.5.0",
       "_view_name": "ProgressView",
       "bar_style": "success",
       "description": "",
       "description_tooltip": null,
       "layout": "IPY_MODEL_36d147cc77804b49b42f95ae1182a080",
       "max": 271.0,
       "min": 0.0,
       "orientation": "horizontal",
       "style": "IPY_MODEL_24c1fd257252488895b1332d344964ab",
       "value": 271.0
      }
     },
     "d3eb4b6f111c46ba88a37a0b1d185749": {
      "model_module": "@jupyter-widgets/controls",
      "model_module_version": "1.5.0",
      "model_name": "HBoxModel",
      "state": {
       "_dom_classes": [],
       "_model_module": "@jupyter-widgets/controls",
       "_model_module_version": "1.5.0",
       "_model_name": "HBoxModel",
       "_view_count": null,
       "_view_module": "@jupyter-widgets/controls",
       "_view_module_version": "1.5.0",
       "_view_name": "HBoxView",
       "box_style": "",
       "children": [
        "IPY_MODEL_973dbdbc04ef40b7a0602569e5c7fabc",
        "IPY_MODEL_8798e46defe54486ac514d8f4de631bd",
        "IPY_MODEL_1f246143740f489d8b1ffcc9d394c8b3"
       ],
       "layout": "IPY_MODEL_b6d3f1dbb659441199533253ff5f517e"
      }
     },
     "d5c22e69e5f04b1d909b955c75ab8775": {
      "model_module": "@jupyter-widgets/controls",
      "model_module_version": "1.5.0",
      "model_name": "DescriptionStyleModel",
      "state": {
       "_model_module": "@jupyter-widgets/controls",
       "_model_module_version": "1.5.0",
       "_model_name": "DescriptionStyleModel",
       "_view_count": null,
       "_view_module": "@jupyter-widgets/base",
       "_view_module_version": "1.2.0",
       "_view_name": "StyleView",
       "description_width": ""
      }
     },
     "dc3064c17c174c7a9f0e152ed1fe4818": {
      "model_module": "@jupyter-widgets/controls",
      "model_module_version": "1.5.0",
      "model_name": "DescriptionStyleModel",
      "state": {
       "_model_module": "@jupyter-widgets/controls",
       "_model_module_version": "1.5.0",
       "_model_name": "DescriptionStyleModel",
       "_view_count": null,
       "_view_module": "@jupyter-widgets/base",
       "_view_module_version": "1.2.0",
       "_view_name": "StyleView",
       "description_width": ""
      }
     },
     "dfce701884c9431ea50cc5338136c566": {
      "model_module": "@jupyter-widgets/controls",
      "model_module_version": "1.5.0",
      "model_name": "HTMLModel",
      "state": {
       "_dom_classes": [],
       "_model_module": "@jupyter-widgets/controls",
       "_model_module_version": "1.5.0",
       "_model_name": "HTMLModel",
       "_view_count": null,
       "_view_module": "@jupyter-widgets/controls",
       "_view_module_version": "1.5.0",
       "_view_name": "HTMLView",
       "description": "",
       "description_tooltip": null,
       "layout": "IPY_MODEL_e1b589d323b54436931c7dee89fc91d1",
       "placeholder": "​",
       "style": "IPY_MODEL_e1d57cb96d3b433c81ae495ea09a7c81",
       "value": "100%"
      }
     },
     "e065412023a049d6985fcbd0114d9231": {
      "model_module": "@jupyter-widgets/base",
      "model_module_version": "1.2.0",
      "model_name": "LayoutModel",
      "state": {
       "_model_module": "@jupyter-widgets/base",
       "_model_module_version": "1.2.0",
       "_model_name": "LayoutModel",
       "_view_count": null,
       "_view_module": "@jupyter-widgets/base",
       "_view_module_version": "1.2.0",
       "_view_name": "LayoutView",
       "align_content": null,
       "align_items": null,
       "align_self": null,
       "border": null,
       "bottom": null,
       "display": null,
       "flex": null,
       "flex_flow": null,
       "grid_area": null,
       "grid_auto_columns": null,
       "grid_auto_flow": null,
       "grid_auto_rows": null,
       "grid_column": null,
       "grid_gap": null,
       "grid_row": null,
       "grid_template_areas": null,
       "grid_template_columns": null,
       "grid_template_rows": null,
       "height": null,
       "justify_content": null,
       "justify_items": null,
       "left": null,
       "margin": null,
       "max_height": null,
       "max_width": null,
       "min_height": null,
       "min_width": null,
       "object_fit": null,
       "object_position": null,
       "order": null,
       "overflow": null,
       "overflow_x": null,
       "overflow_y": null,
       "padding": null,
       "right": null,
       "top": null,
       "visibility": null,
       "width": null
      }
     },
     "e1b589d323b54436931c7dee89fc91d1": {
      "model_module": "@jupyter-widgets/base",
      "model_module_version": "1.2.0",
      "model_name": "LayoutModel",
      "state": {
       "_model_module": "@jupyter-widgets/base",
       "_model_module_version": "1.2.0",
       "_model_name": "LayoutModel",
       "_view_count": null,
       "_view_module": "@jupyter-widgets/base",
       "_view_module_version": "1.2.0",
       "_view_name": "LayoutView",
       "align_content": null,
       "align_items": null,
       "align_self": null,
       "border": null,
       "bottom": null,
       "display": null,
       "flex": null,
       "flex_flow": null,
       "grid_area": null,
       "grid_auto_columns": null,
       "grid_auto_flow": null,
       "grid_auto_rows": null,
       "grid_column": null,
       "grid_gap": null,
       "grid_row": null,
       "grid_template_areas": null,
       "grid_template_columns": null,
       "grid_template_rows": null,
       "height": null,
       "justify_content": null,
       "justify_items": null,
       "left": null,
       "margin": null,
       "max_height": null,
       "max_width": null,
       "min_height": null,
       "min_width": null,
       "object_fit": null,
       "object_position": null,
       "order": null,
       "overflow": null,
       "overflow_x": null,
       "overflow_y": null,
       "padding": null,
       "right": null,
       "top": null,
       "visibility": null,
       "width": null
      }
     },
     "e1d57cb96d3b433c81ae495ea09a7c81": {
      "model_module": "@jupyter-widgets/controls",
      "model_module_version": "1.5.0",
      "model_name": "DescriptionStyleModel",
      "state": {
       "_model_module": "@jupyter-widgets/controls",
       "_model_module_version": "1.5.0",
       "_model_name": "DescriptionStyleModel",
       "_view_count": null,
       "_view_module": "@jupyter-widgets/base",
       "_view_module_version": "1.2.0",
       "_view_name": "StyleView",
       "description_width": ""
      }
     },
     "e4e7ca5217e84fdea30ba10e47af4ec6": {
      "model_module": "@jupyter-widgets/controls",
      "model_module_version": "1.5.0",
      "model_name": "FloatProgressModel",
      "state": {
       "_dom_classes": [],
       "_model_module": "@jupyter-widgets/controls",
       "_model_module_version": "1.5.0",
       "_model_name": "FloatProgressModel",
       "_view_count": null,
       "_view_module": "@jupyter-widgets/controls",
       "_view_module_version": "1.5.0",
       "_view_name": "ProgressView",
       "bar_style": "success",
       "description": "",
       "description_tooltip": null,
       "layout": "IPY_MODEL_88b91625f25a4140881c4ada354d5ca8",
       "max": 94.0,
       "min": 0.0,
       "orientation": "horizontal",
       "style": "IPY_MODEL_03e1822c0a7c4805bf4138c0112178f2",
       "value": 94.0
      }
     },
     "e572d5f3a4d849c29a433384dd9a833f": {
      "model_module": "@jupyter-widgets/base",
      "model_module_version": "1.2.0",
      "model_name": "LayoutModel",
      "state": {
       "_model_module": "@jupyter-widgets/base",
       "_model_module_version": "1.2.0",
       "_model_name": "LayoutModel",
       "_view_count": null,
       "_view_module": "@jupyter-widgets/base",
       "_view_module_version": "1.2.0",
       "_view_name": "LayoutView",
       "align_content": null,
       "align_items": null,
       "align_self": null,
       "border": null,
       "bottom": null,
       "display": null,
       "flex": null,
       "flex_flow": null,
       "grid_area": null,
       "grid_auto_columns": null,
       "grid_auto_flow": null,
       "grid_auto_rows": null,
       "grid_column": null,
       "grid_gap": null,
       "grid_row": null,
       "grid_template_areas": null,
       "grid_template_columns": null,
       "grid_template_rows": null,
       "height": null,
       "justify_content": null,
       "justify_items": null,
       "left": null,
       "margin": null,
       "max_height": null,
       "max_width": null,
       "min_height": null,
       "min_width": null,
       "object_fit": null,
       "object_position": null,
       "order": null,
       "overflow": null,
       "overflow_x": null,
       "overflow_y": null,
       "padding": null,
       "right": null,
       "top": null,
       "visibility": null,
       "width": null
      }
     },
     "eb271964cffe478b8c4cb1c4683d9567": {
      "model_module": "@jupyter-widgets/base",
      "model_module_version": "1.2.0",
      "model_name": "LayoutModel",
      "state": {
       "_model_module": "@jupyter-widgets/base",
       "_model_module_version": "1.2.0",
       "_model_name": "LayoutModel",
       "_view_count": null,
       "_view_module": "@jupyter-widgets/base",
       "_view_module_version": "1.2.0",
       "_view_name": "LayoutView",
       "align_content": null,
       "align_items": null,
       "align_self": null,
       "border": null,
       "bottom": null,
       "display": null,
       "flex": null,
       "flex_flow": null,
       "grid_area": null,
       "grid_auto_columns": null,
       "grid_auto_flow": null,
       "grid_auto_rows": null,
       "grid_column": null,
       "grid_gap": null,
       "grid_row": null,
       "grid_template_areas": null,
       "grid_template_columns": null,
       "grid_template_rows": null,
       "height": null,
       "justify_content": null,
       "justify_items": null,
       "left": null,
       "margin": null,
       "max_height": null,
       "max_width": null,
       "min_height": null,
       "min_width": null,
       "object_fit": null,
       "object_position": null,
       "order": null,
       "overflow": null,
       "overflow_x": null,
       "overflow_y": null,
       "padding": null,
       "right": null,
       "top": null,
       "visibility": null,
       "width": null
      }
     },
     "eb74ef8edc634681b2b019e9065478ed": {
      "model_module": "@jupyter-widgets/controls",
      "model_module_version": "1.5.0",
      "model_name": "HTMLModel",
      "state": {
       "_dom_classes": [],
       "_model_module": "@jupyter-widgets/controls",
       "_model_module_version": "1.5.0",
       "_model_name": "HTMLModel",
       "_view_count": null,
       "_view_module": "@jupyter-widgets/controls",
       "_view_module_version": "1.5.0",
       "_view_name": "HTMLView",
       "description": "",
       "description_tooltip": null,
       "layout": "IPY_MODEL_0b256cf942e14b76ad7f2539eb31186f",
       "placeholder": "​",
       "style": "IPY_MODEL_1878d791e35b452ba523a21aa73c5b1c",
       "value": " 2.31M/2.31M [00:01&lt;00:00, 2.69MB/s]"
      }
     },
     "f08d61744b8641f5be24e7fcc9365998": {
      "model_module": "@jupyter-widgets/controls",
      "model_module_version": "1.5.0",
      "model_name": "HTMLModel",
      "state": {
       "_dom_classes": [],
       "_model_module": "@jupyter-widgets/controls",
       "_model_module_version": "1.5.0",
       "_model_name": "HTMLModel",
       "_view_count": null,
       "_view_module": "@jupyter-widgets/controls",
       "_view_module_version": "1.5.0",
       "_view_name": "HTMLView",
       "description": "",
       "description_tooltip": null,
       "layout": "IPY_MODEL_e065412023a049d6985fcbd0114d9231",
       "placeholder": "​",
       "style": "IPY_MODEL_2d7f6cc247674505a6195b5b156f66d8",
       "value": " 4.62G/4.62G [02:43&lt;00:00, 31.3MB/s]"
      }
     },
     "f2c2b16962a34e0f9b6124c5be071a6f": {
      "model_module": "@jupyter-widgets/controls",
      "model_module_version": "1.5.0",
      "model_name": "DescriptionStyleModel",
      "state": {
       "_model_module": "@jupyter-widgets/controls",
       "_model_module_version": "1.5.0",
       "_model_name": "DescriptionStyleModel",
       "_view_count": null,
       "_view_module": "@jupyter-widgets/base",
       "_view_module_version": "1.2.0",
       "_view_name": "StyleView",
       "description_width": ""
      }
     },
     "f61d46dd33ba4c7a95f512ac8230d3ea": {
      "model_module": "@jupyter-widgets/controls",
      "model_module_version": "1.5.0",
      "model_name": "HBoxModel",
      "state": {
       "_dom_classes": [],
       "_model_module": "@jupyter-widgets/controls",
       "_model_module_version": "1.5.0",
       "_model_name": "HBoxModel",
       "_view_count": null,
       "_view_module": "@jupyter-widgets/controls",
       "_view_module_version": "1.5.0",
       "_view_name": "HBoxView",
       "box_style": "",
       "children": [
        "IPY_MODEL_73ee7fce96ed4f4b9a7c400e8d9e7b6c",
        "IPY_MODEL_588668c33e44407abd5a00c71ae628fe",
        "IPY_MODEL_0dda1e0164714808a0724d683d271995"
       ],
       "layout": "IPY_MODEL_c72ca916170045b0ae1ff0a8f174d716"
      }
     },
     "fbdd8694e2a9494999a26e81e2c88e52": {
      "model_module": "@jupyter-widgets/controls",
      "model_module_version": "1.5.0",
      "model_name": "FloatProgressModel",
      "state": {
       "_dom_classes": [],
       "_model_module": "@jupyter-widgets/controls",
       "_model_module_version": "1.5.0",
       "_model_name": "FloatProgressModel",
       "_view_count": null,
       "_view_module": "@jupyter-widgets/controls",
       "_view_module_version": "1.5.0",
       "_view_name": "ProgressView",
       "bar_style": "success",
       "description": "",
       "description_tooltip": null,
       "layout": "IPY_MODEL_921caba892824a3dbf90bdc9ee759470",
       "max": 4958230644.0,
       "min": 0.0,
       "orientation": "horizontal",
       "style": "IPY_MODEL_30bde94435724fa7bf8ed09dab5c4a5e",
       "value": 4958230644.0
      }
     },
     "fd98ac4a5c2a40daae65f85b8764ecad": {
      "model_module": "@jupyter-widgets/base",
      "model_module_version": "1.2.0",
      "model_name": "LayoutModel",
      "state": {
       "_model_module": "@jupyter-widgets/base",
       "_model_module_version": "1.2.0",
       "_model_name": "LayoutModel",
       "_view_count": null,
       "_view_module": "@jupyter-widgets/base",
       "_view_module_version": "1.2.0",
       "_view_name": "LayoutView",
       "align_content": null,
       "align_items": null,
       "align_self": null,
       "border": null,
       "bottom": null,
       "display": null,
       "flex": null,
       "flex_flow": null,
       "grid_area": null,
       "grid_auto_columns": null,
       "grid_auto_flow": null,
       "grid_auto_rows": null,
       "grid_column": null,
       "grid_gap": null,
       "grid_row": null,
       "grid_template_areas": null,
       "grid_template_columns": null,
       "grid_template_rows": null,
       "height": null,
       "justify_content": null,
       "justify_items": null,
       "left": null,
       "margin": null,
       "max_height": null,
       "max_width": null,
       "min_height": null,
       "min_width": null,
       "object_fit": null,
       "object_position": null,
       "order": null,
       "overflow": null,
       "overflow_x": null,
       "overflow_y": null,
       "padding": null,
       "right": null,
       "top": null,
       "visibility": null,
       "width": null
      }
     },
     "fda52b61b20c476b94fc3263c51d4e45": {
      "model_module": "@jupyter-widgets/controls",
      "model_module_version": "1.5.0",
      "model_name": "HTMLModel",
      "state": {
       "_dom_classes": [],
       "_model_module": "@jupyter-widgets/controls",
       "_model_module_version": "1.5.0",
       "_model_name": "HTMLModel",
       "_view_count": null,
       "_view_module": "@jupyter-widgets/controls",
       "_view_module_version": "1.5.0",
       "_view_name": "HTMLView",
       "description": "",
       "description_tooltip": null,
       "layout": "IPY_MODEL_1eb85df9b2254dee9ecc370a6ce93f40",
       "placeholder": "​",
       "style": "IPY_MODEL_d5c22e69e5f04b1d909b955c75ab8775",
       "value": "100%"
      }
     }
    },
    "version_major": 2,
    "version_minor": 0
   }
  }
 },
 "nbformat": 4,
 "nbformat_minor": 5
}
