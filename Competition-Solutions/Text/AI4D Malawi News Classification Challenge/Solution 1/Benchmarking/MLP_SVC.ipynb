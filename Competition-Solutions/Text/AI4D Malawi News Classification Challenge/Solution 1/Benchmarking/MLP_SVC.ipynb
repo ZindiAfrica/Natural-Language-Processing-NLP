{
 "cells": [
  {
   "cell_type": "code",
   "execution_count": 1,
   "metadata": {
    "ExecuteTime": {
     "end_time": "2021-05-08T13:41:46.875284Z",
     "start_time": "2021-05-08T13:41:44.159935Z"
    }
   },
   "outputs": [],
   "source": [
    "import pandas as pd \n",
    "from sklearn.model_selection import StratifiedKFold\n",
    "import numpy as np \n",
    "\n",
    "from sklearn.neural_network import MLPClassifier\n",
    "from sklearn.svm import SVC\n",
    "\n",
    "from sklearn.metrics import accuracy_score\n",
    "from sklearn.ensemble import VotingClassifier\n",
    "\n",
    "import cloudpickle\n",
    "import string\n",
    "import re  \n",
    "\n",
    "\n",
    "import warnings\n",
    "from matplotlib import pyplot as plt \n",
    "warnings.filterwarnings(\"ignore\")\n",
    "pd.options.mode.chained_assignment = None  # default='warn'"
   ]
  },
  {
   "cell_type": "markdown",
   "metadata": {},
   "source": [
    "## Load Data"
   ]
  },
  {
   "cell_type": "code",
   "execution_count": 2,
   "metadata": {
    "ExecuteTime": {
     "end_time": "2021-05-08T13:41:50.620062Z",
     "start_time": "2021-05-08T13:41:50.594047Z"
    }
   },
   "outputs": [],
   "source": [
    "# Load Data\n",
    "train = pd.read_csv('../input/Train.csv') \n",
    "test = pd.read_csv('../input/Test.csv') "
   ]
  },
  {
   "cell_type": "code",
   "execution_count": 3,
   "metadata": {},
   "outputs": [
    {
     "data": {
      "text/html": [
       "<div>\n",
       "<style scoped>\n",
       "    .dataframe tbody tr th:only-of-type {\n",
       "        vertical-align: middle;\n",
       "    }\n",
       "\n",
       "    .dataframe tbody tr th {\n",
       "        vertical-align: top;\n",
       "    }\n",
       "\n",
       "    .dataframe thead th {\n",
       "        text-align: right;\n",
       "    }\n",
       "</style>\n",
       "<table border=\"1\" class=\"dataframe\">\n",
       "  <thead>\n",
       "    <tr style=\"text-align: right;\">\n",
       "      <th></th>\n",
       "      <th>ID</th>\n",
       "      <th>Text</th>\n",
       "      <th>Label</th>\n",
       "    </tr>\n",
       "  </thead>\n",
       "  <tbody>\n",
       "    <tr>\n",
       "      <th>0</th>\n",
       "      <td>ID_AASHwXxg</td>\n",
       "      <td>Mwangonde: Khansala wachinyamata Akamati achi...</td>\n",
       "      <td>POLITICS</td>\n",
       "    </tr>\n",
       "    <tr>\n",
       "      <th>1</th>\n",
       "      <td>ID_AGoFySzn</td>\n",
       "      <td>MCP siidakhutire ndi kalembera Chipani cha Ma...</td>\n",
       "      <td>POLITICS</td>\n",
       "    </tr>\n",
       "    <tr>\n",
       "      <th>2</th>\n",
       "      <td>ID_AGrrkBGP</td>\n",
       "      <td>Bungwe la MANEPO Lapempha Boma Liganizire Anth...</td>\n",
       "      <td>HEALTH</td>\n",
       "    </tr>\n",
       "    <tr>\n",
       "      <th>3</th>\n",
       "      <td>ID_AIJeigeG</td>\n",
       "      <td>Ndale zogawanitsa miyambo zanyanya Si zachile...</td>\n",
       "      <td>POLITICS</td>\n",
       "    </tr>\n",
       "    <tr>\n",
       "      <th>4</th>\n",
       "      <td>ID_APMprMbV</td>\n",
       "      <td>Nanga wapolisi ataphofomoka? Masiku ano sichi...</td>\n",
       "      <td>LAW/ORDER</td>\n",
       "    </tr>\n",
       "  </tbody>\n",
       "</table>\n",
       "</div>"
      ],
      "text/plain": [
       "            ID                                               Text      Label\n",
       "0  ID_AASHwXxg   Mwangonde: Khansala wachinyamata Akamati achi...   POLITICS\n",
       "1  ID_AGoFySzn   MCP siidakhutire ndi kalembera Chipani cha Ma...   POLITICS\n",
       "2  ID_AGrrkBGP  Bungwe la MANEPO Lapempha Boma Liganizire Anth...     HEALTH\n",
       "3  ID_AIJeigeG   Ndale zogawanitsa miyambo zanyanya Si zachile...   POLITICS\n",
       "4  ID_APMprMbV   Nanga wapolisi ataphofomoka? Masiku ano sichi...  LAW/ORDER"
      ]
     },
     "execution_count": 3,
     "metadata": {},
     "output_type": "execute_result"
    }
   ],
   "source": [
    "train.head()"
   ]
  },
  {
   "cell_type": "markdown",
   "metadata": {},
   "source": [
    "## Modeling"
   ]
  },
  {
   "cell_type": "code",
   "execution_count": 4,
   "metadata": {
    "ExecuteTime": {
     "end_time": "2021-05-08T13:42:04.490197Z",
     "start_time": "2021-05-08T13:41:50.743119Z"
    }
   },
   "outputs": [
    {
     "name": "stdout",
     "output_type": "stream",
     "text": [
      "fold #0 val_loss: 0.6666666666666666\n",
      "fold #1 val_loss: 0.7421602787456446\n",
      "fold #2 val_loss: 0.7073170731707317\n",
      "fold #3 val_loss: 0.6759581881533101\n",
      "fold #4 val_loss: 0.6689895470383276\n",
      "Full accuracy 0.6922183507549361\n"
     ]
    }
   ],
   "source": [
    "n_splits = 5   \n",
    "\n",
    "kf = StratifiedKFold(n_splits=n_splits, random_state=47, shuffle=True)\n",
    "\n",
    "# upload pretrained\n",
    "vectorizer = cloudpickle.load(open('../vectorizer/vectorizer.pkl', 'rb')) \n",
    "X_train = vectorizer.predict(train['Text'])\n",
    "X_test = vectorizer.predict(test['Text'])\n",
    "y_train = train['Label'].copy()\n",
    "\n",
    "n_labels = train['Label'].unique().shape[0]\n",
    "y_oof = np.zeros([X_train.shape[0], n_labels])\n",
    "y_test = np.zeros([X_test.shape[0], n_labels])\n",
    "\n",
    "i = 0\n",
    "metrics = list()\n",
    "\n",
    "for tr_idx, val_idx in kf.split(X_train, y_train):\n",
    "\n",
    "    X_tr, X_vl = X_train[tr_idx, :], X_train[val_idx, :]\n",
    "    y_tr, y_vl = y_train.iloc[tr_idx], y_train.iloc[val_idx]\n",
    "    \n",
    "    estimators = [('mlp', MLPClassifier(250,  random_state=47)),\n",
    "                  ('svm',  SVC(C=1.0,probability=True,random_state=42))]\n",
    "\n",
    "    model = VotingClassifier(estimators=estimators, voting='soft')\n",
    "    model.fit(X_tr, y_tr)\n",
    "    \n",
    "    y_pred = model.predict(X_vl)\n",
    "    y_oof[val_idx, :] = model.predict_proba(X_vl)\n",
    "    metric = accuracy_score(y_vl, y_pred)\n",
    "    print(\"fold #{} val_loss: {}\".format(i, metric))\n",
    "    i += 1\n",
    "    y_test += model.predict_proba(X_test) / n_splits\n",
    "    metrics.append(metric)\n",
    "\n",
    " \n",
    "metrics = np.array(metrics).mean()\n",
    "print(f'Full accuracy {metrics}')  # Full accuracy 0.6922"
   ]
  },
  {
   "cell_type": "code",
   "execution_count": 5,
   "metadata": {
    "ExecuteTime": {
     "end_time": "2021-05-08T13:42:04.513198Z",
     "start_time": "2021-05-08T13:42:04.492198Z"
    }
   },
   "outputs": [
    {
     "data": {
      "text/html": [
       "<div>\n",
       "<style scoped>\n",
       "    .dataframe tbody tr th:only-of-type {\n",
       "        vertical-align: middle;\n",
       "    }\n",
       "\n",
       "    .dataframe tbody tr th {\n",
       "        vertical-align: top;\n",
       "    }\n",
       "\n",
       "    .dataframe thead th {\n",
       "        text-align: right;\n",
       "    }\n",
       "</style>\n",
       "<table border=\"1\" class=\"dataframe\">\n",
       "  <thead>\n",
       "    <tr style=\"text-align: right;\">\n",
       "      <th></th>\n",
       "      <th>ID</th>\n",
       "      <th>LABEL</th>\n",
       "    </tr>\n",
       "  </thead>\n",
       "  <tbody>\n",
       "    <tr>\n",
       "      <th>0</th>\n",
       "      <td>ID_ADHEtjTi</td>\n",
       "      <td>SOCIAL ISSUES</td>\n",
       "    </tr>\n",
       "    <tr>\n",
       "      <th>1</th>\n",
       "      <td>ID_AHfJktdQ</td>\n",
       "      <td>RELIGION</td>\n",
       "    </tr>\n",
       "    <tr>\n",
       "      <th>2</th>\n",
       "      <td>ID_AUJIHpZr</td>\n",
       "      <td>RELATIONSHIPS</td>\n",
       "    </tr>\n",
       "    <tr>\n",
       "      <th>3</th>\n",
       "      <td>ID_AUKYBbIM</td>\n",
       "      <td>POLITICS</td>\n",
       "    </tr>\n",
       "    <tr>\n",
       "      <th>4</th>\n",
       "      <td>ID_AZnsVPEi</td>\n",
       "      <td>SOCIAL ISSUES</td>\n",
       "    </tr>\n",
       "  </tbody>\n",
       "</table>\n",
       "</div>"
      ],
      "text/plain": [
       "            ID          LABEL\n",
       "0  ID_ADHEtjTi  SOCIAL ISSUES\n",
       "1  ID_AHfJktdQ       RELIGION\n",
       "2  ID_AUJIHpZr  RELATIONSHIPS\n",
       "3  ID_AUKYBbIM       POLITICS\n",
       "4  ID_AZnsVPEi  SOCIAL ISSUES"
      ]
     },
     "execution_count": 5,
     "metadata": {},
     "output_type": "execute_result"
    }
   ],
   "source": [
    "y_sub = np.argmax(y_test, 1)\n",
    "y_sub = pd.DataFrame({'Label': y_sub})\n",
    "class_ = model.classes_\n",
    "y_sub['Label'] = y_sub['Label'].apply(lambda x: class_[x])\n",
    "sub = test[['ID']]\n",
    "sub['LABEL'] = y_sub['Label']\n",
    "sub.head()"
   ]
  },
  {
   "cell_type": "code",
   "execution_count": 6,
   "metadata": {
    "ExecuteTime": {
     "end_time": "2021-05-08T13:42:04.544200Z",
     "start_time": "2021-05-08T13:42:04.531203Z"
    }
   },
   "outputs": [],
   "source": [
    "# Save submission\n",
    "sub.to_csv(f'../sub/MLP_SVC_sub_{round(metrics,4)}.csv', index=False)"
   ]
  }
 ],
 "metadata": {
  "kernelspec": {
   "display_name": "Python 3",
   "language": "python",
   "name": "python3"
  },
  "language_info": {
   "codemirror_mode": {
    "name": "ipython",
    "version": 3
   },
   "file_extension": ".py",
   "mimetype": "text/x-python",
   "name": "python",
   "nbconvert_exporter": "python",
   "pygments_lexer": "ipython3",
   "version": "3.7.4"
  }
 },
 "nbformat": 4,
 "nbformat_minor": 2
}
