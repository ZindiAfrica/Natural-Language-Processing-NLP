{
  "nbformat": 4,
  "nbformat_minor": 5,
  "metadata": {
    "kernelspec": {
      "display_name": "Python 3",
      "language": "python",
      "name": "python3"
    },
    "language_info": {
      "codemirror_mode": {
        "name": "ipython",
        "version": 3
      },
      "file_extension": ".py",
      "mimetype": "text/x-python",
      "name": "python",
      "nbconvert_exporter": "python",
      "pygments_lexer": "ipython3",
      "version": "3.7.4"
    },
    "papermill": {
      "default_parameters": {},
      "duration": 189.459432,
      "end_time": "2021-05-16T05:48:46.439865",
      "environment_variables": {},
      "exception": null,
      "input_path": "__notebook__.ipynb",
      "output_path": "__notebook__.ipynb",
      "parameters": {},
      "start_time": "2021-05-16T05:45:36.980433",
      "version": "2.3.2"
    },
    "colab": {
      "name": "transformers_baseline.ipynb",
      "provenance": []
    }
  },
  "cells": [
    {
      "cell_type": "code",
      "metadata": {
        "ExecuteTime": {
          "end_time": "2021-03-05T14:20:27.327663Z",
          "start_time": "2021-03-05T14:20:22.838555Z"
        },
        "_cell_guid": "b1076dfc-b9ad-4769-8c92-a6c4dae69d19",
        "_uuid": "8f2839f25d086af736a60e9eeb907d3b93b6e0e5",
        "execution": {
          "iopub.execute_input": "2021-05-16T05:45:41.916323Z",
          "iopub.status.busy": "2021-05-16T05:45:41.915663Z",
          "iopub.status.idle": "2021-05-16T05:45:47.274048Z",
          "shell.execute_reply": "2021-05-16T05:45:47.272947Z"
        },
        "papermill": {
          "duration": 5.375077,
          "end_time": "2021-05-16T05:45:47.274206",
          "exception": false,
          "start_time": "2021-05-16T05:45:41.899129",
          "status": "completed"
        },
        "tags": [],
        "id": "SoFCyEQGGMSg"
      },
      "source": [
        "import numpy as np # linear algebra\n",
        "import pandas as pd # data processing, CSV file I/O (e.g. pd.read_csv)\n",
        "import os\n",
        "from sklearn.metrics import accuracy_score, roc_auc_score\n",
        "import tensorflow as tf\n",
        "from tensorflow import keras\n",
        "from tensorflow.keras import layers\n",
        "import tensorflow_addons as tfa\n",
        "from sklearn.model_selection import StratifiedKFold\n",
        "import tensorflow_addons as tfa\n",
        "from sklearn.preprocessing import LabelEncoder"
      ],
      "id": "SoFCyEQGGMSg",
      "execution_count": null,
      "outputs": []
    },
    {
      "cell_type": "code",
      "metadata": {
        "execution": {
          "iopub.execute_input": "2021-05-16T05:45:47.298401Z",
          "iopub.status.busy": "2021-05-16T05:45:47.297820Z",
          "iopub.status.idle": "2021-05-16T05:45:47.307340Z",
          "shell.execute_reply": "2021-05-16T05:45:47.306428Z"
        },
        "papermill": {
          "duration": 0.023517,
          "end_time": "2021-05-16T05:45:47.307482",
          "exception": false,
          "start_time": "2021-05-16T05:45:47.283965",
          "status": "completed"
        },
        "tags": [],
        "id": "mMi4tEDMGMSn",
        "outputId": "0800b685-1f84-40c0-9277-abd45132a51b"
      },
      "source": [
        "# Detect hardware, return appropriate distribution strategy\n",
        "try:\n",
        "    ############################################################################################################\n",
        "\n",
        "    ########################################### \" SEED HERE \" #################################################\n",
        "    \n",
        "    # TPU detection. No parameters necessary if TPU_NAME environment variable is\n",
        "    # set: this is always the case on Kaggle.\n",
        "    seed_everything(seed=SEED)\n",
        "    tpu = tf.distribute.cluster_resolver.TPUClusterResolver()\n",
        "    print('Running on TPU ', tpu.master())\n",
        "    ############################################################################################################\n",
        "\n",
        "except ValueError:\n",
        "    tpu = None\n",
        "\n",
        "if tpu:\n",
        "    ############################################################################################################\n",
        "\n",
        "    ########################################### \" SEED HERE \" #################################################\n",
        "    \n",
        "    seed_everything(seed=SEED)\n",
        "    tf.config.experimental_connect_to_cluster(tpu)\n",
        "    tf.tpu.experimental.initialize_tpu_system(tpu)\n",
        "    strategy = tf.distribute.experimental.TPUStrategy(tpu)\n",
        "    ############################################################################################################\n",
        "else:\n",
        "    ############################################################################################################\n",
        "\n",
        "    ########################################### \" SEED HERE \" #################################################\n",
        "\n",
        "    # Default distribution strategy in Tensorflow. Works on CPU and single GPU.\n",
        "    seed_everything(seed=SEED)\n",
        "    strategy = tf.distribute.get_strategy()\n",
        "\n",
        "    ############################################################################################################\n",
        "print(\"REPLICAS: \", strategy.num_replicas_in_sync)"
      ],
      "id": "mMi4tEDMGMSn",
      "execution_count": null,
      "outputs": [
        {
          "output_type": "stream",
          "text": [
            "REPLICAS:  1\n"
          ],
          "name": "stdout"
        }
      ]
    },
    {
      "cell_type": "code",
      "metadata": {
        "execution": {
          "iopub.execute_input": "2021-05-16T05:45:47.338171Z",
          "iopub.status.busy": "2021-05-16T05:45:47.337656Z",
          "iopub.status.idle": "2021-05-16T05:45:47.421290Z",
          "shell.execute_reply": "2021-05-16T05:45:47.420445Z"
        },
        "papermill": {
          "duration": 0.103652,
          "end_time": "2021-05-16T05:45:47.421405",
          "exception": false,
          "start_time": "2021-05-16T05:45:47.317753",
          "status": "completed"
        },
        "tags": [],
        "id": "ntcGVs0ZGMSo",
        "outputId": "20d33bf9-6349-4bb0-b9eb-4e2aba40933e"
      },
      "source": [
        "train = pd.read_csv('Train.csv')\n",
        "train.head()"
      ],
      "id": "ntcGVs0ZGMSo",
      "execution_count": null,
      "outputs": [
        {
          "output_type": "execute_result",
          "data": {
            "text/html": [
              "<div>\n",
              "<style scoped>\n",
              "    .dataframe tbody tr th:only-of-type {\n",
              "        vertical-align: middle;\n",
              "    }\n",
              "\n",
              "    .dataframe tbody tr th {\n",
              "        vertical-align: top;\n",
              "    }\n",
              "\n",
              "    .dataframe thead th {\n",
              "        text-align: right;\n",
              "    }\n",
              "</style>\n",
              "<table border=\"1\" class=\"dataframe\">\n",
              "  <thead>\n",
              "    <tr style=\"text-align: right;\">\n",
              "      <th></th>\n",
              "      <th>ID</th>\n",
              "      <th>Text</th>\n",
              "      <th>Label</th>\n",
              "    </tr>\n",
              "  </thead>\n",
              "  <tbody>\n",
              "    <tr>\n",
              "      <th>0</th>\n",
              "      <td>ID_AASHwXxg</td>\n",
              "      <td>Mwangonde: Khansala wachinyamata Akamati achi...</td>\n",
              "      <td>POLITICS</td>\n",
              "    </tr>\n",
              "    <tr>\n",
              "      <th>1</th>\n",
              "      <td>ID_AGoFySzn</td>\n",
              "      <td>MCP siidakhutire ndi kalembera Chipani cha Ma...</td>\n",
              "      <td>POLITICS</td>\n",
              "    </tr>\n",
              "    <tr>\n",
              "      <th>2</th>\n",
              "      <td>ID_AGrrkBGP</td>\n",
              "      <td>Bungwe la MANEPO Lapempha Boma Liganizire Anth...</td>\n",
              "      <td>HEALTH</td>\n",
              "    </tr>\n",
              "    <tr>\n",
              "      <th>3</th>\n",
              "      <td>ID_AIJeigeG</td>\n",
              "      <td>Ndale zogawanitsa miyambo zanyanya Si zachile...</td>\n",
              "      <td>POLITICS</td>\n",
              "    </tr>\n",
              "    <tr>\n",
              "      <th>4</th>\n",
              "      <td>ID_APMprMbV</td>\n",
              "      <td>Nanga wapolisi ataphofomoka? Masiku ano sichi...</td>\n",
              "      <td>LAW/ORDER</td>\n",
              "    </tr>\n",
              "  </tbody>\n",
              "</table>\n",
              "</div>"
            ],
            "text/plain": [
              "            ID                                               Text      Label\n",
              "0  ID_AASHwXxg   Mwangonde: Khansala wachinyamata Akamati achi...   POLITICS\n",
              "1  ID_AGoFySzn   MCP siidakhutire ndi kalembera Chipani cha Ma...   POLITICS\n",
              "2  ID_AGrrkBGP  Bungwe la MANEPO Lapempha Boma Liganizire Anth...     HEALTH\n",
              "3  ID_AIJeigeG   Ndale zogawanitsa miyambo zanyanya Si zachile...   POLITICS\n",
              "4  ID_APMprMbV   Nanga wapolisi ataphofomoka? Masiku ano sichi...  LAW/ORDER"
            ]
          },
          "metadata": {
            "tags": []
          },
          "execution_count": 3
        }
      ]
    },
    {
      "cell_type": "code",
      "metadata": {
        "execution": {
          "iopub.execute_input": "2021-05-16T05:45:47.446811Z",
          "iopub.status.busy": "2021-05-16T05:45:47.446313Z",
          "iopub.status.idle": "2021-05-16T05:45:47.496033Z",
          "shell.execute_reply": "2021-05-16T05:45:47.496420Z"
        },
        "papermill": {
          "duration": 0.064778,
          "end_time": "2021-05-16T05:45:47.496568",
          "exception": false,
          "start_time": "2021-05-16T05:45:47.431790",
          "status": "completed"
        },
        "tags": [],
        "id": "NiMRKD80GMSp",
        "outputId": "a8dbdb97-8cc1-4386-cb7a-d68c6f2809ec"
      },
      "source": [
        "test = pd.read_csv('Test.csv')\n",
        "test.head()"
      ],
      "id": "NiMRKD80GMSp",
      "execution_count": null,
      "outputs": [
        {
          "output_type": "execute_result",
          "data": {
            "text/html": [
              "<div>\n",
              "<style scoped>\n",
              "    .dataframe tbody tr th:only-of-type {\n",
              "        vertical-align: middle;\n",
              "    }\n",
              "\n",
              "    .dataframe tbody tr th {\n",
              "        vertical-align: top;\n",
              "    }\n",
              "\n",
              "    .dataframe thead th {\n",
              "        text-align: right;\n",
              "    }\n",
              "</style>\n",
              "<table border=\"1\" class=\"dataframe\">\n",
              "  <thead>\n",
              "    <tr style=\"text-align: right;\">\n",
              "      <th></th>\n",
              "      <th>ID</th>\n",
              "      <th>Text</th>\n",
              "    </tr>\n",
              "  </thead>\n",
              "  <tbody>\n",
              "    <tr>\n",
              "      <th>0</th>\n",
              "      <td>ID_ADHEtjTi</td>\n",
              "      <td>Abambo odzikhweza akuchuluka Kafukufuku wa ap...</td>\n",
              "    </tr>\n",
              "    <tr>\n",
              "      <th>1</th>\n",
              "      <td>ID_AHfJktdQ</td>\n",
              "      <td>Ambuye Ziyaye Ayamikira Aphunzitsi a Tilitonse...</td>\n",
              "    </tr>\n",
              "    <tr>\n",
              "      <th>2</th>\n",
              "      <td>ID_AUJIHpZr</td>\n",
              "      <td>Anatcheleza: Akundiopseza a gogo wanga Akundi...</td>\n",
              "    </tr>\n",
              "    <tr>\n",
              "      <th>3</th>\n",
              "      <td>ID_AUKYBbIM</td>\n",
              "      <td>Ulova wafika posauzana Adatenga digiri ya uph...</td>\n",
              "    </tr>\n",
              "    <tr>\n",
              "      <th>4</th>\n",
              "      <td>ID_AZnsVPEi</td>\n",
              "      <td>Dzombe kukoma, koma Kuyambira makedzana, pant...</td>\n",
              "    </tr>\n",
              "  </tbody>\n",
              "</table>\n",
              "</div>"
            ],
            "text/plain": [
              "            ID                                               Text\n",
              "0  ID_ADHEtjTi   Abambo odzikhweza akuchuluka Kafukufuku wa ap...\n",
              "1  ID_AHfJktdQ  Ambuye Ziyaye Ayamikira Aphunzitsi a Tilitonse...\n",
              "2  ID_AUJIHpZr   Anatcheleza: Akundiopseza a gogo wanga Akundi...\n",
              "3  ID_AUKYBbIM   Ulova wafika posauzana Adatenga digiri ya uph...\n",
              "4  ID_AZnsVPEi   Dzombe kukoma, koma Kuyambira makedzana, pant..."
            ]
          },
          "metadata": {
            "tags": []
          },
          "execution_count": 4
        }
      ]
    },
    {
      "cell_type": "code",
      "metadata": {
        "execution": {
          "iopub.execute_input": "2021-05-16T05:45:47.556382Z",
          "iopub.status.busy": "2021-05-16T05:45:47.555399Z",
          "iopub.status.idle": "2021-05-16T05:45:47.560891Z",
          "shell.execute_reply": "2021-05-16T05:45:47.563515Z"
        },
        "papermill": {
          "duration": 0.035676,
          "end_time": "2021-05-16T05:45:47.564016",
          "exception": false,
          "start_time": "2021-05-16T05:45:47.528340",
          "status": "completed"
        },
        "tags": [],
        "id": "UIrtdcaKGMSp"
      },
      "source": [
        "LB = LabelEncoder()\n",
        "train['Label'] = LB.fit_transform(train['Label'])"
      ],
      "id": "UIrtdcaKGMSp",
      "execution_count": null,
      "outputs": []
    },
    {
      "cell_type": "code",
      "metadata": {
        "execution": {
          "iopub.execute_input": "2021-05-16T05:45:47.609817Z",
          "iopub.status.busy": "2021-05-16T05:45:47.608949Z",
          "iopub.status.idle": "2021-05-16T05:45:47.611180Z",
          "shell.execute_reply": "2021-05-16T05:45:47.610526Z"
        },
        "papermill": {
          "duration": 0.026666,
          "end_time": "2021-05-16T05:45:47.611325",
          "exception": false,
          "start_time": "2021-05-16T05:45:47.584659",
          "status": "completed"
        },
        "tags": [],
        "id": "DZoBCFtvGMSq"
      },
      "source": [
        "############################################################################################################\n",
        "\n",
        "########################################### \" SEED HERE \" #################################################\n",
        "\n",
        "seed_everything(seed=SEED)\n",
        "AUTO = tf.data.experimental.AUTOTUNE\n",
        "# Configuration\n",
        "EPOCHS = 30\n",
        "N_LABELS = train['Label'].unique().shape[0]\n",
        "BATCH_SIZE = 32"
      ],
      "id": "DZoBCFtvGMSq",
      "execution_count": null,
      "outputs": []
    },
    {
      "cell_type": "code",
      "metadata": {
        "execution": {
          "iopub.execute_input": "2021-05-16T05:45:47.665427Z",
          "iopub.status.busy": "2021-05-16T05:45:47.664682Z",
          "iopub.status.idle": "2021-05-16T05:45:49.714461Z",
          "shell.execute_reply": "2021-05-16T05:45:49.713614Z"
        },
        "papermill": {
          "duration": 2.079673,
          "end_time": "2021-05-16T05:45:49.714599",
          "exception": false,
          "start_time": "2021-05-16T05:45:47.634926",
          "status": "completed"
        },
        "tags": [],
        "id": "WXw1XWG4GMSq"
      },
      "source": [
        "############################################################################################################\n",
        "\n",
        "########################################### \" SEED HERE \" #################################################\n",
        "\n",
        "seed_everything(seed=SEED)\n",
        "df = pd.concat((train, test))\n",
        "dataset = tf.data.Dataset.from_tensor_slices(df['Text'].values)"
      ],
      "id": "WXw1XWG4GMSq",
      "execution_count": null,
      "outputs": []
    },
    {
      "cell_type": "code",
      "metadata": {
        "execution": {
          "iopub.execute_input": "2021-05-16T05:45:49.742732Z",
          "iopub.status.busy": "2021-05-16T05:45:49.741954Z",
          "iopub.status.idle": "2021-05-16T05:45:52.083605Z",
          "shell.execute_reply": "2021-05-16T05:45:52.083108Z"
        },
        "papermill": {
          "duration": 2.357978,
          "end_time": "2021-05-16T05:45:52.083723",
          "exception": false,
          "start_time": "2021-05-16T05:45:49.725745",
          "status": "completed"
        },
        "tags": [],
        "id": "AxcLcF8KGMSq"
      },
      "source": [
        "############################################################################################################\n",
        "\n",
        "########################################### \" SEED HERE \" ##################################################\n",
        "\n",
        "seed_everything(seed=SEED)\n",
        "vocab_size = 100000\n",
        "maxlen = 200\n",
        "encoder = tf.keras.layers.experimental.preprocessing.TextVectorization(\n",
        "    max_tokens=vocab_size, output_sequence_length=maxlen)\n",
        "encoder.adapt(dataset)"
      ],
      "id": "AxcLcF8KGMSq",
      "execution_count": null,
      "outputs": []
    },
    {
      "cell_type": "code",
      "metadata": {
        "execution": {
          "iopub.execute_input": "2021-05-16T05:45:52.112722Z",
          "iopub.status.busy": "2021-05-16T05:45:52.112128Z",
          "iopub.status.idle": "2021-05-16T05:45:52.115999Z",
          "shell.execute_reply": "2021-05-16T05:45:52.116362Z"
        },
        "papermill": {
          "duration": 0.021385,
          "end_time": "2021-05-16T05:45:52.116481",
          "exception": false,
          "start_time": "2021-05-16T05:45:52.095096",
          "status": "completed"
        },
        "tags": [],
        "id": "V5nhiVG8GMSq",
        "outputId": "6593e9c2-d9bc-455a-e36d-ac7db220d2ea"
      },
      "source": [
        "%%time \n",
        "def reformat(x, y):\n",
        "    return x, tf.cast(y, tf.float32)\n",
        "\n",
        "def df_to_dataset(data, labels, data_type='Train'):\n",
        "    x_token = data['Text'].values\n",
        "    if data_type=='Train':\n",
        "        y_label = labels.values\n",
        "        dataset = (tf.data.Dataset\n",
        "                    .from_tensor_slices((x_token, y_label))\n",
        "                    .repeat()\n",
        "                    .shuffle(2048)\n",
        "                    .batch(BATCH_SIZE)\n",
        "                    .prefetch(AUTO))\n",
        "        dataset = dataset.map(reformat)\n",
        "    elif data_type=='Val':\n",
        "        y_label = labels.values\n",
        "        dataset = (  tf.data.Dataset\n",
        "                    .from_tensor_slices((x_token, y_label))\n",
        "                    .batch(BATCH_SIZE)\n",
        "                    .cache()\n",
        "                    .prefetch(AUTO)\n",
        "                     ) \n",
        "        dataset =dataset.map(reformat)\n",
        "    else:\n",
        "        dataset = (tf.data.Dataset\n",
        "                    .from_tensor_slices(x_token)\n",
        "                    .batch(BATCH_SIZE)\n",
        "                    )\n",
        "    return dataset"
      ],
      "id": "V5nhiVG8GMSq",
      "execution_count": null,
      "outputs": [
        {
          "output_type": "stream",
          "text": [
            "CPU times: user 3 µs, sys: 1 µs, total: 4 µs\n",
            "Wall time: 7.39 µs\n"
          ],
          "name": "stdout"
        }
      ]
    },
    {
      "cell_type": "code",
      "metadata": {
        "execution": {
          "iopub.execute_input": "2021-05-16T05:45:52.156548Z",
          "iopub.status.busy": "2021-05-16T05:45:52.155916Z",
          "iopub.status.idle": "2021-05-16T05:45:52.159237Z",
          "shell.execute_reply": "2021-05-16T05:45:52.158814Z"
        },
        "papermill": {
          "duration": 0.031256,
          "end_time": "2021-05-16T05:45:52.159341",
          "exception": false,
          "start_time": "2021-05-16T05:45:52.128085",
          "status": "completed"
        },
        "tags": [],
        "id": "Xdv2eAbqGMSr"
      },
      "source": [
        "\n",
        "class TokenAndPositionEmbedding(layers.Layer):\n",
        "    def __init__(self, maxlen, vocab_size, embed_dim):\n",
        "        super(TokenAndPositionEmbedding, self).__init__()\n",
        "        self.token_emb = layers.Embedding(input_dim=vocab_size, output_dim=embed_dim)\n",
        "        self.pos_emb = layers.Embedding(input_dim=maxlen, output_dim=embed_dim)\n",
        "\n",
        "    def call(self, x):\n",
        "        maxlen = tf.shape(x)[-1]\n",
        "        positions = tf.range(start=0, limit=maxlen, delta=1)\n",
        "        positions = self.pos_emb(positions)\n",
        "        x = self.token_emb(x)\n",
        "        return x + positions\n",
        "    \n",
        "\n",
        "class TransformerBlock(layers.Layer):\n",
        "    def __init__(self, embed_dim, num_heads, ff_dim, rate=0.6):\n",
        "        super(TransformerBlock, self).__init__()\n",
        "        self.att = layers.MultiHeadAttention(num_heads=num_heads, key_dim=embed_dim)\n",
        "        self.ffn = keras.Sequential(\n",
        "            [layers.Dense(ff_dim, activation=\"relu\"), layers.Dense(embed_dim),]\n",
        "        )\n",
        "        self.layernorm1 = layers.LayerNormalization()\n",
        "        self.layernorm2 = layers.LayerNormalization()\n",
        "        self.dropout1 = layers.Dropout(rate)\n",
        "        self.dropout2 = layers.Dropout(rate)\n",
        "\n",
        "    def call(self, inputs, training):\n",
        "        attn_output = self.att(inputs, inputs)\n",
        "        attn_output = self.dropout1(attn_output, training=training)\n",
        "        out1 = self.layernorm1(inputs + attn_output)\n",
        "        ffn_output = self.ffn(out1)\n",
        "        ffn_output = self.dropout2(ffn_output, training=training)\n",
        "        return self.layernorm2(out1 + ffn_output)\n",
        "\n",
        "def BERTModel(embed_dim = 130, num_heads = 6,  ff_dim = 32):\n",
        "    ############################################################################################################\n",
        "\n",
        "    ########################################### \" SEED HERE \" ###########################################\n",
        "    seed_everything(seed=SEED)\n",
        "    inputs = layers.Input(shape=(),dtype=tf.string)\n",
        "    x = encoder(inputs)\n",
        "    embedding_layer = TokenAndPositionEmbedding(maxlen, vocab_size, embed_dim)\n",
        "    x = embedding_layer(x)\n",
        "    transformer_block = TransformerBlock(embed_dim, num_heads, ff_dim)\n",
        "    x = transformer_block(x)\n",
        "    x = layers.GlobalAveragePooling1D()(x)\n",
        "    x = tf.keras.layers.BatchNormalization()(x)\n",
        "    x = tf.keras.layers.Dense(256, activation = \"relu\")(x) \n",
        "    x = tf.keras.layers.Dropout(0.2)(x)\n",
        "    x = tf.keras.layers.BatchNormalization()(x)\n",
        "    x = tf.keras.layers.Dense(128, activation = \"sigmoid\")(x) \n",
        "    x = tf.keras.layers.Dropout(0.4)(x) \n",
        "    outputs = layers.Dense(N_LABELS, activation=\"sigmoid\")(x)\n",
        "    model = keras.Model(inputs=inputs, outputs=outputs)     \n",
        "    return model \n",
        "\n",
        "\n",
        "def build_classifier():\n",
        "    ############################################################################################################\n",
        "\n",
        "    ########################################### \" SEED HERE \" ###########################################\n",
        "    seed_everything(seed=SEED)\n",
        "    model = BERTModel()            \n",
        "    # Define Loss\n",
        "    losses = tf.keras.losses.CategoricalCrossentropy( from_logits=True)\n",
        "    # compile all\n",
        "    model.compile(tf.keras.optimizers.Adam(), loss=losses, metrics=[\"accuracy\"])\n",
        "    return model\n",
        "\n",
        "def get_model():\n",
        "    with strategy.scope():\n",
        "        ############################################################################################################\n",
        "\n",
        "        ########################################### \" SEED HERE \" ###########################################\n",
        "        seed_everything(seed=SEED)\n",
        "        model = build_classifier()\n",
        "    return model"
      ],
      "id": "Xdv2eAbqGMSr",
      "execution_count": null,
      "outputs": []
    },
    {
      "cell_type": "code",
      "metadata": {
        "execution": {
          "iopub.execute_input": "2021-05-16T05:45:52.187198Z",
          "iopub.status.busy": "2021-05-16T05:45:52.185465Z",
          "iopub.status.idle": "2021-05-16T05:45:52.187797Z",
          "shell.execute_reply": "2021-05-16T05:45:52.188200Z"
        },
        "papermill": {
          "duration": 0.017433,
          "end_time": "2021-05-16T05:45:52.188312",
          "exception": false,
          "start_time": "2021-05-16T05:45:52.170879",
          "status": "completed"
        },
        "tags": [],
        "id": "gMTVfnXqGMSr"
      },
      "source": [
        "LABEL = 'Label'\n",
        "N_LABELS = 20"
      ],
      "id": "gMTVfnXqGMSr",
      "execution_count": null,
      "outputs": []
    },
    {
      "cell_type": "code",
      "metadata": {
        "ExecuteTime": {
          "start_time": "2021-03-05T14:21:11.862Z"
        },
        "execution": {
          "iopub.execute_input": "2021-05-16T05:45:52.222791Z",
          "iopub.status.busy": "2021-05-16T05:45:52.222038Z",
          "iopub.status.idle": "2021-05-16T05:48:42.330001Z",
          "shell.execute_reply": "2021-05-16T05:48:42.329305Z"
        },
        "papermill": {
          "duration": 170.13045,
          "end_time": "2021-05-16T05:48:42.330165",
          "exception": false,
          "start_time": "2021-05-16T05:45:52.199715",
          "status": "completed"
        },
        "tags": [],
        "id": "kGyk32zpGMSs"
      },
      "source": [
        "n_splits = 5\n",
        "kf = StratifiedKFold(n_splits=n_splits, random_state=47, shuffle=True)\n",
        "y_oof = np.zeros([train.shape[0], N_LABELS])\n",
        "y_test = np.zeros([test.shape[0], N_LABELS])\n",
        "############################################################################################################\n",
        "########################################### \" SEED HERE \" ###########################################\n",
        "seed_everything(seed=SEED)\n",
        "test_ds = df_to_dataset(test,labels=None,data_type='Test')\n",
        "i = 0\n",
        "metrics = list()\n",
        "y_train = pd.get_dummies(train['Label'])\n",
        "for tr_idx, val_idx in kf.split(train[['Text']], train['Label']):\n",
        "    ############################################################################################################\n",
        "\n",
        "    ########################################### \" SEED HERE \" ###########################################\n",
        "    seed_everything(seed=SEED)\n",
        "    df_tr = train.iloc[tr_idx, :]\n",
        "    df_vl = train.iloc[val_idx, :]\n",
        "    tr_ds = df_to_dataset(df_tr,y_train.iloc[tr_idx, :], data_type='Train')\n",
        "    vl_ds = df_to_dataset(df_vl, y_train.iloc[val_idx, :],data_type='Val')\n",
        "        \n",
        "    model =  get_model()\n",
        "    checkpoint_path = f\"training/training_folds_{i}.ckpt\"\n",
        "    checkpoint_dir = os.path.dirname(checkpoint_path)\n",
        "    model_checkpoint_callback = tf.keras.callbacks.ModelCheckpoint(\n",
        "    filepath=checkpoint_path,\n",
        "    save_weights_only=True,\n",
        "    monitor='val_accuracy',\n",
        "    mode='max',\n",
        "    save_best_only=True)\n",
        "      \n",
        "    # Train the model  \n",
        "    n_steps = df_tr.shape[0] // BATCH_SIZE\n",
        "    train_history = model.fit(\n",
        "        tr_ds,\n",
        "        steps_per_epoch=n_steps,\n",
        "        validation_data = vl_ds,\n",
        "        epochs=15, callbacks=[model_checkpoint_callback]\n",
        "    )\n",
        "    model.load_weights( checkpoint_path)\n",
        "    y_pred = model.predict(vl_ds.map(lambda x,y:x))\n",
        "    y_oof[val_idx, :] = y_pred\n",
        "    y_vl = train['Label'].iloc[val_idx]   \n",
        "    metric = accuracy_score(y_vl, np.argmax(y_pred, 1))\n",
        "    print(\"fold #{} val_loss: {}\".format(i, metric))\n",
        "\n",
        "\n",
        "    \n",
        "    i += 1\n",
        "    y_test += model.predict(test_ds) / n_splits\n",
        "    metrics.append(metric)\n",
        "\n",
        "\n",
        "metrics = np.array(metrics).mean()\n",
        "print(f'Full accuracy {metrics}')  # "
      ],
      "id": "kGyk32zpGMSs",
      "execution_count": null,
      "outputs": []
    },
    {
      "cell_type": "markdown",
      "metadata": {
        "id": "ITV5kGAsK8BZ"
      },
      "source": [
        "# **Save Model Weights** : \n",
        "\n",
        "\n",
        "---\n",
        "\n",
        "*   It will take lot of time to train, so i've uploaded the weights into my drive . \n",
        "*   here is the link for the Model Weights : **[transformer weights fold1](https://drive.google.com/drive/folders/1aeHvLmBgvwe5igIMwgbjLmqopkNpadc_?usp=sharing)**\n",
        "* Those Weights will used in the Notebook ***transformers-baseline-ckpt***\n",
        "\n",
        "\n"
      ],
      "id": "ITV5kGAsK8BZ"
    }
  ]
}