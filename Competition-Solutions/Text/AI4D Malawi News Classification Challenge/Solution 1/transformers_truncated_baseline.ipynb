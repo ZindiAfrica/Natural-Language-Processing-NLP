{
  "nbformat": 4,
  "nbformat_minor": 5,
  "metadata": {
    "kernelspec": {
      "display_name": "Python 3",
      "language": "python",
      "name": "python3"
    },
    "language_info": {
      "codemirror_mode": {
        "name": "ipython",
        "version": 3
      },
      "file_extension": ".py",
      "mimetype": "text/x-python",
      "name": "python",
      "nbconvert_exporter": "python",
      "pygments_lexer": "ipython3",
      "version": "3.7.4"
    },
    "papermill": {
      "default_parameters": {},
      "duration": 93.698362,
      "end_time": "2021-05-17T04:36:40.786389",
      "environment_variables": {},
      "exception": null,
      "input_path": "__notebook__.ipynb",
      "output_path": "__notebook__.ipynb",
      "parameters": {},
      "start_time": "2021-05-17T04:35:07.088027",
      "version": "2.3.3"
    },
    "colab": {
      "name": "transformers_truncated_baseline.ipynb",
      "provenance": [],
      "collapsed_sections": []
    }
  },
  "cells": [
    {
      "cell_type": "code",
      "metadata": {
        "ExecuteTime": {
          "end_time": "2021-03-05T14:20:27.327663Z",
          "start_time": "2021-03-05T14:20:22.838555Z"
        },
        "_cell_guid": "b1076dfc-b9ad-4769-8c92-a6c4dae69d19",
        "_uuid": "8f2839f25d086af736a60e9eeb907d3b93b6e0e5",
        "execution": {
          "iopub.execute_input": "2021-05-17T04:35:13.676515Z",
          "iopub.status.busy": "2021-05-17T04:35:13.674952Z",
          "iopub.status.idle": "2021-05-17T04:35:18.965930Z",
          "shell.execute_reply": "2021-05-17T04:35:18.964988Z"
        },
        "papermill": {
          "duration": 5.306267,
          "end_time": "2021-05-17T04:35:18.966086",
          "exception": false,
          "start_time": "2021-05-17T04:35:13.659819",
          "status": "completed"
        },
        "tags": [],
        "id": "wdDYun0-u504"
      },
      "source": [
        "import numpy as np # linear algebra\n",
        "import pandas as pd # data processing, CSV file I/O (e.g. pd.read_csv)\n",
        "import os\n",
        "from sklearn.metrics import accuracy_score, roc_auc_score\n",
        "import tensorflow as tf\n",
        "from tensorflow import keras\n",
        "from tensorflow.keras import layers\n",
        "from sklearn.model_selection import StratifiedKFold\n",
        "from sklearn.preprocessing import LabelEncoder"
      ],
      "id": "wdDYun0-u504",
      "execution_count": 1,
      "outputs": []
    },
    {
      "cell_type": "code",
      "metadata": {
        "id": "BSpHdPJs8N02"
      },
      "source": [
        "import os , random , tensorflow as tf\n",
        "# Function to seed everything\n",
        "def seed_everything(seed):\n",
        "    random.seed(seed)\n",
        "    np.random.seed(seed)\n",
        "    os.environ['PYTHONHASHSEED'] = str(seed)\n",
        "    tf.random.set_seed(seed)"
      ],
      "id": "BSpHdPJs8N02",
      "execution_count": 2,
      "outputs": []
    },
    {
      "cell_type": "code",
      "metadata": {
        "execution": {
          "iopub.execute_input": "2021-05-17T04:35:18.991999Z",
          "iopub.status.busy": "2021-05-17T04:35:18.991484Z",
          "iopub.status.idle": "2021-05-17T04:35:18.999348Z",
          "shell.execute_reply": "2021-05-17T04:35:18.998914Z"
        },
        "papermill": {
          "duration": 0.02278,
          "end_time": "2021-05-17T04:35:18.999504",
          "exception": false,
          "start_time": "2021-05-17T04:35:18.976724",
          "status": "completed"
        },
        "tags": [],
        "colab": {
          "base_uri": "https://localhost:8080/"
        },
        "id": "Hhq3oURGu506",
        "outputId": "71bfa82e-4f05-4695-ba79-d6170caba980"
      },
      "source": [
        "# Detect hardware, return appropriate distribution strategy\n",
        "try:\n",
        "    ############################################################################################################\n",
        "\n",
        "    ########################################### \" SEED HERE \" #################################################\n",
        "    \n",
        "    # TPU detection. No parameters necessary if TPU_NAME environment variable is\n",
        "    # set: this is always the case on Kaggle.\n",
        "    seed_everything(seed=0)\n",
        "    tpu = tf.distribute.cluster_resolver.TPUClusterResolver()\n",
        "    print('Running on TPU ', tpu.master())\n",
        "    ############################################################################################################\n",
        "\n",
        "except ValueError:\n",
        "    tpu = None\n",
        "\n",
        "if tpu:\n",
        "    ############################################################################################################\n",
        "\n",
        "    ########################################### \" SEED HERE \" #################################################\n",
        "    \n",
        "    seed_everything(seed=0)\n",
        "    tf.config.experimental_connect_to_cluster(tpu)\n",
        "    tf.tpu.experimental.initialize_tpu_system(tpu)\n",
        "    strategy = tf.distribute.experimental.TPUStrategy(tpu)\n",
        "    ############################################################################################################\n",
        "else:\n",
        "    ############################################################################################################\n",
        "\n",
        "    ########################################### \" SEED HERE \" #################################################\n",
        "\n",
        "    # Default distribution strategy in Tensorflow. Works on CPU and single GPU.\n",
        "    seed_everything(seed=0)\n",
        "    strategy = tf.distribute.get_strategy()\n",
        "\n",
        "    ############################################################################################################\n",
        "print(\"REPLICAS: \", strategy.num_replicas_in_sync)"
      ],
      "id": "Hhq3oURGu506",
      "execution_count": 3,
      "outputs": [
        {
          "output_type": "stream",
          "text": [
            "REPLICAS:  1\n"
          ],
          "name": "stdout"
        }
      ]
    },
    {
      "cell_type": "code",
      "metadata": {
        "execution": {
          "iopub.execute_input": "2021-05-17T04:35:19.026991Z",
          "iopub.status.busy": "2021-05-17T04:35:19.026494Z",
          "iopub.status.idle": "2021-05-17T04:35:19.122085Z",
          "shell.execute_reply": "2021-05-17T04:35:19.121241Z"
        },
        "papermill": {
          "duration": 0.112197,
          "end_time": "2021-05-17T04:35:19.122210",
          "exception": false,
          "start_time": "2021-05-17T04:35:19.010013",
          "status": "completed"
        },
        "tags": [],
        "colab": {
          "base_uri": "https://localhost:8080/",
          "height": 204
        },
        "id": "jYk8Ml7Ku507",
        "outputId": "70716f84-e1d3-42b6-adc8-f42a9354060d"
      },
      "source": [
        "train = pd.read_csv('Train.csv')\n",
        "train.head()"
      ],
      "id": "jYk8Ml7Ku507",
      "execution_count": 5,
      "outputs": [
        {
          "output_type": "execute_result",
          "data": {
            "text/html": [
              "<div>\n",
              "<style scoped>\n",
              "    .dataframe tbody tr th:only-of-type {\n",
              "        vertical-align: middle;\n",
              "    }\n",
              "\n",
              "    .dataframe tbody tr th {\n",
              "        vertical-align: top;\n",
              "    }\n",
              "\n",
              "    .dataframe thead th {\n",
              "        text-align: right;\n",
              "    }\n",
              "</style>\n",
              "<table border=\"1\" class=\"dataframe\">\n",
              "  <thead>\n",
              "    <tr style=\"text-align: right;\">\n",
              "      <th></th>\n",
              "      <th>ID</th>\n",
              "      <th>Text</th>\n",
              "      <th>Label</th>\n",
              "    </tr>\n",
              "  </thead>\n",
              "  <tbody>\n",
              "    <tr>\n",
              "      <th>0</th>\n",
              "      <td>ID_AASHwXxg</td>\n",
              "      <td>Mwangonde: Khansala wachinyamata Akamati achi...</td>\n",
              "      <td>POLITICS</td>\n",
              "    </tr>\n",
              "    <tr>\n",
              "      <th>1</th>\n",
              "      <td>ID_AGoFySzn</td>\n",
              "      <td>MCP siidakhutire ndi kalembera Chipani cha Ma...</td>\n",
              "      <td>POLITICS</td>\n",
              "    </tr>\n",
              "    <tr>\n",
              "      <th>2</th>\n",
              "      <td>ID_AGrrkBGP</td>\n",
              "      <td>Bungwe la MANEPO Lapempha Boma Liganizire Anth...</td>\n",
              "      <td>HEALTH</td>\n",
              "    </tr>\n",
              "    <tr>\n",
              "      <th>3</th>\n",
              "      <td>ID_AIJeigeG</td>\n",
              "      <td>Ndale zogawanitsa miyambo zanyanya Si zachile...</td>\n",
              "      <td>POLITICS</td>\n",
              "    </tr>\n",
              "    <tr>\n",
              "      <th>4</th>\n",
              "      <td>ID_APMprMbV</td>\n",
              "      <td>Nanga wapolisi ataphofomoka? Masiku ano sichi...</td>\n",
              "      <td>LAW/ORDER</td>\n",
              "    </tr>\n",
              "  </tbody>\n",
              "</table>\n",
              "</div>"
            ],
            "text/plain": [
              "            ID                                               Text      Label\n",
              "0  ID_AASHwXxg   Mwangonde: Khansala wachinyamata Akamati achi...   POLITICS\n",
              "1  ID_AGoFySzn   MCP siidakhutire ndi kalembera Chipani cha Ma...   POLITICS\n",
              "2  ID_AGrrkBGP  Bungwe la MANEPO Lapempha Boma Liganizire Anth...     HEALTH\n",
              "3  ID_AIJeigeG   Ndale zogawanitsa miyambo zanyanya Si zachile...   POLITICS\n",
              "4  ID_APMprMbV   Nanga wapolisi ataphofomoka? Masiku ano sichi...  LAW/ORDER"
            ]
          },
          "metadata": {
            "tags": []
          },
          "execution_count": 5
        }
      ]
    },
    {
      "cell_type": "code",
      "metadata": {
        "execution": {
          "iopub.execute_input": "2021-05-17T04:35:19.149684Z",
          "iopub.status.busy": "2021-05-17T04:35:19.149117Z",
          "iopub.status.idle": "2021-05-17T04:35:19.201268Z",
          "shell.execute_reply": "2021-05-17T04:35:19.201821Z"
        },
        "papermill": {
          "duration": 0.068586,
          "end_time": "2021-05-17T04:35:19.201968",
          "exception": false,
          "start_time": "2021-05-17T04:35:19.133382",
          "status": "completed"
        },
        "tags": [],
        "colab": {
          "base_uri": "https://localhost:8080/",
          "height": 204
        },
        "id": "7z5TXtzau508",
        "outputId": "77f353ab-0d3e-48b2-bf6d-4d66d2ed9fb8"
      },
      "source": [
        "test = pd.read_csv('Test.csv')\n",
        "test.head()"
      ],
      "id": "7z5TXtzau508",
      "execution_count": 6,
      "outputs": [
        {
          "output_type": "execute_result",
          "data": {
            "text/html": [
              "<div>\n",
              "<style scoped>\n",
              "    .dataframe tbody tr th:only-of-type {\n",
              "        vertical-align: middle;\n",
              "    }\n",
              "\n",
              "    .dataframe tbody tr th {\n",
              "        vertical-align: top;\n",
              "    }\n",
              "\n",
              "    .dataframe thead th {\n",
              "        text-align: right;\n",
              "    }\n",
              "</style>\n",
              "<table border=\"1\" class=\"dataframe\">\n",
              "  <thead>\n",
              "    <tr style=\"text-align: right;\">\n",
              "      <th></th>\n",
              "      <th>ID</th>\n",
              "      <th>Text</th>\n",
              "    </tr>\n",
              "  </thead>\n",
              "  <tbody>\n",
              "    <tr>\n",
              "      <th>0</th>\n",
              "      <td>ID_ADHEtjTi</td>\n",
              "      <td>Abambo odzikhweza akuchuluka Kafukufuku wa ap...</td>\n",
              "    </tr>\n",
              "    <tr>\n",
              "      <th>1</th>\n",
              "      <td>ID_AHfJktdQ</td>\n",
              "      <td>Ambuye Ziyaye Ayamikira Aphunzitsi a Tilitonse...</td>\n",
              "    </tr>\n",
              "    <tr>\n",
              "      <th>2</th>\n",
              "      <td>ID_AUJIHpZr</td>\n",
              "      <td>Anatcheleza: Akundiopseza a gogo wanga Akundi...</td>\n",
              "    </tr>\n",
              "    <tr>\n",
              "      <th>3</th>\n",
              "      <td>ID_AUKYBbIM</td>\n",
              "      <td>Ulova wafika posauzana Adatenga digiri ya uph...</td>\n",
              "    </tr>\n",
              "    <tr>\n",
              "      <th>4</th>\n",
              "      <td>ID_AZnsVPEi</td>\n",
              "      <td>Dzombe kukoma, koma Kuyambira makedzana, pant...</td>\n",
              "    </tr>\n",
              "  </tbody>\n",
              "</table>\n",
              "</div>"
            ],
            "text/plain": [
              "            ID                                               Text\n",
              "0  ID_ADHEtjTi   Abambo odzikhweza akuchuluka Kafukufuku wa ap...\n",
              "1  ID_AHfJktdQ  Ambuye Ziyaye Ayamikira Aphunzitsi a Tilitonse...\n",
              "2  ID_AUJIHpZr   Anatcheleza: Akundiopseza a gogo wanga Akundi...\n",
              "3  ID_AUKYBbIM   Ulova wafika posauzana Adatenga digiri ya uph...\n",
              "4  ID_AZnsVPEi   Dzombe kukoma, koma Kuyambira makedzana, pant..."
            ]
          },
          "metadata": {
            "tags": []
          },
          "execution_count": 6
        }
      ]
    },
    {
      "cell_type": "code",
      "metadata": {
        "execution": {
          "iopub.execute_input": "2021-05-17T04:35:19.233563Z",
          "iopub.status.busy": "2021-05-17T04:35:19.233002Z",
          "iopub.status.idle": "2021-05-17T04:35:19.236071Z",
          "shell.execute_reply": "2021-05-17T04:35:19.236646Z"
        },
        "papermill": {
          "duration": 0.023395,
          "end_time": "2021-05-17T04:35:19.236801",
          "exception": false,
          "start_time": "2021-05-17T04:35:19.213406",
          "status": "completed"
        },
        "tags": [],
        "colab": {
          "base_uri": "https://localhost:8080/"
        },
        "id": "1bA1NCTiu508",
        "outputId": "18681f2b-8d2e-4c5b-ef3d-84dbc2db5e26"
      },
      "source": [
        "small_labels = train['Label'].value_counts().reset_index().loc[15:, 'index'].tolist()\n",
        "small_labels += ['ECONOMY', \"SOCIAL ISSUES\", 'SOCIAL']\n",
        "print(small_labels)"
      ],
      "id": "1bA1NCTiu508",
      "execution_count": 7,
      "outputs": [
        {
          "output_type": "stream",
          "text": [
            "['WITCHCRAFT', 'MUSIC', 'TRANSPORT', 'FLOODING', 'ARTS AND CRAFTS', 'ECONOMY', 'SOCIAL ISSUES', 'SOCIAL']\n"
          ],
          "name": "stdout"
        }
      ]
    },
    {
      "cell_type": "code",
      "metadata": {
        "execution": {
          "iopub.execute_input": "2021-05-17T04:35:19.266765Z",
          "iopub.status.busy": "2021-05-17T04:35:19.266103Z",
          "iopub.status.idle": "2021-05-17T04:35:19.269365Z",
          "shell.execute_reply": "2021-05-17T04:35:19.268956Z"
        },
        "papermill": {
          "duration": 0.019972,
          "end_time": "2021-05-17T04:35:19.269489",
          "exception": false,
          "start_time": "2021-05-17T04:35:19.249517",
          "status": "completed"
        },
        "tags": [],
        "id": "_-xxIvw0u509"
      },
      "source": [
        "train_small = train[train['Label'].isin(small_labels)].reset_index(drop=True)\n",
        "train_large = train[~train['Label'].isin(small_labels)].reset_index(drop=True)"
      ],
      "id": "_-xxIvw0u509",
      "execution_count": 8,
      "outputs": []
    },
    {
      "cell_type": "code",
      "metadata": {
        "execution": {
          "iopub.execute_input": "2021-05-17T04:35:19.297190Z",
          "iopub.status.busy": "2021-05-17T04:35:19.296551Z",
          "iopub.status.idle": "2021-05-17T04:35:19.299249Z",
          "shell.execute_reply": "2021-05-17T04:35:19.298844Z"
        },
        "papermill": {
          "duration": 0.018123,
          "end_time": "2021-05-17T04:35:19.299351",
          "exception": false,
          "start_time": "2021-05-17T04:35:19.281228",
          "status": "completed"
        },
        "tags": [],
        "id": "dpQhwPdiu509"
      },
      "source": [
        "LB = LabelEncoder()\n",
        "train_small['Label'] = LB.fit_transform(train_small['Label'])"
      ],
      "id": "dpQhwPdiu509",
      "execution_count": 9,
      "outputs": []
    },
    {
      "cell_type": "code",
      "metadata": {
        "execution": {
          "iopub.execute_input": "2021-05-17T04:35:19.327215Z",
          "iopub.status.busy": "2021-05-17T04:35:19.326561Z",
          "iopub.status.idle": "2021-05-17T04:35:19.329245Z",
          "shell.execute_reply": "2021-05-17T04:35:19.328864Z"
        },
        "papermill": {
          "duration": 0.018081,
          "end_time": "2021-05-17T04:35:19.329365",
          "exception": false,
          "start_time": "2021-05-17T04:35:19.311284",
          "status": "completed"
        },
        "tags": [],
        "id": "6pU9RH2Bu50-"
      },
      "source": [
        "############################################################################################################\n",
        "\n",
        "########################################### \" SEED HERE \" #################################################\n",
        "\n",
        "seed_everything(seed=0)\n",
        "AUTO = tf.data.experimental.AUTOTUNE\n",
        "# Configuration\n",
        "EPOCHS = 30\n",
        "N_LABELS = train_small['Label'].unique().shape[0] \n",
        "BATCH_SIZE = 16\n",
        "\n",
        "############################################################################################################"
      ],
      "id": "6pU9RH2Bu50-",
      "execution_count": 10,
      "outputs": []
    },
    {
      "cell_type": "code",
      "metadata": {
        "execution": {
          "iopub.execute_input": "2021-05-17T04:35:21.075015Z",
          "iopub.status.busy": "2021-05-17T04:35:21.074280Z",
          "iopub.status.idle": "2021-05-17T04:35:21.085651Z",
          "shell.execute_reply": "2021-05-17T04:35:21.086033Z"
        },
        "papermill": {
          "duration": 1.744881,
          "end_time": "2021-05-17T04:35:21.086181",
          "exception": false,
          "start_time": "2021-05-17T04:35:19.341300",
          "status": "completed"
        },
        "tags": [],
        "id": "MmUQwt0mu50-"
      },
      "source": [
        "############################################################################################################\n",
        "\n",
        "########################################### \" SEED HERE \" #################################################\n",
        "\n",
        "seed_everything(seed=0)\n",
        "df = pd.concat((train, test))\n",
        "dataset = tf.data.Dataset.from_tensor_slices(df['Text'].values)\n",
        "\n",
        "############################################################################################################"
      ],
      "id": "MmUQwt0mu50-",
      "execution_count": 11,
      "outputs": []
    },
    {
      "cell_type": "code",
      "metadata": {
        "execution": {
          "iopub.execute_input": "2021-05-17T04:35:21.115520Z",
          "iopub.status.busy": "2021-05-17T04:35:21.114975Z",
          "iopub.status.idle": "2021-05-17T04:35:23.378780Z",
          "shell.execute_reply": "2021-05-17T04:35:23.378283Z"
        },
        "papermill": {
          "duration": 2.279942,
          "end_time": "2021-05-17T04:35:23.378912",
          "exception": false,
          "start_time": "2021-05-17T04:35:21.098970",
          "status": "completed"
        },
        "tags": [],
        "id": "tdhn6TIiu50-"
      },
      "source": [
        "############################################################################################################\n",
        "\n",
        "########################################### \" SEED HERE \" ##################################################\n",
        "\n",
        "seed_everything(seed=0)\n",
        "vocab_size = 100000\n",
        "maxlen = 100\n",
        "encoder = tf.keras.layers.experimental.preprocessing.TextVectorization(\n",
        "    max_tokens=vocab_size, output_sequence_length=maxlen)\n",
        "encoder.adapt(dataset)\n",
        "\n",
        "############################################################################################################"
      ],
      "id": "tdhn6TIiu50-",
      "execution_count": 12,
      "outputs": []
    },
    {
      "cell_type": "code",
      "metadata": {
        "execution": {
          "iopub.execute_input": "2021-05-17T04:35:23.411011Z",
          "iopub.status.busy": "2021-05-17T04:35:23.410388Z",
          "iopub.status.idle": "2021-05-17T04:35:23.416216Z",
          "shell.execute_reply": "2021-05-17T04:35:23.415597Z"
        },
        "papermill": {
          "duration": 0.024795,
          "end_time": "2021-05-17T04:35:23.416354",
          "exception": false,
          "start_time": "2021-05-17T04:35:23.391559",
          "status": "completed"
        },
        "tags": [],
        "colab": {
          "base_uri": "https://localhost:8080/"
        },
        "id": "UbjMb7sSu50_",
        "outputId": "7ac7637f-578d-4f93-ac81-1193024e884e"
      },
      "source": [
        "%%time \n",
        "def reformat(x, y):\n",
        "    return x, tf.cast(y, tf.float32)\n",
        "\n",
        "def df_to_dataset(data, labels, data_type='Train'):\n",
        "    x_token = data['Text'].values\n",
        "    if data_type=='Train':\n",
        "        y_label = labels.values\n",
        "        dataset = (tf.data.Dataset\n",
        "                    .from_tensor_slices((x_token, y_label))\n",
        "                    .repeat()\n",
        "                    .shuffle(2048)\n",
        "                    .batch(BATCH_SIZE)\n",
        "                    .prefetch(AUTO))\n",
        "        dataset = dataset.map(reformat)\n",
        "    elif data_type=='Val':\n",
        "        y_label = labels.values\n",
        "        dataset = (  tf.data.Dataset\n",
        "                    .from_tensor_slices((x_token, y_label))\n",
        "                    .batch(BATCH_SIZE)\n",
        "                    .cache()\n",
        "                    .prefetch(AUTO)\n",
        "                     ) \n",
        "        dataset =dataset.map(reformat)\n",
        "    else:\n",
        "        dataset = (tf.data.Dataset\n",
        "                    .from_tensor_slices(x_token)\n",
        "                    .batch(BATCH_SIZE)\n",
        "                    )\n",
        "    return dataset"
      ],
      "id": "UbjMb7sSu50_",
      "execution_count": 13,
      "outputs": [
        {
          "output_type": "stream",
          "text": [
            "CPU times: user 4 µs, sys: 1e+03 ns, total: 5 µs\n",
            "Wall time: 9.06 µs\n"
          ],
          "name": "stdout"
        }
      ]
    },
    {
      "cell_type": "code",
      "metadata": {
        "execution": {
          "iopub.execute_input": "2021-05-17T04:35:23.450188Z",
          "iopub.status.busy": "2021-05-17T04:35:23.449331Z",
          "iopub.status.idle": "2021-05-17T04:35:23.460876Z",
          "shell.execute_reply": "2021-05-17T04:35:23.460394Z"
        },
        "papermill": {
          "duration": 0.031814,
          "end_time": "2021-05-17T04:35:23.460981",
          "exception": false,
          "start_time": "2021-05-17T04:35:23.429167",
          "status": "completed"
        },
        "tags": [],
        "id": "8-odZoybu50_"
      },
      "source": [
        "class TokenAndPositionEmbedding(layers.Layer):\n",
        "    def __init__(self, maxlen, vocab_size, embed_dim):\n",
        "        super(TokenAndPositionEmbedding, self).__init__()\n",
        "        self.token_emb = layers.Embedding(input_dim=vocab_size, output_dim=embed_dim)\n",
        "        self.pos_emb = layers.Embedding(input_dim=maxlen, output_dim=embed_dim)\n",
        "\n",
        "    def call(self, x):\n",
        "        maxlen = tf.shape(x)[-1]\n",
        "        positions = tf.range(start=0, limit=maxlen, delta=1)\n",
        "        positions = self.pos_emb(positions)\n",
        "        x = self.token_emb(x)\n",
        "        return x + positions\n",
        "    \n",
        "\n",
        "class TransformerBlock(layers.Layer):\n",
        "    def __init__(self, embed_dim, num_heads, ff_dim, rate=0.6):\n",
        "        super(TransformerBlock, self).__init__()\n",
        "        self.att = layers.MultiHeadAttention(num_heads=num_heads, key_dim=embed_dim)\n",
        "        self.ffn = keras.Sequential(\n",
        "            [layers.Dense(ff_dim, activation=\"relu\"), layers.Dense(embed_dim),]\n",
        "        )\n",
        "        self.layernorm1 = layers.LayerNormalization()\n",
        "        self.layernorm2 = layers.LayerNormalization()\n",
        "        self.dropout1 = layers.Dropout(rate)\n",
        "        self.dropout2 = layers.Dropout(rate)\n",
        "\n",
        "    def call(self, inputs, training):\n",
        "        attn_output = self.att(inputs, inputs)\n",
        "        attn_output = self.dropout1(attn_output, training=training)\n",
        "        out1 = self.layernorm1(inputs + attn_output)\n",
        "        ffn_output = self.ffn(out1)\n",
        "        ffn_output = self.dropout2(ffn_output, training=training)\n",
        "        return self.layernorm2(out1 + ffn_output)\n",
        "\n",
        "def BERTModel(embed_dim = 130, num_heads = 6,  ff_dim = 32):\n",
        "    ############################################################################################################\n",
        "\n",
        "    ########################################### \" SEED HERE \" ##################################################\n",
        "    \n",
        "    seed_everything(seed=0)\n",
        "    inputs = layers.Input(shape=(),dtype=tf.string)\n",
        "    x = encoder(inputs)\n",
        "    ############################################################################################################\n",
        "    embedding_layer = TokenAndPositionEmbedding(maxlen, vocab_size, embed_dim)\n",
        "    x = embedding_layer(x)\n",
        "    transformer_block = TransformerBlock(embed_dim, num_heads, ff_dim)\n",
        "    x = transformer_block(x)\n",
        "    x = layers.GlobalAveragePooling1D()(x)\n",
        "    x = tf.keras.layers.BatchNormalization()(x)\n",
        "    x = tf.keras.layers.Dense(256, activation = \"relu\")(x) \n",
        "    x = tf.keras.layers.Dropout(0.15)(x)\n",
        "    x = tf.keras.layers.BatchNormalization()(x)\n",
        "    x = tf.keras.layers.Dense(128, activation = \"sigmoid\")(x) \n",
        "    x = tf.keras.layers.Dropout(0.4)(x) \n",
        "    outputs = layers.Dense(N_LABELS, activation=\"sigmoid\")(x)\n",
        "    model = keras.Model(inputs=inputs, outputs=outputs)     \n",
        "    return model \n",
        "\n",
        "\n",
        "def build_classifier():\n",
        "    ############################################################################################################\n",
        "\n",
        "    ########################################### \" SEED HERE \" ##################################################\n",
        "    seed_everything(seed=0)\n",
        "    model = BERTModel()    \n",
        "    ############################################################################################################\n",
        "\n",
        "    # Define Loss\n",
        "    losses = tf.keras.losses.CategoricalCrossentropy( from_logits=True)\n",
        "    # compile all\n",
        "    model.compile(tf.keras.optimizers.Adam(), loss=losses, metrics=[\"accuracy\"])  \n",
        "    \n",
        "    return model\n",
        "\n",
        "def get_model():\n",
        "    with strategy.scope():\n",
        "        ############################################################################################################\n",
        "\n",
        "        ########################################### \" SEED HERE \" ##################################################\n",
        "        seed_everything(seed=0)\n",
        "        model = build_classifier()\n",
        "        ############################################################################################################\n",
        "    return model"
      ],
      "id": "8-odZoybu50_",
      "execution_count": 14,
      "outputs": []
    },
    {
      "cell_type": "code",
      "metadata": {
        "execution": {
          "iopub.execute_input": "2021-05-17T04:35:23.489416Z",
          "iopub.status.busy": "2021-05-17T04:35:23.488920Z",
          "iopub.status.idle": "2021-05-17T04:35:23.492347Z",
          "shell.execute_reply": "2021-05-17T04:35:23.492785Z"
        },
        "papermill": {
          "duration": 0.019225,
          "end_time": "2021-05-17T04:35:23.492899",
          "exception": false,
          "start_time": "2021-05-17T04:35:23.473674",
          "status": "completed"
        },
        "tags": [],
        "id": "BtU4R05ou51A"
      },
      "source": [
        "LABEL = 'Label'"
      ],
      "id": "BtU4R05ou51A",
      "execution_count": 15,
      "outputs": []
    },
    {
      "cell_type": "code",
      "metadata": {
        "id": "0GRHmgRnLP_K"
      },
      "source": [
        "# Place this before directly or indirectly importing tensorflow\n",
        "import logging\n",
        "logging.getLogger(\"tensorflow\").setLevel(logging.WARNING)"
      ],
      "id": "0GRHmgRnLP_K",
      "execution_count": 16,
      "outputs": []
    },
    {
      "cell_type": "code",
      "metadata": {
        "ExecuteTime": {
          "start_time": "2021-03-05T14:21:11.862Z"
        },
        "execution": {
          "iopub.execute_input": "2021-05-17T04:35:23.532155Z",
          "iopub.status.busy": "2021-05-17T04:35:23.531300Z",
          "iopub.status.idle": "2021-05-17T04:36:36.550616Z",
          "shell.execute_reply": "2021-05-17T04:36:36.550041Z"
        },
        "papermill": {
          "duration": 73.044946,
          "end_time": "2021-05-17T04:36:36.550750",
          "exception": false,
          "start_time": "2021-05-17T04:35:23.505804",
          "status": "completed"
        },
        "tags": [],
        "colab": {
          "base_uri": "https://localhost:8080/"
        },
        "id": "mItOZBgAu51B",
        "outputId": "11dc1ffa-6c06-4c30-fcf8-6f2ec6e3df83"
      },
      "source": [
        "n_splits = 5\n",
        "\n",
        "kf = StratifiedKFold(n_splits=n_splits, random_state=47, shuffle=True)\n",
        "\n",
        "y_oof = np.zeros([train_small.shape[0], N_LABELS])\n",
        "y_large = np.zeros([train_large.shape[0], N_LABELS])\n",
        "y_test = np.zeros([test.shape[0], N_LABELS])\n",
        "\n",
        "\n",
        "############################################################################################################\n",
        "\n",
        "########################################### \" SEED HERE \" ###########################################\n",
        "seed_everything(seed=0)\n",
        "train_large_ds =  df_to_dataset(train_large, labels=None, data_type='Test')\n",
        "test_ds = df_to_dataset(test,labels=None,data_type='Test')\n",
        "############################################################################################################\n",
        "\n",
        "i = 0\n",
        "metrics = list()\n",
        "\n",
        "y_train = pd.get_dummies(train_small['Label'])\n",
        "\n",
        "for tr_idx, val_idx in kf.split(train_small[['Text']], train_small['Label']):\n",
        "    ############################################################################################################\n",
        "\n",
        "    ########################################### \" SEED HERE \" ###########################################\n",
        "    seed_everything(seed=0)\n",
        "    df_tr = train_small.iloc[tr_idx, :]\n",
        "    df_vl = train_small.iloc[val_idx, :]\n",
        "    \n",
        "    tr_ds = df_to_dataset(df_tr,y_train.iloc[tr_idx, :], data_type='Train')\n",
        "    vl_ds = df_to_dataset(df_vl, y_train.iloc[val_idx, :],data_type='Val')\n",
        "    \n",
        "    ############################################################################################################\n",
        "    model =  get_model()\n",
        "    \n",
        "    # Include the epoch in the file name (uses `str.format`)\n",
        "    checkpoint_path = f\"training/training_folds_{i}.ckpt\"\n",
        "    checkpoint_dir = os.path.dirname(checkpoint_path)\n",
        "    \n",
        "    model_checkpoint_callback = tf.keras.callbacks.ModelCheckpoint(\n",
        "    filepath=checkpoint_path,\n",
        "    save_weights_only=True,\n",
        "    monitor='val_accuracy',\n",
        "    mode='max',\n",
        "    save_best_only=True)\n",
        " \n",
        "      \n",
        "    # Train the model  \n",
        "    n_steps = df_tr.shape[0] // BATCH_SIZE\n",
        "    train_history = model.fit(\n",
        "        tr_ds,\n",
        "        steps_per_epoch=n_steps,\n",
        "        validation_data = vl_ds,\n",
        "        epochs=5, callbacks=[model_checkpoint_callback]\n",
        "    )\n",
        "    \n",
        "    # The model weights (that are considered the best) are loaded into the model.\n",
        "    model.load_weights( checkpoint_path)\n",
        "    y_pred = model.predict(vl_ds.map(lambda x,y:x))\n",
        "    y_oof[val_idx, :] = y_pred\n",
        "    y_vl = train_small['Label'].iloc[val_idx]   \n",
        "    metric = accuracy_score(y_vl, np.argmax(y_pred, 1))\n",
        "    print(\"fold #{} val_loss: {}\".format(i, metric))\n",
        "\n",
        "    # Make predictions of rest of train the model\n",
        "    proba_large =  model.predict(train_large_ds)\n",
        "    y_large += proba_large / n_splits\n",
        "    \n",
        "    # Make predictions with the model\n",
        "    y_test += model.predict(test_ds) / n_splits\n",
        "    metrics.append(metric)\n",
        "    i += 1\n",
        "\n",
        "\n",
        "metrics = np.array(metrics).mean()\n",
        "print(f'Full accuracy {metrics}')  # "
      ],
      "id": "mItOZBgAu51B",
      "execution_count": 17,
      "outputs": [
        {
          "output_type": "stream",
          "text": [
            "WARNING:tensorflow:AutoGraph could not transform <function reformat at 0x7f50f522e680> and will run it as-is.\n",
            "Please report this to the TensorFlow team. When filing the bug, set the verbosity to 10 (on Linux, `export AUTOGRAPH_VERBOSITY=10`) and attach the full output.\n",
            "Cause: Unable to locate the source code of <function reformat at 0x7f50f522e680>. Note that functions defined in certain environments, like the interactive Python shell do not expose their source code. If that is the case, you should to define them in a .py source file. If you are certain the code is graph-compatible, wrap the call using @tf.autograph.do_not_convert. Original error: could not get source code\n",
            "To silence this warning, decorate the function with @tf.autograph.experimental.do_not_convert\n",
            "WARNING: AutoGraph could not transform <function reformat at 0x7f50f522e680> and will run it as-is.\n",
            "Please report this to the TensorFlow team. When filing the bug, set the verbosity to 10 (on Linux, `export AUTOGRAPH_VERBOSITY=10`) and attach the full output.\n",
            "Cause: Unable to locate the source code of <function reformat at 0x7f50f522e680>. Note that functions defined in certain environments, like the interactive Python shell do not expose their source code. If that is the case, you should to define them in a .py source file. If you are certain the code is graph-compatible, wrap the call using @tf.autograph.do_not_convert. Original error: could not get source code\n",
            "To silence this warning, decorate the function with @tf.autograph.experimental.do_not_convert\n",
            "Epoch 1/5\n",
            "21/21 [==============================] - 11s 405ms/step - loss: 2.2409 - accuracy: 0.1970 - val_loss: 1.5315 - val_accuracy: 0.5233\n",
            "Epoch 2/5\n",
            "21/21 [==============================] - 8s 375ms/step - loss: 0.9488 - accuracy: 0.7314 - val_loss: 1.1892 - val_accuracy: 0.6860\n",
            "Epoch 3/5\n",
            "21/21 [==============================] - 8s 381ms/step - loss: 0.5031 - accuracy: 0.8610 - val_loss: 1.1379 - val_accuracy: 0.6395\n",
            "Epoch 4/5\n",
            "21/21 [==============================] - 8s 376ms/step - loss: 0.3975 - accuracy: 0.8873 - val_loss: 1.1464 - val_accuracy: 0.6163\n",
            "Epoch 5/5\n",
            "21/21 [==============================] - 8s 380ms/step - loss: 0.3406 - accuracy: 0.9165 - val_loss: 1.1990 - val_accuracy: 0.6279\n",
            "fold #0 val_loss: 0.686046511627907\n",
            "Epoch 1/5\n",
            "21/21 [==============================] - 10s 401ms/step - loss: 2.2952 - accuracy: 0.1719 - val_loss: 1.5073 - val_accuracy: 0.5930\n",
            "Epoch 2/5\n",
            "21/21 [==============================] - 8s 379ms/step - loss: 1.0411 - accuracy: 0.6845 - val_loss: 1.2308 - val_accuracy: 0.6163\n",
            "Epoch 3/5\n",
            "21/21 [==============================] - 8s 383ms/step - loss: 0.5730 - accuracy: 0.8268 - val_loss: 1.2259 - val_accuracy: 0.5814\n",
            "Epoch 4/5\n",
            "21/21 [==============================] - 8s 375ms/step - loss: 0.4019 - accuracy: 0.8609 - val_loss: 1.0911 - val_accuracy: 0.6163\n",
            "Epoch 5/5\n",
            "21/21 [==============================] - 8s 380ms/step - loss: 0.2497 - accuracy: 0.9247 - val_loss: 1.0585 - val_accuracy: 0.6744\n",
            "fold #1 val_loss: 0.6744186046511628\n",
            "Epoch 1/5\n",
            "21/21 [==============================] - 11s 416ms/step - loss: 2.2639 - accuracy: 0.1774 - val_loss: 1.5546 - val_accuracy: 0.3721\n",
            "Epoch 2/5\n",
            "21/21 [==============================] - 8s 377ms/step - loss: 1.0158 - accuracy: 0.6801 - val_loss: 1.1892 - val_accuracy: 0.6512\n",
            "Epoch 3/5\n",
            "21/21 [==============================] - 8s 381ms/step - loss: 0.5996 - accuracy: 0.7979 - val_loss: 1.0666 - val_accuracy: 0.6977\n",
            "Epoch 4/5\n",
            "21/21 [==============================] - 8s 378ms/step - loss: 0.3909 - accuracy: 0.8802 - val_loss: 1.1018 - val_accuracy: 0.6512\n",
            "Epoch 5/5\n",
            "21/21 [==============================] - 8s 378ms/step - loss: 0.2847 - accuracy: 0.9370 - val_loss: 0.9836 - val_accuracy: 0.6744\n",
            "fold #2 val_loss: 0.6976744186046512\n",
            "Epoch 1/5\n",
            "21/21 [==============================] - 10s 403ms/step - loss: 2.2119 - accuracy: 0.1513 - val_loss: 1.5133 - val_accuracy: 0.6118\n",
            "Epoch 2/5\n",
            "21/21 [==============================] - 8s 381ms/step - loss: 0.9655 - accuracy: 0.7498 - val_loss: 1.2254 - val_accuracy: 0.6353\n",
            "Epoch 3/5\n",
            "21/21 [==============================] - 8s 380ms/step - loss: 0.6255 - accuracy: 0.8351 - val_loss: 1.2446 - val_accuracy: 0.5176\n",
            "Epoch 4/5\n",
            "21/21 [==============================] - 8s 380ms/step - loss: 0.3587 - accuracy: 0.8938 - val_loss: 1.1292 - val_accuracy: 0.6353\n",
            "Epoch 5/5\n",
            "21/21 [==============================] - 8s 380ms/step - loss: 0.3003 - accuracy: 0.9344 - val_loss: 1.5727 - val_accuracy: 0.4000\n",
            "fold #3 val_loss: 0.6352941176470588\n",
            "Epoch 1/5\n",
            "21/21 [==============================] - 11s 407ms/step - loss: 2.1013 - accuracy: 0.1652 - val_loss: 1.5214 - val_accuracy: 0.4471\n",
            "Epoch 2/5\n",
            "21/21 [==============================] - 8s 379ms/step - loss: 0.8609 - accuracy: 0.7629 - val_loss: 1.1735 - val_accuracy: 0.7059\n",
            "Epoch 3/5\n",
            "21/21 [==============================] - 8s 384ms/step - loss: 0.6132 - accuracy: 0.8389 - val_loss: 1.5094 - val_accuracy: 0.3882\n",
            "Epoch 4/5\n",
            "21/21 [==============================] - 8s 373ms/step - loss: 0.4863 - accuracy: 0.8630 - val_loss: 1.2689 - val_accuracy: 0.6471\n",
            "Epoch 5/5\n",
            "21/21 [==============================] - 8s 374ms/step - loss: 0.2287 - accuracy: 0.9597 - val_loss: 0.9659 - val_accuracy: 0.7412\n",
            "fold #4 val_loss: 0.7411764705882353\n",
            "Full accuracy 0.686922024623803\n"
          ],
          "name": "stdout"
        }
      ]
    },
    {
      "cell_type": "markdown",
      "metadata": {
        "id": "SIiFCwDNx51T"
      },
      "source": [
        "# **Save Model Weights** : \n",
        "\n",
        "\n",
        "--- \n",
        "*   here is the link for the Model Weights : **[transformer Truncated weights fold0](https://drive.google.com/drive/folders/1rMpwkqPf8JEQ-1il1xMCEOZTGe5yZDeC?usp=sharing)**\n",
        "* Those Weights will used in the Notebook ***transformers_truncated_baseline_ckpt.ipynb***\n",
        "\n",
        "\n"
      ],
      "id": "SIiFCwDNx51T"
    }
  ]
}