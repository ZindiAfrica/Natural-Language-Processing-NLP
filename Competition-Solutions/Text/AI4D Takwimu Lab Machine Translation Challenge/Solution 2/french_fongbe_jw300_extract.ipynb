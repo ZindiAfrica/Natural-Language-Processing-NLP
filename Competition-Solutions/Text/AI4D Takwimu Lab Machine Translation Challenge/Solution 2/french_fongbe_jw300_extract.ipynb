{
  "nbformat": 4,
  "nbformat_minor": 0,
  "metadata": {
    "colab": {
      "name": "french_fongbe_jw300_extract.ipynb",
      "provenance": [],
      "collapsed_sections": []
    },
    "kernelspec": {
      "name": "python3",
      "display_name": "Python 3"
    },
    "language_info": {
      "name": "python"
    }
  },
  "cells": [
    {
      "cell_type": "code",
      "metadata": {
        "id": "8gNYCvcwqlrm",
        "colab": {
          "base_uri": "https://localhost:8080/"
        },
        "outputId": "0c4f6f72-5821-4043-8ff6-9cc5fe0994fe"
      },
      "source": [
        "!pip install --upgrade opustools-pkg"
      ],
      "execution_count": null,
      "outputs": [
        {
          "output_type": "stream",
          "text": [
            "Collecting opustools-pkg\n",
            "\u001b[?25l  Downloading https://files.pythonhosted.org/packages/6c/9f/e829a0cceccc603450cd18e1ff80807b6237a88d9a8df2c0bb320796e900/opustools_pkg-0.0.52-py3-none-any.whl (80kB)\n",
            "\u001b[K     |████████████████████████████████| 81kB 4.1MB/s \n",
            "\u001b[?25hInstalling collected packages: opustools-pkg\n",
            "Successfully installed opustools-pkg-0.0.52\n"
          ],
          "name": "stdout"
        }
      ]
    },
    {
      "cell_type": "code",
      "metadata": {
        "id": "zG4z_25PqpJD"
      },
      "source": [
        "import opustools_pkg"
      ],
      "execution_count": null,
      "outputs": []
    },
    {
      "cell_type": "code",
      "metadata": {
        "id": "KGfSf-dfqtgA",
        "colab": {
          "base_uri": "https://localhost:8080/"
        },
        "outputId": "9d9be8cb-9ced-4993-80d3-6df0f4fb3463"
      },
      "source": [
        "!mkdir JW300"
      ],
      "execution_count": null,
      "outputs": [
        {
          "output_type": "stream",
          "text": [
            "mkdir: cannot create directory ‘JW300’: File exists\n"
          ],
          "name": "stdout"
        }
      ]
    },
    {
      "cell_type": "code",
      "metadata": {
        "id": "ee_KGVxZqvlq"
      },
      "source": [
        "filedir  = 'JW300'\n",
        "src = 'fr'\n",
        "trg = 'fon'\n",
        "source_file = \"{}/jw300.{}-{}.{}\".format(filedir, src, trg, src)\n",
        "target_file = \"{}/jw300.{}-{}.{}\".format(filedir, src, trg, trg)\n",
        "\n",
        "# download\n",
        "opus_reader = opustools_pkg.OpusRead(directory=\"JW300\", source=src, target=trg, write_mode=\"moses\", write=[source_file, target_file], suppress_prompts=True)\n",
        "opus_reader.printPairs()"
      ],
      "execution_count": null,
      "outputs": []
    },
    {
      "cell_type": "code",
      "metadata": {
        "colab": {
          "base_uri": "https://localhost:8080/"
        },
        "id": "fHQrhCHJqypa",
        "outputId": "cbe3f26a-51a6-426e-b897-d81b67ec440d"
      },
      "source": [
        "source = []\n",
        "target = []\n",
        "skip_lines = []\n",
        "with open(source_file) as f:\n",
        "  for i, line in enumerate(f):\n",
        "    # skip sentences that are contained in the test set\n",
        "    source.append(line.strip())\n",
        "    \n",
        "with open(target_file) as f:\n",
        "  for j, line in enumerate(f):\n",
        "    # only add to corpus if corresponding source was not skipped\n",
        "    if j not in skip_lines:\n",
        "      target.append(line.strip())\n",
        "print('Loaded data and skipped {} lines since contained in test set.'.format(len(skip_lines)))"
      ],
      "execution_count": null,
      "outputs": [
        {
          "output_type": "stream",
          "text": [
            "Loaded data and skipped 0 lines since contained in test set.\n"
          ],
          "name": "stdout"
        }
      ]
    },
    {
      "cell_type": "code",
      "metadata": {
        "id": "VQHNroFjq6Yy"
      },
      "source": [
        "import pandas as pd\n",
        "df = pd.DataFrame(zip(source, target), columns=['French', 'Fongbe'])\n",
        "df = df[df['Fongbe']!='']\n",
        "df = df[df['French']!='']"
      ],
      "execution_count": null,
      "outputs": []
    },
    {
      "cell_type": "code",
      "metadata": {
        "id": "8b5OWwmo36xX"
      },
      "source": [
        ""
      ],
      "execution_count": null,
      "outputs": []
    },
    {
      "cell_type": "code",
      "metadata": {
        "colab": {
          "base_uri": "https://localhost:8080/"
        },
        "id": "ZY_HK-Tvr76z",
        "outputId": "ff8df3a3-a309-40f6-c73b-79b8e58d38ea"
      },
      "source": [
        "df = df.drop_duplicates()\n",
        "df = df.dropna(subset=['Fongbe'])\n",
        "df.shape"
      ],
      "execution_count": null,
      "outputs": [
        {
          "output_type": "execute_result",
          "data": {
            "text/plain": [
              "(31340, 2)"
            ]
          },
          "metadata": {
            "tags": []
          },
          "execution_count": 6
        }
      ]
    },
    {
      "cell_type": "code",
      "metadata": {
        "id": "qn1o1QYYsDAs"
      },
      "source": [
        "df.to_csv('/content/drive/MyDrive/takwimu_translations/french_fongbe.csv',index=False)"
      ],
      "execution_count": null,
      "outputs": []
    },
    {
      "cell_type": "code",
      "metadata": {
        "id": "793EbOsZselW"
      },
      "source": [
        ""
      ],
      "execution_count": null,
      "outputs": []
    },
    {
      "cell_type": "code",
      "metadata": {
        "id": "IoGq2xFus1LD"
      },
      "source": [
        ""
      ],
      "execution_count": null,
      "outputs": []
    },
    {
      "cell_type": "code",
      "metadata": {
        "id": "S9-jdcwWtSPt"
      },
      "source": [
        ""
      ],
      "execution_count": null,
      "outputs": []
    },
    {
      "cell_type": "code",
      "metadata": {
        "id": "vVFhJB1itXHM"
      },
      "source": [
        ""
      ],
      "execution_count": null,
      "outputs": []
    }
  ]
}