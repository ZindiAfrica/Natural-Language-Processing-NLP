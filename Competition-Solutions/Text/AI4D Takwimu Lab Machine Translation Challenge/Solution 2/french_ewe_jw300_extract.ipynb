{
  "nbformat": 4,
  "nbformat_minor": 0,
  "metadata": {
    "colab": {
      "name": "french_ewe_jw300_extract.ipynb",
      "provenance": [],
      "collapsed_sections": []
    },
    "kernelspec": {
      "name": "python3",
      "display_name": "Python 3"
    },
    "language_info": {
      "name": "python"
    }
  },
  "cells": [
    {
      "cell_type": "code",
      "metadata": {
        "id": "8gNYCvcwqlrm",
        "colab": {
          "base_uri": "https://localhost:8080/"
        },
        "outputId": "57f80aba-ef3d-4526-dedd-4498a9236ee5"
      },
      "source": [
        "!pip install --upgrade opustools-pkg"
      ],
      "execution_count": null,
      "outputs": [
        {
          "output_type": "stream",
          "text": [
            "Collecting opustools-pkg\n",
            "\u001b[?25l  Downloading https://files.pythonhosted.org/packages/6c/9f/e829a0cceccc603450cd18e1ff80807b6237a88d9a8df2c0bb320796e900/opustools_pkg-0.0.52-py3-none-any.whl (80kB)\n",
            "\r\u001b[K     |████                            | 10kB 5.1MB/s eta 0:00:01\r\u001b[K     |████████                        | 20kB 8.1MB/s eta 0:00:01\r\u001b[K     |████████████▏                   | 30kB 5.9MB/s eta 0:00:01\r\u001b[K     |████████████████▏               | 40kB 5.5MB/s eta 0:00:01\r\u001b[K     |████████████████████▎           | 51kB 2.9MB/s eta 0:00:01\r\u001b[K     |████████████████████████▎       | 61kB 3.4MB/s eta 0:00:01\r\u001b[K     |████████████████████████████▎   | 71kB 3.5MB/s eta 0:00:01\r\u001b[K     |████████████████████████████████| 81kB 2.3MB/s \n",
            "\u001b[?25hInstalling collected packages: opustools-pkg\n",
            "Successfully installed opustools-pkg-0.0.52\n"
          ],
          "name": "stdout"
        }
      ]
    },
    {
      "cell_type": "code",
      "metadata": {
        "id": "zG4z_25PqpJD"
      },
      "source": [
        "import opustools_pkg"
      ],
      "execution_count": null,
      "outputs": []
    },
    {
      "cell_type": "code",
      "metadata": {
        "id": "KGfSf-dfqtgA"
      },
      "source": [
        "!mkdir JW300"
      ],
      "execution_count": null,
      "outputs": []
    },
    {
      "cell_type": "code",
      "metadata": {
        "colab": {
          "base_uri": "https://localhost:8080/"
        },
        "id": "ee_KGVxZqvlq",
        "outputId": "504b2fc9-ed3f-4878-f8c9-6e1630283bc8"
      },
      "source": [
        "filedir  = 'JW300'\n",
        "src = 'fr'\n",
        "trg = 'ee'\n",
        "source_file = \"{}/jw300.{}-{}.{}\".format(filedir, src, trg, src)\n",
        "target_file = \"{}/jw300.{}-{}.{}\".format(filedir, src, trg, trg)\n",
        "\n",
        "# download\n",
        "opus_reader = opustools_pkg.OpusRead(directory=\"JW300\", source=src, target=trg, write_mode=\"moses\", write=[source_file, target_file], suppress_prompts=True)\n",
        "opus_reader.printPairs()"
      ],
      "execution_count": null,
      "outputs": [
        {
          "output_type": "stream",
          "text": [
            "\n",
            "Alignment file /proj/nlpl/data/OPUS/JW300/latest/xml/ee-fr.xml.gz not found. The following files are available for downloading:\n",
            "\n",
            "   7 MB https://object.pouta.csc.fi/OPUS-JW300/v1b/xml/ee-fr.xml.gz\n",
            "  69 MB https://object.pouta.csc.fi/OPUS-JW300/v1b/xml/ee.zip\n",
            " 278 MB https://object.pouta.csc.fi/OPUS-JW300/v1b/xml/fr.zip\n",
            "\n",
            " 354 MB Total size\n",
            "./JW300_latest_xml_ee-fr.xml.gz ... 100% of 7 MB\n",
            "./JW300_latest_xml_ee.zip ... 100% of 69 MB\n",
            "./JW300_latest_xml_fr.zip ... 100% of 278 MB\n"
          ],
          "name": "stdout"
        }
      ]
    },
    {
      "cell_type": "code",
      "metadata": {
        "colab": {
          "base_uri": "https://localhost:8080/"
        },
        "id": "fHQrhCHJqypa",
        "outputId": "0d88d25e-0386-4227-efc8-6b3927df59d8"
      },
      "source": [
        "source = []\n",
        "target = []\n",
        "skip_lines = []\n",
        "with open(source_file) as f:\n",
        "  for i, line in enumerate(f):\n",
        "    # skip sentences that are contained in the test set\n",
        "    source.append(line.strip())\n",
        "    \n",
        "with open(target_file) as f:\n",
        "  for j, line in enumerate(f):\n",
        "    # only add to corpus if corresponding source was not skipped\n",
        "    if j not in skip_lines:\n",
        "      target.append(line.strip())\n",
        "print('Loaded data and skipped {} lines since contained in test set.'.format(len(skip_lines)))"
      ],
      "execution_count": null,
      "outputs": [
        {
          "output_type": "stream",
          "text": [
            "Loaded data and skipped 0 lines since contained in test set.\n"
          ],
          "name": "stdout"
        }
      ]
    },
    {
      "cell_type": "code",
      "metadata": {
        "id": "VQHNroFjq6Yy"
      },
      "source": [
        "import pandas as pd\n",
        "df = pd.DataFrame(zip(source, target), columns=['French', 'Ewe'])\n",
        "df = df[df['Ewe']!='']\n",
        "df = df[df['French']!='']"
      ],
      "execution_count": null,
      "outputs": []
    },
    {
      "cell_type": "code",
      "metadata": {
        "colab": {
          "base_uri": "https://localhost:8080/"
        },
        "id": "ZY_HK-Tvr76z",
        "outputId": "abf4aa19-bd50-46dc-a912-f80b7014f166"
      },
      "source": [
        "df = df.drop_duplicates()\n",
        "df = df.dropna()\n",
        "df.shape"
      ],
      "execution_count": null,
      "outputs": [
        {
          "output_type": "execute_result",
          "data": {
            "text/plain": [
              "(586197, 2)"
            ]
          },
          "metadata": {
            "tags": []
          },
          "execution_count": 8
        }
      ]
    },
    {
      "cell_type": "code",
      "metadata": {
        "colab": {
          "base_uri": "https://localhost:8080/",
          "height": 402
        },
        "id": "zM7lhMx4Mt4l",
        "outputId": "ebe2222b-df6e-4cd3-f750-f9191465707d"
      },
      "source": [
        "df"
      ],
      "execution_count": null,
      "outputs": [
        {
          "output_type": "execute_result",
          "data": {
            "text/html": [
              "<div>\n",
              "<style scoped>\n",
              "    .dataframe tbody tr th:only-of-type {\n",
              "        vertical-align: middle;\n",
              "    }\n",
              "\n",
              "    .dataframe tbody tr th {\n",
              "        vertical-align: top;\n",
              "    }\n",
              "\n",
              "    .dataframe thead th {\n",
              "        text-align: right;\n",
              "    }\n",
              "</style>\n",
              "<table border=\"1\" class=\"dataframe\">\n",
              "  <thead>\n",
              "    <tr style=\"text-align: right;\">\n",
              "      <th></th>\n",
              "      <th>French</th>\n",
              "      <th>Ewe</th>\n",
              "    </tr>\n",
              "  </thead>\n",
              "  <tbody>\n",
              "    <tr>\n",
              "      <th>0</th>\n",
              "      <td>D’après la Bible . . .</td>\n",
              "      <td>Biblia Ƒe Nukpɔsusu</td>\n",
              "    </tr>\n",
              "    <tr>\n",
              "      <th>1</th>\n",
              "      <td>“ Le bâton de la discipline ” : est - ​ ce dép...</td>\n",
              "      <td>“ Ameƒoti La ” ​ — Tsigãdzinu Yea ?</td>\n",
              "    </tr>\n",
              "    <tr>\n",
              "      <th>2</th>\n",
              "      <td>“ La sottise est liée au cœur du garçon ; le b...</td>\n",
              "      <td>“ Ne bometsitsi bla ɖe ŋutsuvi ƒe dzi ŋu la , ...</td>\n",
              "    </tr>\n",
              "    <tr>\n",
              "      <th>3</th>\n",
              "      <td>“ Toute punition corporelle est préjudiciable ...</td>\n",
              "      <td>“ Ameƒoƒo ɖesiaɖe gblẽa nu le ame ƒe seselelãm...</td>\n",
              "    </tr>\n",
              "    <tr>\n",
              "      <th>4</th>\n",
              "      <td>L’EXPRESSION “ le bâton de la discipline ” que...</td>\n",
              "      <td>“ AMEƑOTI ” si Biblia yɔ la hea nyaʋi­ʋli vevi...</td>\n",
              "    </tr>\n",
              "    <tr>\n",
              "      <th>...</th>\n",
              "      <td>...</td>\n",
              "      <td>...</td>\n",
              "    </tr>\n",
              "    <tr>\n",
              "      <th>634959</th>\n",
              "      <td>Et je continue à compter sur Jéhovah en le pri...</td>\n",
              "      <td>Eye mekpɔtɔ ɖoa ŋu ɖe Yehowa ŋu hedoa gbe ɖa n...</td>\n",
              "    </tr>\n",
              "    <tr>\n",
              "      <th>634960</th>\n",
              "      <td>Nous avons peut - être des faiblesses difficil...</td>\n",
              "      <td>Avuwɔwɔ kple míaƒe gbɔdzɔgbɔdzɔwo : Efia be ɖe...</td>\n",
              "    </tr>\n",
              "    <tr>\n",
              "      <th>634961</th>\n",
              "      <td>Par exemple , perdre patience , nous mettre vi...</td>\n",
              "      <td>Anɔ eme be míegbɔa dzi ɖi o , dzi kua mí kabak...</td>\n",
              "    </tr>\n",
              "    <tr>\n",
              "      <th>634962</th>\n",
              "      <td>Lutter contre nos faiblesses , c’est continuer...</td>\n",
              "      <td>Ehiã be míayi edzi anɔ kutri kum be míaɖe asi ...</td>\n",
              "    </tr>\n",
              "    <tr>\n",
              "      <th>634963</th>\n",
              "      <td>Ces efforts sont comparés à une lutte .</td>\n",
              "      <td>Agbagbadzedze be míaɖu míaƒe gbɔdzɔgbɔdzɔwo dz...</td>\n",
              "    </tr>\n",
              "  </tbody>\n",
              "</table>\n",
              "<p>586197 rows × 2 columns</p>\n",
              "</div>"
            ],
            "text/plain": [
              "                                                   French                                                Ewe\n",
              "0                                  D’après la Bible . . .                                Biblia Ƒe Nukpɔsusu\n",
              "1       “ Le bâton de la discipline ” : est - ​ ce dép...                “ Ameƒoti La ” ​ — Tsigãdzinu Yea ?\n",
              "2       “ La sottise est liée au cœur du garçon ; le b...  “ Ne bometsitsi bla ɖe ŋutsuvi ƒe dzi ŋu la , ...\n",
              "3       “ Toute punition corporelle est préjudiciable ...  “ Ameƒoƒo ɖesiaɖe gblẽa nu le ame ƒe seselelãm...\n",
              "4       L’EXPRESSION “ le bâton de la discipline ” que...  “ AMEƑOTI ” si Biblia yɔ la hea nyaʋi­ʋli vevi...\n",
              "...                                                   ...                                                ...\n",
              "634959  Et je continue à compter sur Jéhovah en le pri...  Eye mekpɔtɔ ɖoa ŋu ɖe Yehowa ŋu hedoa gbe ɖa n...\n",
              "634960  Nous avons peut - être des faiblesses difficil...  Avuwɔwɔ kple míaƒe gbɔdzɔgbɔdzɔwo : Efia be ɖe...\n",
              "634961  Par exemple , perdre patience , nous mettre vi...  Anɔ eme be míegbɔa dzi ɖi o , dzi kua mí kabak...\n",
              "634962  Lutter contre nos faiblesses , c’est continuer...  Ehiã be míayi edzi anɔ kutri kum be míaɖe asi ...\n",
              "634963            Ces efforts sont comparés à une lutte .  Agbagbadzedze be míaɖu míaƒe gbɔdzɔgbɔdzɔwo dz...\n",
              "\n",
              "[586197 rows x 2 columns]"
            ]
          },
          "metadata": {
            "tags": []
          },
          "execution_count": 9
        }
      ]
    },
    {
      "cell_type": "code",
      "metadata": {
        "id": "m7pIViyhsaIH"
      },
      "source": [
        "df.to_csv('/content/drive/MyDrive/takwimu_translations/french_ewe.csv',index=False)"
      ],
      "execution_count": null,
      "outputs": []
    },
    {
      "cell_type": "code",
      "metadata": {
        "id": "qn1o1QYYsDAs"
      },
      "source": [
        ""
      ],
      "execution_count": null,
      "outputs": []
    },
    {
      "cell_type": "code",
      "metadata": {
        "id": "793EbOsZselW"
      },
      "source": [
        ""
      ],
      "execution_count": null,
      "outputs": []
    },
    {
      "cell_type": "code",
      "metadata": {
        "id": "IoGq2xFus1LD"
      },
      "source": [
        ""
      ],
      "execution_count": null,
      "outputs": []
    },
    {
      "cell_type": "code",
      "metadata": {
        "id": "S9-jdcwWtSPt"
      },
      "source": [
        ""
      ],
      "execution_count": null,
      "outputs": []
    },
    {
      "cell_type": "code",
      "metadata": {
        "id": "vVFhJB1itXHM"
      },
      "source": [
        ""
      ],
      "execution_count": null,
      "outputs": []
    }
  ]
}