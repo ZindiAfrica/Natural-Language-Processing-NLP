{
  "nbformat": 4,
  "nbformat_minor": 0,
  "metadata": {
    "colab": {
      "name": "takwimu_ensemble_n_datajoin.ipynb",
      "provenance": [],
      "collapsed_sections": []
    },
    "kernelspec": {
      "name": "python3",
      "display_name": "Python 3"
    },
    "language_info": {
      "name": "python"
    }
  },
  "cells": [
    {
      "cell_type": "code",
      "metadata": {
        "id": "mcZxCmXxYRxi"
      },
      "source": [
        "import pandas as pd \n",
        "import numpy as np \n",
        "import re"
      ],
      "execution_count": 1,
      "outputs": []
    },
    {
      "cell_type": "markdown",
      "metadata": {
        "id": "EVQLMNLDnFga"
      },
      "source": [
        "## Here we load the outcomes of all the model outputs attained till now (precisely step 4,5,6 of documentation)"
      ]
    },
    {
      "cell_type": "code",
      "metadata": {
        "id": "2CaF0T-JYYcr"
      },
      "source": [
        "fong1 = pd.read_csv('/content/french_gungbe_trials.csv')\n",
        "fong2 = pd.read_csv('/content/french_fongbe_trial_seq2seq_salim.csv')\n",
        "ewe   = pd.read_csv('/content/french_ewe_seq2seq_trials_3.csv')"
      ],
      "execution_count": 2,
      "outputs": []
    },
    {
      "cell_type": "markdown",
      "metadata": {
        "id": "tBEqtsp1o4xA"
      },
      "source": [
        "## Two outcomes created for blending \n",
        "1. outdf1 consists of french to Gungbe (for Fongbe) and French to Ewe (for Ewe) datasets combined\n",
        "2. outdf2 consists of French to Ewe (for Fongbe) and French to Ewe(for Ewe) combined"
      ]
    },
    {
      "cell_type": "code",
      "metadata": {
        "colab": {
          "base_uri": "https://localhost:8080/"
        },
        "id": "SZ5DcCF0Ymou",
        "outputId": "90692580-8f12-4ebc-cf67-d1fb5efe0673"
      },
      "source": [
        "outdf1 = fong1.append(ewe)\n",
        "outdf2 = fong2.append(ewe)\n",
        "outdf1.shape,outdf2.shape"
      ],
      "execution_count": 3,
      "outputs": [
        {
          "output_type": "execute_result",
          "data": {
            "text/plain": [
              "((5893, 2), (5893, 2))"
            ]
          },
          "metadata": {
            "tags": []
          },
          "execution_count": 3
        }
      ]
    },
    {
      "cell_type": "markdown",
      "metadata": {
        "id": "mw1Xdt1bnOqv"
      },
      "source": [
        "## Length adjustment \n",
        "We can clearly see that there are some translations where the length exceeded beyond a certain limit and will result in lower F1 Rouge score"
      ]
    },
    {
      "cell_type": "code",
      "metadata": {
        "colab": {
          "base_uri": "https://localhost:8080/",
          "height": 402
        },
        "id": "X2w8tpvXYser",
        "outputId": "b0e11289-19c2-4ac1-f33e-7c46c81ca14d"
      },
      "source": [
        "outdf1['length'] = outdf1['Target'].str.len()\n",
        "outdf1.sort_values(by=['length'],ascending=False)"
      ],
      "execution_count": 4,
      "outputs": [
        {
          "output_type": "execute_result",
          "data": {
            "text/html": [
              "<div>\n",
              "<style scoped>\n",
              "    .dataframe tbody tr th:only-of-type {\n",
              "        vertical-align: middle;\n",
              "    }\n",
              "\n",
              "    .dataframe tbody tr th {\n",
              "        vertical-align: top;\n",
              "    }\n",
              "\n",
              "    .dataframe thead th {\n",
              "        text-align: right;\n",
              "    }\n",
              "</style>\n",
              "<table border=\"1\" class=\"dataframe\">\n",
              "  <thead>\n",
              "    <tr style=\"text-align: right;\">\n",
              "      <th></th>\n",
              "      <th>ID</th>\n",
              "      <th>Target</th>\n",
              "      <th>length</th>\n",
              "    </tr>\n",
              "  </thead>\n",
              "  <tbody>\n",
              "    <tr>\n",
              "      <th>402</th>\n",
              "      <td>ID_GjyJhPix</td>\n",
              "      <td>É sixu kpn , é na hn , b un na hn , b un na tu...</td>\n",
              "      <td>877</td>\n",
              "    </tr>\n",
              "    <tr>\n",
              "      <th>2692</th>\n",
              "      <td>ID_vpPUcjYl</td>\n",
              "      <td>Enyi mxo vi mitn l tn l  ye sixu e ye kpo o ji...</td>\n",
              "      <td>673</td>\n",
              "    </tr>\n",
              "    <tr>\n",
              "      <th>2308</th>\n",
              "      <td>ID_pUDQJiAX</td>\n",
              "      <td>Azn e w é ka sixu m è b wema evo l b m evo l b...</td>\n",
              "      <td>519</td>\n",
              "    </tr>\n",
              "    <tr>\n",
              "      <th>2844</th>\n",
              "      <td>ID_yiOnPRKU</td>\n",
              "      <td>N e è ò hwjij é ò hwjij 5 : 5 é ò ac e é ó na ...</td>\n",
              "      <td>511</td>\n",
              "    </tr>\n",
              "    <tr>\n",
              "      <th>1243</th>\n",
              "      <td>ID_VrPtMgdy</td>\n",
              "      <td>Xn okpo  nu mi  hwenu e ee e  é  emi  emi n m ...</td>\n",
              "      <td>507</td>\n",
              "    </tr>\n",
              "    <tr>\n",
              "      <th>...</th>\n",
              "      <td>...</td>\n",
              "      <td>...</td>\n",
              "      <td>...</td>\n",
              "    </tr>\n",
              "    <tr>\n",
              "      <th>862</th>\n",
              "      <td>ID_PIlOyOMc</td>\n",
              "      <td>ɛ̃</td>\n",
              "      <td>2</td>\n",
              "    </tr>\n",
              "    <tr>\n",
              "      <th>2762</th>\n",
              "      <td>ID_wXIaEMNT</td>\n",
              "      <td>ʋu</td>\n",
              "      <td>2</td>\n",
              "    </tr>\n",
              "    <tr>\n",
              "      <th>956</th>\n",
              "      <td>ID_QsuRTtCf</td>\n",
              "      <td>ìn</td>\n",
              "      <td>2</td>\n",
              "    </tr>\n",
              "    <tr>\n",
              "      <th>1978</th>\n",
              "      <td>ID_jZrozQPI</td>\n",
              "      <td>Ɣe</td>\n",
              "      <td>2</td>\n",
              "    </tr>\n",
              "    <tr>\n",
              "      <th>2890</th>\n",
              "      <td>ID_yrqZNqqy</td>\n",
              "      <td>E</td>\n",
              "      <td>1</td>\n",
              "    </tr>\n",
              "  </tbody>\n",
              "</table>\n",
              "<p>5893 rows × 3 columns</p>\n",
              "</div>"
            ],
            "text/plain": [
              "               ID                                             Target  length\n",
              "402   ID_GjyJhPix  É sixu kpn , é na hn , b un na hn , b un na tu...     877\n",
              "2692  ID_vpPUcjYl  Enyi mxo vi mitn l tn l  ye sixu e ye kpo o ji...     673\n",
              "2308  ID_pUDQJiAX  Azn e w é ka sixu m è b wema evo l b m evo l b...     519\n",
              "2844  ID_yiOnPRKU  N e è ò hwjij é ò hwjij 5 : 5 é ò ac e é ó na ...     511\n",
              "1243  ID_VrPtMgdy  Xn okpo  nu mi  hwenu e ee e  é  emi  emi n m ...     507\n",
              "...           ...                                                ...     ...\n",
              "862   ID_PIlOyOMc                                                 ɛ̃       2\n",
              "2762  ID_wXIaEMNT                                                 ʋu       2\n",
              "956   ID_QsuRTtCf                                                 ìn       2\n",
              "1978  ID_jZrozQPI                                                 Ɣe       2\n",
              "2890  ID_yrqZNqqy                                                  E       1\n",
              "\n",
              "[5893 rows x 3 columns]"
            ]
          },
          "metadata": {
            "tags": []
          },
          "execution_count": 4
        }
      ]
    },
    {
      "cell_type": "code",
      "metadata": {
        "colab": {
          "base_uri": "https://localhost:8080/",
          "height": 402
        },
        "id": "NjzJVHExY1tt",
        "outputId": "7f2efb94-29ef-4d2b-a542-da470f274438"
      },
      "source": [
        "outdf2['length'] = outdf2['Target'].str.len()\n",
        "outdf2.sort_values(by=['length'],ascending=False)"
      ],
      "execution_count": 5,
      "outputs": [
        {
          "output_type": "execute_result",
          "data": {
            "text/html": [
              "<div>\n",
              "<style scoped>\n",
              "    .dataframe tbody tr th:only-of-type {\n",
              "        vertical-align: middle;\n",
              "    }\n",
              "\n",
              "    .dataframe tbody tr th {\n",
              "        vertical-align: top;\n",
              "    }\n",
              "\n",
              "    .dataframe thead th {\n",
              "        text-align: right;\n",
              "    }\n",
              "</style>\n",
              "<table border=\"1\" class=\"dataframe\">\n",
              "  <thead>\n",
              "    <tr style=\"text-align: right;\">\n",
              "      <th></th>\n",
              "      <th>ID</th>\n",
              "      <th>Target</th>\n",
              "      <th>length</th>\n",
              "    </tr>\n",
              "  </thead>\n",
              "  <tbody>\n",
              "    <tr>\n",
              "      <th>1840</th>\n",
              "      <td>ID_grHYjFYV</td>\n",
              "      <td>Agban, nutikúnkpákpá ɖé dó yɛhwemɛ ɔ, wɛ nyí h...</td>\n",
              "      <td>895</td>\n",
              "    </tr>\n",
              "    <tr>\n",
              "      <th>2308</th>\n",
              "      <td>ID_pUDQJiAX</td>\n",
              "      <td>Nukɔnnukɔntɔn nukɔntɔn xá mɛ ɖevo lɛ ɖò wemaxi...</td>\n",
              "      <td>855</td>\n",
              "    </tr>\n",
              "    <tr>\n",
              "      <th>2844</th>\n",
              "      <td>ID_yiOnPRKU</td>\n",
              "      <td>Tɛnkpɔn ɖokpo 5 : 5 ) Fí ɔ, fitɛn e é nɔ ɖò gb...</td>\n",
              "      <td>796</td>\n",
              "    </tr>\n",
              "    <tr>\n",
              "      <th>2727</th>\n",
              "      <td>ID_wXaZAYow</td>\n",
              "      <td>Azɔ ɔ, nukunmɛ linlin lɛ nɔ gɔ́n nukúnnú ɖò mɛ...</td>\n",
              "      <td>779</td>\n",
              "    </tr>\n",
              "    <tr>\n",
              "      <th>2</th>\n",
              "      <td>ID_ACYgGXTq</td>\n",
              "      <td>Nù tɛ́ lɛ́ wɛ́ lɛ́ wɛ́ lɛ́ lɛ́ wɛ́ nɔ́ kàn nuk...</td>\n",
              "      <td>731</td>\n",
              "    </tr>\n",
              "    <tr>\n",
              "      <th>...</th>\n",
              "      <td>...</td>\n",
              "      <td>...</td>\n",
              "      <td>...</td>\n",
              "    </tr>\n",
              "    <tr>\n",
              "      <th>1044</th>\n",
              "      <td>ID_SbVfqwqq</td>\n",
              "      <td>Mai</td>\n",
              "      <td>3</td>\n",
              "    </tr>\n",
              "    <tr>\n",
              "      <th>2762</th>\n",
              "      <td>ID_wXIaEMNT</td>\n",
              "      <td>ʋu</td>\n",
              "      <td>2</td>\n",
              "    </tr>\n",
              "    <tr>\n",
              "      <th>1978</th>\n",
              "      <td>ID_jZrozQPI</td>\n",
              "      <td>Ɣe</td>\n",
              "      <td>2</td>\n",
              "    </tr>\n",
              "    <tr>\n",
              "      <th>862</th>\n",
              "      <td>ID_PIlOyOMc</td>\n",
              "      <td>ɛ̃</td>\n",
              "      <td>2</td>\n",
              "    </tr>\n",
              "    <tr>\n",
              "      <th>2890</th>\n",
              "      <td>ID_yrqZNqqy</td>\n",
              "      <td>E</td>\n",
              "      <td>1</td>\n",
              "    </tr>\n",
              "  </tbody>\n",
              "</table>\n",
              "<p>5893 rows × 3 columns</p>\n",
              "</div>"
            ],
            "text/plain": [
              "               ID                                             Target  length\n",
              "1840  ID_grHYjFYV  Agban, nutikúnkpákpá ɖé dó yɛhwemɛ ɔ, wɛ nyí h...     895\n",
              "2308  ID_pUDQJiAX  Nukɔnnukɔntɔn nukɔntɔn xá mɛ ɖevo lɛ ɖò wemaxi...     855\n",
              "2844  ID_yiOnPRKU  Tɛnkpɔn ɖokpo 5 : 5 ) Fí ɔ, fitɛn e é nɔ ɖò gb...     796\n",
              "2727  ID_wXaZAYow  Azɔ ɔ, nukunmɛ linlin lɛ nɔ gɔ́n nukúnnú ɖò mɛ...     779\n",
              "2     ID_ACYgGXTq  Nù tɛ́ lɛ́ wɛ́ lɛ́ wɛ́ lɛ́ lɛ́ wɛ́ nɔ́ kàn nuk...     731\n",
              "...           ...                                                ...     ...\n",
              "1044  ID_SbVfqwqq                                                Mai       3\n",
              "2762  ID_wXIaEMNT                                                 ʋu       2\n",
              "1978  ID_jZrozQPI                                                 Ɣe       2\n",
              "862   ID_PIlOyOMc                                                 ɛ̃       2\n",
              "2890  ID_yrqZNqqy                                                  E       1\n",
              "\n",
              "[5893 rows x 3 columns]"
            ]
          },
          "metadata": {
            "tags": []
          },
          "execution_count": 5
        }
      ]
    },
    {
      "cell_type": "markdown",
      "metadata": {
        "id": "dfNCbf4Hnb_v"
      },
      "source": [
        "We adjust the length here. Any sentence having sequence length of above 130 will be splitted and duplicates removed. \n",
        "<br>\n",
        "Also a similar treatment is done at character level where any word having more than 10 letters is discarded from the sentence "
      ]
    },
    {
      "cell_type": "code",
      "metadata": {
        "id": "tO_04q1VZHKu"
      },
      "source": [
        "def func(text,length):\n",
        "    if length>130:\n",
        "        splitted_text = text.split()\n",
        "        words_rel = []\n",
        "        for a in splitted_text:\n",
        "            if len(a)<10:\n",
        "                words_rel.append(a)\n",
        "        return ' '.join(words_rel)\n",
        "    else:\n",
        "        return text"
      ],
      "execution_count": 6,
      "outputs": []
    },
    {
      "cell_type": "code",
      "metadata": {
        "id": "47n6Zb-xY7df"
      },
      "source": [
        "outdf1['Target'] = outdf1.apply(lambda z: z['Target'] if z['length']<130 else ' '.join(list(set(z['Target'].split()))),axis=1)\n",
        "outdf2['Target'] = outdf2.apply(lambda z: z['Target'] if z['length']<130 else ' '.join(list(set(z['Target'].split()))),axis=1)\n",
        "\n",
        "outdf1['new_length'] = outdf1['Target'].str.len()\n",
        "outdf2['new_length'] = outdf2['Target'].str.len()\n"
      ],
      "execution_count": 7,
      "outputs": []
    },
    {
      "cell_type": "code",
      "metadata": {
        "colab": {
          "base_uri": "https://localhost:8080/",
          "height": 47
        },
        "id": "8fVNpiTyZViN",
        "outputId": "05e902df-6c93-439f-981d-30df92d06776"
      },
      "source": [
        "outdf1[outdf1['Target']==' ']"
      ],
      "execution_count": 8,
      "outputs": [
        {
          "output_type": "execute_result",
          "data": {
            "text/html": [
              "<div>\n",
              "<style scoped>\n",
              "    .dataframe tbody tr th:only-of-type {\n",
              "        vertical-align: middle;\n",
              "    }\n",
              "\n",
              "    .dataframe tbody tr th {\n",
              "        vertical-align: top;\n",
              "    }\n",
              "\n",
              "    .dataframe thead th {\n",
              "        text-align: right;\n",
              "    }\n",
              "</style>\n",
              "<table border=\"1\" class=\"dataframe\">\n",
              "  <thead>\n",
              "    <tr style=\"text-align: right;\">\n",
              "      <th></th>\n",
              "      <th>ID</th>\n",
              "      <th>Target</th>\n",
              "      <th>length</th>\n",
              "      <th>new_length</th>\n",
              "    </tr>\n",
              "  </thead>\n",
              "  <tbody>\n",
              "  </tbody>\n",
              "</table>\n",
              "</div>"
            ],
            "text/plain": [
              "Empty DataFrame\n",
              "Columns: [ID, Target, length, new_length]\n",
              "Index: []"
            ]
          },
          "metadata": {
            "tags": []
          },
          "execution_count": 8
        }
      ]
    },
    {
      "cell_type": "code",
      "metadata": {
        "colab": {
          "base_uri": "https://localhost:8080/",
          "height": 47
        },
        "id": "NaUeBUKGZZUz",
        "outputId": "379538e6-99ab-4ba4-f51b-0e60e8369782"
      },
      "source": [
        "outdf2[outdf2['Target']==' ']"
      ],
      "execution_count": 9,
      "outputs": [
        {
          "output_type": "execute_result",
          "data": {
            "text/html": [
              "<div>\n",
              "<style scoped>\n",
              "    .dataframe tbody tr th:only-of-type {\n",
              "        vertical-align: middle;\n",
              "    }\n",
              "\n",
              "    .dataframe tbody tr th {\n",
              "        vertical-align: top;\n",
              "    }\n",
              "\n",
              "    .dataframe thead th {\n",
              "        text-align: right;\n",
              "    }\n",
              "</style>\n",
              "<table border=\"1\" class=\"dataframe\">\n",
              "  <thead>\n",
              "    <tr style=\"text-align: right;\">\n",
              "      <th></th>\n",
              "      <th>ID</th>\n",
              "      <th>Target</th>\n",
              "      <th>length</th>\n",
              "      <th>new_length</th>\n",
              "    </tr>\n",
              "  </thead>\n",
              "  <tbody>\n",
              "  </tbody>\n",
              "</table>\n",
              "</div>"
            ],
            "text/plain": [
              "Empty DataFrame\n",
              "Columns: [ID, Target, length, new_length]\n",
              "Index: []"
            ]
          },
          "metadata": {
            "tags": []
          },
          "execution_count": 9
        }
      ]
    },
    {
      "cell_type": "markdown",
      "metadata": {
        "id": "95bAUPT7nvCH"
      },
      "source": [
        "Both the dataframes are merged and the result is the unique set of words coming from both the translations-\n",
        "1. French to Ewe for Fongbe\n",
        "2. French to Gungbe for Fongbe\n",
        "\n",
        "The French to Ewe translations remain consistent in both the above translations, so the blending won't affect any French to Ewe translations anyways."
      ]
    },
    {
      "cell_type": "code",
      "metadata": {
        "id": "gpCLk8mEZbJy"
      },
      "source": [
        "newdf = outdf1.copy()\n",
        "newdf = newdf.rename({'Target':'ewe_gungbe'},axis=1)\n",
        "fdf = newdf.merge(outdf2,on=['ID'],how='inner')"
      ],
      "execution_count": 10,
      "outputs": []
    },
    {
      "cell_type": "code",
      "metadata": {
        "colab": {
          "base_uri": "https://localhost:8080/",
          "height": 123
        },
        "id": "WFTt15Q3aTJu",
        "outputId": "fc38704c-d140-415f-8052-094226a7a2d3"
      },
      "source": [
        "fdf.head(2)"
      ],
      "execution_count": 11,
      "outputs": [
        {
          "output_type": "execute_result",
          "data": {
            "text/html": [
              "<div>\n",
              "<style scoped>\n",
              "    .dataframe tbody tr th:only-of-type {\n",
              "        vertical-align: middle;\n",
              "    }\n",
              "\n",
              "    .dataframe tbody tr th {\n",
              "        vertical-align: top;\n",
              "    }\n",
              "\n",
              "    .dataframe thead th {\n",
              "        text-align: right;\n",
              "    }\n",
              "</style>\n",
              "<table border=\"1\" class=\"dataframe\">\n",
              "  <thead>\n",
              "    <tr style=\"text-align: right;\">\n",
              "      <th></th>\n",
              "      <th>ID</th>\n",
              "      <th>ewe_gungbe</th>\n",
              "      <th>length_x</th>\n",
              "      <th>new_length_x</th>\n",
              "      <th>Target</th>\n",
              "      <th>length_y</th>\n",
              "      <th>new_length_y</th>\n",
              "    </tr>\n",
              "  </thead>\n",
              "  <tbody>\n",
              "    <tr>\n",
              "      <th>0</th>\n",
              "      <td>ID_AAGuzGzi</td>\n",
              "      <td>Msi axo en  l bi na wa Beni bo na o xwe e xwe ...</td>\n",
              "      <td>86</td>\n",
              "      <td>86</td>\n",
              "      <td>Jikpamátɔ ɖaxo enɛ ɔ lɛ byɔ́ wá Beɛn bó ná xwl...</td>\n",
              "      <td>77</td>\n",
              "      <td>77</td>\n",
              "    </tr>\n",
              "    <tr>\n",
              "      <th>1</th>\n",
              "      <td>ID_AAuiTPkQ</td>\n",
              "      <td>En  na wli m gbt l bo na jla gbm gbt l tn bo n...</td>\n",
              "      <td>95</td>\n",
              "      <td>95</td>\n",
              "      <td>Nùɖéwá élɔ́ ná zɔ́n bɔ̀ gbɛtɔ́ lɛ́ jɛ̀ gbɛtɔ́ ...</td>\n",
              "      <td>121</td>\n",
              "      <td>121</td>\n",
              "    </tr>\n",
              "  </tbody>\n",
              "</table>\n",
              "</div>"
            ],
            "text/plain": [
              "            ID  ... new_length_y\n",
              "0  ID_AAGuzGzi  ...           77\n",
              "1  ID_AAuiTPkQ  ...          121\n",
              "\n",
              "[2 rows x 7 columns]"
            ]
          },
          "metadata": {
            "tags": []
          },
          "execution_count": 11
        }
      ]
    },
    {
      "cell_type": "code",
      "metadata": {
        "id": "LZ5keEh1abCO"
      },
      "source": [
        "def blendedoutput(x,y):\n",
        "  a = set(x.split())\n",
        "  b = set(y.split())\n",
        "  return ' '.join(list(set(a|b)))"
      ],
      "execution_count": 12,
      "outputs": []
    },
    {
      "cell_type": "code",
      "metadata": {
        "id": "JyUcrXyTZ6gv"
      },
      "source": [
        "fdf['Blending'] = fdf.apply(lambda z: blendedoutput(z['ewe_gungbe'],z['Target']),axis=1)"
      ],
      "execution_count": 13,
      "outputs": []
    },
    {
      "cell_type": "code",
      "metadata": {
        "id": "o8bzvmQIaC-n"
      },
      "source": [
        "ndf = fdf[['ID','Blending']]"
      ],
      "execution_count": 14,
      "outputs": []
    },
    {
      "cell_type": "code",
      "metadata": {
        "id": "FqLx1fvpatdK"
      },
      "source": [
        "ndf.rename({'Blending':'Target'},axis=1)\n",
        "ndf.to_csv('blending_trial.csv',index=False)"
      ],
      "execution_count": 15,
      "outputs": []
    },
    {
      "cell_type": "markdown",
      "metadata": {
        "id": "Pv6J2ddEoZrw"
      },
      "source": [
        "This is the final output and can be submitted."
      ]
    },
    {
      "cell_type": "code",
      "metadata": {
        "id": "SbPgSJu3ay_C"
      },
      "source": [
        ""
      ],
      "execution_count": 15,
      "outputs": []
    }
  ]
}