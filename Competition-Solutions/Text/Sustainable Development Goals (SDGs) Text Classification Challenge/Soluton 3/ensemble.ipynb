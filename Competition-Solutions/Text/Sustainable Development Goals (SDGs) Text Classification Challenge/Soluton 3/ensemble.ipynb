{
 "cells": [
  {
   "cell_type": "code",
   "execution_count": 1,
   "metadata": {},
   "outputs": [],
   "source": [
    "import pandas as pd"
   ]
  },
  {
   "cell_type": "markdown",
   "metadata": {},
   "source": [
    "## Final ensembles\n",
    "one of the trick i learn from this [post](https://mlwave.com/kaggle-ensembling-guide/) that has help to win lot of kaggle competition is using different submission file and checking the correlation between them. the advice was to alway used submission file which are less correlated. they tend to improved the prediction.\n",
    "\n",
    "`1111111100 = 80% accuracy\n",
    "1111111100 = 80% accuracy\n",
    "1011111100 = 70% accuracy.`\n",
    "These models are highly correlated in their predictions. When we take a majority vote we see no improvement: `1111111100 = 80% accuracy`\n",
    "\n",
    "Now we compare to 3 less-performing, but highly uncorrelated models:\n",
    "\n",
    "`1111111100 = 80% accuracy\n",
    "0111011101 = 70% accuracy\n",
    "1000101111 = 60% accuracy\n",
    "`\n",
    "get an improvement of: `1111111101 = 90% accuracy`\n",
    "\n",
    "this is what give me the 0.03...,\n",
    "\n",
    "## Intuition Discovery\n",
    "i discover that for the blending ensemble, when the NBSVM model is add to it, always improve the score compare to other model"
   ]
  },
  {
   "cell_type": "code",
   "execution_count": 80,
   "metadata": {},
   "outputs": [],
   "source": [
    "en1 = pd.read_csv(\"submissionwfold1.csv\")\n",
    "en2 = pd.read_csv(\"submissionwfold3.csv\")\n",
    "en3 = pd.read_csv(\"submissionwfold2.csv\")\n",
    "en4 = pd.read_csv(\"submissionlgbm12.csv\")"
   ]
  },
  {
   "cell_type": "code",
   "execution_count": 53,
   "metadata": {},
   "outputs": [],
   "source": [
    "import numpy as np"
   ]
  },
  {
   "cell_type": "code",
   "execution_count": 19,
   "metadata": {},
   "outputs": [],
   "source": [
    "labels = en1.columns[1:]"
   ]
  },
  {
   "cell_type": "markdown",
   "metadata": {},
   "source": [
    "## check data correlation"
   ]
  },
  {
   "cell_type": "code",
   "execution_count": 81,
   "metadata": {},
   "outputs": [
    {
     "name": "stdout",
     "output_type": "stream",
     "text": [
      "label:-------- 3.1.1 ----------\n",
      "correlation....:  0.9332300323424229\n",
      "-------done with:  3.1.1 --------\n",
      "label:-------- 3.1.2 ----------\n",
      "correlation....:  nan\n",
      "-------done with:  3.1.2 --------\n",
      "label:-------- 3.2.1 ----------\n",
      "correlation....:  0.7940339225002306\n",
      "-------done with:  3.2.1 --------\n",
      "label:-------- 3.2.2 ----------\n",
      "correlation....:  0.9037893208120579\n",
      "-------done with:  3.2.2 --------\n",
      "label:-------- 3.3.1 ----------\n",
      "correlation....:  0.9685657928523718\n",
      "-------done with:  3.3.1 --------\n",
      "label:-------- 3.3.2 ----------\n",
      "correlation....:  0.9632089721838414\n",
      "-------done with:  3.3.2 --------\n",
      "label:-------- 3.3.3 ----------\n",
      "correlation....:  0.9157805907172992\n",
      "-------done with:  3.3.3 --------\n",
      "label:-------- 3.3.4 ----------\n",
      "correlation....:  0.9677532158959236\n",
      "-------done with:  3.3.4 --------\n",
      "label:-------- 3.3.5 ----------\n",
      "correlation....:  0.9398249429286601\n",
      "-------done with:  3.3.5 --------\n",
      "label:-------- 3.4.1 ----------\n",
      "correlation....:  0.9664957596335687\n",
      "-------done with:  3.4.1 --------\n",
      "label:-------- 3.4.2 ----------\n",
      "correlation....:  0.34482060773944223\n",
      "-------done with:  3.4.2 --------\n",
      "label:-------- 3.5.1 ----------\n",
      "correlation....:  0.9278954027014722\n",
      "-------done with:  3.5.1 --------\n",
      "label:-------- 3.5.2 ----------\n",
      "correlation....:  0.5556771527702196\n",
      "-------done with:  3.5.2 --------\n",
      "label:-------- 3.6.1 ----------\n",
      "correlation....:  nan\n",
      "-------done with:  3.6.1 --------\n",
      "label:-------- 3.7.1 ----------\n",
      "correlation....:  0.925721194747917\n",
      "-------done with:  3.7.1 --------\n",
      "label:-------- 3.7.2 ----------\n",
      "correlation....:  0.8578645918378025\n",
      "-------done with:  3.7.2 --------\n",
      "label:-------- 3.8.1 ----------\n",
      "correlation....:  0.8009017311615864\n",
      "-------done with:  3.8.1 --------\n",
      "label:-------- 3.8.2 ----------\n",
      "correlation....:  0.9124111603578068\n",
      "-------done with:  3.8.2 --------\n",
      "label:-------- 3.9.1 ----------\n",
      "correlation....:  0.9349422728069058\n",
      "-------done with:  3.9.1 --------\n",
      "label:-------- 3.9.2 ----------\n",
      "correlation....:  0.9492650844186175\n",
      "-------done with:  3.9.2 --------\n",
      "label:-------- 3.9.3 ----------\n",
      "correlation....:  1.0\n",
      "-------done with:  3.9.3 --------\n",
      "label:-------- 3.a.1 ----------\n",
      "correlation....:  0.9765082885995149\n",
      "-------done with:  3.a.1 --------\n",
      "label:-------- 3.b.1 ----------\n",
      "correlation....:  0.9204798383324732\n",
      "-------done with:  3.b.1 --------\n",
      "label:-------- 3.b.2 ----------\n",
      "correlation....:  0.9128464580017083\n",
      "-------done with:  3.b.2 --------\n",
      "label:-------- 3.b.3 ----------\n",
      "correlation....:  0.7262384599063418\n",
      "-------done with:  3.b.3 --------\n",
      "label:-------- 3.c.1 ----------\n",
      "correlation....:  0.8477323873822328\n",
      "-------done with:  3.c.1 --------\n",
      "label:-------- 3.d.1 ----------\n",
      "correlation....:  0.9250463239436616\n",
      "-------done with:  3.d.1 --------\n"
     ]
    }
   ],
   "source": [
    "for label in labels:\n",
    "    print(\"label:--------\",label,\"----------\")\n",
    "    print(\"correlation....: \",en2[label].corr(en4[label]))\n",
    "    print(\"-------done with: \",label,\"--------\")"
   ]
  },
  {
   "cell_type": "code",
   "execution_count": 34,
   "metadata": {},
   "outputs": [
    {
     "data": {
      "text/plain": [
       "214    1\n",
       "639    1\n",
       "674    1\n",
       "Name: 3.6.1, dtype: int64"
      ]
     },
     "execution_count": 34,
     "metadata": {},
     "output_type": "execute_result"
    }
   ],
   "source": [
    "#en3\n",
    "en3[\"3.6.1\"][en3[\"3.6.1\"]==1]"
   ]
  },
  {
   "cell_type": "code",
   "execution_count": 44,
   "metadata": {},
   "outputs": [
    {
     "data": {
      "text/plain": [
       "214    1\n",
       "639    1\n",
       "674    1\n",
       "Name: 3.6.1, dtype: int64"
      ]
     },
     "execution_count": 44,
     "metadata": {},
     "output_type": "execute_result"
    }
   ],
   "source": [
    "en3[\"3.6.1\"][en3[\"3.6.1\"]==1]"
   ]
  },
  {
   "cell_type": "code",
   "execution_count": 55,
   "metadata": {},
   "outputs": [],
   "source": [
    "#copy\n",
    "new_en = en2.copy()"
   ]
  },
  {
   "cell_type": "markdown",
   "metadata": {},
   "source": [
    "## Add the less correlated file"
   ]
  },
  {
   "cell_type": "code",
   "execution_count": 56,
   "metadata": {},
   "outputs": [],
   "source": [
    "new_en['3.1.2'] = new_en['3.1.2']+en3['3.1.2']"
   ]
  },
  {
   "cell_type": "code",
   "execution_count": 57,
   "metadata": {},
   "outputs": [],
   "source": [
    "new_en['3.6.1'] = new_en['3.6.1']+en3['3.6.1']"
   ]
  },
  {
   "cell_type": "code",
   "execution_count": 58,
   "metadata": {},
   "outputs": [],
   "source": [
    "new_en['3.9.3'] = new_en['3.9.3']+ en3['3.9.3']"
   ]
  },
  {
   "cell_type": "code",
   "execution_count": 84,
   "metadata": {},
   "outputs": [],
   "source": [
    "new_en['3.4.2'] = new_en['3.4.2'] + en4['3.4.2']"
   ]
  },
  {
   "cell_type": "code",
   "execution_count": 86,
   "metadata": {},
   "outputs": [
    {
     "data": {
      "text/plain": [
       "Series([], Name: 3.4.2, dtype: int64)"
      ]
     },
     "execution_count": 86,
     "metadata": {},
     "output_type": "execute_result"
    }
   ],
   "source": [
    "new_en['3.4.2'][new_en['3.4.2']==2]"
   ]
  },
  {
   "cell_type": "markdown",
   "metadata": {},
   "source": [
    "## turn to submission file"
   ]
  },
  {
   "cell_type": "code",
   "execution_count": 79,
   "metadata": {},
   "outputs": [],
   "source": [
    "new_en.to_csv(\"ens1\",index=None)"
   ]
  },
  {
   "cell_type": "code",
   "execution_count": null,
   "metadata": {},
   "outputs": [],
   "source": []
  },
  {
   "cell_type": "code",
   "execution_count": 18,
   "metadata": {},
   "outputs": [],
   "source": [
    "submid = pd.DataFrame({'ID': en1[\"ID\"]})\n",
    "newpd = pd.concat([submid, pd.DataFrame(arr.astype(\"int\"), columns = labels)], axis=1)"
   ]
  },
  {
   "cell_type": "code",
   "execution_count": 19,
   "metadata": {},
   "outputs": [],
   "source": [
    "def xl(x):\n",
    "    if x==3:\n",
    "        return int(x/3)\n",
    "    else:\n",
    "        return int(x)"
   ]
  },
  {
   "cell_type": "code",
   "execution_count": 20,
   "metadata": {},
   "outputs": [],
   "source": [
    "for label in labels:\n",
    "    newpd[label] = newpd[label].map(lambda x: xl(x))"
   ]
  },
  {
   "cell_type": "code",
   "execution_count": 22,
   "metadata": {},
   "outputs": [],
   "source": [
    "# submid = pd.DataFrame({'ID': en1[\"ID\"]})\n",
    "# newpd = pd.concat([submid, pd.DataFrame(arr.astype(\"int\"), columns = labels)], axis=1)\n",
    "newpd.to_csv('ensemblenew1.csv', index=False)"
   ]
  },
  {
   "cell_type": "code",
   "execution_count": 35,
   "metadata": {},
   "outputs": [],
   "source": [
    "d = pd.read_csv('ensembleint2.csv')"
   ]
  },
  {
   "cell_type": "code",
   "execution_count": 37,
   "metadata": {},
   "outputs": [
    {
     "data": {
      "text/plain": [
       "False"
      ]
     },
     "execution_count": 37,
     "metadata": {},
     "output_type": "execute_result"
    }
   ],
   "source": [
    "d.equals(newpd)"
   ]
  },
  {
   "cell_type": "code",
   "execution_count": 2,
   "metadata": {},
   "outputs": [],
   "source": [
    "import pandas as pd\n",
    "import numpy as np"
   ]
  },
  {
   "cell_type": "code",
   "execution_count": 14,
   "metadata": {},
   "outputs": [],
   "source": [
    "en1 = pd.read_csv(\"en2.csv\")\n",
    "en2 = pd.read_csv(\"nn4.csv\")\n",
    "en3 = pd.read_csv(\"en4.csv\")"
   ]
  },
  {
   "cell_type": "code",
   "execution_count": 23,
   "metadata": {},
   "outputs": [
    {
     "data": {
      "text/plain": [
       "Index(['3.1.1', '3.1.2', '3.2.1', '3.2.2', '3.3.1', '3.3.2', '3.3.3', '3.3.4',\n",
       "       '3.3.5', '3.4.1', '3.4.2', '3.5.1', '3.5.2', '3.6.1', '3.7.1', '3.7.2',\n",
       "       '3.8.1', '3.8.2', '3.9.1', '3.9.2', '3.9.3', '3.a.1', '3.b.1', '3.b.2',\n",
       "       '3.b.3', '3.c.1', '3.d.1'],\n",
       "      dtype='object')"
      ]
     },
     "execution_count": 23,
     "metadata": {},
     "output_type": "execute_result"
    }
   ],
   "source": [
    "labels = en1.columns[1:]\n",
    "labels"
   ]
  },
  {
   "cell_type": "code",
   "execution_count": 18,
   "metadata": {},
   "outputs": [
    {
     "name": "stdout",
     "output_type": "stream",
     "text": [
      "label:-------- 3.1.1 ----------\n",
      "correlation....:  0.662465523927163\n",
      "-------done with:  3.1.1 --------\n",
      "label:-------- 3.1.2 ----------\n",
      "correlation....:  0.5145797378592741\n",
      "-------done with:  3.1.2 --------\n",
      "label:-------- 3.2.1 ----------\n",
      "correlation....:  0.49989745333660507\n",
      "-------done with:  3.2.1 --------\n",
      "label:-------- 3.2.2 ----------\n",
      "correlation....:  0.4086971363928302\n",
      "-------done with:  3.2.2 --------\n",
      "label:-------- 3.3.1 ----------\n",
      "correlation....:  0.7454400002810018\n",
      "-------done with:  3.3.1 --------\n",
      "label:-------- 3.3.2 ----------\n",
      "correlation....:  0.7516829195922697\n",
      "-------done with:  3.3.2 --------\n",
      "label:-------- 3.3.3 ----------\n",
      "correlation....:  0.8211666707690543\n",
      "-------done with:  3.3.3 --------\n",
      "label:-------- 3.3.4 ----------\n",
      "correlation....:  0.3627575482632393\n",
      "-------done with:  3.3.4 --------\n",
      "label:-------- 3.3.5 ----------\n",
      "correlation....:  0.5755791435781182\n",
      "-------done with:  3.3.5 --------\n",
      "label:-------- 3.4.1 ----------\n",
      "correlation....:  0.5649086816423751\n",
      "-------done with:  3.4.1 --------\n",
      "label:-------- 3.4.2 ----------\n",
      "correlation....:  nan\n",
      "-------done with:  3.4.2 --------\n",
      "label:-------- 3.5.1 ----------\n",
      "correlation....:  0.5712999721156973\n",
      "-------done with:  3.5.1 --------\n",
      "label:-------- 3.5.2 ----------\n",
      "correlation....:  0.30029419509982325\n",
      "-------done with:  3.5.2 --------\n",
      "label:-------- 3.6.1 ----------\n",
      "correlation....:  nan\n",
      "-------done with:  3.6.1 --------\n",
      "label:-------- 3.7.1 ----------\n",
      "correlation....:  0.7326677219042993\n",
      "-------done with:  3.7.1 --------\n",
      "label:-------- 3.7.2 ----------\n",
      "correlation....:  0.7374855985755138\n",
      "-------done with:  3.7.2 --------\n",
      "label:-------- 3.8.1 ----------\n",
      "correlation....:  0.3678248754423299\n",
      "-------done with:  3.8.1 --------\n",
      "label:-------- 3.8.2 ----------\n",
      "correlation....:  0.4511188767575009\n",
      "-------done with:  3.8.2 --------\n",
      "label:-------- 3.9.1 ----------\n",
      "correlation....:  0.5744375935905961\n",
      "-------done with:  3.9.1 --------\n",
      "label:-------- 3.9.2 ----------\n",
      "correlation....:  0.654056738830882\n",
      "-------done with:  3.9.2 --------\n",
      "label:-------- 3.9.3 ----------\n",
      "correlation....:  nan\n",
      "-------done with:  3.9.3 --------\n",
      "label:-------- 3.a.1 ----------\n",
      "correlation....:  0.563194946960468\n",
      "-------done with:  3.a.1 --------\n",
      "label:-------- 3.b.1 ----------\n",
      "correlation....:  0.7860382301407807\n",
      "-------done with:  3.b.1 --------\n",
      "label:-------- 3.b.2 ----------\n",
      "correlation....:  0.718289671693335\n",
      "-------done with:  3.b.2 --------\n",
      "label:-------- 3.b.3 ----------\n",
      "correlation....:  0.3718080423858396\n",
      "-------done with:  3.b.3 --------\n",
      "label:-------- 3.c.1 ----------\n",
      "correlation....:  0.4974763306476428\n",
      "-------done with:  3.c.1 --------\n",
      "label:-------- 3.d.1 ----------\n",
      "correlation....:  0.5221167184154462\n",
      "-------done with:  3.d.1 --------\n"
     ]
    }
   ],
   "source": [
    "for label in labels:\n",
    "    print(\"label:--------\",label,\"----------\")\n",
    "    print(\"correlation....: \",en1[label].corr(en2[label]))\n",
    "    print(\"-------done with: \",label,\"--------\")"
   ]
  },
  {
   "cell_type": "code",
   "execution_count": 19,
   "metadata": {},
   "outputs": [],
   "source": [
    "en = en1.copy()"
   ]
  },
  {
   "cell_type": "code",
   "execution_count": 20,
   "metadata": {},
   "outputs": [],
   "source": [
    "for label in labels:\n",
    "    en[label] = en1[label] + en2[label]"
   ]
  },
  {
   "cell_type": "code",
   "execution_count": 21,
   "metadata": {},
   "outputs": [],
   "source": [
    "for label in labels:\n",
    "    en[label][en[label]==2]=1"
   ]
  },
  {
   "cell_type": "code",
   "execution_count": 22,
   "metadata": {},
   "outputs": [],
   "source": [
    "en.to_csv(\"en5.csv\",index=None)"
   ]
  },
  {
   "cell_type": "code",
   "execution_count": 24,
   "metadata": {},
   "outputs": [],
   "source": [
    "en3 = en3.copy()\n"
   ]
  },
  {
   "cell_type": "code",
   "execution_count": 2,
   "metadata": {},
   "outputs": [],
   "source": [
    "import pandas as pd"
   ]
  },
  {
   "cell_type": "code",
   "execution_count": 5,
   "metadata": {},
   "outputs": [],
   "source": [
    "pred= pd.read_csv(\"storepred.csv\")\n",
    "pred1 = pd.read_csv(\"storepred1.csv\")\n",
    "pred2 = pd.read_csv(\"storepred2.csv\")"
   ]
  },
  {
   "cell_type": "code",
   "execution_count": 18,
   "metadata": {},
   "outputs": [],
   "source": [
    "labels = ['3.1.1', '3.1.2', '3.2.1', '3.2.2', '3.3.1', '3.3.2', '3.3.3', '3.3.4',\n",
    "       '3.3.5', '3.4.1', '3.4.2', '3.5.1', '3.5.2', '3.6.1', '3.7.1', '3.7.2',\n",
    "       '3.8.1', '3.8.2', '3.9.1', '3.9.2', '3.9.3', '3.a.1', '3.b.1', '3.b.2',\n",
    "       '3.b.3', '3.c.1', '3.d.1']"
   ]
  },
  {
   "cell_type": "code",
   "execution_count": 21,
   "metadata": {},
   "outputs": [
    {
     "data": {
      "text/plain": [
       "Index(['3.1.1', '3.1.2', '3.2.1', '3.2.2', '3.3.1', '3.3.2', '3.3.3', '3.3.4',\n",
       "       '3.3.5'],\n",
       "      dtype='object')"
      ]
     },
     "execution_count": 21,
     "metadata": {},
     "output_type": "execute_result"
    }
   ],
   "source": [
    "d = pred.columns[1:]\n",
    "d"
   ]
  },
  {
   "cell_type": "code",
   "execution_count": 23,
   "metadata": {},
   "outputs": [
    {
     "data": {
      "text/plain": [
       "Index(['3.4.1', '3.4.2', '3.5.1', '3.5.2', '3.6.1', '3.7.1', '3.7.2', '3.8.1',\n",
       "       '3.8.2', '3.9.1', '3.9.2', '3.9.3', '3.a.1', '3.b.1', '3.b.2', '3.b.3'],\n",
       "      dtype='object')"
      ]
     },
     "execution_count": 23,
     "metadata": {},
     "output_type": "execute_result"
    }
   ],
   "source": [
    "f = pred1.columns[1:]\n",
    "f"
   ]
  },
  {
   "cell_type": "code",
   "execution_count": 24,
   "metadata": {},
   "outputs": [
    {
     "data": {
      "text/plain": [
       "Index(['3.c.1', '3.d.1'], dtype='object')"
      ]
     },
     "execution_count": 24,
     "metadata": {},
     "output_type": "execute_result"
    }
   ],
   "source": [
    "k = pred2.columns[1:]\n",
    "k"
   ]
  },
  {
   "cell_type": "code",
   "execution_count": 32,
   "metadata": {},
   "outputs": [],
   "source": [
    "df = [pred,pred1,pred2]\n",
    "\n",
    "data = pd.merge(pred, pred1, left_on='ID', right_on='ID')"
   ]
  },
  {
   "cell_type": "code",
   "execution_count": 34,
   "metadata": {},
   "outputs": [],
   "source": [
    "data = pd.merge(data,pred2,left_on='ID',right_on='ID')"
   ]
  },
  {
   "cell_type": "code",
   "execution_count": 36,
   "metadata": {},
   "outputs": [],
   "source": [
    "data.to_csv(\"blend.csv\",index=False)"
   ]
  },
  {
   "cell_type": "code",
   "execution_count": 81,
   "metadata": {},
   "outputs": [],
   "source": [
    "en1=  pd.read_csv(\"submissionwsvc.csv\")\n",
    "en2 = pd.read_csv(\"blend.csv\")"
   ]
  },
  {
   "cell_type": "code",
   "execution_count": 26,
   "metadata": {},
   "outputs": [],
   "source": [
    "# en3 = pd.read_csv(\"submissioncv13.csv\")\n",
    "en3 = pd.read_csv(\"submissionnsvc3_20.csv\")\n",
    "en6 = pd.read_csv(\"newblendmnb1.csv\")\n",
    "en4 = pd.read_csv(\"ensemblebblend8.csv\")\n",
    "en5 = pd.read_csv(\"submissionlgbm14.csv\")"
   ]
  },
  {
   "cell_type": "code",
   "execution_count": 27,
   "metadata": {},
   "outputs": [
    {
     "data": {
      "text/plain": [
       "Index(['3.1.1', '3.1.2', '3.2.1', '3.2.2', '3.3.1', '3.3.2', '3.3.3', '3.3.4',\n",
       "       '3.3.5', '3.4.1', '3.4.2', '3.5.1', '3.5.2', '3.6.1', '3.7.1', '3.7.2',\n",
       "       '3.8.1', '3.8.2', '3.9.1', '3.9.2', '3.9.3', '3.a.1', '3.b.1', '3.b.2',\n",
       "       '3.b.3', '3.c.1', '3.d.1'],\n",
       "      dtype='object')"
      ]
     },
     "execution_count": 27,
     "metadata": {},
     "output_type": "execute_result"
    }
   ],
   "source": [
    "labels = en3.columns[1:]\n",
    "labels"
   ]
  },
  {
   "cell_type": "code",
   "execution_count": 28,
   "metadata": {},
   "outputs": [],
   "source": [
    "en23= en4.copy()"
   ]
  },
  {
   "cell_type": "code",
   "execution_count": 30,
   "metadata": {},
   "outputs": [
    {
     "name": "stdout",
     "output_type": "stream",
     "text": [
      "label:-------- 3.1.1 ----------\n",
      "correlation....:  0.6628620654712739\n",
      "-------done with:  3.1.1 --------\n",
      "label:-------- 3.1.2 ----------\n",
      "correlation....:  nan\n",
      "-------done with:  3.1.2 --------\n",
      "label:-------- 3.2.1 ----------\n",
      "correlation....:  0.7595012902770327\n",
      "-------done with:  3.2.1 --------\n",
      "label:-------- 3.2.2 ----------\n",
      "correlation....:  0.9255826864363712\n",
      "-------done with:  3.2.2 --------\n",
      "label:-------- 3.3.1 ----------\n",
      "correlation....:  0.936617790987694\n",
      "-------done with:  3.3.1 --------\n",
      "label:-------- 3.3.2 ----------\n",
      "correlation....:  0.9376130422803789\n",
      "-------done with:  3.3.2 --------\n",
      "label:-------- 3.3.3 ----------\n",
      "correlation....:  0.9019204177890757\n",
      "-------done with:  3.3.3 --------\n",
      "label:-------- 3.3.4 ----------\n",
      "correlation....:  0.9344632388250785\n",
      "-------done with:  3.3.4 --------\n",
      "label:-------- 3.3.5 ----------\n",
      "correlation....:  0.8056349389062895\n",
      "-------done with:  3.3.5 --------\n",
      "label:-------- 3.4.1 ----------\n",
      "correlation....:  0.8973190738374658\n",
      "-------done with:  3.4.1 --------\n",
      "label:-------- 3.4.2 ----------\n",
      "correlation....:  0.34482060773944223\n",
      "-------done with:  3.4.2 --------\n",
      "label:-------- 3.5.1 ----------\n",
      "correlation....:  0.8695390479967655\n",
      "-------done with:  3.5.1 --------\n",
      "label:-------- 3.5.2 ----------\n",
      "correlation....:  0.6639520003389358\n",
      "-------done with:  3.5.2 --------\n",
      "label:-------- 3.6.1 ----------\n",
      "correlation....:  nan\n",
      "-------done with:  3.6.1 --------\n",
      "label:-------- 3.7.1 ----------\n",
      "correlation....:  0.9008585840113981\n",
      "-------done with:  3.7.1 --------\n",
      "label:-------- 3.7.2 ----------\n",
      "correlation....:  0.8173053453746653\n",
      "-------done with:  3.7.2 --------\n",
      "label:-------- 3.8.1 ----------\n",
      "correlation....:  0.646031118679178\n",
      "-------done with:  3.8.1 --------\n",
      "label:-------- 3.8.2 ----------\n",
      "correlation....:  0.7438532571154702\n",
      "-------done with:  3.8.2 --------\n",
      "label:-------- 3.9.1 ----------\n",
      "correlation....:  1.0\n",
      "-------done with:  3.9.1 --------\n",
      "label:-------- 3.9.2 ----------\n",
      "correlation....:  0.9061915175915503\n",
      "-------done with:  3.9.2 --------\n",
      "label:-------- 3.9.3 ----------\n",
      "correlation....:  1.0\n",
      "-------done with:  3.9.3 --------\n",
      "label:-------- 3.a.1 ----------\n",
      "correlation....:  0.9513574109275235\n",
      "-------done with:  3.a.1 --------\n",
      "label:-------- 3.b.1 ----------\n",
      "correlation....:  0.8313119092353245\n",
      "-------done with:  3.b.1 --------\n",
      "label:-------- 3.b.2 ----------\n",
      "correlation....:  0.9213830914216077\n",
      "-------done with:  3.b.2 --------\n",
      "label:-------- 3.b.3 ----------\n",
      "correlation....:  0.607267515556131\n",
      "-------done with:  3.b.3 --------\n",
      "label:-------- 3.c.1 ----------\n",
      "correlation....:  0.7636629515627262\n",
      "-------done with:  3.c.1 --------\n",
      "label:-------- 3.d.1 ----------\n",
      "correlation....:  0.7744146123235934\n",
      "-------done with:  3.d.1 --------\n"
     ]
    }
   ],
   "source": [
    "for label in labels:\n",
    "    print(\"label:--------\",label,\"----------\")\n",
    "    print(\"correlation....: \",en6[label].corr(en5[label]))\n",
    "    print(\"-------done with: \",label,\"--------\")"
   ]
  },
  {
   "cell_type": "code",
   "execution_count": 6,
   "metadata": {},
   "outputs": [],
   "source": [
    "import numpy as np"
   ]
  },
  {
   "cell_type": "code",
   "execution_count": 31,
   "metadata": {},
   "outputs": [],
   "source": [
    "for label in labels:\n",
    "    \n",
    "    cor = en4[label].corr(en3[label])\n",
    "    \n",
    "#     if not np.isnan(cor) or cor < 0.89:\n",
    "        \n",
    "    en23[label] = en4[label] + en6[label] + en5[label]\n",
    "    en23[label][en23[label]>1]=1\n",
    "#     else:\n",
    "#         continue\n",
    "        "
   ]
  },
  {
   "cell_type": "code",
   "execution_count": 163,
   "metadata": {},
   "outputs": [
    {
     "name": "stdout",
     "output_type": "stream",
     "text": [
      "ok\n"
     ]
    }
   ],
   "source": [
    "if  np.notna(en4['3.6.1'].corr(en3['3.6.1'])) or 0 >-1:\n",
    "    print(\"ok\")"
   ]
  },
  {
   "cell_type": "code",
   "execution_count": null,
   "metadata": {},
   "outputs": [],
   "source": [
    "np.is"
   ]
  },
  {
   "cell_type": "code",
   "execution_count": 165,
   "metadata": {},
   "outputs": [
    {
     "data": {
      "text/plain": [
       "3.1.1    0.0\n",
       "3.1.2    0.0\n",
       "3.2.1    0.0\n",
       "3.2.2    0.0\n",
       "3.3.1    0.0\n",
       "3.3.2    0.0\n",
       "3.3.3    0.0\n",
       "3.3.4    0.0\n",
       "3.3.5    0.0\n",
       "3.4.1    0.0\n",
       "3.4.2    0.0\n",
       "3.5.1    0.0\n",
       "3.5.2    0.0\n",
       "3.6.1    0.0\n",
       "3.7.1    0.0\n",
       "3.7.2    0.0\n",
       "3.8.1    0.0\n",
       "3.8.2    0.0\n",
       "3.9.1    0.0\n",
       "3.9.2    0.0\n",
       "3.9.3    0.0\n",
       "3.a.1    0.0\n",
       "3.b.1    0.0\n",
       "3.b.2    0.0\n",
       "3.b.3    0.0\n",
       "3.c.1    0.0\n",
       "3.d.1    0.0\n",
       "dtype: float64"
      ]
     },
     "execution_count": 165,
     "metadata": {},
     "output_type": "execute_result"
    }
   ],
   "source": [
    "en23[labels][en23[labels]>1].sum()"
   ]
  },
  {
   "cell_type": "code",
   "execution_count": 103,
   "metadata": {},
   "outputs": [
    {
     "data": {
      "text/plain": [
       "49"
      ]
     },
     "execution_count": 103,
     "metadata": {},
     "output_type": "execute_result"
    }
   ],
   "source": [
    "en2[\"3.2.1\"][en2[\"3.2.1\"]==1].sum()"
   ]
  },
  {
   "cell_type": "code",
   "execution_count": 82,
   "metadata": {},
   "outputs": [],
   "source": [
    "en3 = en2.copy()"
   ]
  },
  {
   "cell_type": "code",
   "execution_count": 104,
   "metadata": {},
   "outputs": [],
   "source": [
    "en3[\"3.2.1\"] = en1[\"3.2.1\"]+en2[\"3.2.1\"]"
   ]
  },
  {
   "cell_type": "code",
   "execution_count": 105,
   "metadata": {},
   "outputs": [],
   "source": [
    "en3[\"3.2.1\"][en3[\"3.2.1\"]>1]  =1"
   ]
  },
  {
   "cell_type": "code",
   "execution_count": 32,
   "metadata": {},
   "outputs": [],
   "source": [
    "en23.to_csv(\"ensemblebblend10.csv\",index=False)"
   ]
  },
  {
   "cell_type": "code",
   "execution_count": null,
   "metadata": {},
   "outputs": [],
   "source": []
  }
 ],
 "metadata": {
  "kernelspec": {
   "display_name": "Python 3",
   "language": "python",
   "name": "python3"
  },
  "language_info": {
   "codemirror_mode": {
    "name": "ipython",
    "version": 3
   },
   "file_extension": ".py",
   "mimetype": "text/x-python",
   "name": "python",
   "nbconvert_exporter": "python",
   "pygments_lexer": "ipython3",
   "version": "3.6.5"
  }
 },
 "nbformat": 4,
 "nbformat_minor": 2
}
