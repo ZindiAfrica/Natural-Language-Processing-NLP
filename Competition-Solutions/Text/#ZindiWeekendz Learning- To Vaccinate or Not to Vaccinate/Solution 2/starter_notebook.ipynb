{
  "nbformat": 4,
  "nbformat_minor": 0,
  "metadata": {
    "colab": {
      "name": "TVONTV_ML.ipynb",
      "provenance": [],
      "collapsed_sections": [
        "rsuS6j8JaokB",
        "w1X13z0e-ZZt",
        "vUA0ZEK5eiHj",
        "yhJHW1q3dX82",
        "SOclXTcQgrJc",
        "YQ3eS5h4gtYr",
        "1MjizKZPbDim"
      ],
      "toc_visible": true
    },
    "kernelspec": {
      "name": "python3",
      "display_name": "Python 3"
    }
  },
  "cells": [
    {
      "cell_type": "code",
      "metadata": {
        "id": "FA2ysoWJEnP8",
        "colab_type": "code",
        "outputId": "4092b979-60b5-450c-e0a2-3d764854e0ee",
        "colab": {
          "base_uri": "https://localhost:8080/",
          "height": 125
        }
      },
      "source": [
        "from google.colab import drive\n",
        "drive.mount('/content/drive')"
      ],
      "execution_count": 0,
      "outputs": [
        {
          "output_type": "stream",
          "text": [
            "Go to this URL in a browser: https://accounts.google.com/o/oauth2/auth?client_id=947318989803-6bn6qk8qdgf4n4g3pfee6491hc0brc4i.apps.googleusercontent.com&redirect_uri=urn%3aietf%3awg%3aoauth%3a2.0%3aoob&response_type=code&scope=email%20https%3a%2f%2fwww.googleapis.com%2fauth%2fdocs.test%20https%3a%2f%2fwww.googleapis.com%2fauth%2fdrive%20https%3a%2f%2fwww.googleapis.com%2fauth%2fdrive.photos.readonly%20https%3a%2f%2fwww.googleapis.com%2fauth%2fpeopleapi.readonly\n",
            "\n",
            "Enter your authorization code:\n",
            "··········\n",
            "Mounted at /content/drive\n"
          ],
          "name": "stdout"
        }
      ]
    },
    {
      "cell_type": "markdown",
      "metadata": {
        "id": "rsuS6j8JaokB",
        "colab_type": "text"
      },
      "source": [
        "#Requirements"
      ]
    },
    {
      "cell_type": "code",
      "metadata": {
        "id": "LjEHwj_-aSO8",
        "colab_type": "code",
        "outputId": "49a758a2-23ff-4c10-dbb5-23af80301ca4",
        "colab": {
          "base_uri": "https://localhost:8080/",
          "height": 34
        }
      },
      "source": [
        "!pip install catboost --quiet"
      ],
      "execution_count": 0,
      "outputs": [
        {
          "output_type": "stream",
          "text": [
            "\u001b[K     |████████████████████████████████| 64.8MB 54kB/s \n",
            "\u001b[?25h"
          ],
          "name": "stdout"
        }
      ]
    },
    {
      "cell_type": "markdown",
      "metadata": {
        "id": "zFP9Vvbfa6ww",
        "colab_type": "text"
      },
      "source": [
        "#Imports"
      ]
    },
    {
      "cell_type": "code",
      "metadata": {
        "id": "juBoFMWpbiC_",
        "colab_type": "code",
        "colab": {}
      },
      "source": [
        "import warnings\n",
        "warnings.simplefilter('ignore')"
      ],
      "execution_count": 0,
      "outputs": []
    },
    {
      "cell_type": "code",
      "metadata": {
        "id": "4sY0t1LMbY7q",
        "colab_type": "code",
        "colab": {}
      },
      "source": [
        "import os\n",
        "import sys\n",
        "import random\n",
        "import numpy as np\n",
        "import pandas as pd\n",
        "import matplotlib.pyplot as plt\n",
        "from tqdm.notebook import tqdm"
      ],
      "execution_count": 0,
      "outputs": []
    },
    {
      "cell_type": "code",
      "metadata": {
        "id": "9UuQDTtadkdD",
        "colab_type": "code",
        "colab": {}
      },
      "source": [
        "from sklearn.model_selection import KFold, StratifiedKFold\n",
        "from sklearn.metrics import mean_squared_error\n",
        "from sklearn.linear_model import LogisticRegression, LinearRegression\n",
        "from sklearn.preprocessing import StandardScaler\n",
        "from sklearn.decomposition import TruncatedSVD\n",
        "from sklearn.naive_bayes import MultinomialNB"
      ],
      "execution_count": 0,
      "outputs": []
    },
    {
      "cell_type": "code",
      "metadata": {
        "id": "F4rrACNldofb",
        "colab_type": "code",
        "colab": {}
      },
      "source": [
        "from sklearn.feature_extraction.text import CountVectorizer, TfidfVectorizer"
      ],
      "execution_count": 0,
      "outputs": []
    },
    {
      "cell_type": "code",
      "metadata": {
        "id": "oWW8LmHepdTN",
        "colab_type": "code",
        "outputId": "59122b9b-4709-43fb-9ae4-88804035048b",
        "colab": {
          "base_uri": "https://localhost:8080/",
          "height": 70
        }
      },
      "source": [
        "import nltk\n",
        "nltk.download('stopwords')"
      ],
      "execution_count": 0,
      "outputs": [
        {
          "output_type": "stream",
          "text": [
            "[nltk_data] Downloading package stopwords to /root/nltk_data...\n",
            "[nltk_data]   Unzipping corpora/stopwords.zip.\n"
          ],
          "name": "stdout"
        },
        {
          "output_type": "execute_result",
          "data": {
            "text/plain": [
              "True"
            ]
          },
          "metadata": {
            "tags": []
          },
          "execution_count": 7
        }
      ]
    },
    {
      "cell_type": "code",
      "metadata": {
        "id": "8KHCLbBabvUb",
        "colab_type": "code",
        "colab": {}
      },
      "source": [
        "from nltk.corpus import stopwords\n",
        "from collections import Counter"
      ],
      "execution_count": 0,
      "outputs": []
    },
    {
      "cell_type": "code",
      "metadata": {
        "id": "lgaCDLd8adcS",
        "colab_type": "code",
        "colab": {}
      },
      "source": [
        "import catboost as cat, lightgbm as lgb, xgboost as xgb"
      ],
      "execution_count": 0,
      "outputs": []
    },
    {
      "cell_type": "markdown",
      "metadata": {
        "id": "w1X13z0e-ZZt",
        "colab_type": "text"
      },
      "source": [
        "#Envs"
      ]
    },
    {
      "cell_type": "code",
      "metadata": {
        "id": "2I7sCm5J-atk",
        "colab_type": "code",
        "colab": {}
      },
      "source": [
        "seed = 2020 # for reproductibility\n",
        "random.seed(seed)\n",
        "np.random.seed(seed)"
      ],
      "execution_count": 0,
      "outputs": []
    },
    {
      "cell_type": "markdown",
      "metadata": {
        "id": "vUA0ZEK5eiHj",
        "colab_type": "text"
      },
      "source": [
        "#Utilities"
      ]
    },
    {
      "cell_type": "code",
      "metadata": {
        "id": "qTLKw0dQfRbK",
        "colab_type": "code",
        "colab": {}
      },
      "source": [
        "def process_prediction(preds):\n",
        "  final_preds = []\n",
        "  for pred in preds:\n",
        "    argmax = pred.argmax()\n",
        "    if argmax == 0: final_preds.append( -1*pred[0] )\n",
        "    elif argmax == 1: final_preds.append( 0 )\n",
        "    else: final_preds.append( pred[2] )\n",
        "    \n",
        "  return final_preds\n",
        "\n",
        "\n",
        "def rmse(true, pred):\n",
        "  return np.sqrt(mean_squared_error(true, pred))"
      ],
      "execution_count": 0,
      "outputs": []
    },
    {
      "cell_type": "markdown",
      "metadata": {
        "id": "yhJHW1q3dX82",
        "colab_type": "text"
      },
      "source": [
        "#Reading the Data"
      ]
    },
    {
      "cell_type": "code",
      "metadata": {
        "id": "_RZcXsKZddEK",
        "colab_type": "code",
        "colab": {}
      },
      "source": [
        "path = 'drive/My Drive/Zindi/#ZindiWeekendz/'"
      ],
      "execution_count": 0,
      "outputs": []
    },
    {
      "cell_type": "code",
      "metadata": {
        "id": "AspysT1ca8_Y",
        "colab_type": "code",
        "colab": {}
      },
      "source": [
        "train = pd.read_csv(path+'Train.csv')\n",
        "test = pd.read_csv(path+'Test.csv')\n",
        "sample = pd.read_csv(path+'SampleSubmission.csv')"
      ],
      "execution_count": 0,
      "outputs": []
    },
    {
      "cell_type": "markdown",
      "metadata": {
        "id": "SOclXTcQgrJc",
        "colab_type": "text"
      },
      "source": [
        "#EDA"
      ]
    },
    {
      "cell_type": "code",
      "metadata": {
        "id": "YfafNgwPgsFW",
        "colab_type": "code",
        "outputId": "8eb5ef42-5e3a-4558-f8d0-f624376544eb",
        "colab": {
          "base_uri": "https://localhost:8080/",
          "height": 347
        }
      },
      "source": [
        "train.head(10)"
      ],
      "execution_count": 0,
      "outputs": [
        {
          "output_type": "execute_result",
          "data": {
            "text/html": [
              "<div>\n",
              "<style scoped>\n",
              "    .dataframe tbody tr th:only-of-type {\n",
              "        vertical-align: middle;\n",
              "    }\n",
              "\n",
              "    .dataframe tbody tr th {\n",
              "        vertical-align: top;\n",
              "    }\n",
              "\n",
              "    .dataframe thead th {\n",
              "        text-align: right;\n",
              "    }\n",
              "</style>\n",
              "<table border=\"1\" class=\"dataframe\">\n",
              "  <thead>\n",
              "    <tr style=\"text-align: right;\">\n",
              "      <th></th>\n",
              "      <th>tweet_id</th>\n",
              "      <th>safe_text</th>\n",
              "      <th>label</th>\n",
              "      <th>agreement</th>\n",
              "    </tr>\n",
              "  </thead>\n",
              "  <tbody>\n",
              "    <tr>\n",
              "      <th>0</th>\n",
              "      <td>CL1KWCMY</td>\n",
              "      <td>Me &amp;amp; The Big Homie meanboy3000 #MEANBOY #M...</td>\n",
              "      <td>0.0</td>\n",
              "      <td>1.000000</td>\n",
              "    </tr>\n",
              "    <tr>\n",
              "      <th>1</th>\n",
              "      <td>E3303EME</td>\n",
              "      <td>I'm 100% thinking of devoting my career to pro...</td>\n",
              "      <td>1.0</td>\n",
              "      <td>1.000000</td>\n",
              "    </tr>\n",
              "    <tr>\n",
              "      <th>2</th>\n",
              "      <td>M4IVFSMS</td>\n",
              "      <td>#whatcausesautism VACCINES, DO NOT VACCINATE Y...</td>\n",
              "      <td>-1.0</td>\n",
              "      <td>1.000000</td>\n",
              "    </tr>\n",
              "    <tr>\n",
              "      <th>3</th>\n",
              "      <td>1DR6ROZ4</td>\n",
              "      <td>I mean if they immunize my kid with something ...</td>\n",
              "      <td>-1.0</td>\n",
              "      <td>1.000000</td>\n",
              "    </tr>\n",
              "    <tr>\n",
              "      <th>4</th>\n",
              "      <td>J77ENIIE</td>\n",
              "      <td>Thanks to &lt;user&gt; Catch me performing at La Nui...</td>\n",
              "      <td>0.0</td>\n",
              "      <td>1.000000</td>\n",
              "    </tr>\n",
              "    <tr>\n",
              "      <th>5</th>\n",
              "      <td>OVNPOAUX</td>\n",
              "      <td>&lt;user&gt; a nearly 67 year old study when mental ...</td>\n",
              "      <td>1.0</td>\n",
              "      <td>0.666667</td>\n",
              "    </tr>\n",
              "    <tr>\n",
              "      <th>6</th>\n",
              "      <td>JDA2QDV5</td>\n",
              "      <td>Study of more than 95,000 kids finds no link b...</td>\n",
              "      <td>1.0</td>\n",
              "      <td>0.666667</td>\n",
              "    </tr>\n",
              "    <tr>\n",
              "      <th>7</th>\n",
              "      <td>S6UKR4OJ</td>\n",
              "      <td>psa: VACCINATE YOUR FUCKING KIDS</td>\n",
              "      <td>1.0</td>\n",
              "      <td>1.000000</td>\n",
              "    </tr>\n",
              "    <tr>\n",
              "      <th>8</th>\n",
              "      <td>V6IJATBE</td>\n",
              "      <td>Coughing extra on the shuttle and everyone thi...</td>\n",
              "      <td>1.0</td>\n",
              "      <td>0.666667</td>\n",
              "    </tr>\n",
              "    <tr>\n",
              "      <th>9</th>\n",
              "      <td>VB25IDQK</td>\n",
              "      <td>AIDS vaccine created at Oregon Health &amp;amp; Sc...</td>\n",
              "      <td>1.0</td>\n",
              "      <td>0.666667</td>\n",
              "    </tr>\n",
              "  </tbody>\n",
              "</table>\n",
              "</div>"
            ],
            "text/plain": [
              "   tweet_id  ... agreement\n",
              "0  CL1KWCMY  ...  1.000000\n",
              "1  E3303EME  ...  1.000000\n",
              "2  M4IVFSMS  ...  1.000000\n",
              "3  1DR6ROZ4  ...  1.000000\n",
              "4  J77ENIIE  ...  1.000000\n",
              "5  OVNPOAUX  ...  0.666667\n",
              "6  JDA2QDV5  ...  0.666667\n",
              "7  S6UKR4OJ  ...  1.000000\n",
              "8  V6IJATBE  ...  0.666667\n",
              "9  VB25IDQK  ...  0.666667\n",
              "\n",
              "[10 rows x 4 columns]"
            ]
          },
          "metadata": {
            "tags": []
          },
          "execution_count": 14
        }
      ]
    },
    {
      "cell_type": "code",
      "metadata": {
        "id": "EqpIX707FeHx",
        "colab_type": "code",
        "outputId": "174cba04-2474-426d-af53-e8b684397372",
        "colab": {
          "base_uri": "https://localhost:8080/",
          "height": 197
        }
      },
      "source": [
        "test.head()"
      ],
      "execution_count": 0,
      "outputs": [
        {
          "output_type": "execute_result",
          "data": {
            "text/html": [
              "<div>\n",
              "<style scoped>\n",
              "    .dataframe tbody tr th:only-of-type {\n",
              "        vertical-align: middle;\n",
              "    }\n",
              "\n",
              "    .dataframe tbody tr th {\n",
              "        vertical-align: top;\n",
              "    }\n",
              "\n",
              "    .dataframe thead th {\n",
              "        text-align: right;\n",
              "    }\n",
              "</style>\n",
              "<table border=\"1\" class=\"dataframe\">\n",
              "  <thead>\n",
              "    <tr style=\"text-align: right;\">\n",
              "      <th></th>\n",
              "      <th>tweet_id</th>\n",
              "      <th>safe_text</th>\n",
              "    </tr>\n",
              "  </thead>\n",
              "  <tbody>\n",
              "    <tr>\n",
              "      <th>0</th>\n",
              "      <td>00BHHHP1</td>\n",
              "      <td>&lt;user&gt; &lt;user&gt; ... &amp;amp; 4 a vaccine given 2 he...</td>\n",
              "    </tr>\n",
              "    <tr>\n",
              "      <th>1</th>\n",
              "      <td>00UNMD0E</td>\n",
              "      <td>Students starting school without whooping coug...</td>\n",
              "    </tr>\n",
              "    <tr>\n",
              "      <th>2</th>\n",
              "      <td>01AXPTJF</td>\n",
              "      <td>I'm kinda over every ep of &lt;user&gt; being \"rippe...</td>\n",
              "    </tr>\n",
              "    <tr>\n",
              "      <th>3</th>\n",
              "      <td>01HOEQJW</td>\n",
              "      <td>How many innocent children die for lack of vac...</td>\n",
              "    </tr>\n",
              "    <tr>\n",
              "      <th>4</th>\n",
              "      <td>01JUKMAO</td>\n",
              "      <td>CDC eyeing bird flu vaccine for humans, though...</td>\n",
              "    </tr>\n",
              "  </tbody>\n",
              "</table>\n",
              "</div>"
            ],
            "text/plain": [
              "   tweet_id                                          safe_text\n",
              "0  00BHHHP1  <user> <user> ... &amp; 4 a vaccine given 2 he...\n",
              "1  00UNMD0E  Students starting school without whooping coug...\n",
              "2  01AXPTJF  I'm kinda over every ep of <user> being \"rippe...\n",
              "3  01HOEQJW  How many innocent children die for lack of vac...\n",
              "4  01JUKMAO  CDC eyeing bird flu vaccine for humans, though..."
            ]
          },
          "metadata": {
            "tags": []
          },
          "execution_count": 15
        }
      ]
    },
    {
      "cell_type": "code",
      "metadata": {
        "id": "OIy-s6UBF2LT",
        "colab_type": "code",
        "outputId": "b5690d52-e885-46e3-c18d-98b5e8b0a5eb",
        "colab": {
          "base_uri": "https://localhost:8080/",
          "height": 105
        }
      },
      "source": [
        "train['label'].value_counts()"
      ],
      "execution_count": 0,
      "outputs": [
        {
          "output_type": "execute_result",
          "data": {
            "text/plain": [
              " 0.000000    4908\n",
              " 1.000000    4053\n",
              "-1.000000    1038\n",
              " 0.666667       1\n",
              "Name: label, dtype: int64"
            ]
          },
          "metadata": {
            "tags": []
          },
          "execution_count": 16
        }
      ]
    },
    {
      "cell_type": "code",
      "metadata": {
        "id": "evCZZzdTGH1_",
        "colab_type": "code",
        "outputId": "3397ba0f-4dce-4d57-e272-ffe516b6e2e0",
        "colab": {
          "base_uri": "https://localhost:8080/",
          "height": 77
        }
      },
      "source": [
        "train[train['label'].round(2)==0.67]"
      ],
      "execution_count": 0,
      "outputs": [
        {
          "output_type": "execute_result",
          "data": {
            "text/html": [
              "<div>\n",
              "<style scoped>\n",
              "    .dataframe tbody tr th:only-of-type {\n",
              "        vertical-align: middle;\n",
              "    }\n",
              "\n",
              "    .dataframe tbody tr th {\n",
              "        vertical-align: top;\n",
              "    }\n",
              "\n",
              "    .dataframe thead th {\n",
              "        text-align: right;\n",
              "    }\n",
              "</style>\n",
              "<table border=\"1\" class=\"dataframe\">\n",
              "  <thead>\n",
              "    <tr style=\"text-align: right;\">\n",
              "      <th></th>\n",
              "      <th>tweet_id</th>\n",
              "      <th>safe_text</th>\n",
              "      <th>label</th>\n",
              "      <th>agreement</th>\n",
              "    </tr>\n",
              "  </thead>\n",
              "  <tbody>\n",
              "    <tr>\n",
              "      <th>4799</th>\n",
              "      <td>I cannot believe in this day and age some pare...</td>\n",
              "      <td>1</td>\n",
              "      <td>0.666667</td>\n",
              "      <td>NaN</td>\n",
              "    </tr>\n",
              "  </tbody>\n",
              "</table>\n",
              "</div>"
            ],
            "text/plain": [
              "                                               tweet_id  ... agreement\n",
              "4799  I cannot believe in this day and age some pare...  ...       NaN\n",
              "\n",
              "[1 rows x 4 columns]"
            ]
          },
          "metadata": {
            "tags": []
          },
          "execution_count": 17
        }
      ]
    },
    {
      "cell_type": "code",
      "metadata": {
        "id": "D6LDHazbJRQl",
        "colab_type": "code",
        "outputId": "1e970299-cc7e-4427-eb9a-5c7120e25ee7",
        "colab": {
          "base_uri": "https://localhost:8080/",
          "height": 77
        }
      },
      "source": [
        "train[train['label'].isna()]"
      ],
      "execution_count": 0,
      "outputs": [
        {
          "output_type": "execute_result",
          "data": {
            "text/html": [
              "<div>\n",
              "<style scoped>\n",
              "    .dataframe tbody tr th:only-of-type {\n",
              "        vertical-align: middle;\n",
              "    }\n",
              "\n",
              "    .dataframe tbody tr th {\n",
              "        vertical-align: top;\n",
              "    }\n",
              "\n",
              "    .dataframe thead th {\n",
              "        text-align: right;\n",
              "    }\n",
              "</style>\n",
              "<table border=\"1\" class=\"dataframe\">\n",
              "  <thead>\n",
              "    <tr style=\"text-align: right;\">\n",
              "      <th></th>\n",
              "      <th>tweet_id</th>\n",
              "      <th>safe_text</th>\n",
              "      <th>label</th>\n",
              "      <th>agreement</th>\n",
              "    </tr>\n",
              "  </thead>\n",
              "  <tbody>\n",
              "    <tr>\n",
              "      <th>4798</th>\n",
              "      <td>RQMQ0L2A</td>\n",
              "      <td>#lawandorderSVU</td>\n",
              "      <td>NaN</td>\n",
              "      <td>NaN</td>\n",
              "    </tr>\n",
              "  </tbody>\n",
              "</table>\n",
              "</div>"
            ],
            "text/plain": [
              "      tweet_id         safe_text  label  agreement\n",
              "4798  RQMQ0L2A  #lawandorderSVU     NaN        NaN"
            ]
          },
          "metadata": {
            "tags": []
          },
          "execution_count": 18
        }
      ]
    },
    {
      "cell_type": "code",
      "metadata": {
        "id": "51wbIcTdJbO5",
        "colab_type": "code",
        "outputId": "265de578-ea87-4b32-b101-8d3020b80e3f",
        "colab": {
          "base_uri": "https://localhost:8080/",
          "height": 107
        }
      },
      "source": [
        "train[train['agreement'].isna()]"
      ],
      "execution_count": 0,
      "outputs": [
        {
          "output_type": "execute_result",
          "data": {
            "text/html": [
              "<div>\n",
              "<style scoped>\n",
              "    .dataframe tbody tr th:only-of-type {\n",
              "        vertical-align: middle;\n",
              "    }\n",
              "\n",
              "    .dataframe tbody tr th {\n",
              "        vertical-align: top;\n",
              "    }\n",
              "\n",
              "    .dataframe thead th {\n",
              "        text-align: right;\n",
              "    }\n",
              "</style>\n",
              "<table border=\"1\" class=\"dataframe\">\n",
              "  <thead>\n",
              "    <tr style=\"text-align: right;\">\n",
              "      <th></th>\n",
              "      <th>tweet_id</th>\n",
              "      <th>safe_text</th>\n",
              "      <th>label</th>\n",
              "      <th>agreement</th>\n",
              "    </tr>\n",
              "  </thead>\n",
              "  <tbody>\n",
              "    <tr>\n",
              "      <th>4798</th>\n",
              "      <td>RQMQ0L2A</td>\n",
              "      <td>#lawandorderSVU</td>\n",
              "      <td>NaN</td>\n",
              "      <td>NaN</td>\n",
              "    </tr>\n",
              "    <tr>\n",
              "      <th>4799</th>\n",
              "      <td>I cannot believe in this day and age some pare...</td>\n",
              "      <td>1</td>\n",
              "      <td>0.666667</td>\n",
              "      <td>NaN</td>\n",
              "    </tr>\n",
              "  </tbody>\n",
              "</table>\n",
              "</div>"
            ],
            "text/plain": [
              "                                               tweet_id  ... agreement\n",
              "4798                                           RQMQ0L2A  ...       NaN\n",
              "4799  I cannot believe in this day and age some pare...  ...       NaN\n",
              "\n",
              "[2 rows x 4 columns]"
            ]
          },
          "metadata": {
            "tags": []
          },
          "execution_count": 19
        }
      ]
    },
    {
      "cell_type": "markdown",
      "metadata": {
        "id": "YQ3eS5h4gtYr",
        "colab_type": "text"
      },
      "source": [
        "#Features Engeneering"
      ]
    },
    {
      "cell_type": "markdown",
      "metadata": {
        "id": "1MjizKZPbDim",
        "colab_type": "text"
      },
      "source": [
        "##Part 1"
      ]
    },
    {
      "cell_type": "code",
      "metadata": {
        "id": "QXzYsnG8Gndw",
        "colab_type": "code",
        "colab": {}
      },
      "source": [
        "train.drop(index=[4798, 4799], inplace=True)\n",
        "train.reset_index(drop=True, inplace=True)"
      ],
      "execution_count": 0,
      "outputs": []
    },
    {
      "cell_type": "code",
      "metadata": {
        "id": "OryYhzsnG1To",
        "colab_type": "code",
        "colab": {}
      },
      "source": [
        "train['safe_text'] = train['safe_text'].apply(str)\n",
        "test['safe_text'] = test['safe_text'].apply(str)"
      ],
      "execution_count": 0,
      "outputs": []
    },
    {
      "cell_type": "code",
      "metadata": {
        "id": "4jGq8_mUHy_w",
        "colab_type": "code",
        "colab": {}
      },
      "source": [
        "train['safe_text'] = train['safe_text'].apply(str.lower)\n",
        "test['safe_text'] = test['safe_text'].apply(str.lower)"
      ],
      "execution_count": 0,
      "outputs": []
    },
    {
      "cell_type": "code",
      "metadata": {
        "id": "i8YNkYQUG9i2",
        "colab_type": "code",
        "colab": {}
      },
      "source": [
        "train['safe_text'] = train['safe_text'].apply(lambda x: x.replace('&amp;', ''))\n",
        "test['safe_text'] = test['safe_text'].apply(lambda x: x.replace('&amp;', ''))"
      ],
      "execution_count": 0,
      "outputs": []
    },
    {
      "cell_type": "code",
      "metadata": {
        "id": "pr7QJhNDHaP6",
        "colab_type": "code",
        "colab": {}
      },
      "source": [
        "train['safe_text'] = train['safe_text'].apply(lambda x: x.strip().strip('.'))\n",
        "test['safe_text'] = test['safe_text'].apply(lambda x: x.strip().strip('.'))"
      ],
      "execution_count": 0,
      "outputs": []
    },
    {
      "cell_type": "code",
      "metadata": {
        "id": "YzxW3QIEr4po",
        "colab_type": "code",
        "outputId": "bf3f82ab-1a2f-4e7a-fb94-1088921bf644",
        "colab": {
          "base_uri": "https://localhost:8080/",
          "height": 107
        }
      },
      "source": [
        "train.head(2)"
      ],
      "execution_count": 0,
      "outputs": [
        {
          "output_type": "execute_result",
          "data": {
            "text/html": [
              "<div>\n",
              "<style scoped>\n",
              "    .dataframe tbody tr th:only-of-type {\n",
              "        vertical-align: middle;\n",
              "    }\n",
              "\n",
              "    .dataframe tbody tr th {\n",
              "        vertical-align: top;\n",
              "    }\n",
              "\n",
              "    .dataframe thead th {\n",
              "        text-align: right;\n",
              "    }\n",
              "</style>\n",
              "<table border=\"1\" class=\"dataframe\">\n",
              "  <thead>\n",
              "    <tr style=\"text-align: right;\">\n",
              "      <th></th>\n",
              "      <th>tweet_id</th>\n",
              "      <th>safe_text</th>\n",
              "      <th>label</th>\n",
              "      <th>agreement</th>\n",
              "    </tr>\n",
              "  </thead>\n",
              "  <tbody>\n",
              "    <tr>\n",
              "      <th>0</th>\n",
              "      <td>CL1KWCMY</td>\n",
              "      <td>me  the big homie meanboy3000 #meanboy #mb #mb...</td>\n",
              "      <td>0.0</td>\n",
              "      <td>1.0</td>\n",
              "    </tr>\n",
              "    <tr>\n",
              "      <th>1</th>\n",
              "      <td>E3303EME</td>\n",
              "      <td>i'm 100% thinking of devoting my career to pro...</td>\n",
              "      <td>1.0</td>\n",
              "      <td>1.0</td>\n",
              "    </tr>\n",
              "  </tbody>\n",
              "</table>\n",
              "</div>"
            ],
            "text/plain": [
              "   tweet_id  ... agreement\n",
              "0  CL1KWCMY  ...       1.0\n",
              "1  E3303EME  ...       1.0\n",
              "\n",
              "[2 rows x 4 columns]"
            ]
          },
          "metadata": {
            "tags": []
          },
          "execution_count": 25
        }
      ]
    },
    {
      "cell_type": "markdown",
      "metadata": {
        "id": "uVsmd8VvbFw6",
        "colab_type": "text"
      },
      "source": [
        "##Part 2"
      ]
    },
    {
      "cell_type": "code",
      "metadata": {
        "id": "d-MdsSuzhyX1",
        "colab_type": "code",
        "colab": {}
      },
      "source": [
        "def clean_stop_words(df):\n",
        "  stop_words = set(stopwords.words('english'))\n",
        "  #df['text_clean'] = df['safe_text'].apply(lambda s: \" \".join([w for w in s.lower().split() if w not in stop_words and not w.startswith('<')]))\n",
        "  df['text_clean'] = df['safe_text'].apply(lambda s: \" \".join([w for w in s.lower().split() if not w.startswith('<')]))\n",
        "  df['text_clean'] = df['text_clean'].apply(lambda s: \" \".join([w for w in s.lower().split() if not w.startswith('#')]))"
      ],
      "execution_count": 0,
      "outputs": []
    },
    {
      "cell_type": "code",
      "metadata": {
        "id": "U6aGEezfeAET",
        "colab_type": "code",
        "colab": {}
      },
      "source": [
        "df = pd.concat([train, test], axis = 0)"
      ],
      "execution_count": 0,
      "outputs": []
    },
    {
      "cell_type": "code",
      "metadata": {
        "id": "1d-HuIpNpGP9",
        "colab_type": "code",
        "colab": {}
      },
      "source": [
        "clean_stop_words(df)"
      ],
      "execution_count": 0,
      "outputs": []
    },
    {
      "cell_type": "code",
      "metadata": {
        "id": "QYnVkj0r6Fej",
        "colab_type": "code",
        "colab": {}
      },
      "source": [
        "train = df[~df.label.isnull()]\n",
        "test = df[df.label.isnull()]"
      ],
      "execution_count": 0,
      "outputs": []
    },
    {
      "cell_type": "code",
      "metadata": {
        "id": "iZDbzD1Ca08a",
        "colab_type": "code",
        "colab": {}
      },
      "source": [
        "train['label'] += 1"
      ],
      "execution_count": 0,
      "outputs": []
    },
    {
      "cell_type": "code",
      "metadata": {
        "id": "prk5WGKagwrI",
        "colab_type": "code",
        "colab": {}
      },
      "source": [
        "xtrain = train['text_clean'].values\n",
        "ytrain = train['label'].values\n",
        "\n",
        "xtest = test['text_clean'].values"
      ],
      "execution_count": 0,
      "outputs": []
    },
    {
      "cell_type": "code",
      "metadata": {
        "id": "mTIPPFsd6_G_",
        "colab_type": "code",
        "colab": {}
      },
      "source": [
        "tvect = TfidfVectorizer(min_df=3, max_features=None, \n",
        "            strip_accents='unicode', analyzer='word',token_pattern=r'\\w{1,}',\n",
        "            ngram_range=(1, 3), use_idf=1,smooth_idf=1,sublinear_tf=1,\n",
        "            stop_words = 'english')\n",
        "\n",
        "cvect = CountVectorizer(analyzer='word',token_pattern=r'\\w{1,}',\n",
        "            ngram_range=(1, 3), stop_words = 'english')"
      ],
      "execution_count": 0,
      "outputs": []
    },
    {
      "cell_type": "code",
      "metadata": {
        "id": "agMzNiM-bIOj",
        "colab_type": "code",
        "outputId": "2f326667-f1bc-47b6-c259-e4ebe3dd7eb9",
        "colab": {
          "base_uri": "https://localhost:8080/",
          "height": 123
        }
      },
      "source": [
        "tvect.fit(df['text_clean'].values.tolist())\n",
        "cvect.fit(df['text_clean'].values.tolist())"
      ],
      "execution_count": 0,
      "outputs": [
        {
          "output_type": "execute_result",
          "data": {
            "text/plain": [
              "CountVectorizer(analyzer='word', binary=False, decode_error='strict',\n",
              "                dtype=<class 'numpy.int64'>, encoding='utf-8', input='content',\n",
              "                lowercase=True, max_df=1.0, max_features=None, min_df=1,\n",
              "                ngram_range=(1, 3), preprocessor=None, stop_words='english',\n",
              "                strip_accents=None, token_pattern='\\\\w{1,}', tokenizer=None,\n",
              "                vocabulary=None)"
            ]
          },
          "metadata": {
            "tags": []
          },
          "execution_count": 54
        }
      ]
    },
    {
      "cell_type": "code",
      "metadata": {
        "id": "C9b_koUGbZCM",
        "colab_type": "code",
        "colab": {}
      },
      "source": [
        "xtrain_tv = tvect.transform(xtrain)\n",
        "xtest_tv = tvect.transform(xtest)"
      ],
      "execution_count": 0,
      "outputs": []
    },
    {
      "cell_type": "code",
      "metadata": {
        "id": "AfAbXQS3NMnH",
        "colab_type": "code",
        "colab": {}
      },
      "source": [
        "xtrain_cv = cvect.transform(xtrain)\n",
        "xtest_cv = cvect.transform(xtest)"
      ],
      "execution_count": 0,
      "outputs": []
    },
    {
      "cell_type": "markdown",
      "metadata": {
        "id": "gzmc4dFFgxHb",
        "colab_type": "text"
      },
      "source": [
        "#Training"
      ]
    },
    {
      "cell_type": "code",
      "metadata": {
        "id": "_tUb2i_F8qFY",
        "colab_type": "code",
        "colab": {}
      },
      "source": [
        "n_fold = 10\n",
        "fold = StratifiedKFold(n_fold, shuffle=True, random_state=seed)"
      ],
      "execution_count": 0,
      "outputs": []
    },
    {
      "cell_type": "code",
      "metadata": {
        "id": "IqVc7mCk84T1",
        "colab_type": "code",
        "outputId": "6b8426c9-c706-4816-e99d-8ce1e108b495",
        "colab": {
          "base_uri": "https://localhost:8080/",
          "height": 212
        }
      },
      "source": [
        "avg = 0\n",
        "test_oofs = []\n",
        "\n",
        "for i, (tr,vr) in enumerate(fold.split(xtrain_tv, ytrain)):\n",
        "  X,Y = xtrain_tv[tr], np.take(ytrain, tr, axis=0)\n",
        "  x,y = xtrain_tv[vr], np.take(ytrain, vr, axis=0)\n",
        "\n",
        "  model = LogisticRegression(C=1.1, max_iter=1000, random_state=seed, n_jobs=-1)\n",
        "  model.fit(X, Y)\n",
        "  test_pred = model.predict_proba(xtest_tv)\n",
        "  pred = model.predict_proba(x)\n",
        "  pred = process_prediction(pred)\n",
        "\n",
        "  test_oofs.append(test_pred)\n",
        "\n",
        "  score = rmse(y-1, pred)\n",
        "  avg += score\n",
        "  print(f\"Fold {i}: \", score)\n",
        "\n",
        "print(\"Avg score : {:.3f}\".format(avg/n_fold))"
      ],
      "execution_count": 0,
      "outputs": [
        {
          "output_type": "stream",
          "text": [
            "Fold 0:  0.5841870946124796\n",
            "Fold 1:  0.5856070381311078\n",
            "Fold 2:  0.5974970150274683\n",
            "Fold 3:  0.5878650191316905\n",
            "Fold 4:  0.5757172734468895\n",
            "Fold 5:  0.599551556072437\n",
            "Fold 6:  0.6102478625051501\n",
            "Fold 7:  0.5860529534500418\n",
            "Fold 8:  0.6010971207474742\n",
            "Fold 9:  0.6094025142666933\n",
            "Avg score : 0.594\n"
          ],
          "name": "stdout"
        }
      ]
    },
    {
      "cell_type": "markdown",
      "metadata": {
        "id": "3MDkKnf6CLVG",
        "colab_type": "text"
      },
      "source": [
        "#Submission"
      ]
    },
    {
      "cell_type": "code",
      "metadata": {
        "id": "4b8C2DRw_nzC",
        "colab_type": "code",
        "colab": {}
      },
      "source": [
        "final_pred = np.mean(test_oofs, axis=0)\n",
        "final_pred = process_prediction(final_pred)"
      ],
      "execution_count": 0,
      "outputs": []
    },
    {
      "cell_type": "code",
      "metadata": {
        "id": "aRoFH8R3_nwR",
        "colab_type": "code",
        "colab": {}
      },
      "source": [
        "submission = test[['tweet_id']]\n",
        "submission['target'] = final_pred\n",
        "submission.columns = ['ID', 'target']"
      ],
      "execution_count": 0,
      "outputs": []
    },
    {
      "cell_type": "code",
      "metadata": {
        "id": "gm_zHVYf_nm2",
        "colab_type": "code",
        "outputId": "21a1abfd-c932-49a2-9d83-1a262cdfc4aa",
        "colab": {
          "base_uri": "https://localhost:8080/",
          "height": 197
        }
      },
      "source": [
        "submission.head()"
      ],
      "execution_count": 0,
      "outputs": [
        {
          "output_type": "execute_result",
          "data": {
            "text/html": [
              "<div>\n",
              "<style scoped>\n",
              "    .dataframe tbody tr th:only-of-type {\n",
              "        vertical-align: middle;\n",
              "    }\n",
              "\n",
              "    .dataframe tbody tr th {\n",
              "        vertical-align: top;\n",
              "    }\n",
              "\n",
              "    .dataframe thead th {\n",
              "        text-align: right;\n",
              "    }\n",
              "</style>\n",
              "<table border=\"1\" class=\"dataframe\">\n",
              "  <thead>\n",
              "    <tr style=\"text-align: right;\">\n",
              "      <th></th>\n",
              "      <th>ID</th>\n",
              "      <th>target</th>\n",
              "    </tr>\n",
              "  </thead>\n",
              "  <tbody>\n",
              "    <tr>\n",
              "      <th>0</th>\n",
              "      <td>00BHHHP1</td>\n",
              "      <td>0.384746</td>\n",
              "    </tr>\n",
              "    <tr>\n",
              "      <th>1</th>\n",
              "      <td>00UNMD0E</td>\n",
              "      <td>0.496808</td>\n",
              "    </tr>\n",
              "    <tr>\n",
              "      <th>2</th>\n",
              "      <td>01AXPTJF</td>\n",
              "      <td>0.000000</td>\n",
              "    </tr>\n",
              "    <tr>\n",
              "      <th>3</th>\n",
              "      <td>01HOEQJW</td>\n",
              "      <td>0.695313</td>\n",
              "    </tr>\n",
              "    <tr>\n",
              "      <th>4</th>\n",
              "      <td>01JUKMAO</td>\n",
              "      <td>0.000000</td>\n",
              "    </tr>\n",
              "  </tbody>\n",
              "</table>\n",
              "</div>"
            ],
            "text/plain": [
              "         ID    target\n",
              "0  00BHHHP1  0.384746\n",
              "1  00UNMD0E  0.496808\n",
              "2  01AXPTJF  0.000000\n",
              "3  01HOEQJW  0.695313\n",
              "4  01JUKMAO  0.000000"
            ]
          },
          "metadata": {
            "tags": []
          },
          "execution_count": 40
        }
      ]
    },
    {
      "cell_type": "code",
      "metadata": {
        "id": "F-W1QFFtJcjj",
        "colab_type": "code",
        "outputId": "51140b2d-1669-4b09-87af-11bac1cf6113",
        "colab": {
          "base_uri": "https://localhost:8080/",
          "height": 287
        }
      },
      "source": [
        "submission.describe()"
      ],
      "execution_count": 0,
      "outputs": [
        {
          "output_type": "execute_result",
          "data": {
            "text/html": [
              "<div>\n",
              "<style scoped>\n",
              "    .dataframe tbody tr th:only-of-type {\n",
              "        vertical-align: middle;\n",
              "    }\n",
              "\n",
              "    .dataframe tbody tr th {\n",
              "        vertical-align: top;\n",
              "    }\n",
              "\n",
              "    .dataframe thead th {\n",
              "        text-align: right;\n",
              "    }\n",
              "</style>\n",
              "<table border=\"1\" class=\"dataframe\">\n",
              "  <thead>\n",
              "    <tr style=\"text-align: right;\">\n",
              "      <th></th>\n",
              "      <th>target</th>\n",
              "    </tr>\n",
              "  </thead>\n",
              "  <tbody>\n",
              "    <tr>\n",
              "      <th>count</th>\n",
              "      <td>5177.000000</td>\n",
              "    </tr>\n",
              "    <tr>\n",
              "      <th>mean</th>\n",
              "      <td>0.288592</td>\n",
              "    </tr>\n",
              "    <tr>\n",
              "      <th>std</th>\n",
              "      <td>0.354426</td>\n",
              "    </tr>\n",
              "    <tr>\n",
              "      <th>min</th>\n",
              "      <td>-0.703100</td>\n",
              "    </tr>\n",
              "    <tr>\n",
              "      <th>25%</th>\n",
              "      <td>0.000000</td>\n",
              "    </tr>\n",
              "    <tr>\n",
              "      <th>50%</th>\n",
              "      <td>0.000000</td>\n",
              "    </tr>\n",
              "    <tr>\n",
              "      <th>75%</th>\n",
              "      <td>0.618570</td>\n",
              "    </tr>\n",
              "    <tr>\n",
              "      <th>max</th>\n",
              "      <td>0.984889</td>\n",
              "    </tr>\n",
              "  </tbody>\n",
              "</table>\n",
              "</div>"
            ],
            "text/plain": [
              "            target\n",
              "count  5177.000000\n",
              "mean      0.288592\n",
              "std       0.354426\n",
              "min      -0.703100\n",
              "25%       0.000000\n",
              "50%       0.000000\n",
              "75%       0.618570\n",
              "max       0.984889"
            ]
          },
          "metadata": {
            "tags": []
          },
          "execution_count": 41
        }
      ]
    },
    {
      "cell_type": "code",
      "metadata": {
        "id": "Dpuej81xDJ4w",
        "colab_type": "code",
        "colab": {}
      },
      "source": [
        "submission.to_csv(f'linear_regression_{avg/n_fold}.csv', index=False)"
      ],
      "execution_count": 0,
      "outputs": []
    }
  ]
}