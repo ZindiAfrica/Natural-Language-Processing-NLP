{
  "cells": [
    {
      "cell_type": "markdown",
      "source": [
        "## SWAHILI NOTEBOOK\n",
        "### Import all the necessary libraries"
      ],
      "metadata": {
        "id": "EbJf6rbznSrg"
      }
    },
    {
      "cell_type": "code",
      "source": [
        "# !pip install timm -q\n",
        "# !pip install fastai --upgrade --q\n",
        "# !pip install fastaudio --q\n",
        "# exit()"
      ],
      "metadata": {
        "id": "4Rom6UeZnblR"
      },
      "execution_count": null,
      "outputs": []
    },
    {
      "cell_type": "markdown",
      "source": [
        "### Mount drive"
      ],
      "metadata": {
        "id": "O-SIaUB2ndSA"
      }
    },
    {
      "cell_type": "code",
      "execution_count": null,
      "metadata": {
        "id": "lA81j1cFfGoB"
      },
      "outputs": [],
      "source": [
        "from google.colab import drive\n",
        "drive.mount('/content/drive')"
      ]
    },
    {
      "cell_type": "code",
      "execution_count": null,
      "metadata": {
        "id": "zrem-qfo6qzn"
      },
      "outputs": [],
      "source": [
        "# %%time\n",
        "# !unzip -o -q '/content/drive/MyDrive/Noise/swahili_audio_classification/Swahili_words.zip' -d \"/content/Swahili_words\""
      ]
    },
    {
      "cell_type": "code",
      "source": [
        "import os\n",
        "import librosa\n",
        "import soundfile\n",
        "from tqdm.notebook import tqdm\n",
        "\n",
        "def reduce_time(path):\n",
        "    y, sr = librosa.load(path)\n",
        "    soundfile.write(path, y[sr//2:], sr)\n",
        "\n",
        "\n",
        "for a_path in tqdm(os.listdir('/content/Swahili_words')):\n",
        "    reduce_time(f\"/content/Swahili_words/{a_path}\")\n"
      ],
      "metadata": {
        "id": "HZ8QHe-XDpGn"
      },
      "execution_count": null,
      "outputs": []
    },
    {
      "cell_type": "code",
      "execution_count": null,
      "metadata": {
        "id": "fmYjUh2J5ll3"
      },
      "outputs": [],
      "source": [
        "import warnings\n",
        "from fastai.vision.all import *\n",
        "from fastaudio.core.all import *\n",
        "from fastaudio.augment.all import *\n",
        "import numpy as np\n",
        "\n",
        "path = \"/content/drive/MyDrive/Noise/swahili_audio_classification/\"\n",
        "warnings.filterwarnings('ignore')\n",
        "seed = 2020"
      ]
    },
    {
      "cell_type": "code",
      "execution_count": null,
      "metadata": {
        "id": "gkyqPT-grrLv"
      },
      "outputs": [],
      "source": [
        "# Some of the augmentations you can use\n",
        "# AddNoiseGPU, ChangeVolumeGPU, DeltaGPU, MaskFreqGPU, MaskTimeGPU, SignalCutoutGPU, SignalLossGPU, TfmResizeGPU\n",
        "# help(TfmResizeGPU)"
      ]
    },
    {
      "cell_type": "markdown",
      "source": [
        "### Load the datasets"
      ],
      "metadata": {
        "id": "-D5L6QEQn8vR"
      }
    },
    {
      "cell_type": "code",
      "execution_count": null,
      "metadata": {
        "id": "21VERLMH9iL9"
      },
      "outputs": [],
      "source": [
        "train = pd.read_csv(path+\"Train.csv\")\n",
        "test = pd.read_csv(path+\"Test.csv\")\n",
        "ss = pd.read_csv(path+\"SampleSubmission.csv\")\n",
        "\n",
        "train"
      ]
    },
    {
      "cell_type": "markdown",
      "source": [
        "### Prepare the cross validation scheme"
      ],
      "metadata": {
        "id": "8fXCLm_goA1X"
      }
    },
    {
      "cell_type": "code",
      "source": [
        "from sklearn.model_selection import StratifiedKFold\n",
        "\n",
        "train[\"Word_id\"] = \"/content/Swahili_words/\" + train[\"Word_id\"]\n",
        "test[\"Word_id\"] = \"/content/Swahili_words/\" + test[\"Word_id\"]\n",
        "\n",
        "skf = StratifiedKFold(10, random_state=seed, shuffle=True)\n",
        "for fold, (_, val_inx) in enumerate(skf.split(train, train.Swahili_word)):\n",
        "    train.loc[val_inx, 'fold'] = fold\n",
        "train.fold = train.fold.astype(int)\n",
        "train"
      ],
      "metadata": {
        "id": "nNLtswLO6otJ"
      },
      "execution_count": null,
      "outputs": []
    },
    {
      "cell_type": "markdown",
      "source": [
        "### Seed"
      ],
      "metadata": {
        "id": "U_GbOID4oHof"
      }
    },
    {
      "cell_type": "code",
      "execution_count": null,
      "metadata": {
        "id": "A9ELlc53-kjB"
      },
      "outputs": [],
      "source": [
        "def random_seed(seed_value, use_cuda): \n",
        "   np.random.seed(seed_value)\n",
        "   torch.manual_seed(seed_value) \n",
        "\n",
        "   random.seed(seed_value)\n",
        "\n",
        "   if use_cuda: \n",
        "      torch.cuda.manual_seed(seed_value) \n",
        "      torch.cuda.manual_seed_all(seed_value) \n",
        "\n",
        "      torch.backends.cudnn.deterministic = True \n",
        "\n",
        "      torch.backends.cudnn.benchmark = False \n",
        "\n",
        "random_seed(seed, True)\n",
        "set_seed(seed, True)"
      ]
    },
    {
      "cell_type": "markdown",
      "source": [
        "### Transforms and data loader"
      ],
      "metadata": {
        "id": "DX1Xq2hKoOeG"
      }
    },
    {
      "cell_type": "code",
      "execution_count": null,
      "metadata": {
        "id": "4MNTy7pDXiSU"
      },
      "outputs": [],
      "source": [
        "augs = [\n",
        "        AddNoiseGPU, ChangeVolumeGPU, DeltaGPU, MaskFreqGPU, MaskTimeGPU, SignalCutoutGPU, SignalLossGPU, TfmResizeGPU\n",
        "]"
      ]
    },
    {
      "cell_type": "code",
      "execution_count": null,
      "metadata": {
        "id": "AYpVKvKx7PEZ"
      },
      "outputs": [],
      "source": [
        "params = {'n_fft':2048, 'hop_length':308, 'n_mels':224, 'sample_rate':16000, 'win_length':1024}\n",
        "cfg = AudioConfig.BasicMelSpectrogram(**params) # pull up the voice config\n",
        "aud2spec = AudioToSpec.from_cfg(cfg) # let audio to spec use the config"
      ]
    },
    {
      "cell_type": "code",
      "execution_count": null,
      "metadata": {
        "id": "Rnq9ZAmD7R0M"
      },
      "outputs": [],
      "source": [
        "class AudioNormalize(Transform):\n",
        "    \"Normalizes a single `AudioTensor`.\"\n",
        "    def encodes(self, x:AudioTensor): return (x-x.mean()) / x.std()\n",
        "\n",
        "def get_dls(fold):\n",
        "    torch.cuda.empty_cache()\n",
        "    audio = DataBlock(blocks=(AudioBlock(force_mono=True, crop_signal_to=5000), \n",
        "                            CategoryBlock),\n",
        "                        splitter=MaskSplitter(train.fold == fold),\n",
        "                        get_x = ColReader(0),\n",
        "                        get_y=ColReader(1),\n",
        "                        item_tfms = [AudioNormalize],\n",
        "                        batch_tfms = [aud2spec, ChangeVolume, SignalLoss]        \n",
        "        )\n",
        "    dls = audio.dataloaders(train, bs=64, num_workers=0, device='cuda')\n",
        "    dls.rng.seed(seed)\n",
        "\n",
        "    return dls"
      ]
    },
    {
      "cell_type": "code",
      "source": [
        "# help(cnn_learner)"
      ],
      "metadata": {
        "id": "sEj4j5C1AYGf"
      },
      "execution_count": null,
      "outputs": []
    },
    {
      "cell_type": "markdown",
      "source": [
        "### Modelling"
      ],
      "metadata": {
        "id": "P7akovyzokPO"
      }
    },
    {
      "cell_type": "code",
      "source": [
        "predictions = []\n",
        "for fold in [4]:\n",
        "    print(f\"\\n\\nFold {fold}\")\n",
        "    dls = get_dls(fold)\n",
        "    model_name = f'/content/fold{fold}-model'\n",
        "    learn = cnn_learner(dls, resnet50, CrossEntropyLossFlat(), metrics=accuracy, n_in=1)\n",
        "    callbacks = [\n",
        "            # EarlyStoppingCallback(monitor='valid_loss', min_delta=0.05, patience=6),\n",
        "             SaveModelCallback(monitor='valid_loss', fname=model_name) \n",
        "             ]\n",
        "    learn.unfreeze()\n",
        "    lr = learn.lr_find(show_plot=False)[0]\n",
        "    # learn.fine_tune(12, wd=0.1, base_lr=lr, cbs=callbacks)\n",
        "    learn.fit_one_cycle(16, wd=0.1, lr_max=lr, cbs=callbacks)\n",
        "    # lr = learn.lr_find(show_plot=False)[0]\n",
        "    # learn.freeze_to(-2)\n",
        "    # learn.fit_one_cycle(5, wd=0.1, cbs=callbacks)\n",
        "\n",
        "    tdl = learn.dls.test_dl(test[\"Word_id\"]) # quicly create test data loader\n",
        "\n",
        "    model = learn.load(model_name)\n",
        "    test_preds_tta, test_labels_tta = model.tta(dl=tdl, n=32)\n",
        "    predictions.append(test_preds_tta)"
      ],
      "metadata": {
        "id": "fRyCQdtf7bJk"
      },
      "execution_count": null,
      "outputs": []
    },
    {
      "cell_type": "code",
      "execution_count": null,
      "metadata": {
        "id": "xipApfJA70xF"
      },
      "outputs": [],
      "source": [
        "ss[ss.columns[1:]] = np.mean([i.numpy() for i in predictions], axis=0)\n",
        "ss.head()"
      ]
    },
    {
      "cell_type": "markdown",
      "source": [
        "### Submissions"
      ],
      "metadata": {
        "id": "m3X3FFOwoo_I"
      }
    },
    {
      "cell_type": "code",
      "source": [
        "from sklearn.metrics import log_loss \n",
        "\n",
        "val = pd.read_csv(path+'Validation.csv')[['Word_id', 'Swahili_word']]\n",
        "chk = ss[ss.Word_id.apply(lambda x:x in val.Word_id.unique())]\n",
        "\n",
        "log_loss(val.Swahili_word, chk[chk.columns[1:]])"
      ],
      "metadata": {
        "id": "wuXYLdaTU4fK"
      },
      "execution_count": null,
      "outputs": []
    },
    {
      "cell_type": "code",
      "execution_count": null,
      "metadata": {
        "id": "wXlqBjNZ721p"
      },
      "outputs": [],
      "source": [
        "name = \"/content/final_sub.csv\"\n",
        "ss.to_csv(name, index=False)"
      ]
    },
    {
      "cell_type": "code",
      "source": [],
      "metadata": {
        "id": "k_h6Psfu9k-5"
      },
      "execution_count": null,
      "outputs": []
    }
  ],
  "metadata": {
    "accelerator": "GPU",
    "colab": {
      "provenance": []
    },
    "gpuClass": "standard",
    "kernelspec": {
      "display_name": "Python 3",
      "name": "python3"
    },
    "language_info": {
      "name": "python"
    }
  },
  "nbformat": 4,
  "nbformat_minor": 0
}