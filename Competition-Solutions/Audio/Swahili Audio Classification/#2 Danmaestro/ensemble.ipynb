{
 "cells": [
  {
   "cell_type": "code",
   "execution_count": 1,
   "metadata": {},
   "outputs": [],
   "source": [
    "import numpy as np\n",
    "import pandas as pd"
   ]
  },
  {
   "cell_type": "code",
   "execution_count": 2,
   "metadata": {},
   "outputs": [],
   "source": [
    "sub_1 = pd.read_csv('submission_x.csv')\n",
    "sub_2 = pd.read_csv('submission_y.csv')"
   ]
  },
  {
   "cell_type": "code",
   "execution_count": 3,
   "metadata": {},
   "outputs": [],
   "source": [
    "df_proba1 = sub_1.drop(columns=['Word_id'])\n",
    "df_proba2 = sub_2.drop(columns=['Word_id'])"
   ]
  },
  {
   "cell_type": "code",
   "execution_count": 4,
   "metadata": {},
   "outputs": [],
   "source": [
    "cols = sub_1.columns.tolist()[1:]"
   ]
  },
  {
   "cell_type": "code",
   "execution_count": 5,
   "metadata": {},
   "outputs": [
    {
     "data": {
      "text/html": [
       "<div>\n",
       "<style scoped>\n",
       "    .dataframe tbody tr th:only-of-type {\n",
       "        vertical-align: middle;\n",
       "    }\n",
       "\n",
       "    .dataframe tbody tr th {\n",
       "        vertical-align: top;\n",
       "    }\n",
       "\n",
       "    .dataframe thead th {\n",
       "        text-align: right;\n",
       "    }\n",
       "</style>\n",
       "<table border=\"1\" class=\"dataframe\">\n",
       "  <thead>\n",
       "    <tr style=\"text-align: right;\">\n",
       "      <th></th>\n",
       "      <th>Word_id</th>\n",
       "      <th>hapana</th>\n",
       "      <th>kumi</th>\n",
       "      <th>mbili</th>\n",
       "      <th>moja</th>\n",
       "      <th>nane</th>\n",
       "      <th>ndio</th>\n",
       "      <th>nne</th>\n",
       "      <th>saba</th>\n",
       "      <th>sita</th>\n",
       "      <th>tano</th>\n",
       "      <th>tatu</th>\n",
       "      <th>tisa</th>\n",
       "    </tr>\n",
       "  </thead>\n",
       "  <tbody>\n",
       "    <tr>\n",
       "      <th>0</th>\n",
       "      <td>id_jp2pxl0r84ya.wav</td>\n",
       "      <td>1.707624e-07</td>\n",
       "      <td>9.169493e-07</td>\n",
       "      <td>1.077552e-06</td>\n",
       "      <td>5.162269e-06</td>\n",
       "      <td>1.538387e-07</td>\n",
       "      <td>6.614207e-06</td>\n",
       "      <td>1.656753e-06</td>\n",
       "      <td>4.062416e-06</td>\n",
       "      <td>9.999728e-01</td>\n",
       "      <td>1.517782e-08</td>\n",
       "      <td>6.345597e-07</td>\n",
       "      <td>6.707368e-06</td>\n",
       "    </tr>\n",
       "    <tr>\n",
       "      <th>1</th>\n",
       "      <td>id_ndduqqvthbpx.wav</td>\n",
       "      <td>2.367760e-08</td>\n",
       "      <td>1.089791e-08</td>\n",
       "      <td>5.750777e-08</td>\n",
       "      <td>1.062352e-07</td>\n",
       "      <td>1.329949e-08</td>\n",
       "      <td>3.027606e-07</td>\n",
       "      <td>3.456409e-08</td>\n",
       "      <td>4.746694e-08</td>\n",
       "      <td>7.506733e-07</td>\n",
       "      <td>2.422510e-07</td>\n",
       "      <td>2.771281e-07</td>\n",
       "      <td>9.999982e-01</td>\n",
       "    </tr>\n",
       "    <tr>\n",
       "      <th>2</th>\n",
       "      <td>id_36oxymxfcm6q.wav</td>\n",
       "      <td>1.015115e-07</td>\n",
       "      <td>1.940261e-07</td>\n",
       "      <td>5.467445e-07</td>\n",
       "      <td>5.350755e-07</td>\n",
       "      <td>1.158591e-07</td>\n",
       "      <td>7.589214e-06</td>\n",
       "      <td>3.726603e-07</td>\n",
       "      <td>2.281338e-06</td>\n",
       "      <td>4.701638e-05</td>\n",
       "      <td>1.331788e-06</td>\n",
       "      <td>1.845447e-06</td>\n",
       "      <td>9.999381e-01</td>\n",
       "    </tr>\n",
       "    <tr>\n",
       "      <th>3</th>\n",
       "      <td>id_ue9b0to760pg.wav</td>\n",
       "      <td>2.553569e-06</td>\n",
       "      <td>2.957228e-07</td>\n",
       "      <td>8.206734e-08</td>\n",
       "      <td>2.314664e-08</td>\n",
       "      <td>2.056718e-06</td>\n",
       "      <td>7.821171e-07</td>\n",
       "      <td>2.771845e-07</td>\n",
       "      <td>4.417516e-07</td>\n",
       "      <td>3.289029e-10</td>\n",
       "      <td>9.999932e-01</td>\n",
       "      <td>2.992944e-07</td>\n",
       "      <td>6.388837e-08</td>\n",
       "    </tr>\n",
       "    <tr>\n",
       "      <th>4</th>\n",
       "      <td>id_prja4oprb914.wav</td>\n",
       "      <td>7.239856e-02</td>\n",
       "      <td>8.918786e-02</td>\n",
       "      <td>1.353894e-01</td>\n",
       "      <td>6.798110e-02</td>\n",
       "      <td>2.452227e-01</td>\n",
       "      <td>6.438299e-02</td>\n",
       "      <td>7.910339e-02</td>\n",
       "      <td>1.873452e-02</td>\n",
       "      <td>4.425421e-02</td>\n",
       "      <td>6.490587e-02</td>\n",
       "      <td>6.104251e-02</td>\n",
       "      <td>5.739691e-02</td>\n",
       "    </tr>\n",
       "  </tbody>\n",
       "</table>\n",
       "</div>"
      ],
      "text/plain": [
       "               Word_id        hapana          kumi         mbili  \\\n",
       "0  id_jp2pxl0r84ya.wav  1.707624e-07  9.169493e-07  1.077552e-06   \n",
       "1  id_ndduqqvthbpx.wav  2.367760e-08  1.089791e-08  5.750777e-08   \n",
       "2  id_36oxymxfcm6q.wav  1.015115e-07  1.940261e-07  5.467445e-07   \n",
       "3  id_ue9b0to760pg.wav  2.553569e-06  2.957228e-07  8.206734e-08   \n",
       "4  id_prja4oprb914.wav  7.239856e-02  8.918786e-02  1.353894e-01   \n",
       "\n",
       "           moja          nane          ndio           nne          saba  \\\n",
       "0  5.162269e-06  1.538387e-07  6.614207e-06  1.656753e-06  4.062416e-06   \n",
       "1  1.062352e-07  1.329949e-08  3.027606e-07  3.456409e-08  4.746694e-08   \n",
       "2  5.350755e-07  1.158591e-07  7.589214e-06  3.726603e-07  2.281338e-06   \n",
       "3  2.314664e-08  2.056718e-06  7.821171e-07  2.771845e-07  4.417516e-07   \n",
       "4  6.798110e-02  2.452227e-01  6.438299e-02  7.910339e-02  1.873452e-02   \n",
       "\n",
       "           sita          tano          tatu          tisa  \n",
       "0  9.999728e-01  1.517782e-08  6.345597e-07  6.707368e-06  \n",
       "1  7.506733e-07  2.422510e-07  2.771281e-07  9.999982e-01  \n",
       "2  4.701638e-05  1.331788e-06  1.845447e-06  9.999381e-01  \n",
       "3  3.289029e-10  9.999932e-01  2.992944e-07  6.388837e-08  \n",
       "4  4.425421e-02  6.490587e-02  6.104251e-02  5.739691e-02  "
      ]
     },
     "execution_count": 5,
     "metadata": {},
     "output_type": "execute_result"
    }
   ],
   "source": [
    "df = sub_1.copy()\n",
    "df[cols] = (df_proba1.values + df_proba2.values)/2\n",
    "df.head()"
   ]
  },
  {
   "cell_type": "code",
   "execution_count": 6,
   "metadata": {},
   "outputs": [],
   "source": [
    "df.to_csv('submission_1.csv', index=False) "
   ]
  }
 ],
 "metadata": {
  "kernelspec": {
   "display_name": "Python 3 (ipykernel)",
   "language": "python",
   "name": "python3"
  },
  "language_info": {
   "codemirror_mode": {
    "name": "ipython",
    "version": 3
   },
   "file_extension": ".py",
   "mimetype": "text/x-python",
   "name": "python",
   "nbconvert_exporter": "python",
   "pygments_lexer": "ipython3",
   "version": "3.8.12"
  }
 },
 "nbformat": 4,
 "nbformat_minor": 4
}
