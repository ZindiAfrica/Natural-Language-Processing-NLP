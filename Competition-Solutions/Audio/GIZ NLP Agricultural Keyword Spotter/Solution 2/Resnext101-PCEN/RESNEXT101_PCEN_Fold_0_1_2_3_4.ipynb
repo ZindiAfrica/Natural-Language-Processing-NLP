{
  "nbformat": 4,
  "nbformat_minor": 0,
  "metadata": {
    "colab": {
      "name": "RESNEXT101_PCEN_Fold_0_1_2_3_4.ipynb",
      "provenance": [],
      "collapsed_sections": [
        "dj6ClNh29kJQ",
        "dDl56F0693al",
        "X7jcq0Ot-LbF",
        "YloSNB5BvkA_",
        "Q46cS7UU9KOj",
        "b95OFl849OgV",
        "ndRsefTTj7qv",
        "GXoUQeR6Mbcy",
        "ZbJrOgNCMexN",
        "vyMMCdNSN7jo"
      ]
    },
    "kernelspec": {
      "name": "python3",
      "display_name": "Python 3"
    },
    "accelerator": "GPU"
  },
  "cells": [
    {
      "cell_type": "markdown",
      "metadata": {
        "id": "dj6ClNh29kJQ"
      },
      "source": [
        "# **Setup**"
      ]
    },
    {
      "cell_type": "code",
      "metadata": {
        "id": "gjk86SJu-27N",
        "colab": {
          "base_uri": "https://localhost:8080/"
        },
        "outputId": "7246f7d9-0826-42f7-e015-013109532d7a"
      },
      "source": [
        "!nvidia-smi"
      ],
      "execution_count": null,
      "outputs": [
        {
          "output_type": "stream",
          "text": [
            "Wed Dec  2 17:21:46 2020       \n",
            "+-----------------------------------------------------------------------------+\n",
            "| NVIDIA-SMI 455.38       Driver Version: 418.67       CUDA Version: 10.1     |\n",
            "|-------------------------------+----------------------+----------------------+\n",
            "| GPU  Name        Persistence-M| Bus-Id        Disp.A | Volatile Uncorr. ECC |\n",
            "| Fan  Temp  Perf  Pwr:Usage/Cap|         Memory-Usage | GPU-Util  Compute M. |\n",
            "|                               |                      |               MIG M. |\n",
            "|===============================+======================+======================|\n",
            "|   0  Tesla T4            Off  | 00000000:00:04.0 Off |                    0 |\n",
            "| N/A   66C    P8    12W /  70W |      0MiB / 15079MiB |      0%      Default |\n",
            "|                               |                      |                 ERR! |\n",
            "+-------------------------------+----------------------+----------------------+\n",
            "                                                                               \n",
            "+-----------------------------------------------------------------------------+\n",
            "| Processes:                                                                  |\n",
            "|  GPU   GI   CI        PID   Type   Process name                  GPU Memory |\n",
            "|        ID   ID                                                   Usage      |\n",
            "|=============================================================================|\n",
            "|  No running processes found                                                 |\n",
            "+-----------------------------------------------------------------------------+\n"
          ],
          "name": "stdout"
        }
      ]
    },
    {
      "cell_type": "code",
      "metadata": {
        "id": "oRuYHtWt9eG8",
        "colab": {
          "base_uri": "https://localhost:8080/"
        },
        "outputId": "6b46fa88-ced8-4929-85b9-65c76d886a1b"
      },
      "source": [
        "from google.colab import drive\n",
        "drive.mount('/content/drive')"
      ],
      "execution_count": null,
      "outputs": [
        {
          "output_type": "stream",
          "text": [
            "Mounted at /content/drive\n"
          ],
          "name": "stdout"
        }
      ]
    },
    {
      "cell_type": "code",
      "metadata": {
        "id": "NX4y2Uzh-hwL",
        "colab": {
          "base_uri": "https://localhost:8080/"
        },
        "outputId": "7306e9a8-3c48-474c-e811-628ecdd874b2"
      },
      "source": [
        "!pip install efficientnet_pytorch -q\n",
        "!pip install pretrainedmodels -q\n",
        "!pip install librosa -U --quiet\n",
        "!pip install pytorch-lightning -q"
      ],
      "execution_count": null,
      "outputs": [
        {
          "output_type": "stream",
          "text": [
            "  Building wheel for efficientnet-pytorch (setup.py) ... \u001b[?25l\u001b[?25hdone\n",
            "\u001b[K     |████████████████████████████████| 61kB 5.0MB/s \n",
            "\u001b[?25h  Building wheel for pretrainedmodels (setup.py) ... \u001b[?25l\u001b[?25hdone\n",
            "\u001b[K     |████████████████████████████████| 184kB 8.1MB/s \n",
            "\u001b[K     |████████████████████████████████| 61kB 6.7MB/s \n",
            "\u001b[?25h  Building wheel for librosa (setup.py) ... \u001b[?25l\u001b[?25hdone\n",
            "\u001b[K     |████████████████████████████████| 563kB 7.6MB/s \n",
            "\u001b[K     |████████████████████████████████| 92kB 8.8MB/s \n",
            "\u001b[K     |████████████████████████████████| 829kB 5.8MB/s \n",
            "\u001b[K     |████████████████████████████████| 276kB 24.9MB/s \n",
            "\u001b[?25h  Building wheel for future (setup.py) ... \u001b[?25l\u001b[?25hdone\n",
            "  Building wheel for PyYAML (setup.py) ... \u001b[?25l\u001b[?25hdone\n"
          ],
          "name": "stdout"
        }
      ]
    },
    {
      "cell_type": "markdown",
      "metadata": {
        "id": "dDl56F0693al"
      },
      "source": [
        "# **Libraries-ENV**"
      ]
    },
    {
      "cell_type": "code",
      "metadata": {
        "id": "hlWaJmK3943-"
      },
      "source": [
        "import os\n",
        "import numpy as np\n",
        "import pandas as pd\n",
        "import sys\n",
        "import cv2\n",
        "import glob\n",
        "import math\n",
        "import random\n",
        "import librosa\n",
        "import zipfile\n",
        "from librosa import display as libdisplay\n",
        "from tqdm.notebook import tqdm\n",
        "import warnings\n",
        "warnings.simplefilter('ignore')\n",
        "import IPython.display as ipd\n",
        "from matplotlib import pyplot as plt\n",
        "from sklearn.model_selection import train_test_split, StratifiedKFold\n",
        "from sklearn.metrics import log_loss\n",
        "import torch\n",
        "import torch.nn as nn\n",
        "import torch.nn.functional as F\n",
        "from torchvision import models\n",
        "from keras.utils import to_categorical\n",
        "from PIL import Image\n",
        "from sklearn.model_selection import train_test_split\n",
        "from torchvision import datasets, transforms, models\n",
        "from torch.utils.data import DataLoader, Dataset\n",
        "import torch.nn as nn\n",
        "from torchvision import transforms\n",
        "import torch\n",
        "import torchvision\n",
        "import torchvision.models as models\n",
        "from efficientnet_pytorch import EfficientNet\n",
        "from torch.optim.lr_scheduler import MultiStepLR\n",
        "from torch.optim.lr_scheduler import OneCycleLR\n",
        "import pandas as pd \n",
        "import numpy as np\n",
        "import sklearn\n",
        "from sklearn.model_selection import StratifiedKFold\n",
        "from sklearn.metrics import accuracy_score, roc_auc_score\n",
        "from tqdm import tqdm_notebook as tqdm \n",
        "from sklearn.model_selection import train_test_split\n",
        "import albumentations\n",
        "from albumentations import torch as AT\n",
        "import cv2"
      ],
      "execution_count": null,
      "outputs": []
    },
    {
      "cell_type": "code",
      "metadata": {
        "id": "fzl6wnmU-Fdd"
      },
      "source": [
        "path = ''"
      ],
      "execution_count": null,
      "outputs": []
    },
    {
      "cell_type": "code",
      "metadata": {
        "id": "epSJc3bG-NpG"
      },
      "source": [
        "SEED_VAL  = 0\n",
        "# Set the seed value all over the place to make this reproducible.\n",
        "def seed_all(SEED):\n",
        "  random.seed(SEED_VAL)\n",
        "  np.random.seed(SEED_VAL)\n",
        "  torch.manual_seed(SEED_VAL)\n",
        "  torch.cuda.manual_seed_all(SEED_VAL)\n",
        "  os.environ['PYTHONHASHSEED'] = str(SEED_VAL)\n",
        "  torch.backends.cudnn.deterministic = True\n",
        "  torch.backends.cudnn.benchmark = False"
      ],
      "execution_count": null,
      "outputs": []
    },
    {
      "cell_type": "code",
      "metadata": {
        "id": "By6Eqx5k_Fwf"
      },
      "source": [
        "#will store our models here\n",
        "os.makedirs('MODELS/', exist_ok=True)"
      ],
      "execution_count": null,
      "outputs": []
    },
    {
      "cell_type": "code",
      "metadata": {
        "id": "r2ronOtg_JsV"
      },
      "source": [
        "#Placeholder for the training and test spectogram's images\n",
        "#It is going to store the spec, we will shortly generate.\n",
        "os.makedirs('Imgs/Train/', exist_ok=True)\n",
        "os.makedirs('Imgs/Test/', exist_ok=True)"
      ],
      "execution_count": null,
      "outputs": []
    },
    {
      "cell_type": "markdown",
      "metadata": {
        "id": "YloSNB5BvkA_"
      },
      "source": [
        "# **Utilities**"
      ]
    },
    {
      "cell_type": "code",
      "metadata": {
        "id": "6YeVnW1KvZ5K"
      },
      "source": [
        "def show_audio(ad):\n",
        "    sig,sr = ad\n",
        "    ipd.display(ipd.Audio(data=sig, rate=sr))"
      ],
      "execution_count": null,
      "outputs": []
    },
    {
      "cell_type": "code",
      "metadata": {
        "id": "m2wehAHN6xwT"
      },
      "source": [
        "class conf:\n",
        "    sampling_rate = 16000\n",
        "    duration = 3 # sec\n",
        "    hop_length = 128*duration # to make time steps 128\n",
        "    fmin = 20\n",
        "    fmax = sampling_rate // 2\n",
        "    n_mels = 92\n",
        "    n_fft = n_mels * 20\n",
        "    padmode = 'constant'\n",
        "    samples = sampling_rate * duration\n",
        "    ####################### PCEN PARAMS\n",
        "    gain          = 0.6\n",
        "    bias          = 0.1 \n",
        "    power         = 0.2 \n",
        "    time_constant = 0.4 \n",
        "    eps           = 1e-9\n",
        "    \n",
        "def get_default_conf():\n",
        "    return conf\n",
        "\n",
        "conf = get_default_conf()"
      ],
      "execution_count": null,
      "outputs": []
    },
    {
      "cell_type": "code",
      "metadata": {
        "id": "Ixhk4ORmvml5"
      },
      "source": [
        "def melspectogram_PCEN(file_path, cst=5, top_db=80.):\n",
        "  row_sound, sr = librosa.load(file_path,sr=conf.sampling_rate)\n",
        "  sound = np.zeros((cst*sr,))\n",
        "\n",
        "  if row_sound.shape[0] < cst*sr:\n",
        "    sound[:row_sound.shape[0]] = row_sound[:]\n",
        "  else:\n",
        "    sound[:] = row_sound[:cst*sr]\n",
        "\n",
        "  spec = librosa.feature.melspectrogram(sound, \n",
        "                                    sr=conf.sampling_rate,\n",
        "                                    n_mels=conf.n_mels,\n",
        "                                    hop_length=conf.hop_length,\n",
        "                                    n_fft=conf.n_fft,\n",
        "                                    fmin=conf.fmin,\n",
        "                                    fmax=conf.fmax)\n",
        "  spec_pcen = librosa.core.pcen(spec, \n",
        "                                  sr= conf.sampling_rate,\n",
        "                                  hop_length= conf.hop_length,\n",
        "                                  gain= conf.gain,\n",
        "                                  bias= conf.bias,\n",
        "                                  power= conf.power,\n",
        "                                  time_constant = conf.time_constant,\n",
        "                                  eps = conf.eps)\n",
        "  spec_pcen = spec_pcen.astype(np.float32)\n",
        "\n",
        "  return spec_pcen\n",
        "\n",
        "def spec_to_image(spec, eps=1e-6):\n",
        "  mean = spec.mean()\n",
        "  std = spec.std()\n",
        "  spec_norm = (spec - mean) / (std + eps)\n",
        "  spec_min, spec_max = spec_norm.min(), spec_norm.max()\n",
        "  spec_img = 255 * (spec_norm - spec_min) / (spec_max - spec_min)\n",
        "  \n",
        "  return spec_img.astype(np.uint8)\n",
        "\n",
        "def save_spec_image(spec_img, fname):\n",
        "  cv2.imwrite(fname, spec_img)"
      ],
      "execution_count": null,
      "outputs": []
    },
    {
      "cell_type": "code",
      "metadata": {
        "id": "_acZrdh7vmn_"
      },
      "source": [
        "class AudioDataset(torch.utils.data.Dataset):\n",
        "  def __init__(self, df, task='train', size=(300, 230), **kwargs):\n",
        "    super(AudioDataset, self).__init__()\n",
        "    self.df = df\n",
        "    self.task = task\n",
        "    self.size = size\n",
        "    self.c = len(calls)\n",
        "    self.classes = calls\n",
        "\n",
        "  def __len__(self):\n",
        "    return len(self.df)\n",
        "\n",
        "  def __getitem__(self, idx):\n",
        "    fn = self.df.loc[idx, 'spec_name']\n",
        "\n",
        "    spec = cv2.imread(fn, cv2.IMREAD_GRAYSCALE)\n",
        "    spec = cv2.resize(spec, self.size)\n",
        "\n",
        "    output = {\n",
        "        'spec': torch.tensor(spec, dtype=torch.float).unsqueeze(0),\n",
        "    }\n",
        "\n",
        "    if self.task=='train':\n",
        "      output.update({'label': torch.tensor(np.argmax(self.df.iloc[idx,4:].values)) })\n",
        "\n",
        "    return output"
      ],
      "execution_count": null,
      "outputs": []
    },
    {
      "cell_type": "code",
      "metadata": {
        "id": "AqbqIWdLvmqz"
      },
      "source": [
        "class AudioModel(torch.nn.Module):\n",
        "  def __init__(self, arch_name='resnet34',Family=\"resnet\", pretrained=True, fc_size=512, out_size=193, **kwargs):\n",
        "        super(AudioModel, self).__init__()\n",
        "\n",
        "        self.arch = getattr(models, arch_name)(pretrained)\n",
        "\n",
        "        if Family =='Densenet201' :\n",
        "            head = torch.nn.Conv2d(1, 64, kernel_size=(3, 3), stride=(1, 1), padding=(1, 1))\n",
        "            head.weight = torch.nn.Parameter(self.arch.features.conv0.weight.sum(dim=1, keepdim=True))\n",
        "\n",
        "            self.arch.features.conv0 = head\n",
        "            fc_size = self.arch.classifier.in_features\n",
        "            self.arch.classifier = nn.Sequential(nn.Linear(fc_size, 193))\n",
        "        elif Family =='Densenet161' :\n",
        "            head = torch.nn.Conv2d(1,  96, kernel_size=(7, 7), stride=(2, 2), padding=(3, 3))\n",
        "            head.weight = torch.nn.Parameter(self.arch.features.conv0.weight.sum(dim=1, keepdim=True))\n",
        "\n",
        "            self.arch.features.conv0 = head\n",
        "            fc_size = self.arch.classifier.in_features\n",
        "            self.arch.classifier = nn.Sequential(nn.Linear(fc_size, 193))\n",
        "\n",
        "        elif Family =='resnet' :\n",
        "          head = torch.nn.Conv2d(1, 64, kernel_size=(7,7), stride=(2,2), padding=(3,3))\n",
        "          head.weight = torch.nn.Parameter(self.arch.conv1.weight.sum(dim=1, keepdim=True))\n",
        "\n",
        "          self.arch.conv1 = head\n",
        "          fc_size = self.arch.fc.in_features\n",
        "          self.arch.fc = nn.Sequential(nn.Linear(fc_size, 193))\n",
        "\n",
        "  def forward(self, x):\n",
        "    x = self.arch(x)\n",
        "    return x"
      ],
      "execution_count": null,
      "outputs": []
    },
    {
      "cell_type": "code",
      "metadata": {
        "id": "3qUHb1ZiEKUV"
      },
      "source": [
        "class AverageMeter():\n",
        "    \"\"\"Computes and stores the average and current value\"\"\"\n",
        "    def __init__(self):\n",
        "        self.reset()\n",
        "\n",
        "    def reset(self):\n",
        "        self.val = 0\n",
        "        self.avg = 0\n",
        "        self.sum = 0\n",
        "        self.count = 0\n",
        "\n",
        "    def update(self, val, n=1):\n",
        "        self.val = val\n",
        "        self.sum += val * n\n",
        "        self.count += n\n",
        "        self.avg = self.sum / self.count"
      ],
      "execution_count": null,
      "outputs": []
    },
    {
      "cell_type": "code",
      "metadata": {
        "id": "pcdnnpzMEKqE",
        "colab": {
          "base_uri": "https://localhost:8080/"
        },
        "outputId": "31b24462-a847-416a-a37f-e8e0c42fd6c8"
      },
      "source": [
        "device = torch.device(\"cuda\" if torch.cuda.is_available() else \"cpu\")\n",
        "device"
      ],
      "execution_count": null,
      "outputs": [
        {
          "output_type": "execute_result",
          "data": {
            "text/plain": [
              "device(type='cuda')"
            ]
          },
          "metadata": {
            "tags": []
          },
          "execution_count": 15
        }
      ]
    },
    {
      "cell_type": "code",
      "metadata": {
        "id": "d-u7UlK9ENIE"
      },
      "source": [
        "def loss_ce(outputs,targets):\n",
        "  criterion = nn.CrossEntropyLoss()\n",
        "  loss = criterion(outputs,targets)\n",
        "  return loss"
      ],
      "execution_count": null,
      "outputs": []
    },
    {
      "cell_type": "code",
      "metadata": {
        "id": "7nZPlYsmvmtK"
      },
      "source": [
        "def train_fn(train_data_loader,model,optimizer,device,scheduler = None):\n",
        "  model.train()\n",
        "  losses = AverageMeter()\n",
        "  tk0 = tqdm(train_data_loader, total=len(train_data_loader))\n",
        "  tot_loss = 0\n",
        "  for bi,d in enumerate(tk0):\n",
        "    images = d['spec']\n",
        "    labels = d['label']\n",
        "\n",
        "    #send them to device \n",
        "    images = images.to(device,dtype=torch.float)\n",
        "    labels = labels.to(device,dtype=torch.long)\n",
        "    optimizer.zero_grad()\n",
        "\n",
        "    outputs  = model(images)\n",
        "    \n",
        "\n",
        "    if LOSS == 'CE':\n",
        "      loss = loss_ce(outputs,labels)\n",
        "      loss.backward()\n",
        "      optimizer.step()\n",
        "      tot_loss = tot_loss + loss.item()\n",
        "      losses.update(loss.item(), labels.size(0))\n",
        "      tk0.set_postfix(loss_ce=losses.avg)\n",
        "\n",
        "    if scheduler is not None:\n",
        "      scheduler.step()\n",
        "  return losses.avg"
      ],
      "execution_count": null,
      "outputs": []
    },
    {
      "cell_type": "code",
      "metadata": {
        "id": "cbicmkP6wZ8p"
      },
      "source": [
        "def eval_fn(valid_data_loader,model,device):\n",
        "  model.eval()\n",
        "  tot_loss = 0\n",
        "  log_loss_score = 0\n",
        "  final_outputs = []\n",
        "  final_targets = []\n",
        "  valid_preds = []\n",
        "  with torch.no_grad():\n",
        "    for bi,d in enumerate(valid_data_loader):\n",
        "\n",
        "      images = d['spec']\n",
        "      labels = d['label']\n",
        "\n",
        "      #send them to device \n",
        "      images = images.to(device,dtype=torch.float)\n",
        "      labels = labels.to(device,dtype=torch.long)\n",
        "      outputs  = model(images)\n",
        "\n",
        "      if LOSS == 'CE':\n",
        "        loss = loss_ce(outputs,labels)\n",
        "        tot_loss = tot_loss + loss.item()\n",
        "        \n",
        "      final_outputs.extend(torch.nn.functional.softmax(outputs).cpu().detach().numpy())\n",
        "      final_targets.extend(labels.cpu().numpy())\n",
        "      valid_preds.append(torch.nn.functional.softmax(outputs).detach().cpu().numpy())\n",
        "    final_outputs = np.argmax(final_outputs,axis=1) \n",
        "    mean_loss_val  = tot_loss/len(valid_data_loader)\n",
        "    acc_score = sklearn.metrics.accuracy_score(final_targets,final_outputs)\n",
        "    valid_preds = np.concatenate(valid_preds)\n",
        "    print(f\"Validation loss {LOSS} for this epoch: \",mean_loss_val)\n",
        "    print('Validation accuracy for this epoch',acc_score)\n",
        "  return mean_loss_val ,valid_preds"
      ],
      "execution_count": null,
      "outputs": []
    },
    {
      "cell_type": "code",
      "metadata": {
        "id": "zS6mqNACwZ_O"
      },
      "source": [
        "def predict(df, size, bs=2):\n",
        "  test_ds = AudioDataset(df, task='test', size=size)\n",
        "  testloader = torch.utils.data.DataLoader(test_ds, bs, shuffle=False)\n",
        "\n",
        "  predictions_labels = []\n",
        "  predictions_proba = []\n",
        "\n",
        "  out = None\n",
        "\n",
        "  for data in tqdm(testloader):\n",
        "    x = data['spec'].to(device)\n",
        "\n",
        "    for i in range(n_folds):\n",
        "      if i == 0: out = MODELS[i](x)\n",
        "      else: out += MODELS[i](x)\n",
        "\n",
        "    out /= n_folds\n",
        "    \n",
        "    out_labels = out.argmax(1).cpu().detach().numpy()\n",
        "    out = F.softmax(out)\n",
        "    out_probas = out.cpu().detach().numpy()\n",
        "\n",
        "    predictions_labels += out_labels.tolist()\n",
        "    predictions_proba += out_probas.tolist()\n",
        "\n",
        "  return predictions_labels ,predictions_proba"
      ],
      "execution_count": null,
      "outputs": []
    },
    {
      "cell_type": "code",
      "metadata": {
        "id": "AHdWhjG4waBY"
      },
      "source": [
        "def run_fold(fold, bs=16, eval_bs=16, lr=1e-4, size=(500, 230), name='resnet34',Family='resnet',  path='MODELS/'):\n",
        "  best_logloss = np.inf\n",
        "  oof = np.zeros((len(train), 193))\n",
        "\n",
        "  val_idx = train[train.fold == fold].index\n",
        "  fold_train = train[train.fold != fold].reset_index(drop=True)\n",
        "  fold_val = train[train.fold == fold].reset_index(drop=True)\n",
        "\n",
        "  train_ds = AudioDataset(fold_train, size=size)\n",
        "  val_ds = AudioDataset(fold_val, size=size)\n",
        "\n",
        "  trainloader = torch.utils.data.DataLoader(train_ds, batch_size=bs, shuffle=True)\n",
        "  validloader = torch.utils.data.DataLoader(val_ds, batch_size=eval_bs, shuffle=False)\n",
        "\n",
        "  model = AudioModel(name,Family=Family)\n",
        "  criterion = torch.nn.CrossEntropyLoss()\n",
        "  optimizer = torch.optim.AdamW(model.parameters(), lr=lr)\n",
        "  \n",
        "  model.to(device)\n",
        "\n",
        "  loader = tqdm(range(epochs), desc='Training')\n",
        "\n",
        "  for epoch in loader:\n",
        "    print(\"----------------EPOCH \"+str(epoch+1)+\"---------------------\")\n",
        "    logLoss_train = train_fn(trainloader, model, optimizer, device,scheduler=None)\n",
        "    logLoss_val, valid_preds = eval_fn(validloader ,model, device)\n",
        "\n",
        "    if logLoss_val < best_logloss:\n",
        "      oof[val_idx] = valid_preds\n",
        "      best_logloss = logLoss_val\n",
        "      torch.save(model.state_dict(), f'{path}model_state_dict_{fold}.bin')\n",
        "  print(f'best logLoss_val for fold {fold+1}: ',best_logloss)\n",
        "  return best_logloss ,oof"
      ],
      "execution_count": null,
      "outputs": []
    },
    {
      "cell_type": "code",
      "metadata": {
        "id": "S_m3AEBqB2pK"
      },
      "source": [
        "def RUNNN() :\n",
        "  seed_all(SEED_VAL)\n",
        "  avg_logloss = 0\n",
        "  best_fold = 0\n",
        "  fold_logloss = np.inf\n",
        "  oof = np.zeros((len(train), 193))\n",
        "  for fold in range(0,5):\n",
        "    free_memory(sleep_time=0.1)\n",
        "    print(35* '#_#')\n",
        "    print(f'FOLD :: {fold+1} // {n_folds} ')\n",
        "    _fold_logloss ,oof_ = run_fold(fold, size=size, name=NAME,Family=Family,  lr=lr, bs=bs)\n",
        "    avg_logloss += _fold_logloss\n",
        "    oof += oof_\n",
        "    if fold_logloss > _fold_logloss : best_fold = fold\n",
        "\n",
        "  print()\n",
        "  print(\"Avg LogLoss: \", avg_logloss/6)\n",
        "  #return oof"
      ],
      "execution_count": null,
      "outputs": []
    },
    {
      "cell_type": "code",
      "metadata": {
        "id": "SBhsOOdtlNnx"
      },
      "source": [
        "def holdout(fold = 0) :\n",
        "  seed_all(SEED_VAL)\n",
        "  avg_logloss = 0\n",
        "  best_fold = 0\n",
        "  fold_logloss = np.inf\n",
        "  \n",
        "\n",
        "  print(35* '#_#')\n",
        "  print(f'FOLD :: {fold} // {n_folds} ')\n",
        "  _fold_logloss,oof_ = run_fold(fold, size=size, name=NAME,Family=Family,  lr=lr, bs=bs)\n",
        "  print()\n",
        "  print(\"LogLoss: \", _fold_logloss)"
      ],
      "execution_count": null,
      "outputs": []
    },
    {
      "cell_type": "markdown",
      "metadata": {
        "id": "b95OFl849OgV"
      },
      "source": [
        "# **Training**"
      ]
    },
    {
      "cell_type": "markdown",
      "metadata": {
        "id": "VVpO2y6GSrOs"
      },
      "source": [
        "![image.png](data:image/png;base64,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)"
      ]
    },
    {
      "cell_type": "code",
      "metadata": {
        "id": "sDycbv4blhWz"
      },
      "source": [
        "train = pd.read_csv('final_train.csv')\n",
        "submission = pd.read_csv('final_test.csv')"
      ],
      "execution_count": null,
      "outputs": []
    },
    {
      "cell_type": "code",
      "metadata": {
        "id": "E_GLWw9fvZQI"
      },
      "source": [
        "# if you already prepare the spec folders just unzip :)\n",
        "!unzip -q  '/content/drive/My Drive/Giz_NLP_AUDIO/PCEN_92x128.zip'"
      ],
      "execution_count": null,
      "outputs": []
    },
    {
      "cell_type": "code",
      "metadata": {
        "id": "2gFhrHdimjrU"
      },
      "source": [
        "import gc\n",
        "import time\n",
        "def free_memory(sleep_time=0.1):\n",
        "    \"\"\" Black magic function to free torch memory and some jupyter whims \"\"\"\n",
        "    gc.collect()\n",
        "    torch.cuda.synchronize()\n",
        "    gc.collect()\n",
        "    torch.cuda.empty_cache()\n",
        "    time.sleep(sleep_time)"
      ],
      "execution_count": null,
      "outputs": []
    },
    {
      "cell_type": "markdown",
      "metadata": {
        "id": "YR1LH0vy2PwO"
      },
      "source": [
        "## **10Fold**"
      ]
    },
    {
      "cell_type": "code",
      "metadata": {
        "id": "xZ9n7yMf8l_O"
      },
      "source": [
        "calls = pd.read_csv('/content/SampleSubmission.csv').columns[1:]\n",
        "Family='resnet'\n",
        "n_folds = 10\n",
        "epochs = 20\n",
        "device = 'cuda'\n",
        "size = (512,92)\n",
        "NAME='resnext101_32x8d'\n",
        "bs = 10\n",
        "lr = 0.0001\n",
        "LOSS = 'CE'"
      ],
      "execution_count": null,
      "outputs": []
    },
    {
      "cell_type": "code",
      "metadata": {
        "id": "mL0gkkcI2PwS"
      },
      "source": [
        "RUNNN()"
      ],
      "execution_count": null,
      "outputs": []
    },
    {
      "cell_type": "code",
      "metadata": {
        "id": "wdKoIDixSNa8"
      },
      "source": [
        "!cp /content/MODELS/model_state_dict_0.bin  \"/content/drive/MyDrive/Giz_NLP_AUDIO/Resnext101_PCEN\"\n",
        "!cp /content/MODELS/model_state_dict_1.bin  \"/content/drive/MyDrive/Giz_NLP_AUDIO/Resnext101_PCEN\"\n",
        "!cp /content/MODELS/model_state_dict_2.bin  \"/content/drive/MyDrive/Giz_NLP_AUDIO/Resnext101_PCEN\"\n",
        "!cp /content/MODELS/model_state_dict_3.bin  \"/content/drive/MyDrive/Giz_NLP_AUDIO/Resnext101_PCEN\"\n",
        "!cp /content/MODELS/model_state_dict_4.bin  \"/content/drive/MyDrive/Giz_NLP_AUDIO/Resnext101_PCEN\""
      ],
      "execution_count": null,
      "outputs": []
    }
  ]
}