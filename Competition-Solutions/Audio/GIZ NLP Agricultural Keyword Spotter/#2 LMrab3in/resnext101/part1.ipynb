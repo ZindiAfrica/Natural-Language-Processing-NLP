{
  "nbformat": 4,
  "nbformat_minor": 0,
  "metadata": {
    "accelerator": "GPU",
    "colab": {
      "name": "GIZ_MELSPEC_resnext101_Part1.ipynb",
      "provenance": [],
      "collapsed_sections": [
        "Gd75xEbFUyHI",
        "wdRJwiwcvcwu",
        "tDDhgKjSa0Ma",
        "P1wFyiCIxmz9",
        "73aMvuDZeJHp",
        "6QUGAv4yxsrZ",
        "ihsQM0dI8VVp",
        "_Me-O0mlStus",
        "TuCPkDDAu5eS"
      ],
      "toc_visible": true
    },
    "kernelspec": {
      "display_name": "Python 3",
      "name": "python3"
    },
    "widgets": {
      "application/vnd.jupyter.widget-state+json": {
        "75fbe0800b5649f0b67384bae1c3bafe": {
          "model_module": "@jupyter-widgets/controls",
          "model_name": "HBoxModel",
          "state": {
            "_view_name": "HBoxView",
            "_dom_classes": [],
            "_model_name": "HBoxModel",
            "_view_module": "@jupyter-widgets/controls",
            "_model_module_version": "1.5.0",
            "_view_count": null,
            "_view_module_version": "1.5.0",
            "box_style": "",
            "layout": "IPY_MODEL_f595faa9b1b54e8cae68fdf08b44265e",
            "_model_module": "@jupyter-widgets/controls",
            "children": [
              "IPY_MODEL_dbcc58ad60d042ff9344c56e5c8efdb6",
              "IPY_MODEL_b73d950fe3234c2f900f505bc22ec40d"
            ]
          }
        },
        "f595faa9b1b54e8cae68fdf08b44265e": {
          "model_module": "@jupyter-widgets/base",
          "model_name": "LayoutModel",
          "state": {
            "_view_name": "LayoutView",
            "grid_template_rows": null,
            "right": null,
            "justify_content": null,
            "_view_module": "@jupyter-widgets/base",
            "overflow": null,
            "_model_module_version": "1.2.0",
            "_view_count": null,
            "flex_flow": null,
            "width": null,
            "min_width": null,
            "border": null,
            "align_items": null,
            "bottom": null,
            "_model_module": "@jupyter-widgets/base",
            "top": null,
            "grid_column": null,
            "overflow_y": null,
            "overflow_x": null,
            "grid_auto_flow": null,
            "grid_area": null,
            "grid_template_columns": null,
            "flex": null,
            "_model_name": "LayoutModel",
            "justify_items": null,
            "grid_row": null,
            "max_height": null,
            "align_content": null,
            "visibility": null,
            "align_self": null,
            "height": null,
            "min_height": null,
            "padding": null,
            "grid_auto_rows": null,
            "grid_gap": null,
            "max_width": null,
            "order": null,
            "_view_module_version": "1.2.0",
            "grid_template_areas": null,
            "object_position": null,
            "object_fit": null,
            "grid_auto_columns": null,
            "margin": null,
            "display": null,
            "left": null
          }
        },
        "dbcc58ad60d042ff9344c56e5c8efdb6": {
          "model_module": "@jupyter-widgets/controls",
          "model_name": "FloatProgressModel",
          "state": {
            "_view_name": "ProgressView",
            "style": "IPY_MODEL_477738bb32d3449ab8639993063ce988",
            "_dom_classes": [],
            "description": "100%",
            "_model_name": "FloatProgressModel",
            "bar_style": "success",
            "max": 4709,
            "_view_module": "@jupyter-widgets/controls",
            "_model_module_version": "1.5.0",
            "value": 4709,
            "_view_count": null,
            "_view_module_version": "1.5.0",
            "orientation": "horizontal",
            "min": 0,
            "description_tooltip": null,
            "_model_module": "@jupyter-widgets/controls",
            "layout": "IPY_MODEL_e1f0f300a7354868877742f32de096e8"
          }
        },
        "b73d950fe3234c2f900f505bc22ec40d": {
          "model_module": "@jupyter-widgets/controls",
          "model_name": "HTMLModel",
          "state": {
            "_view_name": "HTMLView",
            "style": "IPY_MODEL_45ba689f7f1643c8b1fa0dbb3546b555",
            "_dom_classes": [],
            "description": "",
            "_model_name": "HTMLModel",
            "placeholder": "​",
            "_view_module": "@jupyter-widgets/controls",
            "_model_module_version": "1.5.0",
            "value": " 4709/4709 [17:15&lt;00:00,  4.55it/s]",
            "_view_count": null,
            "_view_module_version": "1.5.0",
            "description_tooltip": null,
            "_model_module": "@jupyter-widgets/controls",
            "layout": "IPY_MODEL_a866fa1f9fa44eb3a952886674737898"
          }
        },
        "477738bb32d3449ab8639993063ce988": {
          "model_module": "@jupyter-widgets/controls",
          "model_name": "ProgressStyleModel",
          "state": {
            "_view_name": "StyleView",
            "_model_name": "ProgressStyleModel",
            "description_width": "initial",
            "_view_module": "@jupyter-widgets/base",
            "_model_module_version": "1.5.0",
            "_view_count": null,
            "_view_module_version": "1.2.0",
            "bar_color": null,
            "_model_module": "@jupyter-widgets/controls"
          }
        },
        "e1f0f300a7354868877742f32de096e8": {
          "model_module": "@jupyter-widgets/base",
          "model_name": "LayoutModel",
          "state": {
            "_view_name": "LayoutView",
            "grid_template_rows": null,
            "right": null,
            "justify_content": null,
            "_view_module": "@jupyter-widgets/base",
            "overflow": null,
            "_model_module_version": "1.2.0",
            "_view_count": null,
            "flex_flow": null,
            "width": null,
            "min_width": null,
            "border": null,
            "align_items": null,
            "bottom": null,
            "_model_module": "@jupyter-widgets/base",
            "top": null,
            "grid_column": null,
            "overflow_y": null,
            "overflow_x": null,
            "grid_auto_flow": null,
            "grid_area": null,
            "grid_template_columns": null,
            "flex": null,
            "_model_name": "LayoutModel",
            "justify_items": null,
            "grid_row": null,
            "max_height": null,
            "align_content": null,
            "visibility": null,
            "align_self": null,
            "height": null,
            "min_height": null,
            "padding": null,
            "grid_auto_rows": null,
            "grid_gap": null,
            "max_width": null,
            "order": null,
            "_view_module_version": "1.2.0",
            "grid_template_areas": null,
            "object_position": null,
            "object_fit": null,
            "grid_auto_columns": null,
            "margin": null,
            "display": null,
            "left": null
          }
        },
        "45ba689f7f1643c8b1fa0dbb3546b555": {
          "model_module": "@jupyter-widgets/controls",
          "model_name": "DescriptionStyleModel",
          "state": {
            "_view_name": "StyleView",
            "_model_name": "DescriptionStyleModel",
            "description_width": "",
            "_view_module": "@jupyter-widgets/base",
            "_model_module_version": "1.5.0",
            "_view_count": null,
            "_view_module_version": "1.2.0",
            "_model_module": "@jupyter-widgets/controls"
          }
        },
        "a866fa1f9fa44eb3a952886674737898": {
          "model_module": "@jupyter-widgets/base",
          "model_name": "LayoutModel",
          "state": {
            "_view_name": "LayoutView",
            "grid_template_rows": null,
            "right": null,
            "justify_content": null,
            "_view_module": "@jupyter-widgets/base",
            "overflow": null,
            "_model_module_version": "1.2.0",
            "_view_count": null,
            "flex_flow": null,
            "width": null,
            "min_width": null,
            "border": null,
            "align_items": null,
            "bottom": null,
            "_model_module": "@jupyter-widgets/base",
            "top": null,
            "grid_column": null,
            "overflow_y": null,
            "overflow_x": null,
            "grid_auto_flow": null,
            "grid_area": null,
            "grid_template_columns": null,
            "flex": null,
            "_model_name": "LayoutModel",
            "justify_items": null,
            "grid_row": null,
            "max_height": null,
            "align_content": null,
            "visibility": null,
            "align_self": null,
            "height": null,
            "min_height": null,
            "padding": null,
            "grid_auto_rows": null,
            "grid_gap": null,
            "max_width": null,
            "order": null,
            "_view_module_version": "1.2.0",
            "grid_template_areas": null,
            "object_position": null,
            "object_fit": null,
            "grid_auto_columns": null,
            "margin": null,
            "display": null,
            "left": null
          }
        },
        "468f4346351440e6b2e9ba90330838a5": {
          "model_module": "@jupyter-widgets/controls",
          "model_name": "HBoxModel",
          "state": {
            "_view_name": "HBoxView",
            "_dom_classes": [],
            "_model_name": "HBoxModel",
            "_view_module": "@jupyter-widgets/controls",
            "_model_module_version": "1.5.0",
            "_view_count": null,
            "_view_module_version": "1.5.0",
            "box_style": "",
            "layout": "IPY_MODEL_d82a971b1c0c46af9d8d73779e92fef4",
            "_model_module": "@jupyter-widgets/controls",
            "children": [
              "IPY_MODEL_328a76deba554d3492aff7efbc20aed9",
              "IPY_MODEL_f3288954f585480a94da338179d024be"
            ]
          }
        },
        "d82a971b1c0c46af9d8d73779e92fef4": {
          "model_module": "@jupyter-widgets/base",
          "model_name": "LayoutModel",
          "state": {
            "_view_name": "LayoutView",
            "grid_template_rows": null,
            "right": null,
            "justify_content": null,
            "_view_module": "@jupyter-widgets/base",
            "overflow": null,
            "_model_module_version": "1.2.0",
            "_view_count": null,
            "flex_flow": null,
            "width": null,
            "min_width": null,
            "border": null,
            "align_items": null,
            "bottom": null,
            "_model_module": "@jupyter-widgets/base",
            "top": null,
            "grid_column": null,
            "overflow_y": null,
            "overflow_x": null,
            "grid_auto_flow": null,
            "grid_area": null,
            "grid_template_columns": null,
            "flex": null,
            "_model_name": "LayoutModel",
            "justify_items": null,
            "grid_row": null,
            "max_height": null,
            "align_content": null,
            "visibility": null,
            "align_self": null,
            "height": null,
            "min_height": null,
            "padding": null,
            "grid_auto_rows": null,
            "grid_gap": null,
            "max_width": null,
            "order": null,
            "_view_module_version": "1.2.0",
            "grid_template_areas": null,
            "object_position": null,
            "object_fit": null,
            "grid_auto_columns": null,
            "margin": null,
            "display": null,
            "left": null
          }
        },
        "328a76deba554d3492aff7efbc20aed9": {
          "model_module": "@jupyter-widgets/controls",
          "model_name": "FloatProgressModel",
          "state": {
            "_view_name": "ProgressView",
            "style": "IPY_MODEL_0e00fc9dd8454f06bc4d2cff0575273c",
            "_dom_classes": [],
            "description": "100%",
            "_model_name": "FloatProgressModel",
            "bar_style": "success",
            "max": 356082095,
            "_view_module": "@jupyter-widgets/controls",
            "_model_module_version": "1.5.0",
            "value": 356082095,
            "_view_count": null,
            "_view_module_version": "1.5.0",
            "orientation": "horizontal",
            "min": 0,
            "description_tooltip": null,
            "_model_module": "@jupyter-widgets/controls",
            "layout": "IPY_MODEL_3eeaf2798ba74709b8941b4fc8f9612c"
          }
        },
        "f3288954f585480a94da338179d024be": {
          "model_module": "@jupyter-widgets/controls",
          "model_name": "HTMLModel",
          "state": {
            "_view_name": "HTMLView",
            "style": "IPY_MODEL_ebde6644dca243949c43b84a529b9b6c",
            "_dom_classes": [],
            "description": "",
            "_model_name": "HTMLModel",
            "placeholder": "​",
            "_view_module": "@jupyter-widgets/controls",
            "_model_module_version": "1.5.0",
            "value": " 340M/340M [00:04&lt;00:00, 86.3MB/s]",
            "_view_count": null,
            "_view_module_version": "1.5.0",
            "description_tooltip": null,
            "_model_module": "@jupyter-widgets/controls",
            "layout": "IPY_MODEL_5cb1cd2237954878ab1bf34f885faf3f"
          }
        },
        "0e00fc9dd8454f06bc4d2cff0575273c": {
          "model_module": "@jupyter-widgets/controls",
          "model_name": "ProgressStyleModel",
          "state": {
            "_view_name": "StyleView",
            "_model_name": "ProgressStyleModel",
            "description_width": "initial",
            "_view_module": "@jupyter-widgets/base",
            "_model_module_version": "1.5.0",
            "_view_count": null,
            "_view_module_version": "1.2.0",
            "bar_color": null,
            "_model_module": "@jupyter-widgets/controls"
          }
        },
        "3eeaf2798ba74709b8941b4fc8f9612c": {
          "model_module": "@jupyter-widgets/base",
          "model_name": "LayoutModel",
          "state": {
            "_view_name": "LayoutView",
            "grid_template_rows": null,
            "right": null,
            "justify_content": null,
            "_view_module": "@jupyter-widgets/base",
            "overflow": null,
            "_model_module_version": "1.2.0",
            "_view_count": null,
            "flex_flow": null,
            "width": null,
            "min_width": null,
            "border": null,
            "align_items": null,
            "bottom": null,
            "_model_module": "@jupyter-widgets/base",
            "top": null,
            "grid_column": null,
            "overflow_y": null,
            "overflow_x": null,
            "grid_auto_flow": null,
            "grid_area": null,
            "grid_template_columns": null,
            "flex": null,
            "_model_name": "LayoutModel",
            "justify_items": null,
            "grid_row": null,
            "max_height": null,
            "align_content": null,
            "visibility": null,
            "align_self": null,
            "height": null,
            "min_height": null,
            "padding": null,
            "grid_auto_rows": null,
            "grid_gap": null,
            "max_width": null,
            "order": null,
            "_view_module_version": "1.2.0",
            "grid_template_areas": null,
            "object_position": null,
            "object_fit": null,
            "grid_auto_columns": null,
            "margin": null,
            "display": null,
            "left": null
          }
        },
        "ebde6644dca243949c43b84a529b9b6c": {
          "model_module": "@jupyter-widgets/controls",
          "model_name": "DescriptionStyleModel",
          "state": {
            "_view_name": "StyleView",
            "_model_name": "DescriptionStyleModel",
            "description_width": "",
            "_view_module": "@jupyter-widgets/base",
            "_model_module_version": "1.5.0",
            "_view_count": null,
            "_view_module_version": "1.2.0",
            "_model_module": "@jupyter-widgets/controls"
          }
        },
        "5cb1cd2237954878ab1bf34f885faf3f": {
          "model_module": "@jupyter-widgets/base",
          "model_name": "LayoutModel",
          "state": {
            "_view_name": "LayoutView",
            "grid_template_rows": null,
            "right": null,
            "justify_content": null,
            "_view_module": "@jupyter-widgets/base",
            "overflow": null,
            "_model_module_version": "1.2.0",
            "_view_count": null,
            "flex_flow": null,
            "width": null,
            "min_width": null,
            "border": null,
            "align_items": null,
            "bottom": null,
            "_model_module": "@jupyter-widgets/base",
            "top": null,
            "grid_column": null,
            "overflow_y": null,
            "overflow_x": null,
            "grid_auto_flow": null,
            "grid_area": null,
            "grid_template_columns": null,
            "flex": null,
            "_model_name": "LayoutModel",
            "justify_items": null,
            "grid_row": null,
            "max_height": null,
            "align_content": null,
            "visibility": null,
            "align_self": null,
            "height": null,
            "min_height": null,
            "padding": null,
            "grid_auto_rows": null,
            "grid_gap": null,
            "max_width": null,
            "order": null,
            "_view_module_version": "1.2.0",
            "grid_template_areas": null,
            "object_position": null,
            "object_fit": null,
            "grid_auto_columns": null,
            "margin": null,
            "display": null,
            "left": null
          }
        }
      }
    }
  },
  "cells": [
    {
      "cell_type": "code",
      "metadata": {
        "colab": {
          "base_uri": "https://localhost:8080/"
        },
        "id": "-zJhryIy2OHz",
        "outputId": "e298b5a4-2be4-4ad8-cc99-6d74050dff0d"
      },
      "source": [
        "!nvidia-smi"
      ],
      "execution_count": 30,
      "outputs": [
        {
          "output_type": "stream",
          "text": [
            "Tue Nov 24 15:56:26 2020       \n",
            "+-----------------------------------------------------------------------------+\n",
            "| NVIDIA-SMI 455.38       Driver Version: 418.67       CUDA Version: 10.1     |\n",
            "|-------------------------------+----------------------+----------------------+\n",
            "| GPU  Name        Persistence-M| Bus-Id        Disp.A | Volatile Uncorr. ECC |\n",
            "| Fan  Temp  Perf  Pwr:Usage/Cap|         Memory-Usage | GPU-Util  Compute M. |\n",
            "|                               |                      |               MIG M. |\n",
            "|===============================+======================+======================|\n",
            "|   0  Tesla T4            Off  | 00000000:00:04.0 Off |                    0 |\n",
            "| N/A   32C    P8     9W /  70W |      0MiB / 15079MiB |      0%      Default |\n",
            "|                               |                      |                 ERR! |\n",
            "+-------------------------------+----------------------+----------------------+\n",
            "                                                                               \n",
            "+-----------------------------------------------------------------------------+\n",
            "| Processes:                                                                  |\n",
            "|  GPU   GI   CI        PID   Type   Process name                  GPU Memory |\n",
            "|        ID   ID                                                   Usage      |\n",
            "|=============================================================================|\n",
            "|  No running processes found                                                 |\n",
            "+-----------------------------------------------------------------------------+\n"
          ],
          "name": "stdout"
        }
      ]
    },
    {
      "cell_type": "markdown",
      "metadata": {
        "id": "v4OdNCeP18-F"
      },
      "source": [
        "# Imports"
      ]
    },
    {
      "cell_type": "code",
      "metadata": {
        "id": "Eo-Pfm2BApZU",
        "colab": {
          "base_uri": "https://localhost:8080/"
        },
        "outputId": "d8161292-0969-43f5-9bf1-348ef607b2d8"
      },
      "source": [
        "from google.colab import drive\n",
        "drive.mount('/content/drive')"
      ],
      "execution_count": 2,
      "outputs": [
        {
          "output_type": "stream",
          "text": [
            "Mounted at /content/drive\n"
          ],
          "name": "stdout"
        }
      ]
    },
    {
      "cell_type": "code",
      "metadata": {
        "id": "or1bXxRcBqn4"
      },
      "source": [
        "!cp '/content/drive/My Drive/GIZ Zindi/Train.csv' .\n",
        "!cp '/content/drive/My Drive/GIZ Zindi/SampleSubmission.csv' ."
      ],
      "execution_count": 3,
      "outputs": []
    },
    {
      "cell_type": "code",
      "metadata": {
        "id": "LZlxM2g-1dzv"
      },
      "source": [
        "!cp '/content/drive/My Drive/GIZ Zindi/AdditionalUtterances.zip' AdditionalUtterances.zip"
      ],
      "execution_count": 4,
      "outputs": []
    },
    {
      "cell_type": "code",
      "metadata": {
        "id": "uAWDjYdh1m0m"
      },
      "source": [
        "!unzip -q AdditionalUtterances.zip"
      ],
      "execution_count": 5,
      "outputs": []
    },
    {
      "cell_type": "code",
      "metadata": {
        "id": "QgLBGRGz1yq2"
      },
      "source": [
        "# Copy the files in and unzip\n",
        "!cp '/content/drive/My Drive/GIZ Zindi/audio_files.zip' audio_files.zip\n",
        "!unzip -q audio_files.zip"
      ],
      "execution_count": 6,
      "outputs": []
    },
    {
      "cell_type": "code",
      "metadata": {
        "id": "H7GH-9qUm3_k"
      },
      "source": [
        "!cp \"/content/drive/My Drive/GIZ Zindi/nlp_keywords_29Oct2020.zip\" nlp_keywords_29Oct2020.zip\n",
        "!unzip -q nlp_keywords_29Oct2020.zip"
      ],
      "execution_count": 7,
      "outputs": []
    },
    {
      "cell_type": "code",
      "metadata": {
        "id": "sBv1Gkw2Rje3",
        "colab": {
          "base_uri": "https://localhost:8080/"
        },
        "outputId": "969d7014-3a47-4d1d-8ddf-355df7bd3f03"
      },
      "source": [
        "!pip -q install efficientnet_pytorch"
      ],
      "execution_count": 8,
      "outputs": [
        {
          "output_type": "stream",
          "text": [
            "  Building wheel for efficientnet-pytorch (setup.py) ... \u001b[?25l\u001b[?25hdone\n"
          ],
          "name": "stdout"
        }
      ]
    },
    {
      "cell_type": "code",
      "metadata": {
        "id": "t-5agYag6nPg",
        "colab": {
          "base_uri": "https://localhost:8080/"
        },
        "outputId": "c3b835c3-4ec8-49f0-8114-deb01e4dd35c"
      },
      "source": [
        "!pip install -q python_speech_features"
      ],
      "execution_count": 9,
      "outputs": [
        {
          "output_type": "stream",
          "text": [
            "  Building wheel for python-speech-features (setup.py) ... \u001b[?25l\u001b[?25hdone\n"
          ],
          "name": "stdout"
        }
      ]
    },
    {
      "cell_type": "code",
      "metadata": {
        "id": "i0epTZBG7Zr_",
        "colab": {
          "base_uri": "https://localhost:8080/"
        },
        "outputId": "5299533f-2bfc-479d-c83d-43bdcbf58982"
      },
      "source": [
        "!pip -q install albumentations --upgrade"
      ],
      "execution_count": 10,
      "outputs": [
        {
          "output_type": "stream",
          "text": [
            "\u001b[K     |████████████████████████████████| 81kB 7.0MB/s \n",
            "\u001b[K     |████████████████████████████████| 36.7MB 88kB/s \n",
            "\u001b[K     |████████████████████████████████| 952kB 60.6MB/s \n",
            "\u001b[?25h"
          ],
          "name": "stdout"
        }
      ]
    },
    {
      "cell_type": "code",
      "metadata": {
        "id": "w24RQCaX0Zyi"
      },
      "source": [
        "import os\n",
        "from PIL import Image\n",
        "from sklearn.model_selection import train_test_split\n",
        "from torchvision import datasets, models\n",
        "from torch.utils.data import DataLoader, Dataset\n",
        "import torch.nn as nn\n",
        "import torch\n",
        "import torchvision.models as models\n",
        "from efficientnet_pytorch import EfficientNet\n",
        "from torch.optim.lr_scheduler import MultiStepLR\n",
        "from torch.optim.lr_scheduler import OneCycleLR\n",
        "import pandas as pd \n",
        "import numpy as np\n",
        "import sklearn\n",
        "from sklearn.model_selection import StratifiedKFold\n",
        "from sklearn.metrics import accuracy_score, roc_auc_score\n",
        "from tqdm.notebook import tqdm as tqdm \n",
        "from sklearn.model_selection import train_test_split\n",
        "import librosa\n",
        "import librosa.display as display\n",
        "import python_speech_features as psf\n",
        "from matplotlib import pyplot as plt\n",
        "import numpy as np\n",
        "import albumentations\n",
        "from torch.nn import Module,Sequential\n",
        "import gc\n",
        "import cv2\n",
        "import multiprocessing as mp \n",
        "from multiprocessing import Pool\n",
        "from albumentations.augmentations.transforms import Lambda\n",
        "import IPython.display as ipd "
      ],
      "execution_count": 11,
      "outputs": []
    },
    {
      "cell_type": "code",
      "metadata": {
        "id": "h5X002A-P4-i"
      },
      "source": [
        "N_WORKERS = mp.cpu_count()\n",
        "LOAD_TRAIN_DATA = None\n",
        "LOAD_TEST_DATA = None"
      ],
      "execution_count": 12,
      "outputs": []
    },
    {
      "cell_type": "code",
      "metadata": {
        "id": "Ba854myQBcfU"
      },
      "source": [
        "import random\n",
        "import numpy as np\n",
        "SEED_VAL  = 1000\n",
        "# Set the seed value all over the place to make this reproducible.\n",
        "def seed_all(SEED = SEED_VAL):\n",
        "  random.seed(SEED)\n",
        "  np.random.seed(SEED)\n",
        "  torch.manual_seed(SEED)\n",
        "  torch.cuda.manual_seed_all(SEED)\n",
        "  os.environ['PYTHONHASHSEED'] = str(SEED)\n",
        "  torch.backends.cudnn.deterministic = True"
      ],
      "execution_count": 13,
      "outputs": []
    },
    {
      "cell_type": "markdown",
      "metadata": {
        "id": "jd9HGTz31yKi"
      },
      "source": [
        "## New atterances"
      ]
    },
    {
      "cell_type": "code",
      "metadata": {
        "id": "SHkm4SML11Ek",
        "colab": {
          "base_uri": "https://localhost:8080/"
        },
        "outputId": "b6714215-09c2-4257-da1c-994792eedb76"
      },
      "source": [
        "def create_new_train():  \n",
        "  import glob\n",
        "  dirs = glob.glob('latest_keywords/*')\n",
        "  #firts wave \n",
        "  new_atterances = pd.DataFrame()\n",
        "  labels = []\n",
        "  fn = []\n",
        "  for dir in dirs:\n",
        "    wav_paths = glob.glob(dir+'/*')\n",
        "    fn.extend(wav_paths)\n",
        "    labels.extend(len(wav_paths) * [dir.split('/')[-1]])\n",
        "  new_atterances['fn'] = fn\n",
        "  new_atterances['label'] = labels\n",
        "  new_atterances = new_atterances.sample(frac=1,random_state=SEED_VAL).reset_index(drop=True)\n",
        "\n",
        "  #second wave\n",
        "  dirs = glob.glob('nlp_keywords/*')\n",
        "  new_atterances1 = pd.DataFrame()\n",
        "  labels = []\n",
        "  fn = []\n",
        "  for dir in dirs:\n",
        "    wav_paths = glob.glob(dir+'/*')\n",
        "    fn.extend(wav_paths)\n",
        "    labels.extend(len(wav_paths) * [dir.split('/')[-1]])\n",
        "  new_atterances1['fn'] = fn\n",
        "  new_atterances1['label'] = labels\n",
        "  new_atterances1 = new_atterances1.sample(frac=1,random_state=SEED_VAL).reset_index(drop=True) \n",
        "\n",
        "  #combine all \n",
        "  train = pd.read_csv('Train.csv')\n",
        "  train = pd.concat([train,new_atterances,new_atterances1])\n",
        "  train = train.sample(frac=1,random_state=SEED_VAL).reset_index(drop=True)\n",
        "  train.to_csv('new_train.csv',index=False)\n",
        "  print(train.head())\n",
        "  print(train.shape)\n",
        "create_new_train()"
      ],
      "execution_count": 14,
      "outputs": [
        {
          "output_type": "stream",
          "text": [
            "                                                  fn         label\n",
            "0  latest_keywords/ebbugga/2497942026ef4d7e97d47f...       ebbugga\n",
            "1                            audio_files/MQKXCIO.wav   ebijanjaalo\n",
            "2  latest_keywords/ensiringanyi/d45cd9903b3044d49...  ensiringanyi\n",
            "3  latest_keywords/abalimi/1b5a69c4b88b41eb9577a6...       abalimi\n",
            "4  nlp_keywords/ekitooke/d027264654b94950aeb204f6...      ekitooke\n",
            "(4709, 2)\n"
          ],
          "name": "stdout"
        }
      ]
    },
    {
      "cell_type": "markdown",
      "metadata": {
        "id": "tZniD6ThCw6a"
      },
      "source": [
        "# DataLoader"
      ]
    },
    {
      "cell_type": "code",
      "metadata": {
        "id": "mwQd_y6hQvIU"
      },
      "source": [
        "class conf:\n",
        "    sampling_rate = 44100\n",
        "    duration = 3 # sec\n",
        "    hop_length = 200*duration # to make time steps 128\n",
        "    fmin = 20\n",
        "    fmax = sampling_rate // 2\n",
        "    n_mels = 128\n",
        "    n_fft = n_mels * 20\n",
        "    padmode = 'constant'\n",
        "    samples = sampling_rate * duration\n",
        "def get_default_conf():\n",
        "    return conf\n",
        "\n",
        "conf = get_default_conf()"
      ],
      "execution_count": 15,
      "outputs": []
    },
    {
      "cell_type": "code",
      "metadata": {
        "id": "LyGR5S46S5S0"
      },
      "source": [
        "def melspectogram_dB(file_path, cst=3, top_db=80.):\n",
        "  row_sound, sr = librosa.load(file_path,sr=conf.sampling_rate)\n",
        "  sound = np.zeros((cst*sr,))\n",
        "  if row_sound.shape[0] < cst*sr:\n",
        "    sound[:row_sound.shape[0]] = row_sound[:]\n",
        "  else:\n",
        "    sound[:] = row_sound[:cst*sr]\n",
        "\n",
        "  spec = librosa.feature.melspectrogram(sound, \n",
        "                                    sr=conf.sampling_rate,\n",
        "                                    n_mels=conf.n_mels,\n",
        "                                    hop_length=conf.hop_length,\n",
        "                                    n_fft=conf.n_fft,\n",
        "                                    fmin=conf.fmin,\n",
        "                                    fmax=conf.fmax)\n",
        "  spec_db = librosa.power_to_db(spec)\n",
        "  spec_db = spec_db.astype(np.float32)\n",
        "\n",
        "  return spec_db\n",
        "\n",
        "def spec_to_image(spec, eps=1e-6):\n",
        "  mean = spec.mean()\n",
        "  std = spec.std()\n",
        "  spec_norm = (spec - mean) / (std + eps)\n",
        "  spec_min, spec_max = spec_norm.min(), spec_norm.max()\n",
        "  spec_img = 255 * (spec_norm - spec_min) / (spec_max - spec_min)\n",
        "  \n",
        "  return spec_img.astype(np.uint8)\n",
        "def preprocess_audio(audio_path):\n",
        "  spec = melspectogram_dB(audio_path)\n",
        "  spec = spec_to_image(spec)\n",
        "  return spec"
      ],
      "execution_count": 16,
      "outputs": []
    },
    {
      "cell_type": "code",
      "metadata": {
        "colab": {
          "base_uri": "https://localhost:8080/",
          "height": 280
        },
        "id": "tlgD1PPLs8fA",
        "outputId": "1594cda8-c3ee-478e-d922-59926878adf2"
      },
      "source": [
        "spec = preprocess_audio('/content/audio_files/IV38R7F.wav')\n",
        "print(spec.shape)\n",
        "plt.imshow(spec)"
      ],
      "execution_count": 17,
      "outputs": [
        {
          "output_type": "stream",
          "text": [
            "(128, 221)\n"
          ],
          "name": "stdout"
        },
        {
          "output_type": "execute_result",
          "data": {
            "text/plain": [
              "<matplotlib.image.AxesImage at 0x7f0cf44e2630>"
            ]
          },
          "metadata": {
            "tags": []
          },
          "execution_count": 17
        },
        {
          "output_type": "display_data",
          "data": {
            "image/png": "[encoded data removed]",
            "text/plain": [
              "<Figure size 432x288 with 1 Axes>"
            ]
          },
          "metadata": {
            "tags": [],
            "needs_background": "light"
          }
        }
      ]
    },
    {
      "cell_type": "code",
      "metadata": {
        "id": "OmO42IhrTeIu",
        "colab": {
          "base_uri": "https://localhost:8080/",
          "height": 280
        },
        "outputId": "5e1d5791-f6fb-4e0b-c161-4e204b47b7bd"
      },
      "source": [
        "spec = preprocess_audio('audio_files/B6NYZM0.wav')\n",
        "print(spec.shape)\n",
        "plt.imshow(spec)"
      ],
      "execution_count": 18,
      "outputs": [
        {
          "output_type": "stream",
          "text": [
            "(128, 221)\n"
          ],
          "name": "stdout"
        },
        {
          "output_type": "execute_result",
          "data": {
            "text/plain": [
              "<matplotlib.image.AxesImage at 0x7f0cf249ccc0>"
            ]
          },
          "metadata": {
            "tags": []
          },
          "execution_count": 18
        },
        {
          "output_type": "display_data",
          "data": {
            "image/png": "[encoded data removed]",
            "text/plain": [
              "<Figure size 432x288 with 1 Axes>"
            ]
          },
          "metadata": {
            "tags": [],
            "needs_background": "light"
          }
        }
      ]
    },
    {
      "cell_type": "code",
      "metadata": {
        "id": "fFdXzGpuFeQI"
      },
      "source": [
        "def get_data(df,mode='train'):\n",
        "  \"\"\"\n",
        "  :param: df: dataframe of train or test\n",
        "  :return: images_list: spec images of all the data\n",
        "  :return: label_list : label list of all the data\n",
        "  \"\"\"\n",
        "  audio_paths = df.fn.values\n",
        "  images_list = []\n",
        "  with mp.Pool(N_WORKERS) as pool:\n",
        "    images_list = pool.map(preprocess_audio,tqdm(audio_paths))\n",
        "\n",
        "  if mode == 'train':\n",
        "    label_list = df.label.values\n",
        "    return images_list,label_list\n",
        "  else:\n",
        "    return images_list"
      ],
      "execution_count": 19,
      "outputs": []
    },
    {
      "cell_type": "code",
      "metadata": {
        "id": "PV6u_nW3pc31"
      },
      "source": [
        "class ImageDataset(Dataset):\n",
        "    def __init__(self, images_list,labels_list=None,transform=None):\n",
        "        self.images_list = images_list\n",
        "        self.transform = transform\n",
        "        self.labels_list = labels_list\n",
        "\n",
        "    def __getitem__(self, index):\n",
        "      \n",
        "      spec = self.images_list[index]\n",
        "      if self.transform is not None:\n",
        "        spec = self.transform(image=spec)\n",
        "        spec = spec['image']\n",
        "        \n",
        "      if self.labels_list is not None:\n",
        "          label = self.labels_list[index]\n",
        "          return {'image' : torch.tensor(spec,dtype=torch.float), \n",
        "              'label' : torch.tensor(label,dtype = torch.long) }\n",
        "          \n",
        "      return {'image' : torch.tensor(spec,dtype=torch.float), }\n",
        "\n",
        "    def __len__(self):\n",
        "        return len(self.images_list)"
      ],
      "execution_count": 20,
      "outputs": []
    },
    {
      "cell_type": "markdown",
      "metadata": {
        "id": "vOQv1YlR3jJu"
      },
      "source": [
        "# Models and train functions"
      ]
    },
    {
      "cell_type": "code",
      "metadata": {
        "id": "njGRGejm2i6D"
      },
      "source": [
        "class Net(nn.Module):\n",
        "    def __init__(self,name):\n",
        "        super(Net, self).__init__()\n",
        "        self.name  = name\n",
        "        #self.convert_3_channels = nn.Conv2d(1,3,2,padding=1)\n",
        "        if name == 'b0':\n",
        "          self.arch =  EfficientNet.from_pretrained('efficientnet-b0')\n",
        "          self.arch._fc = nn.Linear(in_features=1280, out_features=193, bias=True)\n",
        "        elif name == 'b1':\n",
        "          self.arch =  EfficientNet.from_pretrained('efficientnet-b1')\n",
        "          self.arch._fc = nn.Linear(in_features=1280, out_features=193, bias=True)\n",
        "        elif name == 'b2':\n",
        "          self.arch =  EfficientNet.from_pretrained('efficientnet-b2')\n",
        "          self.arch._fc = nn.Linear(in_features=1408, out_features=193, bias=True)\n",
        "        elif name =='b3':\n",
        "          self.arch =  EfficientNet.from_pretrained('efficientnet-b3')\n",
        "          self.arch._fc = nn.Linear(in_features=1536, out_features=193, bias=True)\n",
        "        elif name =='b4':\n",
        "          self.arch =  EfficientNet.from_pretrained('efficientnet-b4')\n",
        "          self.arch._fc = nn.Linear(in_features=1792, out_features=193, bias=True,)\n",
        "        elif name =='b5':\n",
        "          self.arch =  EfficientNet.from_pretrained('efficientnet-b5')\n",
        "          self.arch._fc = nn.Linear(in_features=2048, out_features=193, bias=True)\n",
        "        elif name =='b6':\n",
        "          self.arch =  EfficientNet.from_pretrained('efficientnet-b6')\n",
        "          self.arch._fc = nn.Linear(in_features=2304, out_features=193, bias=True)\n",
        "        elif name =='b7':\n",
        "          self.arch =  EfficientNet.from_pretrained('efficientnet-b7')\n",
        "          self.arch._fc = nn.Linear(in_features=2560, out_features=193, bias=True)\n",
        "        elif name == 'densenet121':\n",
        "          self.arch = models.densenet121(pretrained=True)\n",
        "          num_ftrs = self.arch.classifier.in_features\n",
        "          self.arch.classifier = nn.Linear(num_ftrs,193,bias=True)\n",
        "        elif name == 'densenet169':\n",
        "          self.arch = models.densenet169(pretrained=True)\n",
        "          num_ftrs = self.arch.classifier.in_features\n",
        "          self.arch.classifier = nn.Linear(num_ftrs,193,bias=True)\n",
        "        elif name == 'densenet201':\n",
        "          self.arch = models.densenet201(pretrained=True)\n",
        "          num_ftrs = self.arch.classifier.in_features\n",
        "          self.arch.classifier = nn.Linear(num_ftrs,193,bias=True)\n",
        "        elif name == 'resnet50':\n",
        "          self.arch = models.resnet50(pretrained=True)\n",
        "          num_ftrs = self.arch.fc.in_features\n",
        "          self.arch.fc = nn.Linear(num_ftrs,193,bias=True)\n",
        "        elif name == 'resnet101':\n",
        "          self.arch = models.resnet101(pretrained=True)\n",
        "          num_ftrs = self.arch.fc.in_features\n",
        "          self.arch.fc = nn.Linear(num_ftrs,193,bias=True)\n",
        "        elif name == 'resnet152':\n",
        "          self.arch = models.resnet152(pretrained=True)\n",
        "          num_ftrs = self.arch.fc.in_features\n",
        "          self.arch.fc = nn.Linear(num_ftrs,193,bias=True)\n",
        "        elif name == 'resnet18':\n",
        "          self.arch = models.resnet18(pretrained=True)\n",
        "          my_weight = self.arch.conv1.weight.mean(dim=1, keepdim=True)    \n",
        "          self.arch.conv1 = nn.Conv2d(1, 64, kernel_size=(7, 7), stride=(2, 2), padding=(3, 3), bias=False)\n",
        "          self.arch.conv1.weight = torch.nn.Parameter(my_weight)\n",
        "          num_ftrs = self.arch.fc.in_features\n",
        "          self.arch.fc = nn.Linear(num_ftrs,193,bias=True)\n",
        "        elif name == 'resnet34':\n",
        "          self.arch = models.resnet34(pretrained=True)\n",
        "          num_ftrs = self.arch.fc.in_features\n",
        "          self.arch.fc = nn.Linear(num_ftrs,193,bias=True)\n",
        "        elif name == 'resnext101':\n",
        "          self.arch = models.resnext101_32x8d(pretrained=True)\n",
        "          my_weight = self.arch.conv1.weight.mean(dim=1, keepdim=True)    \n",
        "          self.arch.conv1 = nn.Conv2d(1, 64, kernel_size=(7, 7), stride=(2, 2), padding=(3, 3), bias=False)\n",
        "          self.arch.conv1.weight = torch.nn.Parameter(my_weight)\n",
        "          num_ftrs = self.arch.fc.in_features\n",
        "          self.arch.fc = nn.Linear(num_ftrs,193,bias=True)\n",
        "        elif name == 'resnext50':\n",
        "          self.arch = models.resnext50_32x4d(pretrained=True)\n",
        "          my_weight = self.arch.conv1.weight.mean(dim=1, keepdim=True)    \n",
        "          self.arch.conv1 = nn.Conv2d(1, 64, kernel_size=(7, 7), stride=(2, 2), padding=(3, 3), bias=False)\n",
        "          self.arch.conv1.weight = torch.nn.Parameter(my_weight)\n",
        "          num_ftrs = self.arch.fc.in_features\n",
        "          self.arch.fc = nn.Linear(num_ftrs,193,bias=True)\n",
        "        elif name =='rexnetv1':\n",
        "            model = rexnetv1.ReXNetV1(width_mult=1.0)\n",
        "            model.output.conv2D = nn.Conv2d(1280, 1, kernel_size=(1, 1), stride=(1, 1))\n",
        "          \n",
        "    def forward(self, x):\n",
        "        \"\"\"\n",
        "        \"\"\"\n",
        "        #x = self.convert_3_channels(x)\n",
        "        x = self.arch(x)\n",
        "        return x"
      ],
      "execution_count": 21,
      "outputs": []
    },
    {
      "cell_type": "code",
      "metadata": {
        "id": "QtSFM_tZKcna"
      },
      "source": [
        "class AverageMeter():\n",
        "    \"\"\"Computes and stores the average and current value\"\"\"\n",
        "    def __init__(self):\n",
        "        self.reset()\n",
        "    def reset(self):\n",
        "        self.val = 0\n",
        "        self.avg = 0\n",
        "        self.sum = 0\n",
        "        self.count = 0\n",
        "    def update(self, val, n=1):\n",
        "        self.val = val\n",
        "        self.sum += val * n\n",
        "        self.count += n\n",
        "        self.avg = self.sum / self.count\n"
      ],
      "execution_count": 22,
      "outputs": []
    },
    {
      "cell_type": "code",
      "metadata": {
        "id": "sw4G_vuUGb3Z"
      },
      "source": [
        "def loss_fn(outputs,targets):\n",
        "  criterion =  nn.CrossEntropyLoss()\n",
        "  return criterion(outputs,targets)"
      ],
      "execution_count": 23,
      "outputs": []
    },
    {
      "cell_type": "code",
      "metadata": {
        "id": "4ilJ_wZt4UVw"
      },
      "source": [
        "def train_fn(train_data_loader,model,optimizer,device,scheduler = None):\n",
        "  model.train()\n",
        "  tot_loss = 0\n",
        "  for bi,d in enumerate(train_data_loader):\n",
        "    images = d['image']\n",
        "    labels = d['label']\n",
        "\n",
        "    #send them to device \n",
        "    images = images.to(device,dtype=torch.float)\n",
        "    labels = labels.to(device,dtype=torch.long)\n",
        "    optimizer.zero_grad()\n",
        "    \n",
        "    outputs  = model(images.unsqueeze(dim=1))\n",
        "    loss = loss_fn(outputs,labels)\n",
        "    loss.backward()\n",
        "    optimizer.step()\n",
        "    tot_loss = tot_loss + loss.item()\n",
        "  if scheduler is not None:\n",
        "    scheduler.step()\n",
        "  logloss_score = tot_loss/len(train_data_loader) "
      ],
      "execution_count": 24,
      "outputs": []
    },
    {
      "cell_type": "code",
      "metadata": {
        "id": "Vk-5rsdI493E"
      },
      "source": [
        "def eval_fn(valid_data_loader,model,device):\n",
        "  model.eval()\n",
        "  tot_loss = 0\n",
        "  with torch.no_grad():\n",
        "    for bi,d in enumerate(valid_data_loader):\n",
        "      images = d['image']\n",
        "      labels = d['label']\n",
        "      #send them to device \n",
        "      images = images.to(device,dtype=torch.float)\n",
        "      labels = labels.to(device,dtype=torch.long)  \n",
        "      outputs  = model(images.unsqueeze(dim=1))\n",
        "      loss = loss_fn(outputs,labels)\n",
        "      tot_loss = tot_loss + loss.item()\n",
        "    logloss_score  = tot_loss/len(valid_data_loader)\n",
        "    return logloss_score\n"
      ],
      "execution_count": 25,
      "outputs": []
    },
    {
      "cell_type": "markdown",
      "metadata": {
        "id": "r70JhJyW8LUb"
      },
      "source": [
        "# Training"
      ]
    },
    {
      "cell_type": "code",
      "metadata": {
        "id": "MldtKN8sKLbU",
        "colab": {
          "base_uri": "https://localhost:8080/",
          "height": 205,
          "referenced_widgets": [
            "75fbe0800b5649f0b67384bae1c3bafe",
            "f595faa9b1b54e8cae68fdf08b44265e",
            "dbcc58ad60d042ff9344c56e5c8efdb6",
            "b73d950fe3234c2f900f505bc22ec40d",
            "477738bb32d3449ab8639993063ce988",
            "e1f0f300a7354868877742f32de096e8",
            "45ba689f7f1643c8b1fa0dbb3546b555",
            "a866fa1f9fa44eb3a952886674737898"
          ]
        },
        "outputId": "66a725f2-dad7-42e6-9d84-4282299d5463"
      },
      "source": [
        "#Takes 8 minutes\n",
        "%%time\n",
        "if LOAD_TRAIN_DATA is None:\n",
        "  gc.collect()\n",
        "  train = pd.read_csv('new_train.csv')\n",
        "  ss = pd.read_csv('/content/SampleSubmission.csv')\n",
        "  cols = ss.columns[1:].values\n",
        "  dict_cols  = {}\n",
        "  for i, col in enumerate(cols):\n",
        "    dict_cols[col] = i\n",
        "  dict_cols\n",
        "  train.label = train.label.map(dict_cols)\n",
        "  print(train.head())\n",
        "  train_images,train_labels = get_data(train,mode='train')\n",
        "  LOAD_TRAIN_DATA = True\n",
        "else:\n",
        "  print('Data Already Loaded')"
      ],
      "execution_count": 28,
      "outputs": [
        {
          "output_type": "stream",
          "text": [
            "                                                  fn  label\n",
            "0  latest_keywords/ebbugga/2497942026ef4d7e97d47f...     35\n",
            "1                            audio_files/MQKXCIO.wav    131\n",
            "2  latest_keywords/ensiringanyi/d45cd9903b3044d49...     58\n",
            "3  latest_keywords/abalimi/1b5a69c4b88b41eb9577a6...     96\n",
            "4  nlp_keywords/ekitooke/d027264654b94950aeb204f6...    161\n"
          ],
          "name": "stdout"
        },
        {
          "output_type": "display_data",
          "data": {
            "application/vnd.jupyter.widget-view+json": {
              "model_id": "75fbe0800b5649f0b67384bae1c3bafe",
              "version_minor": 0,
              "version_major": 2
            },
            "text/plain": [
              "HBox(children=(FloatProgress(value=0.0, max=4709.0), HTML(value='')))"
            ]
          },
          "metadata": {
            "tags": []
          }
        },
        {
          "output_type": "stream",
          "text": [
            "\n",
            "CPU times: user 800 ms, sys: 340 ms, total: 1.14 s\n",
            "Wall time: 17min 9s\n"
          ],
          "name": "stdout"
        }
      ]
    },
    {
      "cell_type": "code",
      "metadata": {
        "id": "zxqJubi35FM1"
      },
      "source": [
        "HEIGHT = 128\n",
        "WIDTH = 600\n",
        "def get_transforms(): \n",
        "  train_transform = albumentations.Compose([\n",
        "      #albumentations.PadIfNeeded(HEIGHT,WIDTH,border_mode = cv2.BORDER_CONSTANT,value=0),\n",
        "      albumentations.Resize(HEIGHT,WIDTH),\n",
        "      #albumentations.Lambda(NM(),always_apply=True)\n",
        "      #Lambda(image=SpecAugment(num_mask=2,freq_masking=0.1,time_masking=0.1),mask=None,p=0.2),\n",
        "      #Lambda(image=GaussNoise(2),mask=None,p=0.2),\n",
        "      #albumentations.Lambda(image=CONVERTRGB(),always_apply=True),\n",
        "      #albumentations.CenterCrop(100,140,p=1)\n",
        "      #albumentations.RandomCrop(120,120)\n",
        "      #albumentations.VerticalFlip(p=0.2),\n",
        "      #albumentations.HorizontalFlip(p=0.2),\n",
        "      #albumentations.RandomContrast(p=0.2),\n",
        "      \n",
        "      #AT.ToTensor()\n",
        "      ])\n",
        "  val_transform = albumentations.Compose([\n",
        "      #albumentations.PadIfNeeded(HEIGHT,WIDTH,border_mode = cv2.BORDER_CONSTANT,value=0),\n",
        "      albumentations.Resize(HEIGHT,WIDTH),\n",
        "      #albumentations.Lambda(NM(),always_apply=True)\n",
        "      #albumentations.Lambda(image=CONVERTRGB(),always_apply=True),\n",
        "      #AT.ToTensor()\n",
        "      ])\n",
        "  return train_transform,val_transform"
      ],
      "execution_count": 29,
      "outputs": []
    },
    {
      "cell_type": "markdown",
      "metadata": {
        "id": "cYUscqqeslvk"
      },
      "source": [
        "## KFOLDS"
      ]
    },
    {
      "cell_type": "code",
      "metadata": {
        "id": "uEMLmvvp0m4K"
      },
      "source": [
        "NAME = 'resnext101'\n",
        "EPOCHS = 15\n",
        "TRAIN_BATCH_SIZE = 8\n",
        "LR = 0.0001\n",
        "NFOLDS = 10"
      ],
      "execution_count": 31,
      "outputs": []
    },
    {
      "cell_type": "code",
      "metadata": {
        "id": "WjunYADTtEO9"
      },
      "source": [
        "skf = StratifiedKFold(NFOLDS,random_state=SEED_VAL,shuffle=True)\n",
        "all_scores = []\n",
        "def run_folds(train_images,train_labels):\n",
        "  seed_all(SEED_VAL)\n",
        "  train_transform,val_transform = get_transforms()\n",
        "  for i,(train_index,val_index) in enumerate(skf.split(train_labels,y=train_labels)):\n",
        "    if i in [0,1]:\n",
        "      print(f\"#########################  Fold {i+1}/{skf.n_splits}  #########################\")\n",
        "      tr_images,valid_images = [train_images[i] for i in train_index] ,[train_images[i] for i in val_index]\n",
        "      tr_labels,valid_labels = [train_labels[i] for i in train_index],[train_labels[i] for i in val_index]\n",
        "      \n",
        "      train_dataset = ImageDataset(tr_images,tr_labels,transform=train_transform)\n",
        "      valid_dataset = ImageDataset(valid_images,valid_labels,transform = val_transform)\n",
        "      train_data_loader = DataLoader(dataset=train_dataset,shuffle=True,batch_size=TRAIN_BATCH_SIZE)\n",
        "      valid_data_loader = DataLoader(dataset=valid_dataset,shuffle=False,batch_size=32)\n",
        "    \n",
        "      device = torch.device(\"cuda\")\n",
        "      model = Net(NAME)\n",
        "      model.to(device)\n",
        "\n",
        "      \n",
        "      optimizer = torch.optim.AdamW(model.parameters(), lr=LR)\n",
        "      scheduler  = torch.optim.lr_scheduler.ReduceLROnPlateau(optimizer, patience=0, factor=0.7,min_lr=1e-6,verbose=True)    \n",
        "\n",
        "      best_log_loss = 1500\n",
        "      for epoch in range(EPOCHS):\n",
        "        print(f\"----------------FOLD {i+1} : EPOCH {epoch+1}---------------------\")\n",
        "        train_fn(train_data_loader, model, optimizer, device,scheduler=None)\n",
        "        log_loss_val = eval_fn(valid_data_loader ,model, device)\n",
        "        scheduler.step(log_loss_val)\n",
        "        print(\"val loss: \",log_loss_val)\n",
        "        if log_loss_val<best_log_loss:\n",
        "          best_log_loss = log_loss_val \n",
        "          torch.save(model.state_dict(),f\"best_model_{i}\")\n",
        "          #torch.save(model.state_dict(),f\"/content/drive/MyDrive/Resnext101GIZ/best_model_{i}\")\n",
        "          \n",
        "      all_scores.append(best_log_loss) \n",
        "      print(f'best VAL_LOGLOSS for fold {i+1}: ',best_log_loss)\n",
        "    else:\n",
        "      pass\n",
        "  print(f\"MEAN over all FOLDS: {np.mean(all_scores)}\")\n",
        "  return np.mean(all_scores)"
      ],
      "execution_count": 32,
      "outputs": []
    },
    {
      "source": [
        "CV_SCORE = run_folds(train_images,train_labels)"
      ],
      "cell_type": "markdown",
      "metadata": {
        "id": "yt39SFentE23",
        "colab": {
          "base_uri": "https://localhost:8080/",
          "height": 1000,
          "referenced_widgets": [
            "468f4346351440e6b2e9ba90330838a5",
            "d82a971b1c0c46af9d8d73779e92fef4",
            "328a76deba554d3492aff7efbc20aed9",
            "f3288954f585480a94da338179d024be",
            "0e00fc9dd8454f06bc4d2cff0575273c",
            "3eeaf2798ba74709b8941b4fc8f9612c",
            "ebde6644dca243949c43b84a529b9b6c",
            "5cb1cd2237954878ab1bf34f885faf3f"
          ]
        },
        "outputId": "2a4d8c89-765b-4b73-af53-f7d04674ba6b"
      }
    }
  ]
}