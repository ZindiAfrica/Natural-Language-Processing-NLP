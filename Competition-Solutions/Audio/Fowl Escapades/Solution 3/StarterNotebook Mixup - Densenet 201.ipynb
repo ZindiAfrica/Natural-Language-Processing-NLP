{
 "cells": [
  {
   "cell_type": "code",
   "execution_count": 1,
   "metadata": {
    "ExecuteTime": {
     "end_time": "2020-04-22T01:50:15.593622Z",
     "start_time": "2020-04-22T01:50:15.227591Z"
    },
    "colab": {},
    "colab_type": "code",
    "id": "ksXHxLZrMLqf"
   },
   "outputs": [],
   "source": [
    "import pandas as pd"
   ]
  },
  {
   "cell_type": "code",
   "execution_count": 2,
   "metadata": {
    "ExecuteTime": {
     "end_time": "2020-04-22T01:50:15.627621Z",
     "start_time": "2020-04-22T01:50:15.594601Z"
    },
    "colab": {
     "base_uri": "https://localhost:8080/",
     "height": 275
    },
    "colab_type": "code",
    "id": "PXYv3doIMIs5",
    "outputId": "c9864c71-646b-4433-b55b-bccab2f02621"
   },
   "outputs": [
    {
     "data": {
      "text/html": [
       "<div>\n",
       "<style scoped>\n",
       "    .dataframe tbody tr th:only-of-type {\n",
       "        vertical-align: middle;\n",
       "    }\n",
       "\n",
       "    .dataframe tbody tr th {\n",
       "        vertical-align: top;\n",
       "    }\n",
       "\n",
       "    .dataframe thead th {\n",
       "        text-align: right;\n",
       "    }\n",
       "</style>\n",
       "<table border=\"1\" class=\"dataframe\">\n",
       "  <thead>\n",
       "    <tr style=\"text-align: right;\">\n",
       "      <th></th>\n",
       "      <th>ID</th>\n",
       "      <th>Ring-necked Dove</th>\n",
       "      <th>Black Cuckoo</th>\n",
       "      <th>Red-chested Cuckoo</th>\n",
       "      <th>Fiery-necked Nightjar</th>\n",
       "      <th>Green Wood Hoopoe</th>\n",
       "      <th>Crested Barbet</th>\n",
       "      <th>Cape Batis</th>\n",
       "      <th>Olive Bushshrike</th>\n",
       "      <th>Orange-breasted Bushshrike</th>\n",
       "      <th>...</th>\n",
       "      <th>Karoo Scrub Robin</th>\n",
       "      <th>White-browed Scrub Robin</th>\n",
       "      <th>Cape Robin-Chat</th>\n",
       "      <th>White-browed Robin-Chat</th>\n",
       "      <th>Chorister Robin-Chat</th>\n",
       "      <th>Southern Double-collared Sunbird</th>\n",
       "      <th>White-bellied Sunbird</th>\n",
       "      <th>African Pipit</th>\n",
       "      <th>African Rock Pipit</th>\n",
       "      <th>Cape Bunting</th>\n",
       "    </tr>\n",
       "  </thead>\n",
       "  <tbody>\n",
       "    <tr>\n",
       "      <th>0</th>\n",
       "      <td>019OYB</td>\n",
       "      <td>0</td>\n",
       "      <td>0</td>\n",
       "      <td>0</td>\n",
       "      <td>0</td>\n",
       "      <td>0</td>\n",
       "      <td>0</td>\n",
       "      <td>0</td>\n",
       "      <td>0</td>\n",
       "      <td>0</td>\n",
       "      <td>...</td>\n",
       "      <td>0</td>\n",
       "      <td>0</td>\n",
       "      <td>0</td>\n",
       "      <td>0</td>\n",
       "      <td>0</td>\n",
       "      <td>0</td>\n",
       "      <td>0</td>\n",
       "      <td>0</td>\n",
       "      <td>0</td>\n",
       "      <td>0</td>\n",
       "    </tr>\n",
       "    <tr>\n",
       "      <th>1</th>\n",
       "      <td>01S9OX</td>\n",
       "      <td>0</td>\n",
       "      <td>0</td>\n",
       "      <td>0</td>\n",
       "      <td>0</td>\n",
       "      <td>0</td>\n",
       "      <td>0</td>\n",
       "      <td>0</td>\n",
       "      <td>0</td>\n",
       "      <td>0</td>\n",
       "      <td>...</td>\n",
       "      <td>0</td>\n",
       "      <td>0</td>\n",
       "      <td>0</td>\n",
       "      <td>0</td>\n",
       "      <td>0</td>\n",
       "      <td>0</td>\n",
       "      <td>0</td>\n",
       "      <td>0</td>\n",
       "      <td>0</td>\n",
       "      <td>0</td>\n",
       "    </tr>\n",
       "    <tr>\n",
       "      <th>2</th>\n",
       "      <td>02CS12</td>\n",
       "      <td>0</td>\n",
       "      <td>0</td>\n",
       "      <td>0</td>\n",
       "      <td>0</td>\n",
       "      <td>0</td>\n",
       "      <td>0</td>\n",
       "      <td>0</td>\n",
       "      <td>0</td>\n",
       "      <td>0</td>\n",
       "      <td>...</td>\n",
       "      <td>0</td>\n",
       "      <td>0</td>\n",
       "      <td>0</td>\n",
       "      <td>0</td>\n",
       "      <td>0</td>\n",
       "      <td>0</td>\n",
       "      <td>0</td>\n",
       "      <td>0</td>\n",
       "      <td>0</td>\n",
       "      <td>0</td>\n",
       "    </tr>\n",
       "    <tr>\n",
       "      <th>3</th>\n",
       "      <td>02LM3W</td>\n",
       "      <td>0</td>\n",
       "      <td>0</td>\n",
       "      <td>0</td>\n",
       "      <td>0</td>\n",
       "      <td>0</td>\n",
       "      <td>0</td>\n",
       "      <td>0</td>\n",
       "      <td>0</td>\n",
       "      <td>0</td>\n",
       "      <td>...</td>\n",
       "      <td>0</td>\n",
       "      <td>0</td>\n",
       "      <td>0</td>\n",
       "      <td>0</td>\n",
       "      <td>0</td>\n",
       "      <td>0</td>\n",
       "      <td>0</td>\n",
       "      <td>0</td>\n",
       "      <td>0</td>\n",
       "      <td>0</td>\n",
       "    </tr>\n",
       "    <tr>\n",
       "      <th>4</th>\n",
       "      <td>0C3A2V</td>\n",
       "      <td>0</td>\n",
       "      <td>0</td>\n",
       "      <td>0</td>\n",
       "      <td>0</td>\n",
       "      <td>0</td>\n",
       "      <td>0</td>\n",
       "      <td>0</td>\n",
       "      <td>0</td>\n",
       "      <td>0</td>\n",
       "      <td>...</td>\n",
       "      <td>0</td>\n",
       "      <td>0</td>\n",
       "      <td>0</td>\n",
       "      <td>0</td>\n",
       "      <td>0</td>\n",
       "      <td>0</td>\n",
       "      <td>0</td>\n",
       "      <td>0</td>\n",
       "      <td>0</td>\n",
       "      <td>0</td>\n",
       "    </tr>\n",
       "  </tbody>\n",
       "</table>\n",
       "<p>5 rows × 41 columns</p>\n",
       "</div>"
      ],
      "text/plain": [
       "       ID  Ring-necked Dove  Black Cuckoo  Red-chested Cuckoo  \\\n",
       "0  019OYB                 0             0                   0   \n",
       "1  01S9OX                 0             0                   0   \n",
       "2  02CS12                 0             0                   0   \n",
       "3  02LM3W                 0             0                   0   \n",
       "4  0C3A2V                 0             0                   0   \n",
       "\n",
       "   Fiery-necked Nightjar  Green Wood Hoopoe  Crested Barbet  Cape Batis  \\\n",
       "0                      0                  0               0           0   \n",
       "1                      0                  0               0           0   \n",
       "2                      0                  0               0           0   \n",
       "3                      0                  0               0           0   \n",
       "4                      0                  0               0           0   \n",
       "\n",
       "   Olive Bushshrike  Orange-breasted Bushshrike  ...  Karoo Scrub Robin  \\\n",
       "0                 0                           0  ...                  0   \n",
       "1                 0                           0  ...                  0   \n",
       "2                 0                           0  ...                  0   \n",
       "3                 0                           0  ...                  0   \n",
       "4                 0                           0  ...                  0   \n",
       "\n",
       "   White-browed Scrub Robin  Cape Robin-Chat  White-browed Robin-Chat  \\\n",
       "0                         0                0                        0   \n",
       "1                         0                0                        0   \n",
       "2                         0                0                        0   \n",
       "3                         0                0                        0   \n",
       "4                         0                0                        0   \n",
       "\n",
       "   Chorister Robin-Chat  Southern Double-collared Sunbird  \\\n",
       "0                     0                                 0   \n",
       "1                     0                                 0   \n",
       "2                     0                                 0   \n",
       "3                     0                                 0   \n",
       "4                     0                                 0   \n",
       "\n",
       "   White-bellied Sunbird  African Pipit  African Rock Pipit  Cape Bunting  \n",
       "0                      0              0                   0             0  \n",
       "1                      0              0                   0             0  \n",
       "2                      0              0                   0             0  \n",
       "3                      0              0                   0             0  \n",
       "4                      0              0                   0             0  \n",
       "\n",
       "[5 rows x 41 columns]"
      ]
     },
     "execution_count": 2,
     "metadata": {},
     "output_type": "execute_result"
    }
   ],
   "source": [
    "sub = pd.read_csv('../input/SampleSubmission.csv')\n",
    "sub.head()"
   ]
  },
  {
   "cell_type": "code",
   "execution_count": 9,
   "metadata": {
    "ExecuteTime": {
     "end_time": "2020-04-22T01:50:58.354796Z",
     "start_time": "2020-04-22T01:50:58.346797Z"
    },
    "colab": {
     "base_uri": "https://localhost:8080/",
     "height": 204
    },
    "colab_type": "code",
    "id": "eSYcXfG6MP6Y",
    "outputId": "0a9b1b0b-55a8-4bc9-db7e-aab5a464f37b"
   },
   "outputs": [
    {
     "data": {
      "text/html": [
       "<div>\n",
       "<style scoped>\n",
       "    .dataframe tbody tr th:only-of-type {\n",
       "        vertical-align: middle;\n",
       "    }\n",
       "\n",
       "    .dataframe tbody tr th {\n",
       "        vertical-align: top;\n",
       "    }\n",
       "\n",
       "    .dataframe thead th {\n",
       "        text-align: right;\n",
       "    }\n",
       "</style>\n",
       "<table border=\"1\" class=\"dataframe\">\n",
       "  <thead>\n",
       "    <tr style=\"text-align: right;\">\n",
       "      <th></th>\n",
       "      <th>ID</th>\n",
       "      <th>common_name</th>\n",
       "    </tr>\n",
       "  </thead>\n",
       "  <tbody>\n",
       "    <tr>\n",
       "      <th>0</th>\n",
       "      <td>MBMG2C</td>\n",
       "      <td>Ring-necked Dove</td>\n",
       "    </tr>\n",
       "    <tr>\n",
       "      <th>1</th>\n",
       "      <td>K8LJSB</td>\n",
       "      <td>Ring-necked Dove</td>\n",
       "    </tr>\n",
       "    <tr>\n",
       "      <th>2</th>\n",
       "      <td>OGD9L6</td>\n",
       "      <td>Ring-necked Dove</td>\n",
       "    </tr>\n",
       "    <tr>\n",
       "      <th>3</th>\n",
       "      <td>581PCQ</td>\n",
       "      <td>Ring-necked Dove</td>\n",
       "    </tr>\n",
       "    <tr>\n",
       "      <th>4</th>\n",
       "      <td>P91M1F</td>\n",
       "      <td>Ring-necked Dove</td>\n",
       "    </tr>\n",
       "  </tbody>\n",
       "</table>\n",
       "</div>"
      ],
      "text/plain": [
       "       ID       common_name\n",
       "0  MBMG2C  Ring-necked Dove\n",
       "1  K8LJSB  Ring-necked Dove\n",
       "2  OGD9L6  Ring-necked Dove\n",
       "3  581PCQ  Ring-necked Dove\n",
       "4  P91M1F  Ring-necked Dove"
      ]
     },
     "execution_count": 9,
     "metadata": {},
     "output_type": "execute_result"
    }
   ],
   "source": [
    "train = pd.read_csv('../input/Train.csv')\n",
    "train.head()"
   ]
  },
  {
   "cell_type": "code",
   "execution_count": 4,
   "metadata": {
    "ExecuteTime": {
     "end_time": "2020-04-22T01:50:18.142621Z",
     "start_time": "2020-04-22T01:50:18.138617Z"
    },
    "colab": {
     "base_uri": "https://localhost:8080/",
     "height": 289
    },
    "colab_type": "code",
    "id": "Xhp3f-pqMWqb",
    "outputId": "8d2f233f-f62c-4c53-b32b-252aa9c998eb"
   },
   "outputs": [
    {
     "data": {
      "text/plain": [
       "Index(['Ring-necked Dove', 'Black Cuckoo', 'Red-chested Cuckoo',\n",
       "       'Fiery-necked Nightjar', 'Green Wood Hoopoe', 'Crested Barbet',\n",
       "       'Cape Batis', 'Olive Bushshrike', 'Orange-breasted Bushshrike',\n",
       "       'Bokmakierie', 'Black-backed Puffback', 'Southern Boubou',\n",
       "       'Black-headed Oriole', 'Fork-tailed Drongo',\n",
       "       'African Paradise Flycatcher', 'Sabota Lark', 'Eastern Clapper Lark',\n",
       "       'Rufous-naped Lark', 'Dark-capped Bulbul', 'Sombre Greenbul',\n",
       "       'Long-billed Crombec', 'African Reed Warbler', 'Rattling Cisticola',\n",
       "       'Levaillants Cisticola', 'Tawny-flanked Prinia', 'Karoo Prinia',\n",
       "       'Bar-throated Apalis', 'Green-backed Camaroptera',\n",
       "       'Chestnut-vented Warbler', 'Cape White-eye', 'Karoo Scrub Robin',\n",
       "       'White-browed Scrub Robin', 'Cape Robin-Chat',\n",
       "       'White-browed Robin-Chat', 'Chorister Robin-Chat',\n",
       "       'Southern Double-collared Sunbird', 'White-bellied Sunbird',\n",
       "       'African Pipit', 'African Rock Pipit', 'Cape Bunting'],\n",
       "      dtype='object')"
      ]
     },
     "execution_count": 4,
     "metadata": {},
     "output_type": "execute_result"
    }
   ],
   "source": [
    "# This list will be useful later\n",
    "birds = sub.columns[1:]\n",
    "birds"
   ]
  },
  {
   "cell_type": "code",
   "execution_count": 5,
   "metadata": {
    "ExecuteTime": {
     "end_time": "2020-04-22T01:50:19.366828Z",
     "start_time": "2020-04-22T01:50:19.353828Z"
    },
    "colab": {},
    "colab_type": "code",
    "id": "WFmwmb6FMgJB"
   },
   "outputs": [],
   "source": [
    "# Add file names\n",
    "\n",
    "train['file_name'] = 'train/'+train['ID']+'.png'\n",
    "sub['file_name'] = 'test/'+sub['ID']+'.png'"
   ]
  },
  {
   "cell_type": "code",
   "execution_count": 10,
   "metadata": {
    "ExecuteTime": {
     "end_time": "2020-04-22T01:51:01.137091Z",
     "start_time": "2020-04-22T01:51:01.122059Z"
    },
    "colab": {
     "base_uri": "https://localhost:8080/",
     "height": 34
    },
    "colab_type": "code",
    "id": "AKHh_em1oyDo",
    "outputId": "84b6d4c2-a4ef-4bc0-8ce4-70d9ff6e3c8e"
   },
   "outputs": [
    {
     "name": "stdout",
     "output_type": "stream",
     "text": [
      "1857 1857\n"
     ]
    }
   ],
   "source": [
    "# Checking that the spectrograms were generated successfully:\n",
    "import glob\n",
    "ims = glob.glob('../train/*.png')\n",
    "print(len(ims), len(train))"
   ]
  },
  {
   "cell_type": "code",
   "execution_count": 11,
   "metadata": {
    "ExecuteTime": {
     "end_time": "2020-04-22T01:51:01.632987Z",
     "start_time": "2020-04-22T01:51:01.625957Z"
    },
    "colab": {
     "base_uri": "https://localhost:8080/",
     "height": 34
    },
    "colab_type": "code",
    "id": "TNz2E-vvP6xQ",
    "outputId": "b6c058a8-1c29-4634-f554-9d1b2f1d97e3"
   },
   "outputs": [
    {
     "data": {
      "text/plain": [
       "1857"
      ]
     },
     "execution_count": 11,
     "metadata": {},
     "output_type": "execute_result"
    }
   ],
   "source": [
    "# If you stopped the process early and want to try with only a few spectrograms, this will only use the ones that have been generated\n",
    "# train['img_path'] = train['file_name'].str[:-4]+'.png'\n",
    "train['img_path'] = '../train\\\\' + train['ID']+'.png'\n",
    "train = train.loc[train.img_path.isin(ims)]\n",
    "len(train)"
   ]
  },
  {
   "cell_type": "code",
   "execution_count": 12,
   "metadata": {
    "ExecuteTime": {
     "end_time": "2020-04-22T01:51:12.064454Z",
     "start_time": "2020-04-22T01:51:12.051491Z"
    },
    "colab": {
     "base_uri": "https://localhost:8080/",
     "height": 34
    },
    "colab_type": "code",
    "id": "AsWGgXKKpT0y",
    "outputId": "d2574bcf-5fe1-44af-a3e5-247f5e125d76"
   },
   "outputs": [
    {
     "name": "stdout",
     "output_type": "stream",
     "text": [
      "911 911\n"
     ]
    }
   ],
   "source": [
    "# Similarly, test now has rows for files that have had spectrograms created.\n",
    "sub['img_path'] = '../test\\\\'+sub['ID']+'.png'\n",
    "ims = glob.glob('../test/*.png')\n",
    "test = sub.loc[sub.img_path.isin(ims)]\n",
    "print(len(sub), len(test))"
   ]
  },
  {
   "cell_type": "markdown",
   "metadata": {
    "colab_type": "text",
    "id": "FRxjjmRHODvp"
   },
   "source": [
    "# Modelling\n",
    "\n",
    "I use a model pre-trained on imagenet, and throw the spectrograms at it. Not the most elegant approach, but it will do for now!"
   ]
  },
  {
   "cell_type": "code",
   "execution_count": 12,
   "metadata": {
    "ExecuteTime": {
     "end_time": "2020-04-19T19:15:13.909227Z",
     "start_time": "2020-04-19T19:15:11.742001Z"
    },
    "colab": {},
    "colab_type": "code",
    "id": "OQlkfwbuOFyr"
   },
   "outputs": [],
   "source": [
    "from fastai.vision import *"
   ]
  },
  {
   "cell_type": "code",
   "execution_count": null,
   "metadata": {
    "ExecuteTime": {
     "end_time": "2020-04-19T17:39:50.585314Z",
     "start_time": "2020-04-19T17:39:49.877313Z"
    }
   },
   "outputs": [],
   "source": [
    "np.random.seed(42)\n",
    "\n",
    "# tfms = get_transforms()\n",
    "tfms=[]\n",
    "data = (ImageList.from_df(train, path='../', cols=2)\n",
    "      .split_by_rand_pct(.3, seed=42)\n",
    "      .label_from_df(cols=1)\n",
    "      .transform(tfms, size=224)\n",
    "      .databunch(bs=32)\n",
    "      .normalize(imagenet_stats)\n",
    "     )"
   ]
  },
  {
   "cell_type": "code",
   "execution_count": null,
   "metadata": {
    "ExecuteTime": {
     "end_time": "2020-04-19T16:16:26.678676Z",
     "start_time": "2020-04-19T16:14:20.318554Z"
    },
    "colab": {
     "base_uri": "https://localhost:8080/",
     "height": 439
    },
    "colab_type": "code",
    "id": "ngBnSZz6PmfD",
    "outputId": "012b617f-b75a-4ac8-f1ca-0e009a600583"
   },
   "outputs": [],
   "source": [
    "learn = cnn_learner(data, models.densenet201, metrics=[error_rate, accuracy, top_k_accuracy]).to_fp16().mixup()"
   ]
  },
  {
   "cell_type": "code",
   "execution_count": null,
   "metadata": {
    "ExecuteTime": {
     "end_time": "2020-04-19T16:20:30.366799Z",
     "start_time": "2020-04-19T16:16:54.287657Z"
    },
    "colab": {
     "base_uri": "https://localhost:8080/",
     "height": 142
    },
    "colab_type": "code",
    "id": "vVYrxqTLQX1X",
    "outputId": "b0029d80-ad1a-4408-e067-c9d2bf79f4f3"
   },
   "outputs": [],
   "source": [
    "# Train the head of the model\n",
    "lr = 4e-3\n",
    "learn.fit_one_cycle(3, lr)"
   ]
  },
  {
   "cell_type": "code",
   "execution_count": null,
   "metadata": {
    "ExecuteTime": {
     "end_time": "2020-04-19T16:22:46.485451Z",
     "start_time": "2020-04-19T16:20:30.367798Z"
    },
    "colab": {
     "base_uri": "https://localhost:8080/",
     "height": 409
    },
    "colab_type": "code",
    "id": "VwHxp-SLRTGz",
    "outputId": "21f47a6b-5bb7-471c-873f-00bf5161298e"
   },
   "outputs": [],
   "source": [
    "# Not doing very well yet. Let's train the inner layers\n",
    "learn.unfreeze()"
   ]
  },
  {
   "cell_type": "code",
   "execution_count": null,
   "metadata": {
    "ExecuteTime": {
     "end_time": "2020-04-19T16:49:01.563982Z",
     "start_time": "2020-04-19T16:23:10.539700Z"
    },
    "colab": {
     "base_uri": "https://localhost:8080/",
     "height": 173
    },
    "colab_type": "code",
    "id": "84SbAYjpSExM",
    "outputId": "e2884346-1b85-4137-e195-31d3f2c7c1b8"
   },
   "outputs": [],
   "source": [
    "learn.fit_one_cycle(20, slice(6e-5, 6e-4))"
   ]
  },
  {
   "cell_type": "code",
   "execution_count": null,
   "metadata": {
    "ExecuteTime": {
     "end_time": "2020-04-19T16:49:01.907017Z",
     "start_time": "2020-04-19T16:49:01.564982Z"
    }
   },
   "outputs": [],
   "source": [
    "learn.save('densenet201-mixup-stg1')"
   ]
  },
  {
   "cell_type": "code",
   "execution_count": 13,
   "metadata": {
    "ExecuteTime": {
     "end_time": "2020-04-19T19:15:15.969427Z",
     "start_time": "2020-04-19T19:15:15.765460Z"
    }
   },
   "outputs": [],
   "source": [
    "np.random.seed(42)\n",
    "\n",
    "# tfms = get_transforms()\n",
    "tfms=[]\n",
    "data = (ImageList.from_df(train, path='../', cols=2)\n",
    "      .split_by_rand_pct(.3, seed=42)\n",
    "      .label_from_df(cols=1)\n",
    "      .transform(tfms, size=512)\n",
    "      .databunch(bs=12)\n",
    "      .normalize(imagenet_stats)\n",
    "     )"
   ]
  },
  {
   "cell_type": "code",
   "execution_count": 14,
   "metadata": {
    "ExecuteTime": {
     "end_time": "2020-04-19T19:15:20.179700Z",
     "start_time": "2020-04-19T19:15:18.109412Z"
    }
   },
   "outputs": [],
   "source": [
    "learn = cnn_learner(data, models.densenet201, metrics=[error_rate, accuracy, top_k_accuracy]).to_fp16().mixup()"
   ]
  },
  {
   "cell_type": "code",
   "execution_count": null,
   "metadata": {
    "ExecuteTime": {
     "end_time": "2020-04-19T17:39:58.034607Z",
     "start_time": "2020-04-19T17:39:57.121640Z"
    }
   },
   "outputs": [],
   "source": [
    "learn.load('densenet201-mixup-stg1')"
   ]
  },
  {
   "cell_type": "code",
   "execution_count": null,
   "metadata": {
    "ExecuteTime": {
     "end_time": "2020-04-19T17:58:30.913935Z",
     "start_time": "2020-04-19T17:50:29.207699Z"
    }
   },
   "outputs": [],
   "source": [
    "lr = 4e-4\n",
    "learn.fit_one_cycle(4, lr)"
   ]
  },
  {
   "cell_type": "code",
   "execution_count": null,
   "metadata": {
    "ExecuteTime": {
     "end_time": "2020-04-19T18:00:13.639571Z",
     "start_time": "2020-04-19T18:00:13.407290Z"
    }
   },
   "outputs": [],
   "source": [
    "learn.save('densenet201-mixup-stg2')"
   ]
  },
  {
   "cell_type": "code",
   "execution_count": 16,
   "metadata": {
    "ExecuteTime": {
     "end_time": "2020-04-19T19:17:25.714163Z",
     "start_time": "2020-04-19T19:15:29.021453Z"
    }
   },
   "outputs": [
    {
     "data": {
      "text/html": [
       "\n",
       "    <div>\n",
       "        <style>\n",
       "            /* Turns off some styling */\n",
       "            progress {\n",
       "                /* gets rid of default border in Firefox and Opera. */\n",
       "                border: none;\n",
       "                /* Needs to be in here for Safari polyfill so background images work as expected. */\n",
       "                background-size: auto;\n",
       "            }\n",
       "            .progress-bar-interrupted, .progress-bar-interrupted::-webkit-progress-bar {\n",
       "                background: #F44336;\n",
       "            }\n",
       "        </style>\n",
       "      <progress value='0' class='' max='1', style='width:300px; height:20px; vertical-align: middle;'></progress>\n",
       "      0.00% [0/1 00:00<00:00]\n",
       "    </div>\n",
       "    \n",
       "<table border=\"1\" class=\"dataframe\">\n",
       "  <thead>\n",
       "    <tr style=\"text-align: left;\">\n",
       "      <th>epoch</th>\n",
       "      <th>train_loss</th>\n",
       "      <th>valid_loss</th>\n",
       "      <th>error_rate</th>\n",
       "      <th>accuracy</th>\n",
       "      <th>top_k_accuracy</th>\n",
       "      <th>time</th>\n",
       "    </tr>\n",
       "  </thead>\n",
       "  <tbody>\n",
       "  </tbody>\n",
       "</table><p>\n",
       "\n",
       "    <div>\n",
       "        <style>\n",
       "            /* Turns off some styling */\n",
       "            progress {\n",
       "                /* gets rid of default border in Firefox and Opera. */\n",
       "                border: none;\n",
       "                /* Needs to be in here for Safari polyfill so background images work as expected. */\n",
       "                background-size: auto;\n",
       "            }\n",
       "            .progress-bar-interrupted, .progress-bar-interrupted::-webkit-progress-bar {\n",
       "                background: #F44336;\n",
       "            }\n",
       "        </style>\n",
       "      <progress value='83' class='' max='108', style='width:300px; height:20px; vertical-align: middle;'></progress>\n",
       "      76.85% [83/108 01:54<00:34 5.9876]\n",
       "    </div>\n",
       "    "
      ],
      "text/plain": [
       "<IPython.core.display.HTML object>"
      ]
     },
     "metadata": {},
     "output_type": "display_data"
    },
    {
     "name": "stdout",
     "output_type": "stream",
     "text": [
      "LR Finder is complete, type {learner_name}.recorder.plot() to see the graph.\n",
      "Min numerical gradient: 6.31E-07\n",
      "Min loss divided by 10: 3.63E-06\n"
     ]
    },
    {
     "data": {
      "image/png": "[encoded data removed]",
      "text/plain": [
       "<Figure size 432x288 with 1 Axes>"
      ]
     },
     "metadata": {
      "needs_background": "light"
     },
     "output_type": "display_data"
    }
   ],
   "source": [
    "learn.unfreeze()"
   ]
  },
  {
   "cell_type": "code",
   "execution_count": 17,
   "metadata": {
    "ExecuteTime": {
     "end_time": "2020-04-19T20:55:23.332848Z",
     "start_time": "2020-04-19T19:18:49.926578Z"
    }
   },
   "outputs": [
    {
     "data": {
      "text/html": [
       "<table border=\"1\" class=\"dataframe\">\n",
       "  <thead>\n",
       "    <tr style=\"text-align: left;\">\n",
       "      <th>epoch</th>\n",
       "      <th>train_loss</th>\n",
       "      <th>valid_loss</th>\n",
       "      <th>error_rate</th>\n",
       "      <th>accuracy</th>\n",
       "      <th>top_k_accuracy</th>\n",
       "      <th>time</th>\n",
       "    </tr>\n",
       "  </thead>\n",
       "  <tbody>\n",
       "    <tr>\n",
       "      <td>0</td>\n",
       "      <td>1.671305</td>\n",
       "      <td>1.736771</td>\n",
       "      <td>0.432675</td>\n",
       "      <td>0.567325</td>\n",
       "      <td>0.822262</td>\n",
       "      <td>02:32</td>\n",
       "    </tr>\n",
       "    <tr>\n",
       "      <td>1</td>\n",
       "      <td>1.690089</td>\n",
       "      <td>1.776915</td>\n",
       "      <td>0.427289</td>\n",
       "      <td>0.572711</td>\n",
       "      <td>0.818671</td>\n",
       "      <td>02:25</td>\n",
       "    </tr>\n",
       "    <tr>\n",
       "      <td>2</td>\n",
       "      <td>1.626106</td>\n",
       "      <td>1.770905</td>\n",
       "      <td>0.436266</td>\n",
       "      <td>0.563734</td>\n",
       "      <td>0.825853</td>\n",
       "      <td>02:24</td>\n",
       "    </tr>\n",
       "    <tr>\n",
       "      <td>3</td>\n",
       "      <td>1.627037</td>\n",
       "      <td>1.731733</td>\n",
       "      <td>0.421903</td>\n",
       "      <td>0.578097</td>\n",
       "      <td>0.820467</td>\n",
       "      <td>02:25</td>\n",
       "    </tr>\n",
       "    <tr>\n",
       "      <td>4</td>\n",
       "      <td>1.692736</td>\n",
       "      <td>1.697921</td>\n",
       "      <td>0.414722</td>\n",
       "      <td>0.585278</td>\n",
       "      <td>0.822262</td>\n",
       "      <td>02:24</td>\n",
       "    </tr>\n",
       "    <tr>\n",
       "      <td>5</td>\n",
       "      <td>1.627540</td>\n",
       "      <td>1.672542</td>\n",
       "      <td>0.409336</td>\n",
       "      <td>0.590664</td>\n",
       "      <td>0.827648</td>\n",
       "      <td>02:25</td>\n",
       "    </tr>\n",
       "    <tr>\n",
       "      <td>6</td>\n",
       "      <td>1.684035</td>\n",
       "      <td>1.657688</td>\n",
       "      <td>0.400359</td>\n",
       "      <td>0.599641</td>\n",
       "      <td>0.831239</td>\n",
       "      <td>02:24</td>\n",
       "    </tr>\n",
       "    <tr>\n",
       "      <td>7</td>\n",
       "      <td>1.533918</td>\n",
       "      <td>1.633768</td>\n",
       "      <td>0.400359</td>\n",
       "      <td>0.599641</td>\n",
       "      <td>0.829443</td>\n",
       "      <td>02:23</td>\n",
       "    </tr>\n",
       "    <tr>\n",
       "      <td>8</td>\n",
       "      <td>1.483058</td>\n",
       "      <td>1.639713</td>\n",
       "      <td>0.389587</td>\n",
       "      <td>0.610413</td>\n",
       "      <td>0.836625</td>\n",
       "      <td>02:24</td>\n",
       "    </tr>\n",
       "    <tr>\n",
       "      <td>9</td>\n",
       "      <td>1.493459</td>\n",
       "      <td>1.580336</td>\n",
       "      <td>0.380610</td>\n",
       "      <td>0.619390</td>\n",
       "      <td>0.840215</td>\n",
       "      <td>02:25</td>\n",
       "    </tr>\n",
       "    <tr>\n",
       "      <td>10</td>\n",
       "      <td>1.443925</td>\n",
       "      <td>1.532515</td>\n",
       "      <td>0.364452</td>\n",
       "      <td>0.635548</td>\n",
       "      <td>0.843806</td>\n",
       "      <td>02:25</td>\n",
       "    </tr>\n",
       "    <tr>\n",
       "      <td>11</td>\n",
       "      <td>1.365130</td>\n",
       "      <td>1.505888</td>\n",
       "      <td>0.359066</td>\n",
       "      <td>0.640934</td>\n",
       "      <td>0.843806</td>\n",
       "      <td>02:24</td>\n",
       "    </tr>\n",
       "    <tr>\n",
       "      <td>12</td>\n",
       "      <td>1.419789</td>\n",
       "      <td>1.521869</td>\n",
       "      <td>0.366248</td>\n",
       "      <td>0.633752</td>\n",
       "      <td>0.834829</td>\n",
       "      <td>02:23</td>\n",
       "    </tr>\n",
       "    <tr>\n",
       "      <td>13</td>\n",
       "      <td>1.346521</td>\n",
       "      <td>1.531792</td>\n",
       "      <td>0.364452</td>\n",
       "      <td>0.635548</td>\n",
       "      <td>0.842011</td>\n",
       "      <td>02:25</td>\n",
       "    </tr>\n",
       "    <tr>\n",
       "      <td>14</td>\n",
       "      <td>1.303780</td>\n",
       "      <td>1.528949</td>\n",
       "      <td>0.384201</td>\n",
       "      <td>0.615799</td>\n",
       "      <td>0.849192</td>\n",
       "      <td>02:25</td>\n",
       "    </tr>\n",
       "    <tr>\n",
       "      <td>15</td>\n",
       "      <td>1.279866</td>\n",
       "      <td>1.504542</td>\n",
       "      <td>0.357271</td>\n",
       "      <td>0.642729</td>\n",
       "      <td>0.847397</td>\n",
       "      <td>02:24</td>\n",
       "    </tr>\n",
       "    <tr>\n",
       "      <td>16</td>\n",
       "      <td>1.254100</td>\n",
       "      <td>1.516005</td>\n",
       "      <td>0.373429</td>\n",
       "      <td>0.626571</td>\n",
       "      <td>0.847397</td>\n",
       "      <td>02:25</td>\n",
       "    </tr>\n",
       "    <tr>\n",
       "      <td>17</td>\n",
       "      <td>1.228697</td>\n",
       "      <td>1.484306</td>\n",
       "      <td>0.355476</td>\n",
       "      <td>0.644524</td>\n",
       "      <td>0.845601</td>\n",
       "      <td>02:24</td>\n",
       "    </tr>\n",
       "    <tr>\n",
       "      <td>18</td>\n",
       "      <td>1.253462</td>\n",
       "      <td>1.488532</td>\n",
       "      <td>0.346499</td>\n",
       "      <td>0.653501</td>\n",
       "      <td>0.845601</td>\n",
       "      <td>02:26</td>\n",
       "    </tr>\n",
       "    <tr>\n",
       "      <td>19</td>\n",
       "      <td>1.202751</td>\n",
       "      <td>1.471184</td>\n",
       "      <td>0.355476</td>\n",
       "      <td>0.644524</td>\n",
       "      <td>0.858169</td>\n",
       "      <td>02:24</td>\n",
       "    </tr>\n",
       "    <tr>\n",
       "      <td>20</td>\n",
       "      <td>1.235858</td>\n",
       "      <td>1.436615</td>\n",
       "      <td>0.339318</td>\n",
       "      <td>0.660682</td>\n",
       "      <td>0.861759</td>\n",
       "      <td>02:24</td>\n",
       "    </tr>\n",
       "    <tr>\n",
       "      <td>21</td>\n",
       "      <td>1.238300</td>\n",
       "      <td>1.471232</td>\n",
       "      <td>0.368043</td>\n",
       "      <td>0.631957</td>\n",
       "      <td>0.850987</td>\n",
       "      <td>02:24</td>\n",
       "    </tr>\n",
       "    <tr>\n",
       "      <td>22</td>\n",
       "      <td>1.218243</td>\n",
       "      <td>1.435071</td>\n",
       "      <td>0.341113</td>\n",
       "      <td>0.658887</td>\n",
       "      <td>0.847397</td>\n",
       "      <td>02:24</td>\n",
       "    </tr>\n",
       "    <tr>\n",
       "      <td>23</td>\n",
       "      <td>1.169961</td>\n",
       "      <td>1.452834</td>\n",
       "      <td>0.342908</td>\n",
       "      <td>0.657092</td>\n",
       "      <td>0.849192</td>\n",
       "      <td>02:24</td>\n",
       "    </tr>\n",
       "    <tr>\n",
       "      <td>24</td>\n",
       "      <td>1.243314</td>\n",
       "      <td>1.449760</td>\n",
       "      <td>0.341113</td>\n",
       "      <td>0.658887</td>\n",
       "      <td>0.850987</td>\n",
       "      <td>02:24</td>\n",
       "    </tr>\n",
       "    <tr>\n",
       "      <td>25</td>\n",
       "      <td>1.125306</td>\n",
       "      <td>1.444945</td>\n",
       "      <td>0.333932</td>\n",
       "      <td>0.666068</td>\n",
       "      <td>0.858169</td>\n",
       "      <td>02:24</td>\n",
       "    </tr>\n",
       "    <tr>\n",
       "      <td>26</td>\n",
       "      <td>1.135088</td>\n",
       "      <td>1.416749</td>\n",
       "      <td>0.337522</td>\n",
       "      <td>0.662478</td>\n",
       "      <td>0.859964</td>\n",
       "      <td>02:23</td>\n",
       "    </tr>\n",
       "    <tr>\n",
       "      <td>27</td>\n",
       "      <td>1.139020</td>\n",
       "      <td>1.446284</td>\n",
       "      <td>0.333932</td>\n",
       "      <td>0.666068</td>\n",
       "      <td>0.852783</td>\n",
       "      <td>02:24</td>\n",
       "    </tr>\n",
       "    <tr>\n",
       "      <td>28</td>\n",
       "      <td>1.121771</td>\n",
       "      <td>1.430618</td>\n",
       "      <td>0.335727</td>\n",
       "      <td>0.664273</td>\n",
       "      <td>0.856373</td>\n",
       "      <td>02:23</td>\n",
       "    </tr>\n",
       "    <tr>\n",
       "      <td>29</td>\n",
       "      <td>1.105901</td>\n",
       "      <td>1.413331</td>\n",
       "      <td>0.332136</td>\n",
       "      <td>0.667864</td>\n",
       "      <td>0.859964</td>\n",
       "      <td>02:24</td>\n",
       "    </tr>\n",
       "    <tr>\n",
       "      <td>30</td>\n",
       "      <td>1.107380</td>\n",
       "      <td>1.435333</td>\n",
       "      <td>0.330341</td>\n",
       "      <td>0.669659</td>\n",
       "      <td>0.852783</td>\n",
       "      <td>02:25</td>\n",
       "    </tr>\n",
       "    <tr>\n",
       "      <td>31</td>\n",
       "      <td>1.133066</td>\n",
       "      <td>1.412832</td>\n",
       "      <td>0.321364</td>\n",
       "      <td>0.678636</td>\n",
       "      <td>0.863555</td>\n",
       "      <td>02:24</td>\n",
       "    </tr>\n",
       "    <tr>\n",
       "      <td>32</td>\n",
       "      <td>1.165417</td>\n",
       "      <td>1.453011</td>\n",
       "      <td>0.339318</td>\n",
       "      <td>0.660682</td>\n",
       "      <td>0.861759</td>\n",
       "      <td>02:24</td>\n",
       "    </tr>\n",
       "    <tr>\n",
       "      <td>33</td>\n",
       "      <td>1.182832</td>\n",
       "      <td>1.420038</td>\n",
       "      <td>0.328546</td>\n",
       "      <td>0.671454</td>\n",
       "      <td>0.863555</td>\n",
       "      <td>02:24</td>\n",
       "    </tr>\n",
       "    <tr>\n",
       "      <td>34</td>\n",
       "      <td>1.112041</td>\n",
       "      <td>1.434032</td>\n",
       "      <td>0.333932</td>\n",
       "      <td>0.666068</td>\n",
       "      <td>0.861759</td>\n",
       "      <td>02:24</td>\n",
       "    </tr>\n",
       "    <tr>\n",
       "      <td>35</td>\n",
       "      <td>1.113619</td>\n",
       "      <td>1.401739</td>\n",
       "      <td>0.330341</td>\n",
       "      <td>0.669659</td>\n",
       "      <td>0.861759</td>\n",
       "      <td>02:24</td>\n",
       "    </tr>\n",
       "    <tr>\n",
       "      <td>36</td>\n",
       "      <td>1.095590</td>\n",
       "      <td>1.403224</td>\n",
       "      <td>0.323160</td>\n",
       "      <td>0.676840</td>\n",
       "      <td>0.856373</td>\n",
       "      <td>02:24</td>\n",
       "    </tr>\n",
       "    <tr>\n",
       "      <td>37</td>\n",
       "      <td>1.135902</td>\n",
       "      <td>1.438432</td>\n",
       "      <td>0.339318</td>\n",
       "      <td>0.660682</td>\n",
       "      <td>0.859964</td>\n",
       "      <td>02:24</td>\n",
       "    </tr>\n",
       "    <tr>\n",
       "      <td>38</td>\n",
       "      <td>1.115073</td>\n",
       "      <td>1.411151</td>\n",
       "      <td>0.324955</td>\n",
       "      <td>0.675045</td>\n",
       "      <td>0.859964</td>\n",
       "      <td>02:25</td>\n",
       "    </tr>\n",
       "    <tr>\n",
       "      <td>39</td>\n",
       "      <td>1.163345</td>\n",
       "      <td>1.423216</td>\n",
       "      <td>0.333932</td>\n",
       "      <td>0.666068</td>\n",
       "      <td>0.859964</td>\n",
       "      <td>02:25</td>\n",
       "    </tr>\n",
       "  </tbody>\n",
       "</table>"
      ],
      "text/plain": [
       "<IPython.core.display.HTML object>"
      ]
     },
     "metadata": {},
     "output_type": "display_data"
    }
   ],
   "source": [
    "learn.fit_one_cycle(40, slice(3e-6, 3e-5))"
   ]
  },
  {
   "cell_type": "code",
   "execution_count": 18,
   "metadata": {
    "ExecuteTime": {
     "end_time": "2020-04-19T20:55:29.388813Z",
     "start_time": "2020-04-19T20:55:29.038828Z"
    }
   },
   "outputs": [],
   "source": [
    "learn.save('densenet201-mixup-stg2b')"
   ]
  },
  {
   "cell_type": "code",
   "execution_count": 19,
   "metadata": {
    "ExecuteTime": {
     "end_time": "2020-04-19T20:56:04.568548Z",
     "start_time": "2020-04-19T20:55:31.948989Z"
    },
    "colab": {
     "base_uri": "https://localhost:8080/",
     "height": 743
    },
    "colab_type": "code",
    "id": "XRStCtGNpFAM",
    "outputId": "b55d1b61-4cfb-439e-df24-bfaad857a0c5"
   },
   "outputs": [
    {
     "data": {
      "text/html": [],
      "text/plain": [
       "<IPython.core.display.HTML object>"
      ]
     },
     "metadata": {},
     "output_type": "display_data"
    },
    {
     "data": {
      "image/png": "[encoded data removed]",
      "text/plain": [
       "<Figure size 720x720 with 1 Axes>"
      ]
     },
     "metadata": {
      "needs_background": "light"
     },
     "output_type": "display_data"
    }
   ],
   "source": [
    "interp = ClassificationInterpretation.from_learner(learn)\n",
    "interp.plot_confusion_matrix(figsize=(12,12), dpi=60)"
   ]
  },
  {
   "cell_type": "code",
   "execution_count": 29,
   "metadata": {
    "ExecuteTime": {
     "end_time": "2020-04-19T20:58:46.071817Z",
     "start_time": "2020-04-19T20:58:46.029819Z"
    }
   },
   "outputs": [
    {
     "data": {
      "text/plain": [
       "[('Cape Batis', 'Bokmakierie', 4),\n",
       " ('Bokmakierie', 'Southern Boubou', 3),\n",
       " ('Chestnut-vented Warbler', 'Bokmakierie', 3),\n",
       " ('Olive Bushshrike', 'Southern Boubou', 3),\n",
       " ('Black Cuckoo', 'Bokmakierie', 2),\n",
       " ('Black Cuckoo', 'Eastern Clapper Lark', 2),\n",
       " ('Black-headed Oriole', 'Black Cuckoo', 2),\n",
       " ('Black-headed Oriole', 'Chorister Robin-Chat', 2),\n",
       " ('Bokmakierie', 'White-browed Robin-Chat', 2),\n",
       " ('Cape Robin-Chat', 'Dark-capped Bulbul', 2),\n",
       " ('Cape White-eye', 'Sabota Lark', 2),\n",
       " ('Chestnut-vented Warbler', 'Karoo Prinia', 2),\n",
       " ('Chestnut-vented Warbler', 'Sabota Lark', 2),\n",
       " ('Fork-tailed Drongo', 'Cape White-eye', 2),\n",
       " ('Fork-tailed Drongo', 'Sombre Greenbul', 2),\n",
       " ('Long-billed Crombec', 'African Pipit', 2),\n",
       " ('Olive Bushshrike', 'Green-backed Camaroptera', 2),\n",
       " ('Orange-breasted Bushshrike', 'Bokmakierie', 2)]"
      ]
     },
     "execution_count": 29,
     "metadata": {},
     "output_type": "execute_result"
    }
   ],
   "source": [
    "interp.most_confused(min_val=2)"
   ]
  },
  {
   "cell_type": "markdown",
   "metadata": {
    "colab_type": "text",
    "id": "yj9LGWbBq1kg"
   },
   "source": [
    "# Making a submission\n",
    "\n",
    "Save the model's predicted probabilities to a file following the sample submission format. This can be submitted on Zindi."
   ]
  },
  {
   "cell_type": "code",
   "execution_count": 21,
   "metadata": {
    "ExecuteTime": {
     "end_time": "2020-04-19T20:56:34.313041Z",
     "start_time": "2020-04-19T20:56:34.302035Z"
    }
   },
   "outputs": [],
   "source": [
    "src = (ImageList.from_folder('../test'))"
   ]
  },
  {
   "cell_type": "code",
   "execution_count": 22,
   "metadata": {
    "ExecuteTime": {
     "end_time": "2020-04-19T20:56:35.013182Z",
     "start_time": "2020-04-19T20:56:34.997182Z"
    },
    "colab": {},
    "colab_type": "code",
    "id": "y-Uqlhg0Uu7J"
   },
   "outputs": [],
   "source": [
    "# Add the test data as a test set for the model\n",
    "learn.data.add_test(src)"
   ]
  },
  {
   "cell_type": "code",
   "execution_count": 23,
   "metadata": {
    "ExecuteTime": {
     "end_time": "2020-04-19T20:57:15.122783Z",
     "start_time": "2020-04-19T20:56:35.637568Z"
    },
    "colab": {
     "base_uri": "https://localhost:8080/",
     "height": 17
    },
    "colab_type": "code",
    "id": "l1h8lA28UXqc",
    "outputId": "f192d02f-b7a8-44dc-d773-8bd7c6c8df39"
   },
   "outputs": [
    {
     "data": {
      "text/html": [],
      "text/plain": [
       "<IPython.core.display.HTML object>"
      ]
     },
     "metadata": {},
     "output_type": "display_data"
    }
   ],
   "source": [
    "# Get predictions\n",
    "preds, y = learn.get_preds(DatasetType.Test)"
   ]
  },
  {
   "cell_type": "code",
   "execution_count": 24,
   "metadata": {
    "ExecuteTime": {
     "end_time": "2020-04-19T20:57:15.146785Z",
     "start_time": "2020-04-19T20:57:15.123785Z"
    }
   },
   "outputs": [
    {
     "data": {
      "text/html": [
       "<div>\n",
       "<style scoped>\n",
       "    .dataframe tbody tr th:only-of-type {\n",
       "        vertical-align: middle;\n",
       "    }\n",
       "\n",
       "    .dataframe tbody tr th {\n",
       "        vertical-align: top;\n",
       "    }\n",
       "\n",
       "    .dataframe thead th {\n",
       "        text-align: right;\n",
       "    }\n",
       "</style>\n",
       "<table border=\"1\" class=\"dataframe\">\n",
       "  <thead>\n",
       "    <tr style=\"text-align: right;\">\n",
       "      <th></th>\n",
       "      <th>ID</th>\n",
       "      <th>Ring-necked Dove</th>\n",
       "      <th>Black Cuckoo</th>\n",
       "      <th>Red-chested Cuckoo</th>\n",
       "      <th>Fiery-necked Nightjar</th>\n",
       "      <th>Green Wood Hoopoe</th>\n",
       "      <th>Crested Barbet</th>\n",
       "      <th>Cape Batis</th>\n",
       "      <th>Olive Bushshrike</th>\n",
       "      <th>Orange-breasted Bushshrike</th>\n",
       "      <th>...</th>\n",
       "      <th>Cape Robin-Chat</th>\n",
       "      <th>White-browed Robin-Chat</th>\n",
       "      <th>Chorister Robin-Chat</th>\n",
       "      <th>Southern Double-collared Sunbird</th>\n",
       "      <th>White-bellied Sunbird</th>\n",
       "      <th>African Pipit</th>\n",
       "      <th>African Rock Pipit</th>\n",
       "      <th>Cape Bunting</th>\n",
       "      <th>file_name</th>\n",
       "      <th>img_path</th>\n",
       "    </tr>\n",
       "  </thead>\n",
       "  <tbody>\n",
       "    <tr>\n",
       "      <th>0</th>\n",
       "      <td>019OYB</td>\n",
       "      <td>0</td>\n",
       "      <td>0</td>\n",
       "      <td>0</td>\n",
       "      <td>0</td>\n",
       "      <td>0</td>\n",
       "      <td>0</td>\n",
       "      <td>0</td>\n",
       "      <td>0</td>\n",
       "      <td>0</td>\n",
       "      <td>...</td>\n",
       "      <td>0</td>\n",
       "      <td>0</td>\n",
       "      <td>0</td>\n",
       "      <td>0</td>\n",
       "      <td>0</td>\n",
       "      <td>0</td>\n",
       "      <td>0</td>\n",
       "      <td>0</td>\n",
       "      <td>test/019OYB.png</td>\n",
       "      <td>test\\019OYB.png</td>\n",
       "    </tr>\n",
       "    <tr>\n",
       "      <th>1</th>\n",
       "      <td>01S9OX</td>\n",
       "      <td>0</td>\n",
       "      <td>0</td>\n",
       "      <td>0</td>\n",
       "      <td>0</td>\n",
       "      <td>0</td>\n",
       "      <td>0</td>\n",
       "      <td>0</td>\n",
       "      <td>0</td>\n",
       "      <td>0</td>\n",
       "      <td>...</td>\n",
       "      <td>0</td>\n",
       "      <td>0</td>\n",
       "      <td>0</td>\n",
       "      <td>0</td>\n",
       "      <td>0</td>\n",
       "      <td>0</td>\n",
       "      <td>0</td>\n",
       "      <td>0</td>\n",
       "      <td>test/01S9OX.png</td>\n",
       "      <td>test\\01S9OX.png</td>\n",
       "    </tr>\n",
       "    <tr>\n",
       "      <th>2</th>\n",
       "      <td>02CS12</td>\n",
       "      <td>0</td>\n",
       "      <td>0</td>\n",
       "      <td>0</td>\n",
       "      <td>0</td>\n",
       "      <td>0</td>\n",
       "      <td>0</td>\n",
       "      <td>0</td>\n",
       "      <td>0</td>\n",
       "      <td>0</td>\n",
       "      <td>...</td>\n",
       "      <td>0</td>\n",
       "      <td>0</td>\n",
       "      <td>0</td>\n",
       "      <td>0</td>\n",
       "      <td>0</td>\n",
       "      <td>0</td>\n",
       "      <td>0</td>\n",
       "      <td>0</td>\n",
       "      <td>test/02CS12.png</td>\n",
       "      <td>test\\02CS12.png</td>\n",
       "    </tr>\n",
       "    <tr>\n",
       "      <th>3</th>\n",
       "      <td>02LM3W</td>\n",
       "      <td>0</td>\n",
       "      <td>0</td>\n",
       "      <td>0</td>\n",
       "      <td>0</td>\n",
       "      <td>0</td>\n",
       "      <td>0</td>\n",
       "      <td>0</td>\n",
       "      <td>0</td>\n",
       "      <td>0</td>\n",
       "      <td>...</td>\n",
       "      <td>0</td>\n",
       "      <td>0</td>\n",
       "      <td>0</td>\n",
       "      <td>0</td>\n",
       "      <td>0</td>\n",
       "      <td>0</td>\n",
       "      <td>0</td>\n",
       "      <td>0</td>\n",
       "      <td>test/02LM3W.png</td>\n",
       "      <td>test\\02LM3W.png</td>\n",
       "    </tr>\n",
       "    <tr>\n",
       "      <th>4</th>\n",
       "      <td>0C3A2V</td>\n",
       "      <td>0</td>\n",
       "      <td>0</td>\n",
       "      <td>0</td>\n",
       "      <td>0</td>\n",
       "      <td>0</td>\n",
       "      <td>0</td>\n",
       "      <td>0</td>\n",
       "      <td>0</td>\n",
       "      <td>0</td>\n",
       "      <td>...</td>\n",
       "      <td>0</td>\n",
       "      <td>0</td>\n",
       "      <td>0</td>\n",
       "      <td>0</td>\n",
       "      <td>0</td>\n",
       "      <td>0</td>\n",
       "      <td>0</td>\n",
       "      <td>0</td>\n",
       "      <td>test/0C3A2V.png</td>\n",
       "      <td>test\\0C3A2V.png</td>\n",
       "    </tr>\n",
       "  </tbody>\n",
       "</table>\n",
       "<p>5 rows × 43 columns</p>\n",
       "</div>"
      ],
      "text/plain": [
       "       ID  Ring-necked Dove  Black Cuckoo  Red-chested Cuckoo  \\\n",
       "0  019OYB                 0             0                   0   \n",
       "1  01S9OX                 0             0                   0   \n",
       "2  02CS12                 0             0                   0   \n",
       "3  02LM3W                 0             0                   0   \n",
       "4  0C3A2V                 0             0                   0   \n",
       "\n",
       "   Fiery-necked Nightjar  Green Wood Hoopoe  Crested Barbet  Cape Batis  \\\n",
       "0                      0                  0               0           0   \n",
       "1                      0                  0               0           0   \n",
       "2                      0                  0               0           0   \n",
       "3                      0                  0               0           0   \n",
       "4                      0                  0               0           0   \n",
       "\n",
       "   Olive Bushshrike  Orange-breasted Bushshrike  ...  Cape Robin-Chat  \\\n",
       "0                 0                           0  ...                0   \n",
       "1                 0                           0  ...                0   \n",
       "2                 0                           0  ...                0   \n",
       "3                 0                           0  ...                0   \n",
       "4                 0                           0  ...                0   \n",
       "\n",
       "   White-browed Robin-Chat  Chorister Robin-Chat  \\\n",
       "0                        0                     0   \n",
       "1                        0                     0   \n",
       "2                        0                     0   \n",
       "3                        0                     0   \n",
       "4                        0                     0   \n",
       "\n",
       "   Southern Double-collared Sunbird  White-bellied Sunbird  African Pipit  \\\n",
       "0                                 0                      0              0   \n",
       "1                                 0                      0              0   \n",
       "2                                 0                      0              0   \n",
       "3                                 0                      0              0   \n",
       "4                                 0                      0              0   \n",
       "\n",
       "   African Rock Pipit  Cape Bunting        file_name         img_path  \n",
       "0                   0             0  test/019OYB.png  test\\019OYB.png  \n",
       "1                   0             0  test/01S9OX.png  test\\01S9OX.png  \n",
       "2                   0             0  test/02CS12.png  test\\02CS12.png  \n",
       "3                   0             0  test/02LM3W.png  test\\02LM3W.png  \n",
       "4                   0             0  test/0C3A2V.png  test\\0C3A2V.png  \n",
       "\n",
       "[5 rows x 43 columns]"
      ]
     },
     "execution_count": 24,
     "metadata": {},
     "output_type": "execute_result"
    }
   ],
   "source": [
    "test.head()"
   ]
  },
  {
   "cell_type": "code",
   "execution_count": 25,
   "metadata": {
    "ExecuteTime": {
     "end_time": "2020-04-19T20:57:15.178785Z",
     "start_time": "2020-04-19T20:57:15.147786Z"
    },
    "colab": {
     "base_uri": "https://localhost:8080/",
     "height": 275
    },
    "colab_type": "code",
    "id": "a0vbyxlSUd3N",
    "outputId": "271bc7cd-7b8f-419e-a883-bbc735e3ca95"
   },
   "outputs": [
    {
     "data": {
      "text/html": [
       "<div>\n",
       "<style scoped>\n",
       "    .dataframe tbody tr th:only-of-type {\n",
       "        vertical-align: middle;\n",
       "    }\n",
       "\n",
       "    .dataframe tbody tr th {\n",
       "        vertical-align: top;\n",
       "    }\n",
       "\n",
       "    .dataframe thead th {\n",
       "        text-align: right;\n",
       "    }\n",
       "</style>\n",
       "<table border=\"1\" class=\"dataframe\">\n",
       "  <thead>\n",
       "    <tr style=\"text-align: right;\">\n",
       "      <th></th>\n",
       "      <th>ID</th>\n",
       "      <th>Ring-necked Dove</th>\n",
       "      <th>Black Cuckoo</th>\n",
       "      <th>Red-chested Cuckoo</th>\n",
       "      <th>Fiery-necked Nightjar</th>\n",
       "      <th>Green Wood Hoopoe</th>\n",
       "      <th>Crested Barbet</th>\n",
       "      <th>Cape Batis</th>\n",
       "      <th>Olive Bushshrike</th>\n",
       "      <th>Orange-breasted Bushshrike</th>\n",
       "      <th>...</th>\n",
       "      <th>Cape Robin-Chat</th>\n",
       "      <th>White-browed Robin-Chat</th>\n",
       "      <th>Chorister Robin-Chat</th>\n",
       "      <th>Southern Double-collared Sunbird</th>\n",
       "      <th>White-bellied Sunbird</th>\n",
       "      <th>African Pipit</th>\n",
       "      <th>African Rock Pipit</th>\n",
       "      <th>Cape Bunting</th>\n",
       "      <th>file_name</th>\n",
       "      <th>img_path</th>\n",
       "    </tr>\n",
       "  </thead>\n",
       "  <tbody>\n",
       "    <tr>\n",
       "      <th>0</th>\n",
       "      <td>019OYB</td>\n",
       "      <td>0.000155</td>\n",
       "      <td>0.000089</td>\n",
       "      <td>0.000742</td>\n",
       "      <td>0.992805</td>\n",
       "      <td>0.000026</td>\n",
       "      <td>0.000432</td>\n",
       "      <td>0.000118</td>\n",
       "      <td>0.000689</td>\n",
       "      <td>0.000361</td>\n",
       "      <td>...</td>\n",
       "      <td>0.000019</td>\n",
       "      <td>0.000642</td>\n",
       "      <td>0.000351</td>\n",
       "      <td>0.000006</td>\n",
       "      <td>0.000012</td>\n",
       "      <td>0.000010</td>\n",
       "      <td>0.000214</td>\n",
       "      <td>0.000005</td>\n",
       "      <td>test/019OYB.png</td>\n",
       "      <td>test\\019OYB.png</td>\n",
       "    </tr>\n",
       "    <tr>\n",
       "      <th>1</th>\n",
       "      <td>01S9OX</td>\n",
       "      <td>0.001387</td>\n",
       "      <td>0.007297</td>\n",
       "      <td>0.028976</td>\n",
       "      <td>0.030042</td>\n",
       "      <td>0.001548</td>\n",
       "      <td>0.001227</td>\n",
       "      <td>0.009839</td>\n",
       "      <td>0.007085</td>\n",
       "      <td>0.009741</td>\n",
       "      <td>...</td>\n",
       "      <td>0.113046</td>\n",
       "      <td>0.002435</td>\n",
       "      <td>0.018599</td>\n",
       "      <td>0.000614</td>\n",
       "      <td>0.010574</td>\n",
       "      <td>0.037279</td>\n",
       "      <td>0.000717</td>\n",
       "      <td>0.020467</td>\n",
       "      <td>test/01S9OX.png</td>\n",
       "      <td>test\\01S9OX.png</td>\n",
       "    </tr>\n",
       "    <tr>\n",
       "      <th>2</th>\n",
       "      <td>02CS12</td>\n",
       "      <td>0.009076</td>\n",
       "      <td>0.001071</td>\n",
       "      <td>0.001394</td>\n",
       "      <td>0.003287</td>\n",
       "      <td>0.027564</td>\n",
       "      <td>0.003540</td>\n",
       "      <td>0.050009</td>\n",
       "      <td>0.000473</td>\n",
       "      <td>0.003504</td>\n",
       "      <td>...</td>\n",
       "      <td>0.001088</td>\n",
       "      <td>0.004323</td>\n",
       "      <td>0.001347</td>\n",
       "      <td>0.010726</td>\n",
       "      <td>0.001303</td>\n",
       "      <td>0.011423</td>\n",
       "      <td>0.010648</td>\n",
       "      <td>0.038947</td>\n",
       "      <td>test/02CS12.png</td>\n",
       "      <td>test\\02CS12.png</td>\n",
       "    </tr>\n",
       "    <tr>\n",
       "      <th>3</th>\n",
       "      <td>02LM3W</td>\n",
       "      <td>0.035263</td>\n",
       "      <td>0.000212</td>\n",
       "      <td>0.000651</td>\n",
       "      <td>0.004977</td>\n",
       "      <td>0.001329</td>\n",
       "      <td>0.001033</td>\n",
       "      <td>0.016854</td>\n",
       "      <td>0.857699</td>\n",
       "      <td>0.000940</td>\n",
       "      <td>...</td>\n",
       "      <td>0.000057</td>\n",
       "      <td>0.000014</td>\n",
       "      <td>0.000133</td>\n",
       "      <td>0.000004</td>\n",
       "      <td>0.000389</td>\n",
       "      <td>0.000787</td>\n",
       "      <td>0.002071</td>\n",
       "      <td>0.000434</td>\n",
       "      <td>test/02LM3W.png</td>\n",
       "      <td>test\\02LM3W.png</td>\n",
       "    </tr>\n",
       "    <tr>\n",
       "      <th>4</th>\n",
       "      <td>0C3A2V</td>\n",
       "      <td>0.012236</td>\n",
       "      <td>0.035269</td>\n",
       "      <td>0.001714</td>\n",
       "      <td>0.000393</td>\n",
       "      <td>0.030463</td>\n",
       "      <td>0.000520</td>\n",
       "      <td>0.003538</td>\n",
       "      <td>0.000121</td>\n",
       "      <td>0.000325</td>\n",
       "      <td>...</td>\n",
       "      <td>0.203356</td>\n",
       "      <td>0.003810</td>\n",
       "      <td>0.081048</td>\n",
       "      <td>0.045022</td>\n",
       "      <td>0.034858</td>\n",
       "      <td>0.000230</td>\n",
       "      <td>0.000908</td>\n",
       "      <td>0.000984</td>\n",
       "      <td>test/0C3A2V.png</td>\n",
       "      <td>test\\0C3A2V.png</td>\n",
       "    </tr>\n",
       "  </tbody>\n",
       "</table>\n",
       "<p>5 rows × 43 columns</p>\n",
       "</div>"
      ],
      "text/plain": [
       "       ID  Ring-necked Dove  Black Cuckoo  Red-chested Cuckoo  \\\n",
       "0  019OYB          0.000155      0.000089            0.000742   \n",
       "1  01S9OX          0.001387      0.007297            0.028976   \n",
       "2  02CS12          0.009076      0.001071            0.001394   \n",
       "3  02LM3W          0.035263      0.000212            0.000651   \n",
       "4  0C3A2V          0.012236      0.035269            0.001714   \n",
       "\n",
       "   Fiery-necked Nightjar  Green Wood Hoopoe  Crested Barbet  Cape Batis  \\\n",
       "0               0.992805           0.000026        0.000432    0.000118   \n",
       "1               0.030042           0.001548        0.001227    0.009839   \n",
       "2               0.003287           0.027564        0.003540    0.050009   \n",
       "3               0.004977           0.001329        0.001033    0.016854   \n",
       "4               0.000393           0.030463        0.000520    0.003538   \n",
       "\n",
       "   Olive Bushshrike  Orange-breasted Bushshrike  ...  Cape Robin-Chat  \\\n",
       "0          0.000689                    0.000361  ...         0.000019   \n",
       "1          0.007085                    0.009741  ...         0.113046   \n",
       "2          0.000473                    0.003504  ...         0.001088   \n",
       "3          0.857699                    0.000940  ...         0.000057   \n",
       "4          0.000121                    0.000325  ...         0.203356   \n",
       "\n",
       "   White-browed Robin-Chat  Chorister Robin-Chat  \\\n",
       "0                 0.000642              0.000351   \n",
       "1                 0.002435              0.018599   \n",
       "2                 0.004323              0.001347   \n",
       "3                 0.000014              0.000133   \n",
       "4                 0.003810              0.081048   \n",
       "\n",
       "   Southern Double-collared Sunbird  White-bellied Sunbird  African Pipit  \\\n",
       "0                          0.000006               0.000012       0.000010   \n",
       "1                          0.000614               0.010574       0.037279   \n",
       "2                          0.010726               0.001303       0.011423   \n",
       "3                          0.000004               0.000389       0.000787   \n",
       "4                          0.045022               0.034858       0.000230   \n",
       "\n",
       "   African Rock Pipit  Cape Bunting        file_name         img_path  \n",
       "0            0.000214      0.000005  test/019OYB.png  test\\019OYB.png  \n",
       "1            0.000717      0.020467  test/01S9OX.png  test\\01S9OX.png  \n",
       "2            0.010648      0.038947  test/02CS12.png  test\\02CS12.png  \n",
       "3            0.002071      0.000434  test/02LM3W.png  test\\02LM3W.png  \n",
       "4            0.000908      0.000984  test/0C3A2V.png  test\\0C3A2V.png  \n",
       "\n",
       "[5 rows x 43 columns]"
      ]
     },
     "execution_count": 25,
     "metadata": {},
     "output_type": "execute_result"
    }
   ],
   "source": [
    "# Add preds to test\n",
    "test = test.copy()\n",
    "for b in birds:\n",
    "  test[b] = preds[:,learn.data.classes.index(b)]\n",
    "test.head()"
   ]
  },
  {
   "cell_type": "code",
   "execution_count": 26,
   "metadata": {
    "ExecuteTime": {
     "end_time": "2020-04-19T20:57:15.205785Z",
     "start_time": "2020-04-19T20:57:15.179785Z"
    },
    "colab": {
     "base_uri": "https://localhost:8080/",
     "height": 275
    },
    "colab_type": "code",
    "id": "Xq0kfYppVBaJ",
    "outputId": "1d2b4efd-af95-46b5-fa22-ca3c3919e41d"
   },
   "outputs": [
    {
     "data": {
      "text/html": [
       "<div>\n",
       "<style scoped>\n",
       "    .dataframe tbody tr th:only-of-type {\n",
       "        vertical-align: middle;\n",
       "    }\n",
       "\n",
       "    .dataframe tbody tr th {\n",
       "        vertical-align: top;\n",
       "    }\n",
       "\n",
       "    .dataframe thead th {\n",
       "        text-align: right;\n",
       "    }\n",
       "</style>\n",
       "<table border=\"1\" class=\"dataframe\">\n",
       "  <thead>\n",
       "    <tr style=\"text-align: right;\">\n",
       "      <th></th>\n",
       "      <th>ID</th>\n",
       "      <th>Ring-necked Dove</th>\n",
       "      <th>Black Cuckoo</th>\n",
       "      <th>Red-chested Cuckoo</th>\n",
       "      <th>Fiery-necked Nightjar</th>\n",
       "      <th>Green Wood Hoopoe</th>\n",
       "      <th>Crested Barbet</th>\n",
       "      <th>Cape Batis</th>\n",
       "      <th>Olive Bushshrike</th>\n",
       "      <th>Orange-breasted Bushshrike</th>\n",
       "      <th>...</th>\n",
       "      <th>Karoo Scrub Robin</th>\n",
       "      <th>White-browed Scrub Robin</th>\n",
       "      <th>Cape Robin-Chat</th>\n",
       "      <th>White-browed Robin-Chat</th>\n",
       "      <th>Chorister Robin-Chat</th>\n",
       "      <th>Southern Double-collared Sunbird</th>\n",
       "      <th>White-bellied Sunbird</th>\n",
       "      <th>African Pipit</th>\n",
       "      <th>African Rock Pipit</th>\n",
       "      <th>Cape Bunting</th>\n",
       "    </tr>\n",
       "  </thead>\n",
       "  <tbody>\n",
       "    <tr>\n",
       "      <th>0</th>\n",
       "      <td>019OYB</td>\n",
       "      <td>0.000155</td>\n",
       "      <td>0.000089</td>\n",
       "      <td>0.000742</td>\n",
       "      <td>0.992805</td>\n",
       "      <td>0.000026</td>\n",
       "      <td>0.000432</td>\n",
       "      <td>0.000118</td>\n",
       "      <td>0.000689</td>\n",
       "      <td>0.000361</td>\n",
       "      <td>...</td>\n",
       "      <td>2.966660e-07</td>\n",
       "      <td>0.000740</td>\n",
       "      <td>0.000019</td>\n",
       "      <td>0.000642</td>\n",
       "      <td>0.000351</td>\n",
       "      <td>0.000006</td>\n",
       "      <td>0.000012</td>\n",
       "      <td>0.000010</td>\n",
       "      <td>0.000214</td>\n",
       "      <td>0.000005</td>\n",
       "    </tr>\n",
       "    <tr>\n",
       "      <th>1</th>\n",
       "      <td>01S9OX</td>\n",
       "      <td>0.001387</td>\n",
       "      <td>0.007297</td>\n",
       "      <td>0.028976</td>\n",
       "      <td>0.030042</td>\n",
       "      <td>0.001548</td>\n",
       "      <td>0.001227</td>\n",
       "      <td>0.009839</td>\n",
       "      <td>0.007085</td>\n",
       "      <td>0.009741</td>\n",
       "      <td>...</td>\n",
       "      <td>7.468487e-03</td>\n",
       "      <td>0.128348</td>\n",
       "      <td>0.113046</td>\n",
       "      <td>0.002435</td>\n",
       "      <td>0.018599</td>\n",
       "      <td>0.000614</td>\n",
       "      <td>0.010574</td>\n",
       "      <td>0.037279</td>\n",
       "      <td>0.000717</td>\n",
       "      <td>0.020467</td>\n",
       "    </tr>\n",
       "    <tr>\n",
       "      <th>2</th>\n",
       "      <td>02CS12</td>\n",
       "      <td>0.009076</td>\n",
       "      <td>0.001071</td>\n",
       "      <td>0.001394</td>\n",
       "      <td>0.003287</td>\n",
       "      <td>0.027564</td>\n",
       "      <td>0.003540</td>\n",
       "      <td>0.050009</td>\n",
       "      <td>0.000473</td>\n",
       "      <td>0.003504</td>\n",
       "      <td>...</td>\n",
       "      <td>9.929416e-03</td>\n",
       "      <td>0.000453</td>\n",
       "      <td>0.001088</td>\n",
       "      <td>0.004323</td>\n",
       "      <td>0.001347</td>\n",
       "      <td>0.010726</td>\n",
       "      <td>0.001303</td>\n",
       "      <td>0.011423</td>\n",
       "      <td>0.010648</td>\n",
       "      <td>0.038947</td>\n",
       "    </tr>\n",
       "    <tr>\n",
       "      <th>3</th>\n",
       "      <td>02LM3W</td>\n",
       "      <td>0.035263</td>\n",
       "      <td>0.000212</td>\n",
       "      <td>0.000651</td>\n",
       "      <td>0.004977</td>\n",
       "      <td>0.001329</td>\n",
       "      <td>0.001033</td>\n",
       "      <td>0.016854</td>\n",
       "      <td>0.857699</td>\n",
       "      <td>0.000940</td>\n",
       "      <td>...</td>\n",
       "      <td>2.232076e-04</td>\n",
       "      <td>0.002510</td>\n",
       "      <td>0.000057</td>\n",
       "      <td>0.000014</td>\n",
       "      <td>0.000133</td>\n",
       "      <td>0.000004</td>\n",
       "      <td>0.000389</td>\n",
       "      <td>0.000787</td>\n",
       "      <td>0.002071</td>\n",
       "      <td>0.000434</td>\n",
       "    </tr>\n",
       "    <tr>\n",
       "      <th>4</th>\n",
       "      <td>0C3A2V</td>\n",
       "      <td>0.012236</td>\n",
       "      <td>0.035269</td>\n",
       "      <td>0.001714</td>\n",
       "      <td>0.000393</td>\n",
       "      <td>0.030463</td>\n",
       "      <td>0.000520</td>\n",
       "      <td>0.003538</td>\n",
       "      <td>0.000121</td>\n",
       "      <td>0.000325</td>\n",
       "      <td>...</td>\n",
       "      <td>3.318392e-03</td>\n",
       "      <td>0.001010</td>\n",
       "      <td>0.203356</td>\n",
       "      <td>0.003810</td>\n",
       "      <td>0.081048</td>\n",
       "      <td>0.045022</td>\n",
       "      <td>0.034858</td>\n",
       "      <td>0.000230</td>\n",
       "      <td>0.000908</td>\n",
       "      <td>0.000984</td>\n",
       "    </tr>\n",
       "  </tbody>\n",
       "</table>\n",
       "<p>5 rows × 41 columns</p>\n",
       "</div>"
      ],
      "text/plain": [
       "       ID  Ring-necked Dove  Black Cuckoo  Red-chested Cuckoo  \\\n",
       "0  019OYB          0.000155      0.000089            0.000742   \n",
       "1  01S9OX          0.001387      0.007297            0.028976   \n",
       "2  02CS12          0.009076      0.001071            0.001394   \n",
       "3  02LM3W          0.035263      0.000212            0.000651   \n",
       "4  0C3A2V          0.012236      0.035269            0.001714   \n",
       "\n",
       "   Fiery-necked Nightjar  Green Wood Hoopoe  Crested Barbet  Cape Batis  \\\n",
       "0               0.992805           0.000026        0.000432    0.000118   \n",
       "1               0.030042           0.001548        0.001227    0.009839   \n",
       "2               0.003287           0.027564        0.003540    0.050009   \n",
       "3               0.004977           0.001329        0.001033    0.016854   \n",
       "4               0.000393           0.030463        0.000520    0.003538   \n",
       "\n",
       "   Olive Bushshrike  Orange-breasted Bushshrike  ...  Karoo Scrub Robin  \\\n",
       "0          0.000689                    0.000361  ...       2.966660e-07   \n",
       "1          0.007085                    0.009741  ...       7.468487e-03   \n",
       "2          0.000473                    0.003504  ...       9.929416e-03   \n",
       "3          0.857699                    0.000940  ...       2.232076e-04   \n",
       "4          0.000121                    0.000325  ...       3.318392e-03   \n",
       "\n",
       "   White-browed Scrub Robin  Cape Robin-Chat  White-browed Robin-Chat  \\\n",
       "0                  0.000740         0.000019                 0.000642   \n",
       "1                  0.128348         0.113046                 0.002435   \n",
       "2                  0.000453         0.001088                 0.004323   \n",
       "3                  0.002510         0.000057                 0.000014   \n",
       "4                  0.001010         0.203356                 0.003810   \n",
       "\n",
       "   Chorister Robin-Chat  Southern Double-collared Sunbird  \\\n",
       "0              0.000351                          0.000006   \n",
       "1              0.018599                          0.000614   \n",
       "2              0.001347                          0.010726   \n",
       "3              0.000133                          0.000004   \n",
       "4              0.081048                          0.045022   \n",
       "\n",
       "   White-bellied Sunbird  African Pipit  African Rock Pipit  Cape Bunting  \n",
       "0               0.000012       0.000010            0.000214      0.000005  \n",
       "1               0.010574       0.037279            0.000717      0.020467  \n",
       "2               0.001303       0.011423            0.010648      0.038947  \n",
       "3               0.000389       0.000787            0.002071      0.000434  \n",
       "4               0.034858       0.000230            0.000908      0.000984  \n",
       "\n",
       "[5 rows x 41 columns]"
      ]
     },
     "execution_count": 26,
     "metadata": {},
     "output_type": "execute_result"
    }
   ],
   "source": [
    "# Merge back into submission DF, adding a low prob prediction for rows where we had no image generated\n",
    "cols = ['ID']\n",
    "for b in birds:\n",
    "  cols.append(b)\n",
    "ss = pd.merge(sub['ID'], test[cols], on='ID', how='left' )\n",
    "ss = ss.fillna(1/40) # For those with NaNs (if you only generated spectrograms for a subset of the test mp3s)\n",
    "ss.head()"
   ]
  },
  {
   "cell_type": "code",
   "execution_count": 27,
   "metadata": {
    "ExecuteTime": {
     "end_time": "2020-04-19T20:57:15.210785Z",
     "start_time": "2020-04-19T20:57:15.206786Z"
    },
    "colab": {
     "base_uri": "https://localhost:8080/",
     "height": 34
    },
    "colab_type": "code",
    "id": "nDv8mMfGVZFh",
    "outputId": "61fb053d-ea01-4cc4-ee48-a24964223241"
   },
   "outputs": [
    {
     "data": {
      "text/plain": [
       "(911, 41)"
      ]
     },
     "execution_count": 27,
     "metadata": {},
     "output_type": "execute_result"
    }
   ],
   "source": [
    "# Check shape\n",
    "ss.shape"
   ]
  },
  {
   "cell_type": "code",
   "execution_count": 30,
   "metadata": {
    "ExecuteTime": {
     "end_time": "2020-04-19T20:58:59.323250Z",
     "start_time": "2020-04-19T20:58:59.277277Z"
    },
    "colab": {},
    "colab_type": "code",
    "id": "qubvC_PnVlGe"
   },
   "outputs": [],
   "source": [
    "# Save \n",
    "ss.to_csv('./submissions/submission_starter_notebook_densenet201_mixup_142_666_20ep.csv', index=False)"
   ]
  },
  {
   "cell_type": "code",
   "execution_count": null,
   "metadata": {
    "colab": {},
    "colab_type": "code",
    "id": "KLyyVzR8XcTg"
   },
   "outputs": [],
   "source": []
  }
 ],
 "metadata": {
  "accelerator": "GPU",
  "colab": {
   "machine_shape": "hm",
   "name": "Fowl Escapades Quickie.ipynb",
   "provenance": []
  },
  "kernelspec": {
   "display_name": "Python [conda env:fastai_v1] *",
   "language": "python",
   "name": "conda-env-fastai_v1-py"
  },
  "language_info": {
   "codemirror_mode": {
    "name": "ipython",
    "version": 3
   },
   "file_extension": ".py",
   "mimetype": "text/x-python",
   "name": "python",
   "nbconvert_exporter": "python",
   "pygments_lexer": "ipython3",
   "version": "3.6.7"
  },
  "latex_envs": {
   "LaTeX_envs_menu_present": true,
   "autoclose": false,
   "autocomplete": true,
   "bibliofile": "biblio.bib",
   "cite_by": "apalike",
   "current_citInitial": 1,
   "eqLabelWithNumbers": true,
   "eqNumInitial": 1,
   "hotkeys": {
    "equation": "Ctrl-E",
    "itemize": "Ctrl-I"
   },
   "labels_anchors": false,
   "latex_user_defs": false,
   "report_style_numbering": false,
   "user_envs_cfg": false
  }
 },
 "nbformat": 4,
 "nbformat_minor": 1
}
